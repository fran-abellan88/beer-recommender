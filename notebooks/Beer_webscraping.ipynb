{
 "cells": [
  {
   "cell_type": "code",
   "execution_count": 379,
   "metadata": {
    "ExecuteTime": {
     "end_time": "2020-02-10T07:46:08.926841Z",
     "start_time": "2020-02-10T07:46:08.921792Z"
    }
   },
   "outputs": [],
   "source": [
    "import pandas as pd\n",
    "import numpy as np\n",
    "pd.set_option('display.max_columns', 50)\n",
    "pd.set_option('display.max_colwidth', 500)\n",
    "from tqdm import tqdm_notebook\n",
    "import seaborn as sns\n",
    "\n",
    "import nltk\n",
    "from nltk.corpus import stopwords\n",
    "from nltk.stem.snowball import SnowballStemmer\n",
    "from nltk.stem import WordNetLemmatizer, PorterStemmer \n",
    "\n",
    "from sklearn.metrics.pairwise import euclidean_distances, manhattan_distances, cosine_similarity\n",
    "from sklearn.feature_extraction.text import CountVectorizer, TfidfTransformer, TfidfVectorizer\n",
    "from itertools import islice\n",
    "from scipy.spatial.distance import cdist\n",
    "from scipy.stats.stats import pearsonr"
   ]
  },
  {
   "cell_type": "code",
   "execution_count": 91,
   "metadata": {
    "ExecuteTime": {
     "end_time": "2020-02-07T10:35:26.465093Z",
     "start_time": "2020-02-07T10:35:26.462458Z"
    }
   },
   "outputs": [],
   "source": [
    "import googletrans\n",
    "from googletrans import Translator\n",
    "import time\n",
    "import re"
   ]
  },
  {
   "cell_type": "code",
   "execution_count": 3,
   "metadata": {
    "ExecuteTime": {
     "end_time": "2020-02-07T09:01:13.572455Z",
     "start_time": "2020-02-07T09:01:13.561658Z"
    }
   },
   "outputs": [
    {
     "data": {
      "text/html": [
       "<style>.container { width:80% !important; }</style>"
      ],
      "text/plain": [
       "<IPython.core.display.HTML object>"
      ]
     },
     "metadata": {},
     "output_type": "display_data"
    }
   ],
   "source": [
    "from IPython.core.display import display, HTML\n",
    "display(HTML(\"<style>.container { width:80% !important; }</style>\"))"
   ]
  },
  {
   "cell_type": "markdown",
   "metadata": {
    "heading_collapsed": true
   },
   "source": [
    "# Individual request"
   ]
  },
  {
   "cell_type": "code",
   "execution_count": null,
   "metadata": {
    "ExecuteTime": {
     "end_time": "2020-02-05T14:19:51.825635Z",
     "start_time": "2020-02-05T14:19:50.902085Z"
    },
    "hidden": true
   },
   "outputs": [],
   "source": [
    "from requests import get\n",
    "url = 'https://birrapedia.com/cervezas/de-espana'\n",
    "response = get(url)\n",
    "print(response.text[:500])"
   ]
  },
  {
   "cell_type": "code",
   "execution_count": null,
   "metadata": {
    "ExecuteTime": {
     "end_time": "2020-02-05T14:19:57.389787Z",
     "start_time": "2020-02-05T14:19:57.377413Z"
    },
    "hidden": true
   },
   "outputs": [],
   "source": [
    "response"
   ]
  },
  {
   "cell_type": "code",
   "execution_count": null,
   "metadata": {
    "ExecuteTime": {
     "end_time": "2020-02-05T14:20:00.579390Z",
     "start_time": "2020-02-05T14:20:00.554992Z"
    },
    "hidden": true
   },
   "outputs": [],
   "source": [
    "response.text"
   ]
  },
  {
   "cell_type": "markdown",
   "metadata": {
    "heading_collapsed": true
   },
   "source": [
    "# Beatiful Soup"
   ]
  },
  {
   "cell_type": "code",
   "execution_count": null,
   "metadata": {
    "ExecuteTime": {
     "end_time": "2020-02-05T14:24:29.322037Z",
     "start_time": "2020-02-05T14:24:28.338634Z"
    },
    "hidden": true
   },
   "outputs": [],
   "source": [
    "from bs4 import BeautifulSoup\n",
    "soup = BeautifulSoup(response.content, 'html.parser')"
   ]
  },
  {
   "cell_type": "code",
   "execution_count": null,
   "metadata": {
    "ExecuteTime": {
     "end_time": "2020-02-05T14:25:01.925813Z",
     "start_time": "2020-02-05T14:25:01.879211Z"
    },
    "hidden": true
   },
   "outputs": [],
   "source": [
    "print(soup.prettify())"
   ]
  },
  {
   "cell_type": "code",
   "execution_count": null,
   "metadata": {
    "ExecuteTime": {
     "end_time": "2020-02-05T14:35:10.725966Z",
     "start_time": "2020-02-05T14:35:10.714125Z"
    },
    "hidden": true
   },
   "outputs": [],
   "source": [
    "set([type(item) for item in list(soup.children)])"
   ]
  },
  {
   "cell_type": "code",
   "execution_count": null,
   "metadata": {
    "ExecuteTime": {
     "end_time": "2020-02-05T14:35:24.551698Z",
     "start_time": "2020-02-05T14:35:24.496882Z"
    },
    "hidden": true
   },
   "outputs": [],
   "source": [
    "soup.find_all('a')"
   ]
  },
  {
   "cell_type": "code",
   "execution_count": null,
   "metadata": {
    "ExecuteTime": {
     "end_time": "2020-02-05T14:28:44.947589Z",
     "start_time": "2020-02-05T14:28:44.933938Z"
    },
    "hidden": true
   },
   "outputs": [],
   "source": [
    "soup.find_all('p')[0].get_text()"
   ]
  },
  {
   "cell_type": "code",
   "execution_count": null,
   "metadata": {
    "ExecuteTime": {
     "end_time": "2020-02-05T14:30:41.241798Z",
     "start_time": "2020-02-05T14:30:41.231249Z"
    },
    "hidden": true
   },
   "outputs": [],
   "source": [
    "soup.find_all('p')[4].get_text()"
   ]
  },
  {
   "cell_type": "code",
   "execution_count": null,
   "metadata": {
    "ExecuteTime": {
     "end_time": "2020-02-05T14:36:58.487220Z",
     "start_time": "2020-02-05T14:36:58.462755Z"
    },
    "hidden": true
   },
   "outputs": [],
   "source": [
    "soup.select(\"div p\")"
   ]
  },
  {
   "cell_type": "code",
   "execution_count": null,
   "metadata": {
    "ExecuteTime": {
     "end_time": "2020-02-05T14:51:19.929437Z",
     "start_time": "2020-02-05T14:51:19.905517Z"
    },
    "hidden": true
   },
   "outputs": [],
   "source": [
    "for i in range(10):\n",
    "    print(soup.find_all('p')[i].get_text())"
   ]
  },
  {
   "cell_type": "code",
   "execution_count": null,
   "metadata": {
    "ExecuteTime": {
     "end_time": "2020-02-05T15:05:41.589475Z",
     "start_time": "2020-02-05T15:05:41.561851Z"
    },
    "hidden": true
   },
   "outputs": [],
   "source": [
    "divs = soup.findAll(\"div\", {\"class\": \"lista-cab\"})"
   ]
  },
  {
   "cell_type": "code",
   "execution_count": null,
   "metadata": {
    "ExecuteTime": {
     "end_time": "2020-02-05T15:06:09.811965Z",
     "start_time": "2020-02-05T15:06:09.786382Z"
    },
    "hidden": true
   },
   "outputs": [],
   "source": [
    "divs"
   ]
  },
  {
   "cell_type": "code",
   "execution_count": null,
   "metadata": {
    "ExecuteTime": {
     "end_time": "2020-02-05T15:03:27.976460Z",
     "start_time": "2020-02-05T15:03:27.947434Z"
    },
    "hidden": true
   },
   "outputs": [],
   "source": [
    "soup.findAll(\"div\", {\"class\": \"lista-cab\"})[0]"
   ]
  },
  {
   "cell_type": "code",
   "execution_count": null,
   "metadata": {
    "ExecuteTime": {
     "end_time": "2020-02-05T15:03:39.134413Z",
     "start_time": "2020-02-05T15:03:39.097942Z"
    },
    "hidden": true
   },
   "outputs": [],
   "source": [
    "soup.findAll(\"div\", {\"class\": \"lista-cab\"})[1]"
   ]
  },
  {
   "cell_type": "code",
   "execution_count": null,
   "metadata": {
    "ExecuteTime": {
     "end_time": "2020-02-05T15:03:52.310315Z",
     "start_time": "2020-02-05T15:03:52.272628Z"
    },
    "hidden": true
   },
   "outputs": [],
   "source": [
    "soup.findAll(\"div\", {\"class\": \"lista-cab\"})[1].get_text()"
   ]
  },
  {
   "cell_type": "code",
   "execution_count": null,
   "metadata": {
    "ExecuteTime": {
     "end_time": "2020-02-05T15:08:06.558059Z",
     "start_time": "2020-02-05T15:08:06.530614Z"
    },
    "hidden": true
   },
   "outputs": [],
   "source": [
    "soup.findAll(\"div\", {\"class\": \"lista-cab\"})[3].get_text()"
   ]
  },
  {
   "cell_type": "code",
   "execution_count": null,
   "metadata": {
    "ExecuteTime": {
     "end_time": "2020-02-05T16:08:13.333525Z",
     "start_time": "2020-02-05T16:08:13.282773Z"
    },
    "hidden": true
   },
   "outputs": [],
   "source": [
    "soup.findAll(\"div\", {\"class\": \"lista-cab\"})[3]"
   ]
  },
  {
   "cell_type": "code",
   "execution_count": null,
   "metadata": {
    "ExecuteTime": {
     "end_time": "2020-02-05T16:10:07.886484Z",
     "start_time": "2020-02-05T16:10:07.855291Z"
    },
    "hidden": true
   },
   "outputs": [],
   "source": [
    "soup.findAll(\"div\", {\"class\": \"lista-cab\"})[3].findAll(\"p\", {\"class\": \"colorNegro\"})[0].get_text()"
   ]
  },
  {
   "cell_type": "code",
   "execution_count": null,
   "metadata": {
    "ExecuteTime": {
     "end_time": "2020-02-05T16:10:18.682876Z",
     "start_time": "2020-02-05T16:10:18.655572Z"
    },
    "hidden": true
   },
   "outputs": [],
   "source": [
    "soup.findAll(\"div\", {\"class\": \"lista-cab\"})[3].findAll(\"p\", {\"class\": \"colorNegro\"})[1].get_text()"
   ]
  },
  {
   "cell_type": "code",
   "execution_count": null,
   "metadata": {
    "ExecuteTime": {
     "end_time": "2020-02-05T16:11:13.586347Z",
     "start_time": "2020-02-05T16:11:13.553600Z"
    },
    "hidden": true
   },
   "outputs": [],
   "source": [
    "soup.findAll(\"div\", {\"class\": \"lista-cab\"})[3].findAll(\"p\", {\"class\": \"text-muted oculta-pequenyo\"})[0].get_text()"
   ]
  },
  {
   "cell_type": "code",
   "execution_count": null,
   "metadata": {
    "ExecuteTime": {
     "end_time": "2020-02-05T16:21:26.908042Z",
     "start_time": "2020-02-05T16:21:26.881089Z"
    },
    "hidden": true
   },
   "outputs": [],
   "source": [
    "N_beers = len(soup.findAll(\"div\", {\"class\": \"lista-cab\"}))"
   ]
  },
  {
   "cell_type": "code",
   "execution_count": null,
   "metadata": {
    "ExecuteTime": {
     "end_time": "2020-02-05T16:21:29.322045Z",
     "start_time": "2020-02-05T16:21:27.474274Z"
    },
    "hidden": true
   },
   "outputs": [],
   "source": [
    "beer_name = []\n",
    "beer_style = []\n",
    "description = []\n",
    "\n",
    "for i in range(N_beers):\n",
    "    beer_name.append(soup.findAll(\"div\", {\"class\": \"lista-cab\"})[i].findAll(\"p\", {\"class\": \"colorNegro\"})[0].get_text())\n",
    "    beer_style.append(soup.findAll(\"div\", {\"class\": \"lista-cab\"})[i].findAll(\"p\", {\"class\": \"colorNegro\"})[1].get_text())\n",
    "    description.append(soup.findAll(\"div\", {\"class\": \"lista-cab\"})[i].findAll(\"p\", {\"class\": \"text-muted oculta-pequenyo\"})[0].get_text())"
   ]
  },
  {
   "cell_type": "markdown",
   "metadata": {},
   "source": [
    "# Automatization"
   ]
  },
  {
   "cell_type": "code",
   "execution_count": null,
   "metadata": {
    "ExecuteTime": {
     "end_time": "2020-02-05T16:28:11.873447Z",
     "start_time": "2020-02-05T16:28:11.866733Z"
    }
   },
   "outputs": [],
   "source": [
    "url_1 = 'https://birrapedia.com/espana/'\n",
    "url_2 = '/i-70616573'"
   ]
  },
  {
   "cell_type": "code",
   "execution_count": null,
   "metadata": {
    "ExecuteTime": {
     "end_time": "2020-02-05T16:48:40.236078Z",
     "start_time": "2020-02-05T16:37:55.805071Z"
    },
    "scrolled": true
   },
   "outputs": [],
   "source": [
    "beer_name = []\n",
    "beer_style = []\n",
    "description = []\n",
    "\n",
    "for i in tqdm_notebook(range(200)):\n",
    "    print('Iteration', i)\n",
    "    # Build url\n",
    "    j = i + 1\n",
    "    url = url_1 + str(j) + url_2\n",
    "    \n",
    "    # Make request\n",
    "    response = get(url)\n",
    "\n",
    "    # Parse content with BeautifulSoup\n",
    "    soup = BeautifulSoup(response.content, 'html.parser')    \n",
    "    \n",
    "    N_beers = len(soup.findAll(\"div\", {\"class\": \"lista-cab\"}))  \n",
    "\n",
    "    for i in range(N_beers):\n",
    "        beer_name.append(soup.findAll(\"div\", {\"class\": \"lista-cab\"})[i].findAll(\"p\", {\"class\": \"colorNegro\"})[0].get_text())\n",
    "        beer_style.append(soup.findAll(\"div\", {\"class\": \"lista-cab\"})[i].findAll(\"p\", {\"class\": \"colorNegro\"})[1].get_text())\n",
    "        description.append(soup.findAll(\"div\", {\"class\": \"lista-cab\"})[i].findAll(\"p\", {\"class\": \"text-muted oculta-pequenyo\"})[0].get_text())"
   ]
  },
  {
   "cell_type": "code",
   "execution_count": null,
   "metadata": {
    "ExecuteTime": {
     "end_time": "2020-02-05T16:49:03.426583Z",
     "start_time": "2020-02-05T16:49:03.420542Z"
    }
   },
   "outputs": [],
   "source": [
    "len(beer_name)"
   ]
  },
  {
   "cell_type": "code",
   "execution_count": null,
   "metadata": {
    "ExecuteTime": {
     "end_time": "2020-02-05T16:49:06.596315Z",
     "start_time": "2020-02-05T16:49:06.577912Z"
    }
   },
   "outputs": [],
   "source": [
    "df = pd.DataFrame(list(zip(beer_name, beer_style, description)), columns =['Name', 'Style', 'Description']) "
   ]
  },
  {
   "cell_type": "markdown",
   "metadata": {
    "heading_collapsed": true
   },
   "source": [
    "# Export raw to csv"
   ]
  },
  {
   "cell_type": "code",
   "execution_count": null,
   "metadata": {
    "ExecuteTime": {
     "end_time": "2020-02-05T16:49:29.288183Z",
     "start_time": "2020-02-05T16:49:29.116862Z"
    },
    "hidden": true
   },
   "outputs": [],
   "source": [
    "df.to_csv('Beer_dataset_raw.csv')"
   ]
  },
  {
   "cell_type": "markdown",
   "metadata": {},
   "source": [
    "# Cleaning"
   ]
  },
  {
   "cell_type": "code",
   "execution_count": 6,
   "metadata": {
    "ExecuteTime": {
     "end_time": "2020-02-07T09:02:08.970686Z",
     "start_time": "2020-02-07T09:02:08.714230Z"
    }
   },
   "outputs": [],
   "source": [
    "df = pd.read_csv('Beer_dataset_raw.csv', index_col=0)"
   ]
  },
  {
   "cell_type": "code",
   "execution_count": 7,
   "metadata": {
    "ExecuteTime": {
     "end_time": "2020-02-07T09:02:15.725723Z",
     "start_time": "2020-02-07T09:02:15.711455Z"
    }
   },
   "outputs": [
    {
     "data": {
      "text/plain": [
       "Name            0\n",
       "Style           0\n",
       "Description    66\n",
       "dtype: int64"
      ]
     },
     "execution_count": 7,
     "metadata": {},
     "output_type": "execute_result"
    }
   ],
   "source": [
    "df.isna().sum()"
   ]
  },
  {
   "cell_type": "code",
   "execution_count": null,
   "metadata": {
    "ExecuteTime": {
     "end_time": "2020-02-06T14:38:52.135265Z",
     "start_time": "2020-02-06T14:38:52.120889Z"
    }
   },
   "outputs": [],
   "source": [
    "df.head()"
   ]
  },
  {
   "cell_type": "markdown",
   "metadata": {},
   "source": [
    "## Style"
   ]
  },
  {
   "cell_type": "code",
   "execution_count": null,
   "metadata": {
    "ExecuteTime": {
     "end_time": "2020-02-06T14:38:53.008845Z",
     "start_time": "2020-02-06T14:38:52.962949Z"
    }
   },
   "outputs": [],
   "source": [
    "df[['Style','ABV', 'IBU']] = df.Style.str.split(' - ', n=2, expand=True)"
   ]
  },
  {
   "cell_type": "code",
   "execution_count": null,
   "metadata": {
    "ExecuteTime": {
     "end_time": "2020-02-06T14:38:53.779890Z",
     "start_time": "2020-02-06T14:38:53.761304Z"
    }
   },
   "outputs": [],
   "source": [
    "df.head()"
   ]
  },
  {
   "cell_type": "markdown",
   "metadata": {},
   "source": [
    "## ABV"
   ]
  },
  {
   "cell_type": "code",
   "execution_count": null,
   "metadata": {
    "ExecuteTime": {
     "end_time": "2020-02-06T14:38:54.576007Z",
     "start_time": "2020-02-06T14:38:54.569871Z"
    }
   },
   "outputs": [],
   "source": [
    "df.ABV.head()"
   ]
  },
  {
   "cell_type": "markdown",
   "metadata": {},
   "source": [
    "### Replace strange symbols"
   ]
  },
  {
   "cell_type": "code",
   "execution_count": null,
   "metadata": {
    "ExecuteTime": {
     "end_time": "2020-02-06T14:38:55.378240Z",
     "start_time": "2020-02-06T14:38:55.334916Z"
    }
   },
   "outputs": [],
   "source": [
    "df.ABV = df.ABV.str.replace(\" º\", \"\")\n",
    "df.ABV = df.ABV.str.replace(\" \", \"\")\n",
    "df.ABV = df.ABV.str.replace(\"\\xa0\", \" \")\n",
    "df.ABV = df.ABV.str.replace(\"%\", \"\")\n",
    "df.ABV = df.ABV.str.replace(\"vol.\", \"\")\n",
    "df.ABV = df.ABV.str.replace(\"ABV\", \"\")"
   ]
  },
  {
   "cell_type": "code",
   "execution_count": null,
   "metadata": {
    "ExecuteTime": {
     "end_time": "2020-02-06T14:38:56.078201Z",
     "start_time": "2020-02-06T14:38:56.053448Z"
    }
   },
   "outputs": [],
   "source": [
    "# Eliminamos \"Hidromiel\" y \"Sidra\"\n",
    "\n",
    "df = df[df.ABV != \"Applewine\"]\n",
    "df = df[df.ABV != \"Hidromiel\"]\n",
    "df = df[df.ABV != \"OtherSpecialtyCider/Perry\"]\n",
    "df = df[df.ABV != \"FruitCider\"]\n",
    "df = df[df.ABV != \"CTZ.Amarillo.Mosaic\"]"
   ]
  },
  {
   "cell_type": "code",
   "execution_count": null,
   "metadata": {
    "ExecuteTime": {
     "end_time": "2020-02-06T14:38:56.750189Z",
     "start_time": "2020-02-06T14:38:56.738745Z"
    }
   },
   "outputs": [],
   "source": [
    "# Eliminamos los 13 registros que no traen valor de ABV, solo de IBU\n",
    "\n",
    "df = df[~df.ABV.str.contains(\"IBU\", na=False)]"
   ]
  },
  {
   "cell_type": "code",
   "execution_count": null,
   "metadata": {
    "ExecuteTime": {
     "end_time": "2020-02-06T14:38:57.779528Z",
     "start_time": "2020-02-06T14:38:57.636911Z"
    }
   },
   "outputs": [],
   "source": [
    "df.ABV = df.ABV.str.split(\"-\", n=1, expand=True)[0]"
   ]
  },
  {
   "cell_type": "code",
   "execution_count": null,
   "metadata": {
    "ExecuteTime": {
     "end_time": "2020-02-06T14:38:58.465143Z",
     "start_time": "2020-02-06T14:38:58.444271Z"
    }
   },
   "outputs": [],
   "source": [
    "df.ABV = df.ABV.str.replace(\"\\.\\.\", \".\", regex=True)\n",
    "df.ABV = df.ABV.str.replace(\"’\", \"\")\n",
    "df.ABV = df.ABV.str.replace(\"´\", \"\")"
   ]
  },
  {
   "cell_type": "code",
   "execution_count": null,
   "metadata": {
    "ExecuteTime": {
     "end_time": "2020-02-06T14:38:59.290449Z",
     "start_time": "2020-02-06T14:38:59.247573Z"
    }
   },
   "outputs": [],
   "source": [
    "df.ABV = df.ABV.str.split(\"/\", n=1, expand=True)[0]"
   ]
  },
  {
   "cell_type": "code",
   "execution_count": null,
   "metadata": {
    "ExecuteTime": {
     "end_time": "2020-02-06T14:39:00.069681Z",
     "start_time": "2020-02-06T14:39:00.054429Z"
    }
   },
   "outputs": [],
   "source": [
    "df.ABV.isna().sum()"
   ]
  },
  {
   "cell_type": "code",
   "execution_count": null,
   "metadata": {
    "ExecuteTime": {
     "end_time": "2020-02-06T14:39:00.793868Z",
     "start_time": "2020-02-06T14:39:00.778110Z"
    }
   },
   "outputs": [],
   "source": [
    "df.ABV = df.ABV.astype('float')"
   ]
  },
  {
   "cell_type": "markdown",
   "metadata": {},
   "source": [
    "### Clean outliers"
   ]
  },
  {
   "cell_type": "code",
   "execution_count": null,
   "metadata": {
    "ExecuteTime": {
     "end_time": "2020-02-06T14:39:01.576883Z",
     "start_time": "2020-02-06T14:39:01.569255Z"
    }
   },
   "outputs": [],
   "source": [
    "df.ABV = df.ABV.apply(lambda x: x if x<30 else x/10)"
   ]
  },
  {
   "cell_type": "markdown",
   "metadata": {},
   "source": [
    "## IBU"
   ]
  },
  {
   "cell_type": "code",
   "execution_count": null,
   "metadata": {
    "ExecuteTime": {
     "end_time": "2020-02-06T14:39:02.317726Z",
     "start_time": "2020-02-06T14:39:02.297859Z"
    }
   },
   "outputs": [],
   "source": [
    "df.IBU = df.IBU.str.replace(\"IBU\", \"\")\n",
    "df.IBU = df.IBU.replace(\" \", \"\")\n",
    "df.IBU = df.IBU.str.replace(\"\\xa0\", \" \")\n",
    "df.IBU = df.IBU.str.replace(\",\", \".\")"
   ]
  },
  {
   "cell_type": "code",
   "execution_count": null,
   "metadata": {
    "ExecuteTime": {
     "end_time": "2020-02-06T14:39:03.076821Z",
     "start_time": "2020-02-06T14:39:03.021750Z"
    }
   },
   "outputs": [],
   "source": [
    "df.IBU = df.IBU.str.split(\"-\", n=1, expand=True)[0]\n",
    "df.IBU = df.IBU.str.split(\"/\", n=1, expand=True)[0]"
   ]
  },
  {
   "cell_type": "code",
   "execution_count": null,
   "metadata": {
    "ExecuteTime": {
     "end_time": "2020-02-06T14:39:03.837301Z",
     "start_time": "2020-02-06T14:39:03.831212Z"
    }
   },
   "outputs": [],
   "source": [
    "df.IBU = df.IBU.astype('float')"
   ]
  },
  {
   "cell_type": "markdown",
   "metadata": {},
   "source": [
    "## Name, Brewery and Rating"
   ]
  },
  {
   "cell_type": "code",
   "execution_count": null,
   "metadata": {
    "ExecuteTime": {
     "end_time": "2020-02-06T14:39:04.559802Z",
     "start_time": "2020-02-06T14:39:04.500838Z"
    }
   },
   "outputs": [],
   "source": [
    "df.Name = df.Name.str.replace(\"_borderstar\", \"\")\n",
    "df.Name = df.Name.str.replace(\"star\", \"\")\n",
    "df.Name = df.Name.str.replace(\"_half\", \"\")"
   ]
  },
  {
   "cell_type": "code",
   "execution_count": null,
   "metadata": {
    "ExecuteTime": {
     "end_time": "2020-02-06T14:39:05.455869Z",
     "start_time": "2020-02-06T14:39:05.411330Z"
    }
   },
   "outputs": [],
   "source": [
    "df[['Name', 'Rating']] = df.Name.str.split('_border', n=1, expand=True)"
   ]
  },
  {
   "cell_type": "code",
   "execution_count": null,
   "metadata": {
    "ExecuteTime": {
     "end_time": "2020-02-06T14:39:06.125544Z",
     "start_time": "2020-02-06T14:39:06.117839Z"
    }
   },
   "outputs": [],
   "source": [
    "df.Rating = df.Rating.str.replace(\",\", \".\")"
   ]
  },
  {
   "cell_type": "code",
   "execution_count": null,
   "metadata": {
    "ExecuteTime": {
     "end_time": "2020-02-06T14:39:06.852156Z",
     "start_time": "2020-02-06T14:39:06.845400Z"
    }
   },
   "outputs": [],
   "source": [
    "df.Rating = df.Rating.astype('float')"
   ]
  },
  {
   "cell_type": "code",
   "execution_count": null,
   "metadata": {
    "ExecuteTime": {
     "end_time": "2020-02-06T14:39:07.536135Z",
     "start_time": "2020-02-06T14:39:07.523054Z"
    }
   },
   "outputs": [],
   "source": [
    "df.head()"
   ]
  },
  {
   "cell_type": "code",
   "execution_count": null,
   "metadata": {
    "ExecuteTime": {
     "end_time": "2020-02-06T14:39:08.262086Z",
     "start_time": "2020-02-06T14:39:08.247394Z"
    }
   },
   "outputs": [],
   "source": [
    "df[\"Test\"] = df.Name.str.split('/')"
   ]
  },
  {
   "cell_type": "code",
   "execution_count": null,
   "metadata": {
    "ExecuteTime": {
     "end_time": "2020-02-06T14:39:09.048487Z",
     "start_time": "2020-02-06T14:39:09.031819Z"
    }
   },
   "outputs": [],
   "source": [
    "df[\"Name\"] = df.Test.apply(lambda x: x[1] if len(x)>1 else x[0])\n",
    "df[\"Brewery\"] = df.Test.apply(lambda x: x[0] if len(x)>1 else None)"
   ]
  },
  {
   "cell_type": "code",
   "execution_count": null,
   "metadata": {
    "ExecuteTime": {
     "end_time": "2020-02-06T14:39:09.763843Z",
     "start_time": "2020-02-06T14:39:09.747935Z"
    }
   },
   "outputs": [],
   "source": [
    "df.Name = df.Name.str.rstrip()\n",
    "df.Name = df.Name.str.lstrip()\n",
    "\n",
    "df.Brewery = df.Brewery.str.rstrip()\n",
    "df.Brewery = df.Brewery.str.lstrip()"
   ]
  },
  {
   "cell_type": "markdown",
   "metadata": {},
   "source": [
    "## Reordering"
   ]
  },
  {
   "cell_type": "code",
   "execution_count": null,
   "metadata": {
    "ExecuteTime": {
     "end_time": "2020-02-06T14:39:10.538023Z",
     "start_time": "2020-02-06T14:39:10.525335Z"
    }
   },
   "outputs": [],
   "source": [
    "columns = ['Name', 'Brewery', 'Style', 'ABV', 'IBU', 'Rating', 'Description']\n",
    "\n",
    "df = df[columns]"
   ]
  },
  {
   "cell_type": "code",
   "execution_count": null,
   "metadata": {
    "ExecuteTime": {
     "end_time": "2020-02-06T14:39:11.205448Z",
     "start_time": "2020-02-06T14:39:11.186410Z"
    }
   },
   "outputs": [],
   "source": [
    "df.head()"
   ]
  },
  {
   "cell_type": "code",
   "execution_count": null,
   "metadata": {
    "ExecuteTime": {
     "end_time": "2020-02-06T14:39:11.901016Z",
     "start_time": "2020-02-06T14:39:11.887072Z"
    }
   },
   "outputs": [],
   "source": [
    "df.Brewery.notnull().sum()"
   ]
  },
  {
   "cell_type": "markdown",
   "metadata": {},
   "source": [
    "## Duplicates"
   ]
  },
  {
   "cell_type": "code",
   "execution_count": null,
   "metadata": {
    "ExecuteTime": {
     "end_time": "2020-02-06T14:39:12.639487Z",
     "start_time": "2020-02-06T14:39:12.628296Z"
    }
   },
   "outputs": [],
   "source": [
    "df.Name.value_counts().head(10)"
   ]
  },
  {
   "cell_type": "code",
   "execution_count": null,
   "metadata": {
    "ExecuteTime": {
     "end_time": "2020-02-06T14:39:13.519800Z",
     "start_time": "2020-02-06T14:39:13.512503Z"
    }
   },
   "outputs": [],
   "source": [
    "df.Brewery.value_counts().head(10)"
   ]
  },
  {
   "cell_type": "code",
   "execution_count": null,
   "metadata": {
    "ExecuteTime": {
     "end_time": "2020-02-06T14:39:14.267337Z",
     "start_time": "2020-02-06T14:39:14.253885Z"
    }
   },
   "outputs": [],
   "source": [
    "df[df.Name == \"La Quince\"]"
   ]
  },
  {
   "cell_type": "markdown",
   "metadata": {
    "ExecuteTime": {
     "end_time": "2020-02-06T10:28:24.776960Z",
     "start_time": "2020-02-06T10:28:24.771516Z"
    }
   },
   "source": [
    "TO DO:\n",
    "    - Corregir valores erróneos de Name y Brewery"
   ]
  },
  {
   "cell_type": "code",
   "execution_count": null,
   "metadata": {
    "ExecuteTime": {
     "end_time": "2020-02-06T14:39:15.048545Z",
     "start_time": "2020-02-06T14:39:15.044250Z"
    }
   },
   "outputs": [],
   "source": [
    "# Drop some duplicates after checking which one we want\n",
    "\n",
    "# df = df.drop(4359)\n",
    "# df = df.drop(679)\n",
    "# df = df.drop(4464)\n",
    "# df = df.drop(3831)"
   ]
  },
  {
   "cell_type": "code",
   "execution_count": null,
   "metadata": {
    "ExecuteTime": {
     "end_time": "2020-02-06T14:39:15.774265Z",
     "start_time": "2020-02-06T14:39:15.771285Z"
    }
   },
   "outputs": [],
   "source": [
    "df.reset_index(drop=True, inplace=True)"
   ]
  },
  {
   "cell_type": "code",
   "execution_count": null,
   "metadata": {
    "ExecuteTime": {
     "end_time": "2020-02-06T14:39:16.570983Z",
     "start_time": "2020-02-06T14:39:16.551457Z"
    }
   },
   "outputs": [],
   "source": [
    "df.head()"
   ]
  },
  {
   "cell_type": "code",
   "execution_count": null,
   "metadata": {
    "ExecuteTime": {
     "end_time": "2020-02-06T14:39:19.533187Z",
     "start_time": "2020-02-06T14:39:19.443022Z"
    }
   },
   "outputs": [],
   "source": [
    "df.to_csv('Beer_dataset_v1.csv')"
   ]
  },
  {
   "cell_type": "markdown",
   "metadata": {},
   "source": [
    "# Read csv"
   ]
  },
  {
   "cell_type": "code",
   "execution_count": 440,
   "metadata": {
    "ExecuteTime": {
     "end_time": "2020-02-10T08:46:37.529553Z",
     "start_time": "2020-02-10T08:46:37.481107Z"
    }
   },
   "outputs": [],
   "source": [
    "df = pd.read_csv('Beer_dataset_v1.csv', index_col=0, )"
   ]
  },
  {
   "cell_type": "code",
   "execution_count": 441,
   "metadata": {
    "ExecuteTime": {
     "end_time": "2020-02-10T08:46:38.283110Z",
     "start_time": "2020-02-10T08:46:38.274063Z"
    }
   },
   "outputs": [],
   "source": [
    "df.Description = df.Description.fillna('')"
   ]
  },
  {
   "cell_type": "markdown",
   "metadata": {},
   "source": [
    "# Merge to fill description"
   ]
  },
  {
   "cell_type": "code",
   "execution_count": 442,
   "metadata": {
    "ExecuteTime": {
     "end_time": "2020-02-10T08:46:39.013792Z",
     "start_time": "2020-02-10T08:46:38.934809Z"
    }
   },
   "outputs": [],
   "source": [
    "descr_df = pd.read_csv('dataset_ramon.csv')"
   ]
  },
  {
   "cell_type": "code",
   "execution_count": 443,
   "metadata": {
    "ExecuteTime": {
     "end_time": "2020-02-10T08:46:40.064264Z",
     "start_time": "2020-02-10T08:46:39.830886Z"
    }
   },
   "outputs": [],
   "source": [
    "descr_df = descr_df[['Name', 'Description']]\n",
    "descr_df.rename(columns={'Description': 'Description_full'}, inplace=True)"
   ]
  },
  {
   "cell_type": "code",
   "execution_count": 444,
   "metadata": {
    "ExecuteTime": {
     "end_time": "2020-02-10T08:46:40.739581Z",
     "start_time": "2020-02-10T08:46:40.730341Z"
    }
   },
   "outputs": [
    {
     "data": {
      "text/plain": [
       "7846"
      ]
     },
     "execution_count": 444,
     "metadata": {},
     "output_type": "execute_result"
    }
   ],
   "source": [
    "df.Name.nunique()"
   ]
  },
  {
   "cell_type": "code",
   "execution_count": 445,
   "metadata": {
    "ExecuteTime": {
     "end_time": "2020-02-10T08:46:41.352549Z",
     "start_time": "2020-02-10T08:46:41.344184Z"
    }
   },
   "outputs": [
    {
     "data": {
      "text/plain": [
       "7881"
      ]
     },
     "execution_count": 445,
     "metadata": {},
     "output_type": "execute_result"
    }
   ],
   "source": [
    "descr_df.Name.nunique()"
   ]
  },
  {
   "cell_type": "code",
   "execution_count": 446,
   "metadata": {
    "ExecuteTime": {
     "end_time": "2020-02-10T08:46:42.027556Z",
     "start_time": "2020-02-10T08:46:41.998405Z"
    }
   },
   "outputs": [],
   "source": [
    "df = df.merge(descr_df, on='Name', how='inner')"
   ]
  },
  {
   "cell_type": "code",
   "execution_count": 447,
   "metadata": {
    "ExecuteTime": {
     "end_time": "2020-02-10T08:46:42.708194Z",
     "start_time": "2020-02-10T08:46:42.700252Z"
    }
   },
   "outputs": [],
   "source": [
    "df.Description_full = df.Description_full.fillna('')"
   ]
  },
  {
   "cell_type": "markdown",
   "metadata": {
    "heading_collapsed": true
   },
   "source": [
    "# EDA"
   ]
  },
  {
   "cell_type": "code",
   "execution_count": null,
   "metadata": {
    "ExecuteTime": {
     "end_time": "2020-02-06T09:43:47.619281Z",
     "start_time": "2020-02-06T09:43:47.269011Z"
    },
    "hidden": true
   },
   "outputs": [],
   "source": [
    "sns.distplot(df[df.ABV.notnull()]['ABV'])"
   ]
  },
  {
   "cell_type": "code",
   "execution_count": null,
   "metadata": {
    "ExecuteTime": {
     "end_time": "2020-02-06T09:44:00.153538Z",
     "start_time": "2020-02-06T09:43:59.777700Z"
    },
    "hidden": true
   },
   "outputs": [],
   "source": [
    "sns.distplot(df[df.IBU.notnull()]['IBU'])"
   ]
  },
  {
   "cell_type": "code",
   "execution_count": null,
   "metadata": {
    "ExecuteTime": {
     "end_time": "2020-02-06T09:44:58.350754Z",
     "start_time": "2020-02-06T09:44:58.030811Z"
    },
    "hidden": true
   },
   "outputs": [],
   "source": [
    "sns.distplot(df[df.Rating.notnull()]['Rating'])"
   ]
  },
  {
   "cell_type": "markdown",
   "metadata": {
    "heading_collapsed": true
   },
   "source": [
    "# Groupby"
   ]
  },
  {
   "cell_type": "code",
   "execution_count": null,
   "metadata": {
    "ExecuteTime": {
     "end_time": "2020-02-06T14:51:32.622007Z",
     "start_time": "2020-02-06T14:51:32.595069Z"
    },
    "hidden": true
   },
   "outputs": [],
   "source": [
    "df_grouped = df.groupby('Style').agg({'ABV': ['mean', 'count'],\n",
    "                                      'IBU': ['mean', 'count'],\n",
    "                                      'Rating': ['mean', 'count']}).reset_index()"
   ]
  },
  {
   "cell_type": "code",
   "execution_count": null,
   "metadata": {
    "ExecuteTime": {
     "end_time": "2020-02-06T14:51:41.948216Z",
     "start_time": "2020-02-06T14:51:41.942098Z"
    },
    "hidden": true
   },
   "outputs": [],
   "source": [
    "df_grouped.columns = df_grouped.columns.droplevel(0)\n",
    "df_grouped.columns = ['Style', 'ABV_mean', 'ABV_count', 'IBU_mean', 'IBU_count', 'Rating_mean', 'Rating_count']"
   ]
  },
  {
   "cell_type": "code",
   "execution_count": null,
   "metadata": {
    "ExecuteTime": {
     "end_time": "2020-02-06T14:51:42.800920Z",
     "start_time": "2020-02-06T14:51:42.783625Z"
    },
    "hidden": true
   },
   "outputs": [],
   "source": [
    "df_grouped.sort_values(by='IBU_mean', ascending=False).head()"
   ]
  },
  {
   "cell_type": "code",
   "execution_count": null,
   "metadata": {
    "ExecuteTime": {
     "end_time": "2020-02-06T14:51:43.612249Z",
     "start_time": "2020-02-06T14:51:43.580984Z"
    },
    "hidden": true
   },
   "outputs": [],
   "source": [
    "df[df.Style == \"Flanders Brown Ale-Oud Bruin\"]"
   ]
  },
  {
   "cell_type": "markdown",
   "metadata": {},
   "source": [
    "# NLP"
   ]
  },
  {
   "cell_type": "markdown",
   "metadata": {},
   "source": [
    "## Stopwords"
   ]
  },
  {
   "cell_type": "code",
   "execution_count": 448,
   "metadata": {
    "ExecuteTime": {
     "end_time": "2020-02-10T08:46:46.313176Z",
     "start_time": "2020-02-10T08:46:46.072074Z"
    }
   },
   "outputs": [],
   "source": [
    "stopwords_list = stopwords.words('english') + stopwords.words('spanish')"
   ]
  },
  {
   "cell_type": "code",
   "execution_count": 449,
   "metadata": {
    "ExecuteTime": {
     "end_time": "2020-02-10T08:46:49.548780Z",
     "start_time": "2020-02-10T08:46:47.050853Z"
    }
   },
   "outputs": [],
   "source": [
    "column = 'Description_full'\n",
    "\n",
    "df['Description_2'] = df[column].apply(lambda x: ' '.join([word for word in x.split() if word not in (stopwords_list)]))\n",
    "df[\"Description_2\"] = df['Description_2'].map(lambda x: re.sub(r'\\W+', ' ', x))\n",
    "df[\"Description_2\"] = df['Description_2'].str.lower()"
   ]
  },
  {
   "cell_type": "code",
   "execution_count": 450,
   "metadata": {
    "ExecuteTime": {
     "end_time": "2020-02-10T08:46:51.590507Z",
     "start_time": "2020-02-10T08:46:51.565274Z"
    }
   },
   "outputs": [
    {
     "data": {
      "text/html": [
       "<div>\n",
       "<style scoped>\n",
       "    .dataframe tbody tr th:only-of-type {\n",
       "        vertical-align: middle;\n",
       "    }\n",
       "\n",
       "    .dataframe tbody tr th {\n",
       "        vertical-align: top;\n",
       "    }\n",
       "\n",
       "    .dataframe thead th {\n",
       "        text-align: right;\n",
       "    }\n",
       "</style>\n",
       "<table border=\"1\" class=\"dataframe\">\n",
       "  <thead>\n",
       "    <tr style=\"text-align: right;\">\n",
       "      <th></th>\n",
       "      <th>Description</th>\n",
       "      <th>Description_2</th>\n",
       "    </tr>\n",
       "  </thead>\n",
       "  <tbody>\n",
       "    <tr>\n",
       "      <th>4630</th>\n",
       "      <td>Áncora O Afiador\\r\\nCerveza clásica de trigo con aromas a lúpulos europeos y una espuma blanca y persistente.</td>\n",
       "      <td>áncora o afiador cerveza clásica trigo aromas lúpulos europeos espuma blanca persistente</td>\n",
       "    </tr>\n",
       "    <tr>\n",
       "      <th>6284</th>\n",
       "      <td>La Sin de Tropical.</td>\n",
       "      <td>la sin tropical</td>\n",
       "    </tr>\n",
       "    <tr>\n",
       "      <th>1113</th>\n",
       "      <td>Palisandro\\nBrown Ale\\nMarrón rojiza. Aromas torrefactados y herbáceos. Corpulenta, carbonatación media con notas a caramelo, fruta madura con equilibrado amargor final. Icono REFUgiano.</td>\n",
       "      <td>palisandro brown ale marrón rojiza aromas torrefactados herbáceos corpulenta carbonatación media notas caramelo fruta madura equilibrado amargor final icono refugiano</td>\n",
       "    </tr>\n",
       "    <tr>\n",
       "      <th>2360</th>\n",
       "      <td>Desiderata Doble Malta\\r\\nCerveza de color cobrizo y con buen cuerpo. Presenta un grado alcohólico medio-alto y mucho carácter debido a su especial selección de maltas tostadas.\\r\\nMarida con entrantes, carnes y estofados</td>\n",
       "      <td>desiderata doble malta cerveza color cobrizo buen cuerpo presenta grado alcohólico medio alto carácter debido especial selección maltas tostadas marida entrantes carnes estofados</td>\n",
       "    </tr>\n",
       "    <tr>\n",
       "      <th>386</th>\n",
       "      <td>Loading...\\nDIPA</td>\n",
       "      <td>loading dipa</td>\n",
       "    </tr>\n",
       "  </tbody>\n",
       "</table>\n",
       "</div>"
      ],
      "text/plain": [
       "                                                                                                                                                                                                                        Description  \\\n",
       "4630                                                                                                                  Áncora O Afiador\\r\\nCerveza clásica de trigo con aromas a lúpulos europeos y una espuma blanca y persistente.   \n",
       "6284                                                                                                                                                                                                            La Sin de Tropical.   \n",
       "1113                                     Palisandro\\nBrown Ale\\nMarrón rojiza. Aromas torrefactados y herbáceos. Corpulenta, carbonatación media con notas a caramelo, fruta madura con equilibrado amargor final. Icono REFUgiano.   \n",
       "2360  Desiderata Doble Malta\\r\\nCerveza de color cobrizo y con buen cuerpo. Presenta un grado alcohólico medio-alto y mucho carácter debido a su especial selección de maltas tostadas.\\r\\nMarida con entrantes, carnes y estofados   \n",
       "386                                                                                                                                                                                                                Loading...\\nDIPA   \n",
       "\n",
       "                                                                                                                                                                           Description_2  \n",
       "4630                                                                                           áncora o afiador cerveza clásica trigo aromas lúpulos europeos espuma blanca persistente   \n",
       "6284                                                                                                                                                                    la sin tropical   \n",
       "1113             palisandro brown ale marrón rojiza aromas torrefactados herbáceos corpulenta carbonatación media notas caramelo fruta madura equilibrado amargor final icono refugiano   \n",
       "2360  desiderata doble malta cerveza color cobrizo buen cuerpo presenta grado alcohólico medio alto carácter debido especial selección maltas tostadas marida entrantes carnes estofados  \n",
       "386                                                                                                                                                                         loading dipa  "
      ]
     },
     "execution_count": 450,
     "metadata": {},
     "output_type": "execute_result"
    }
   ],
   "source": [
    "df[['Description', 'Description_2']].sample(5)"
   ]
  },
  {
   "cell_type": "code",
   "execution_count": 451,
   "metadata": {
    "ExecuteTime": {
     "end_time": "2020-02-10T08:47:07.496988Z",
     "start_time": "2020-02-10T08:47:07.470492Z"
    }
   },
   "outputs": [
    {
     "data": {
      "text/html": [
       "<div>\n",
       "<style scoped>\n",
       "    .dataframe tbody tr th:only-of-type {\n",
       "        vertical-align: middle;\n",
       "    }\n",
       "\n",
       "    .dataframe tbody tr th {\n",
       "        vertical-align: top;\n",
       "    }\n",
       "\n",
       "    .dataframe thead th {\n",
       "        text-align: right;\n",
       "    }\n",
       "</style>\n",
       "<table border=\"1\" class=\"dataframe\">\n",
       "  <thead>\n",
       "    <tr style=\"text-align: right;\">\n",
       "      <th></th>\n",
       "      <th>Name</th>\n",
       "      <th>Brewery</th>\n",
       "      <th>Style</th>\n",
       "      <th>ABV</th>\n",
       "      <th>IBU</th>\n",
       "      <th>Rating</th>\n",
       "      <th>Description</th>\n",
       "      <th>Description_full</th>\n",
       "      <th>Description_2</th>\n",
       "    </tr>\n",
       "  </thead>\n",
       "  <tbody>\n",
       "    <tr>\n",
       "      <th>0</th>\n",
       "      <td>BlackLab Sour Lady</td>\n",
       "      <td>NaN</td>\n",
       "      <td>Berliner Weisse</td>\n",
       "      <td>5.0</td>\n",
       "      <td>NaN</td>\n",
       "      <td>NaN</td>\n",
       "      <td>Sour Lady\\nBerliner Weisse with fruit\\nUna cerveza ácida con frambuesas.\\n---------------\\nSour beer with raspberries</td>\n",
       "      <td>Sour Lady\\nBerliner Weisse with fruit\\nUna cerveza ácida con frambuesas.\\n---------------\\nSour beer with raspberries</td>\n",
       "      <td>sour lady berliner weisse fruit una cerveza ácida frambuesas sour beer raspberries</td>\n",
       "    </tr>\n",
       "    <tr>\n",
       "      <th>1</th>\n",
       "      <td>Blacklab Claudia Passion</td>\n",
       "      <td>NaN</td>\n",
       "      <td>American IPA</td>\n",
       "      <td>NaN</td>\n",
       "      <td>NaN</td>\n",
       "      <td>NaN</td>\n",
       "      <td>Claudia Passion\\nFruit IPA\\nNuestra mejor cerveza con Maracuyá\\n--------------\\nOur best IPA with passion fruit</td>\n",
       "      <td>Claudia Passion\\nFruit IPA\\nNuestra mejor cerveza con Maracuyá\\n--------------\\nOur best IPA with passion fruit</td>\n",
       "      <td>claudia passion fruit ipa nuestra mejor cerveza maracuyá our best ipa passion fruit</td>\n",
       "    </tr>\n",
       "    <tr>\n",
       "      <th>2</th>\n",
       "      <td>BlackLab More Sparkle</td>\n",
       "      <td>NaN</td>\n",
       "      <td>Brut IPA</td>\n",
       "      <td>7.0</td>\n",
       "      <td>NaN</td>\n",
       "      <td>NaN</td>\n",
       "      <td>More Sparkle\\nBrut IPA\\nDry and aromatic. Low bitterness.\\n-----------\\nMuy seca y aromática. Poco amargor.</td>\n",
       "      <td>More Sparkle\\nBrut IPA\\nDry and aromatic. Low bitterness.\\n-----------\\nMuy seca y aromática. Poco amargor.</td>\n",
       "      <td>more sparkle brut ipa dry aromatic low bitterness muy seca aromática poco amargor</td>\n",
       "    </tr>\n",
       "    <tr>\n",
       "      <th>3</th>\n",
       "      <td>Greyhound Brewers Give ’em Hops</td>\n",
       "      <td>NaN</td>\n",
       "      <td>Imperial IPA</td>\n",
       "      <td>8.0</td>\n",
       "      <td>NaN</td>\n",
       "      <td>NaN</td>\n",
       "      <td>Give ’em Hops\\nDoble NEIPA</td>\n",
       "      <td>Give ’em Hops\\nDoble NEIPA</td>\n",
       "      <td>give em hops doble neipa</td>\n",
       "    </tr>\n",
       "    <tr>\n",
       "      <th>4</th>\n",
       "      <td>Greyhound Brewers Slave of New Hops</td>\n",
       "      <td>NaN</td>\n",
       "      <td>American IPA</td>\n",
       "      <td>6.7</td>\n",
       "      <td>50.0</td>\n",
       "      <td>3.76</td>\n",
       "      <td>Slave of New Hops\\nIPA</td>\n",
       "      <td>Slave of New Hops\\nIPA</td>\n",
       "      <td>slave new hops ipa</td>\n",
       "    </tr>\n",
       "  </tbody>\n",
       "</table>\n",
       "</div>"
      ],
      "text/plain": [
       "                                  Name Brewery            Style  ABV   IBU  \\\n",
       "0                   BlackLab Sour Lady     NaN  Berliner Weisse  5.0   NaN   \n",
       "1             Blacklab Claudia Passion     NaN     American IPA  NaN   NaN   \n",
       "2                BlackLab More Sparkle     NaN         Brut IPA  7.0   NaN   \n",
       "3      Greyhound Brewers Give ’em Hops     NaN     Imperial IPA  8.0   NaN   \n",
       "4  Greyhound Brewers Slave of New Hops     NaN     American IPA  6.7  50.0   \n",
       "\n",
       "   Rating  \\\n",
       "0     NaN   \n",
       "1     NaN   \n",
       "2     NaN   \n",
       "3     NaN   \n",
       "4    3.76   \n",
       "\n",
       "                                                                                                             Description  \\\n",
       "0  Sour Lady\\nBerliner Weisse with fruit\\nUna cerveza ácida con frambuesas.\\n---------------\\nSour beer with raspberries   \n",
       "1        Claudia Passion\\nFruit IPA\\nNuestra mejor cerveza con Maracuyá\\n--------------\\nOur best IPA with passion fruit   \n",
       "2            More Sparkle\\nBrut IPA\\nDry and aromatic. Low bitterness.\\n-----------\\nMuy seca y aromática. Poco amargor.   \n",
       "3                                                                                             Give ’em Hops\\nDoble NEIPA   \n",
       "4                                                                                                 Slave of New Hops\\nIPA   \n",
       "\n",
       "                                                                                                        Description_full  \\\n",
       "0  Sour Lady\\nBerliner Weisse with fruit\\nUna cerveza ácida con frambuesas.\\n---------------\\nSour beer with raspberries   \n",
       "1        Claudia Passion\\nFruit IPA\\nNuestra mejor cerveza con Maracuyá\\n--------------\\nOur best IPA with passion fruit   \n",
       "2            More Sparkle\\nBrut IPA\\nDry and aromatic. Low bitterness.\\n-----------\\nMuy seca y aromática. Poco amargor.   \n",
       "3                                                                                             Give ’em Hops\\nDoble NEIPA   \n",
       "4                                                                                                 Slave of New Hops\\nIPA   \n",
       "\n",
       "                                                                         Description_2  \n",
       "0   sour lady berliner weisse fruit una cerveza ácida frambuesas sour beer raspberries  \n",
       "1  claudia passion fruit ipa nuestra mejor cerveza maracuyá our best ipa passion fruit  \n",
       "2   more sparkle brut ipa dry aromatic low bitterness muy seca aromática poco amargor   \n",
       "3                                                             give em hops doble neipa  \n",
       "4                                                                   slave new hops ipa  "
      ]
     },
     "execution_count": 451,
     "metadata": {},
     "output_type": "execute_result"
    }
   ],
   "source": [
    "df.head()"
   ]
  },
  {
   "cell_type": "markdown",
   "metadata": {},
   "source": [
    "## Stemming"
   ]
  },
  {
   "cell_type": "code",
   "execution_count": 452,
   "metadata": {
    "ExecuteTime": {
     "end_time": "2020-02-10T08:47:26.775553Z",
     "start_time": "2020-02-10T08:47:26.769198Z"
    }
   },
   "outputs": [],
   "source": [
    "# Ejecutar esto cuando tengamos las traducciones realizadas\n",
    "\n",
    "# stemmer = SnowballStemmer(\"spanish\")\n",
    "\n",
    "# df['Stemmed'] = df[\"Description_2\"].map(lambda x: ' '.join([stemmer.stem(y) for y in x.split(' ')]))\n",
    "# df[\"stemmed_clean\"] = df['stemmed'].map(lambda x: re.sub(r'\\W+', ' ', x))"
   ]
  },
  {
   "cell_type": "markdown",
   "metadata": {},
   "source": [
    "## Unique words"
   ]
  },
  {
   "cell_type": "code",
   "execution_count": 453,
   "metadata": {
    "ExecuteTime": {
     "end_time": "2020-02-10T08:47:31.573005Z",
     "start_time": "2020-02-10T08:47:29.426993Z"
    }
   },
   "outputs": [],
   "source": [
    "df[\"Description_3\"] = df[\"Description_2\"].apply(lambda x: pd.unique(x.split(' ')))\n",
    "df[\"Description_3\"] = df[\"Description_3\"].apply(lambda x: ' '.join(x))"
   ]
  },
  {
   "cell_type": "markdown",
   "metadata": {},
   "source": [
    "## PorterStemmer"
   ]
  },
  {
   "cell_type": "code",
   "execution_count": 303,
   "metadata": {
    "ExecuteTime": {
     "end_time": "2020-02-07T13:02:33.189651Z",
     "start_time": "2020-02-07T13:02:29.734943Z"
    }
   },
   "outputs": [],
   "source": [
    "# TO DO: Revisar para hacer esto en castellano, quizás usando Spacy\n",
    "stemmer = PorterStemmer()\n",
    "\n",
    "df['Description_3'] = df[\"Description_3\"].map(lambda x: ' '.join([stemmer.stem(y) for y in x.split(' ')]))"
   ]
  },
  {
   "cell_type": "markdown",
   "metadata": {},
   "source": [
    "## Remove words"
   ]
  },
  {
   "cell_type": "code",
   "execution_count": 454,
   "metadata": {
    "ExecuteTime": {
     "end_time": "2020-02-10T08:47:40.312360Z",
     "start_time": "2020-02-10T08:47:40.309176Z"
    }
   },
   "outputs": [],
   "source": [
    "list_words_to_drop = ['cerveza', 'la', 'una', 'elaborada', 'el']"
   ]
  },
  {
   "cell_type": "code",
   "execution_count": 455,
   "metadata": {
    "ExecuteTime": {
     "end_time": "2020-02-10T08:47:41.329138Z",
     "start_time": "2020-02-10T08:47:41.229091Z"
    }
   },
   "outputs": [],
   "source": [
    "df[\"Description_3\"] = df[\"Description_3\"].apply(lambda x: [word for word in x.split() if word not in list_words_to_drop])\n",
    "df[\"Description_3\"] = df[\"Description_3\"].apply(lambda x: ' '.join(x))"
   ]
  },
  {
   "cell_type": "code",
   "execution_count": 457,
   "metadata": {
    "ExecuteTime": {
     "end_time": "2020-02-10T08:47:49.076089Z",
     "start_time": "2020-02-10T08:47:49.059184Z"
    }
   },
   "outputs": [
    {
     "data": {
      "text/html": [
       "<div>\n",
       "<style scoped>\n",
       "    .dataframe tbody tr th:only-of-type {\n",
       "        vertical-align: middle;\n",
       "    }\n",
       "\n",
       "    .dataframe tbody tr th {\n",
       "        vertical-align: top;\n",
       "    }\n",
       "\n",
       "    .dataframe thead th {\n",
       "        text-align: right;\n",
       "    }\n",
       "</style>\n",
       "<table border=\"1\" class=\"dataframe\">\n",
       "  <thead>\n",
       "    <tr style=\"text-align: right;\">\n",
       "      <th></th>\n",
       "      <th>Description_full</th>\n",
       "      <th>Description_2</th>\n",
       "      <th>Description_3</th>\n",
       "    </tr>\n",
       "  </thead>\n",
       "  <tbody>\n",
       "    <tr>\n",
       "      <th>3507</th>\n",
       "      <td>Mahou Cinco Estrellas Sin Gluten nace como la cerveza apta para celiacos que mantiene intacto el sabor de su hermana Mahou Cinco Estrellas. Con un color dorado brillante, destaca por ser cremosa y consistente, con un cuerpo intenso y equilibrado capaz ... Ver más satisfacer a los paladares más exigentes.\\nCon el mismo sabor que la Mahou Cinco Estrellas, la nueva Mahou Sin Gluten mantiene los rasgos y procesos de elaboración característicos de su hermana mayor que nos acompaña desde 1969.\\nUt...</td>\n",
       "      <td>mahou cinco estrellas sin gluten nace cerveza apta celiacos mantiene intacto sabor hermana mahou cinco estrellas con color dorado brillante destaca ser cremosa consistente cuerpo intenso equilibrado capaz ver satisfacer paladares exigentes con mismo sabor mahou cinco estrellas nueva mahou sin gluten mantiene rasgos procesos elaboración característicos hermana mayor acompaña 1969 utilizando mejores variedades lúpulo levadura obtiene cerveza dorada cremosa aroma afrutado apta celiacos consígue...</td>\n",
       "      <td>mahou cinco estrellas sin gluten nace apta celiacos mantiene intacto sabor hermana con color dorado brillante destaca ser cremosa consistente cuerpo intenso equilibrado capaz ver satisfacer paladares exigentes mismo nueva rasgos procesos elaboración característicos mayor acompaña 1969 utilizando mejores variedades lúpulo levadura obtiene dorada aroma afrutado consíguela precio punto venta habitual disfrútala bar favorito casa dejándote llevar todos los principales ingredientes son menos</td>\n",
       "    </tr>\n",
       "    <tr>\n",
       "      <th>4578</th>\n",
       "      <td>BIIR Equinox Triple IPA\\r\\nInspirada en les Triple IPA de Califòrnia, hem creat aquesta cervesa extrema, per als cervesers més exigents, amb una gran quantitat de malts d’ordi i llupol Equinox. Malgrat la seva graduació alcohòlica i amargor es ... Ver más d’una cervesa ben equilibrada.\\r\\n—\\r\\nInspired by Californian Triple IPA, we have brewed this extreme beer for the most exigent beer lovers, whith lots of malts and Equinox hops. Despite it’a alcohol volume and bitternes, it’s a very well ...</td>\n",
       "      <td>biir equinox triple ipa inspirada triple ipa califòrnia hem creat aquesta cervesa extrema per als cervesers més exigents amb gran quantitat malts d ordi llupol equinox malgrat seva graduació alcohòlica amargor ver d una cervesa ben equilibrada inspired californian triple ipa brewed extreme beer exigent beer lovers whith lots malts equinox hops despite it a alcohol volume bitternes it s well balanced beer inspirada triple ipa california creado cerveza extrema cerveceros exigentes gran cantida...</td>\n",
       "      <td>biir equinox triple ipa inspirada califòrnia hem creat aquesta cervesa extrema per als cervesers més exigents amb gran quantitat malts d ordi llupol malgrat seva graduació alcohòlica amargor ver ben equilibrada inspired californian brewed extreme beer exigent lovers whith lots hops despite it a alcohol volume bitternes s well balanced california creado cerveceros exigentes cantidad malta cebada lúpulo pese graduación alcohólica trata bien menos</td>\n",
       "    </tr>\n",
       "    <tr>\n",
       "      <th>4457</th>\n",
       "      <td>Maiku 12 Mordors\\r\\nSummer Ale</td>\n",
       "      <td>maiku 12 mordors summer ale</td>\n",
       "      <td>maiku 12 mordors summer ale</td>\n",
       "    </tr>\n",
       "    <tr>\n",
       "      <th>1769</th>\n",
       "      <td>Península Porter\\r\\nCerveza oscura con notas a malta tostada, aromas a chocolate y cremosa espuma que te cubre la boca.</td>\n",
       "      <td>península porter cerveza oscura notas malta tostada aromas chocolate cremosa espuma cubre boca</td>\n",
       "      <td>península porter oscura notas malta tostada aromas chocolate cremosa espuma cubre boca</td>\n",
       "    </tr>\n",
       "    <tr>\n",
       "      <th>499</th>\n",
       "      <td>Don’t Hop Back In Anger\\nDoble IPA\\nHay canciones que se convierten en himnos y plantas que se convierten en cervezas. En ambos casos, lo importante es disfrutar de sus notas, compartirlas con gente querida, entonarlas a los cuatro cierzos y crear ... Ver más recuerdos.  Ver menos</td>\n",
       "      <td>don t hop back in anger doble ipa hay canciones convierten himnos plantas convierten cervezas en ambos casos importante disfrutar notas compartirlas gente querida entonarlas cuatro cierzos crear ver recuerdos ver menos</td>\n",
       "      <td>don t hop back in anger doble ipa hay canciones convierten himnos plantas cervezas en ambos casos importante disfrutar notas compartirlas gente querida entonarlas cuatro cierzos crear ver recuerdos menos</td>\n",
       "    </tr>\n",
       "  </tbody>\n",
       "</table>\n",
       "</div>"
      ],
      "text/plain": [
       "                                                                                                                                                                                                                                                                                                                                                                                                                                                                                                         Description_full  \\\n",
       "3507  Mahou Cinco Estrellas Sin Gluten nace como la cerveza apta para celiacos que mantiene intacto el sabor de su hermana Mahou Cinco Estrellas. Con un color dorado brillante, destaca por ser cremosa y consistente, con un cuerpo intenso y equilibrado capaz ... Ver más satisfacer a los paladares más exigentes.\\nCon el mismo sabor que la Mahou Cinco Estrellas, la nueva Mahou Sin Gluten mantiene los rasgos y procesos de elaboración característicos de su hermana mayor que nos acompaña desde 1969.\\nUt...   \n",
       "4578  BIIR Equinox Triple IPA\\r\\nInspirada en les Triple IPA de Califòrnia, hem creat aquesta cervesa extrema, per als cervesers més exigents, amb una gran quantitat de malts d’ordi i llupol Equinox. Malgrat la seva graduació alcohòlica i amargor es ... Ver más d’una cervesa ben equilibrada.\\r\\n—\\r\\nInspired by Californian Triple IPA, we have brewed this extreme beer for the most exigent beer lovers, whith lots of malts and Equinox hops. Despite it’a alcohol volume and bitternes, it’s a very well ...   \n",
       "4457                                                                                                                                                                                                                                                                                                                                                                                                                                                                                       Maiku 12 Mordors\\r\\nSummer Ale   \n",
       "1769                                                                                                                                                                                                                                                                                                                                                                                              Península Porter\\r\\nCerveza oscura con notas a malta tostada, aromas a chocolate y cremosa espuma que te cubre la boca.   \n",
       "499                                                                                                                                                                                                                             Don’t Hop Back In Anger\\nDoble IPA\\nHay canciones que se convierten en himnos y plantas que se convierten en cervezas. En ambos casos, lo importante es disfrutar de sus notas, compartirlas con gente querida, entonarlas a los cuatro cierzos y crear ... Ver más recuerdos.  Ver menos   \n",
       "\n",
       "                                                                                                                                                                                                                                                                                                                                                                                                                                                                                                            Description_2  \\\n",
       "3507  mahou cinco estrellas sin gluten nace cerveza apta celiacos mantiene intacto sabor hermana mahou cinco estrellas con color dorado brillante destaca ser cremosa consistente cuerpo intenso equilibrado capaz ver satisfacer paladares exigentes con mismo sabor mahou cinco estrellas nueva mahou sin gluten mantiene rasgos procesos elaboración característicos hermana mayor acompaña 1969 utilizando mejores variedades lúpulo levadura obtiene cerveza dorada cremosa aroma afrutado apta celiacos consígue...   \n",
       "4578  biir equinox triple ipa inspirada triple ipa califòrnia hem creat aquesta cervesa extrema per als cervesers més exigents amb gran quantitat malts d ordi llupol equinox malgrat seva graduació alcohòlica amargor ver d una cervesa ben equilibrada inspired californian triple ipa brewed extreme beer exigent beer lovers whith lots malts equinox hops despite it a alcohol volume bitternes it s well balanced beer inspirada triple ipa california creado cerveza extrema cerveceros exigentes gran cantida...   \n",
       "4457                                                                                                                                                                                                                                                                                                                                                                                                                                                                                          maiku 12 mordors summer ale   \n",
       "1769                                                                                                                                                                                                                                                                                                                                                                                                                      península porter cerveza oscura notas malta tostada aromas chocolate cremosa espuma cubre boca    \n",
       "499                                                                                                                                                                                                                                                                                            don t hop back in anger doble ipa hay canciones convierten himnos plantas convierten cervezas en ambos casos importante disfrutar notas compartirlas gente querida entonarlas cuatro cierzos crear ver recuerdos ver menos   \n",
       "\n",
       "                                                                                                                                                                                                                                                                                                                                                                                                                                                                                                    Description_3  \n",
       "3507  mahou cinco estrellas sin gluten nace apta celiacos mantiene intacto sabor hermana con color dorado brillante destaca ser cremosa consistente cuerpo intenso equilibrado capaz ver satisfacer paladares exigentes mismo nueva rasgos procesos elaboración característicos mayor acompaña 1969 utilizando mejores variedades lúpulo levadura obtiene dorada aroma afrutado consíguela precio punto venta habitual disfrútala bar favorito casa dejándote llevar todos los principales ingredientes son menos  \n",
       "4578                                             biir equinox triple ipa inspirada califòrnia hem creat aquesta cervesa extrema per als cervesers més exigents amb gran quantitat malts d ordi llupol malgrat seva graduació alcohòlica amargor ver ben equilibrada inspired californian brewed extreme beer exigent lovers whith lots hops despite it a alcohol volume bitternes s well balanced california creado cerveceros exigentes cantidad malta cebada lúpulo pese graduación alcohólica trata bien menos  \n",
       "4457                                                                                                                                                                                                                                                                                                                                                                                                                                                                                  maiku 12 mordors summer ale  \n",
       "1769                                                                                                                                                                                                                                                                                                                                                                                                                       península porter oscura notas malta tostada aromas chocolate cremosa espuma cubre boca  \n",
       "499                                                                                                                                                                                                                                                                                                   don t hop back in anger doble ipa hay canciones convierten himnos plantas cervezas en ambos casos importante disfrutar notas compartirlas gente querida entonarlas cuatro cierzos crear ver recuerdos menos  "
      ]
     },
     "execution_count": 457,
     "metadata": {},
     "output_type": "execute_result"
    }
   ],
   "source": [
    "df[['Description_full', 'Description_2', 'Description_3']].sample(5)"
   ]
  },
  {
   "cell_type": "markdown",
   "metadata": {},
   "source": [
    "## CountVectorizer"
   ]
  },
  {
   "cell_type": "code",
   "execution_count": 470,
   "metadata": {
    "ExecuteTime": {
     "end_time": "2020-02-10T08:50:45.981017Z",
     "start_time": "2020-02-10T08:50:45.969964Z"
    }
   },
   "outputs": [
    {
     "data": {
      "text/plain": [
       "CountVectorizer(analyzer='word', binary=False, decode_error='strict',\n",
       "                dtype=<class 'numpy.int64'>, encoding='utf-8', input='content',\n",
       "                lowercase=True, max_df=0.5, max_features=None, min_df=0.01,\n",
       "                ngram_range=(1, 2), preprocessor=None,\n",
       "                stop_words=['english', 'spanish'], strip_accents=None,\n",
       "                token_pattern='(?u)\\\\b\\\\w\\\\w+\\\\b', tokenizer=None,\n",
       "                vocabulary=None)"
      ]
     },
     "execution_count": 470,
     "metadata": {},
     "output_type": "execute_result"
    }
   ],
   "source": [
    "cvec = CountVectorizer(\n",
    "    stop_words=[\"english\", \"spanish\"], \n",
    "    min_df=0.01, \n",
    "    max_df=0.50, \n",
    "    ngram_range=(1,2) # change to consider bigrams\n",
    "#     ngram_range=(1) # unigrams\n",
    "    \n",
    ")\n",
    "cvec"
   ]
  },
  {
   "cell_type": "code",
   "execution_count": 471,
   "metadata": {
    "ExecuteTime": {
     "end_time": "2020-02-10T08:50:48.268703Z",
     "start_time": "2020-02-10T08:50:47.222112Z"
    }
   },
   "outputs": [
    {
     "data": {
      "text/plain": [
       "CountVectorizer(analyzer='word', binary=False, decode_error='strict',\n",
       "                dtype=<class 'numpy.int64'>, encoding='utf-8', input='content',\n",
       "                lowercase=True, max_df=0.5, max_features=None, min_df=0.01,\n",
       "                ngram_range=(1, 2), preprocessor=None,\n",
       "                stop_words=['english', 'spanish'], strip_accents=None,\n",
       "                token_pattern='(?u)\\\\b\\\\w\\\\w+\\\\b', tokenizer=None,\n",
       "                vocabulary=None)"
      ]
     },
     "execution_count": 471,
     "metadata": {},
     "output_type": "execute_result"
    }
   ],
   "source": [
    "cvec.fit(df['Description_3'])"
   ]
  },
  {
   "cell_type": "code",
   "execution_count": 472,
   "metadata": {
    "ExecuteTime": {
     "end_time": "2020-02-10T08:50:50.149177Z",
     "start_time": "2020-02-10T08:50:50.129489Z"
    }
   },
   "outputs": [
    {
     "data": {
      "text/plain": [
       "['10',\n",
       " '100',\n",
       " 'abundante',\n",
       " 'acidez',\n",
       " 'acompañar',\n",
       " 'además',\n",
       " 'aditivos',\n",
       " 'afrutada',\n",
       " 'afrutadas',\n",
       " 'afrutado',\n",
       " 'afrutados',\n",
       " 'aged',\n",
       " 'agradable',\n",
       " 'agua',\n",
       " 'ahumado',\n",
       " 'ahumados',\n",
       " 'al',\n",
       " 'alc',\n",
       " 'alcohol',\n",
       " 'alcohólica',\n",
       " 'alcohólico',\n",
       " 'ale',\n",
       " 'ale color',\n",
       " 'alemán',\n",
       " 'alta',\n",
       " 'alta fermentación',\n",
       " 'alto',\n",
       " 'amantes',\n",
       " 'amarga',\n",
       " 'amargo',\n",
       " 'amargor',\n",
       " 'amargor medio',\n",
       " 'amargor moderado',\n",
       " 'amargura',\n",
       " 'amarillo',\n",
       " 'amb',\n",
       " 'ambar',\n",
       " 'amber',\n",
       " 'amber ale',\n",
       " 'american',\n",
       " 'american pale',\n",
       " 'americano',\n",
       " 'americanos',\n",
       " 'amigos',\n",
       " 'anaranjado',\n",
       " 'apariencia',\n",
       " 'aperitivos',\n",
       " 'aporta',\n",
       " 'aportan',\n",
       " 'aquesta',\n",
       " 'aroma',\n",
       " 'aroma sabor',\n",
       " 'aromas',\n",
       " 'aromas cítricos',\n",
       " 'aromas sabores',\n",
       " 'aromes',\n",
       " 'aromática',\n",
       " 'aromático',\n",
       " 'artesana',\n",
       " 'artesanal',\n",
       " 'aspecto',\n",
       " 'así',\n",
       " 'aunque',\n",
       " 'avena',\n",
       " 'azúcar',\n",
       " 'añadido',\n",
       " 'año',\n",
       " 'años',\n",
       " 'baja',\n",
       " 'bajo',\n",
       " 'barcelona',\n",
       " 'barrel',\n",
       " 'barrel aged',\n",
       " 'barrica',\n",
       " 'barricas',\n",
       " 'base',\n",
       " 'bastante',\n",
       " 'beber',\n",
       " 'beer',\n",
       " 'beige',\n",
       " 'belga',\n",
       " 'belgian',\n",
       " 'bien',\n",
       " 'bitter',\n",
       " 'black',\n",
       " 'blanca',\n",
       " 'blancas',\n",
       " 'blanco',\n",
       " 'blat',\n",
       " 'blonde',\n",
       " 'blonde ale',\n",
       " 'boca',\n",
       " 'botella',\n",
       " 'brewing',\n",
       " 'brillante',\n",
       " 'brown',\n",
       " 'brown ale',\n",
       " 'buen',\n",
       " 'buena',\n",
       " 'burbuja',\n",
       " 'burbuja fina',\n",
       " 'cacao',\n",
       " 'cada',\n",
       " 'café',\n",
       " 'calidad',\n",
       " 'canela',\n",
       " 'cantidad',\n",
       " 'caracteriza',\n",
       " 'características',\n",
       " 'característico',\n",
       " 'caramel',\n",
       " 'caramelizadas',\n",
       " 'caramelo',\n",
       " 'carbonatación',\n",
       " 'carbonatación media',\n",
       " 'carbónico',\n",
       " 'carne',\n",
       " 'carnes',\n",
       " 'carácter',\n",
       " 'cascade',\n",
       " 'casi',\n",
       " 'caso',\n",
       " 'cata',\n",
       " 'cebada',\n",
       " 'centeno',\n",
       " 'cereal',\n",
       " 'cereales',\n",
       " 'cervecera',\n",
       " 'cervecero',\n",
       " 'cerveceros',\n",
       " 'cervesa',\n",
       " 'cervezas',\n",
       " 'chinook',\n",
       " 'chocolate',\n",
       " 'cilantro',\n",
       " 'citra',\n",
       " 'clara',\n",
       " 'claro',\n",
       " 'clavo',\n",
       " 'cobre',\n",
       " 'cobrizo',\n",
       " 'colaboración',\n",
       " 'color',\n",
       " 'color amarillo',\n",
       " 'color cobrizo',\n",
       " 'color dorado',\n",
       " 'color marrón',\n",
       " 'color negro',\n",
       " 'color ámbar',\n",
       " 'columbus',\n",
       " 'com',\n",
       " 'combina',\n",
       " 'combinación',\n",
       " 'comida',\n",
       " 'comidas',\n",
       " 'compleja',\n",
       " 'complejidad',\n",
       " 'complejo',\n",
       " 'con',\n",
       " 'consistente',\n",
       " 'consumo',\n",
       " 'contenido',\n",
       " 'contiene',\n",
       " 'copa',\n",
       " 'copos',\n",
       " 'corona',\n",
       " 'cos',\n",
       " 'crema',\n",
       " 'cremosa',\n",
       " 'cualquier',\n",
       " 'cuatro',\n",
       " 'cuerpo',\n",
       " 'cuerpo ligero',\n",
       " 'cuerpo medio',\n",
       " 'cítrica',\n",
       " 'cítricas',\n",
       " 'cítrico',\n",
       " 'cítricos',\n",
       " 'da',\n",
       " 'dan',\n",
       " 'dark',\n",
       " 'ddh',\n",
       " 'de',\n",
       " 'de color',\n",
       " 'debido',\n",
       " 'deja',\n",
       " 'dejando',\n",
       " 'densa',\n",
       " 'después',\n",
       " 'destaca',\n",
       " 'destacan',\n",
       " 'diferente',\n",
       " 'diferentes',\n",
       " 'disfrutar',\n",
       " 'doble',\n",
       " 'dorada',\n",
       " 'dorado',\n",
       " 'dos',\n",
       " 'double',\n",
       " 'dry',\n",
       " 'dry hopping',\n",
       " 'dulce',\n",
       " 'dulces',\n",
       " 'dulzor',\n",
       " 'día',\n",
       " 'días',\n",
       " 'ecológica',\n",
       " 'edición',\n",
       " 'edición limitada',\n",
       " 'elaboración',\n",
       " 'elegante',\n",
       " 'els',\n",
       " 'en',\n",
       " 'en boca',\n",
       " 'en nariz',\n",
       " 'encontramos',\n",
       " 'england',\n",
       " 'ensaladas',\n",
       " 'entrada',\n",
       " 'envejecida',\n",
       " 'equilibrada',\n",
       " 'equilibrado',\n",
       " 'equilibrio',\n",
       " 'es',\n",
       " 'escuma',\n",
       " 'especiado',\n",
       " 'especiados',\n",
       " 'especial',\n",
       " 'especiales',\n",
       " 'especialmente',\n",
       " 'especias',\n",
       " 'espuma',\n",
       " 'espuma blanca',\n",
       " 'espuma cremosa',\n",
       " 'espuma densa',\n",
       " 'esta',\n",
       " 'estil',\n",
       " 'estilo',\n",
       " 'etiqueta',\n",
       " 'extra',\n",
       " 'fermentació',\n",
       " 'fermentación',\n",
       " 'fermentada',\n",
       " 'filtrar',\n",
       " 'filtrar pasteurizar',\n",
       " 'fina',\n",
       " 'final',\n",
       " 'final seco',\n",
       " 'flor',\n",
       " 'floral',\n",
       " 'florales',\n",
       " 'flores',\n",
       " 'fondo',\n",
       " 'forma',\n",
       " 'fresca',\n",
       " 'fresco',\n",
       " 'frescor',\n",
       " 'frescos',\n",
       " 'frescura',\n",
       " 'fruit',\n",
       " 'fruta',\n",
       " 'frutal',\n",
       " 'frutales',\n",
       " 'frutas',\n",
       " 'frutas tropicales',\n",
       " 'frutos',\n",
       " 'frutos secos',\n",
       " 'fría',\n",
       " 'fuerte',\n",
       " 'fuertes',\n",
       " 'fácil',\n",
       " 'fácil beber',\n",
       " 'general',\n",
       " 'gluten',\n",
       " 'golden',\n",
       " 'gracias',\n",
       " 'grados',\n",
       " 'graduación',\n",
       " 'graduación alcohólica',\n",
       " 'gran',\n",
       " 'grano',\n",
       " 'gust',\n",
       " 'gusto',\n",
       " 'hace',\n",
       " 'hacen',\n",
       " 'hacer',\n",
       " 'hazy',\n",
       " 'hecha',\n",
       " 'herbal',\n",
       " 'herbales',\n",
       " 'homenaje',\n",
       " 'hop',\n",
       " 'hopping',\n",
       " 'hoppy',\n",
       " 'hops',\n",
       " 'ibu',\n",
       " 'ibus',\n",
       " 'ideal',\n",
       " 'imperial',\n",
       " 'imperial stout',\n",
       " 'india',\n",
       " 'india pale',\n",
       " 'indian',\n",
       " 'indian pale',\n",
       " 'inglés',\n",
       " 'ingredientes',\n",
       " 'inspirada',\n",
       " 'intensa',\n",
       " 'intensidad',\n",
       " 'intenso',\n",
       " 'intensos',\n",
       " 'invierno',\n",
       " 'invita',\n",
       " 'ipa',\n",
       " 'junto',\n",
       " 'lager',\n",
       " 'largo',\n",
       " 'las',\n",
       " 'levadura',\n",
       " 'levaduras',\n",
       " 'leve',\n",
       " 'li',\n",
       " 'ligera',\n",
       " 'ligera refrescante',\n",
       " 'ligeramente',\n",
       " 'ligero',\n",
       " 'ligeros',\n",
       " 'limitada',\n",
       " 'limpio',\n",
       " 'limón',\n",
       " 'lleva',\n",
       " 'llúpol',\n",
       " 'llúpols',\n",
       " 'los',\n",
       " 'lugar',\n",
       " 'lupulada',\n",
       " 'lúpulo',\n",
       " 'lúpulo levadura',\n",
       " 'lúpulos',\n",
       " 'lúpulos americanos',\n",
       " 'madera',\n",
       " 'madura',\n",
       " 'maduración',\n",
       " 'madurada',\n",
       " 'malt',\n",
       " 'malta',\n",
       " 'malta cebada',\n",
       " 'maltas',\n",
       " 'maltas cebada',\n",
       " 'maltas lúpulos',\n",
       " 'maltas tostadas',\n",
       " 'maltes',\n",
       " 'maltosa',\n",
       " 'maltoso',\n",
       " 'malts',\n",
       " 'mandarina',\n",
       " 'manera',\n",
       " 'mango',\n",
       " 'mar',\n",
       " 'marcado',\n",
       " 'marida',\n",
       " 'maridaje',\n",
       " 'maridar',\n",
       " 'mariscos',\n",
       " 'marrón',\n",
       " 'mas',\n",
       " 'matices',\n",
       " 'mayor',\n",
       " 'media',\n",
       " 'medio',\n",
       " 'mejor',\n",
       " 'mejores',\n",
       " 'melocotón',\n",
       " 'meses',\n",
       " 'mezcla',\n",
       " 'miel',\n",
       " 'mismo',\n",
       " 'moderada',\n",
       " 'moderado',\n",
       " 'molt',\n",
       " 'momento',\n",
       " 'mosaic',\n",
       " 'mundo',\n",
       " 'munich',\n",
       " 'muy',\n",
       " 'més',\n",
       " 'naranja',\n",
       " 'nariz',\n",
       " 'natural',\n",
       " 'naturales',\n",
       " 'negra',\n",
       " 'negro',\n",
       " 'neipa',\n",
       " 'new',\n",
       " 'new england',\n",
       " 'no',\n",
       " 'nobles',\n",
       " 'nombre',\n",
       " 'nota',\n",
       " 'notas',\n",
       " 'notas cítricas',\n",
       " 'notes',\n",
       " 'nuestra',\n",
       " 'nueva',\n",
       " 'olor',\n",
       " 'origen',\n",
       " 'original',\n",
       " 'oro',\n",
       " 'oscura',\n",
       " 'oscuro',\n",
       " 'pajizo',\n",
       " 'paladar',\n",
       " 'pale',\n",
       " 'pale ale',\n",
       " 'pan',\n",
       " 'para',\n",
       " 'parte',\n",
       " 'partir',\n",
       " 'paso',\n",
       " 'pasteurizar',\n",
       " 'per',\n",
       " 'perfecta',\n",
       " 'perfectamente',\n",
       " 'perfecto',\n",
       " 'perfil',\n",
       " 'persistencia',\n",
       " 'persistente',\n",
       " 'personalidad',\n",
       " 'pescados',\n",
       " 'picante',\n",
       " 'picantes',\n",
       " 'piel',\n",
       " 'piel naranja',\n",
       " 'pils',\n",
       " 'pilsen',\n",
       " 'pilsner',\n",
       " 'pino',\n",
       " 'platos',\n",
       " 'plátano',\n",
       " 'pomelo',\n",
       " 'por',\n",
       " 'porter',\n",
       " 'posee',\n",
       " 'postres',\n",
       " 'potente',\n",
       " 'predomina',\n",
       " 'presencia',\n",
       " 'presenta',\n",
       " 'presente',\n",
       " 'primer',\n",
       " 'primera',\n",
       " 'proceso',\n",
       " 'producto',\n",
       " 'profundo',\n",
       " 'propia',\n",
       " 'propio',\n",
       " 'puede',\n",
       " 'punto',\n",
       " 'pálido',\n",
       " 'que',\n",
       " 'queso',\n",
       " 'quesos',\n",
       " 'receta',\n",
       " 'recomienda',\n",
       " 'recuerda',\n",
       " 'recuerdos',\n",
       " 'red',\n",
       " 'red ale',\n",
       " 'reflejos',\n",
       " 'refrescant',\n",
       " 'refrescante',\n",
       " 'regaliz',\n",
       " 'resultado',\n",
       " 'retención',\n",
       " 'retrogusto',\n",
       " 'roble',\n",
       " 'roja',\n",
       " 'rojas',\n",
       " 'rojizo',\n",
       " 'rojo',\n",
       " 'rubia',\n",
       " 'rye',\n",
       " 'saaz',\n",
       " 'sabor',\n",
       " 'sabor aroma',\n",
       " 'sabor suave',\n",
       " 'sabores',\n",
       " 'sabrosa',\n",
       " 'saison',\n",
       " 'san',\n",
       " 'se',\n",
       " 'se trata',\n",
       " 'seca',\n",
       " 'seco',\n",
       " 'secos',\n",
       " 'sedosa',\n",
       " 'segunda',\n",
       " 'selección',\n",
       " 'sensaciones',\n",
       " 'sensación',\n",
       " 'sensación boca',\n",
       " 'ser',\n",
       " 'serie',\n",
       " 'series',\n",
       " 'servir',\n",
       " 'session',\n",
       " 'session ipa',\n",
       " 'seu',\n",
       " 'si',\n",
       " 'sido',\n",
       " 'siempre',\n",
       " 'simcoe',\n",
       " 'sin',\n",
       " 'solo',\n",
       " 'sour',\n",
       " 'stout',\n",
       " 'strong',\n",
       " 'su',\n",
       " 'suau',\n",
       " 'suave',\n",
       " 'suaves',\n",
       " 'summer',\n",
       " 'sutil',\n",
       " 'sólo',\n",
       " 'también',\n",
       " 'tan',\n",
       " 'temperatura',\n",
       " 'textura',\n",
       " 'the',\n",
       " 'tiempo',\n",
       " 'tiene',\n",
       " 'tierra',\n",
       " 'tipo',\n",
       " 'tipos',\n",
       " 'toda',\n",
       " 'todas',\n",
       " 'tomar',\n",
       " 'tonos',\n",
       " 'toque',\n",
       " 'toques',\n",
       " 'torrefactas',\n",
       " 'torrefacto',\n",
       " 'torrefactos',\n",
       " 'tostada',\n",
       " 'tostadas',\n",
       " 'tostado',\n",
       " 'tostados',\n",
       " 'tradicional',\n",
       " 'tradición',\n",
       " 'trago',\n",
       " 'tras',\n",
       " 'trata',\n",
       " 'tres',\n",
       " 'trigo',\n",
       " 'tropical',\n",
       " 'tropicales',\n",
       " 'turbia',\n",
       " 'turbidez',\n",
       " 'turbio',\n",
       " 'un',\n",
       " 'unas',\n",
       " 'uva',\n",
       " 'va',\n",
       " 'vainilla',\n",
       " 'variedad',\n",
       " 'variedades',\n",
       " 'vaso',\n",
       " 'ver menos',\n",
       " 'verano',\n",
       " 'versión',\n",
       " 'vez',\n",
       " 'vida',\n",
       " 'vino',\n",
       " 'vol',\n",
       " 'wheat',\n",
       " 'ácido',\n",
       " 'ámbar',\n",
       " 'és',\n",
       " 'única',\n",
       " 'único']"
      ]
     },
     "execution_count": 472,
     "metadata": {},
     "output_type": "execute_result"
    }
   ],
   "source": [
    "cvec.get_feature_names()"
   ]
  },
  {
   "cell_type": "code",
   "execution_count": 473,
   "metadata": {
    "ExecuteTime": {
     "end_time": "2020-02-10T08:50:58.705677Z",
     "start_time": "2020-02-10T08:50:58.699135Z"
    }
   },
   "outputs": [
    {
     "data": {
      "text/plain": [
       "[('sour', 514),\n",
       " ('fruit', 259),\n",
       " ('beer', 78),\n",
       " ('ipa', 313),\n",
       " ('nuestra', 402),\n",
       " ('mejor', 370),\n",
       " ('dry', 199),\n",
       " ('muy', 384),\n",
       " ('seca', 492),\n",
       " ('aromática', 56),\n",
       " ('amargor', 30),\n",
       " ('hops', 294),\n",
       " ('doble', 194),\n",
       " ('neipa', 392),\n",
       " ('new', 393),\n",
       " ('the', 528),\n",
       " ('amarga', 28),\n",
       " ('herbal', 288),\n",
       " ('simcoe', 511),\n",
       " ('cascade', 119)]"
      ]
     },
     "execution_count": 473,
     "metadata": {},
     "output_type": "execute_result"
    }
   ],
   "source": [
    "list(islice(cvec.vocabulary_.items(), 20))"
   ]
  },
  {
   "cell_type": "code",
   "execution_count": 474,
   "metadata": {
    "ExecuteTime": {
     "end_time": "2020-02-10T08:51:04.412739Z",
     "start_time": "2020-02-10T08:51:03.944847Z"
    }
   },
   "outputs": [
    {
     "name": "stdout",
     "output_type": "stream",
     "text": [
      "sparse matrix shape: (6683, 580)\n",
      "nonzero count: 115383\n",
      "sparsity: 2.98%\n"
     ]
    }
   ],
   "source": [
    "cvec_counts = cvec.transform(df['Description_3'])\n",
    "print('sparse matrix shape:', cvec_counts.shape)\n",
    "print('nonzero count:', cvec_counts.nnz)\n",
    "print('sparsity: %.2f%%' % (100.0 * cvec_counts.nnz / (cvec_counts.shape[0] * cvec_counts.shape[1])))"
   ]
  },
  {
   "cell_type": "code",
   "execution_count": 475,
   "metadata": {
    "ExecuteTime": {
     "end_time": "2020-02-10T08:51:05.462514Z",
     "start_time": "2020-02-10T08:51:05.452967Z"
    }
   },
   "outputs": [],
   "source": [
    "# top 20 terms\n",
    "occ = np.asarray(cvec_counts.sum(axis=0)).ravel().tolist()\n",
    "counts_df = pd.DataFrame({'term': cvec.get_feature_names(), 'occurrences': occ})"
   ]
  },
  {
   "cell_type": "code",
   "execution_count": 477,
   "metadata": {
    "ExecuteTime": {
     "end_time": "2020-02-10T08:51:14.447576Z",
     "start_time": "2020-02-10T08:51:14.427456Z"
    }
   },
   "outputs": [
    {
     "data": {
      "text/html": [
       "<div>\n",
       "<style scoped>\n",
       "    .dataframe tbody tr th:only-of-type {\n",
       "        vertical-align: middle;\n",
       "    }\n",
       "\n",
       "    .dataframe tbody tr th {\n",
       "        vertical-align: top;\n",
       "    }\n",
       "\n",
       "    .dataframe thead th {\n",
       "        text-align: right;\n",
       "    }\n",
       "</style>\n",
       "<table border=\"1\" class=\"dataframe\">\n",
       "  <thead>\n",
       "    <tr style=\"text-align: right;\">\n",
       "      <th></th>\n",
       "      <th>term</th>\n",
       "      <th>occurrences</th>\n",
       "    </tr>\n",
       "  </thead>\n",
       "  <tbody>\n",
       "    <tr>\n",
       "      <th>21</th>\n",
       "      <td>ale</td>\n",
       "      <td>2007</td>\n",
       "    </tr>\n",
       "    <tr>\n",
       "      <th>142</th>\n",
       "      <td>color</td>\n",
       "      <td>1956</td>\n",
       "    </tr>\n",
       "    <tr>\n",
       "      <th>483</th>\n",
       "      <td>sabor</td>\n",
       "      <td>1666</td>\n",
       "    </tr>\n",
       "    <tr>\n",
       "      <th>50</th>\n",
       "      <td>aroma</td>\n",
       "      <td>1459</td>\n",
       "    </tr>\n",
       "    <tr>\n",
       "      <th>30</th>\n",
       "      <td>amargor</td>\n",
       "      <td>1397</td>\n",
       "    </tr>\n",
       "    <tr>\n",
       "      <th>336</th>\n",
       "      <td>lúpulo</td>\n",
       "      <td>1312</td>\n",
       "    </tr>\n",
       "    <tr>\n",
       "      <th>231</th>\n",
       "      <td>espuma</td>\n",
       "      <td>1289</td>\n",
       "    </tr>\n",
       "    <tr>\n",
       "      <th>345</th>\n",
       "      <td>malta</td>\n",
       "      <td>1255</td>\n",
       "    </tr>\n",
       "    <tr>\n",
       "      <th>313</th>\n",
       "      <td>ipa</td>\n",
       "      <td>1187</td>\n",
       "    </tr>\n",
       "    <tr>\n",
       "      <th>171</th>\n",
       "      <td>cuerpo</td>\n",
       "      <td>1176</td>\n",
       "    </tr>\n",
       "    <tr>\n",
       "      <th>338</th>\n",
       "      <td>lúpulos</td>\n",
       "      <td>1122</td>\n",
       "    </tr>\n",
       "    <tr>\n",
       "      <th>52</th>\n",
       "      <td>aromas</td>\n",
       "      <td>1097</td>\n",
       "    </tr>\n",
       "    <tr>\n",
       "      <th>347</th>\n",
       "      <td>maltas</td>\n",
       "      <td>1041</td>\n",
       "    </tr>\n",
       "    <tr>\n",
       "      <th>91</th>\n",
       "      <td>boca</td>\n",
       "      <td>1034</td>\n",
       "    </tr>\n",
       "    <tr>\n",
       "      <th>412</th>\n",
       "      <td>pale</td>\n",
       "      <td>1005</td>\n",
       "    </tr>\n",
       "    <tr>\n",
       "      <th>237</th>\n",
       "      <td>estilo</td>\n",
       "      <td>898</td>\n",
       "    </tr>\n",
       "    <tr>\n",
       "      <th>399</th>\n",
       "      <td>notas</td>\n",
       "      <td>896</td>\n",
       "    </tr>\n",
       "    <tr>\n",
       "      <th>413</th>\n",
       "      <td>pale ale</td>\n",
       "      <td>832</td>\n",
       "    </tr>\n",
       "    <tr>\n",
       "      <th>212</th>\n",
       "      <td>en</td>\n",
       "      <td>818</td>\n",
       "    </tr>\n",
       "    <tr>\n",
       "      <th>470</th>\n",
       "      <td>refrescante</td>\n",
       "      <td>817</td>\n",
       "    </tr>\n",
       "    <tr>\n",
       "      <th>519</th>\n",
       "      <td>suave</td>\n",
       "      <td>798</td>\n",
       "    </tr>\n",
       "    <tr>\n",
       "      <th>246</th>\n",
       "      <td>final</td>\n",
       "      <td>734</td>\n",
       "    </tr>\n",
       "    <tr>\n",
       "      <th>182</th>\n",
       "      <td>de</td>\n",
       "      <td>709</td>\n",
       "    </tr>\n",
       "    <tr>\n",
       "      <th>241</th>\n",
       "      <td>fermentación</td>\n",
       "      <td>623</td>\n",
       "    </tr>\n",
       "    <tr>\n",
       "      <th>486</th>\n",
       "      <td>sabores</td>\n",
       "      <td>603</td>\n",
       "    </tr>\n",
       "    <tr>\n",
       "      <th>24</th>\n",
       "      <td>alta</td>\n",
       "      <td>601</td>\n",
       "    </tr>\n",
       "    <tr>\n",
       "      <th>553</th>\n",
       "      <td>trigo</td>\n",
       "      <td>574</td>\n",
       "    </tr>\n",
       "    <tr>\n",
       "      <th>158</th>\n",
       "      <td>con</td>\n",
       "      <td>570</td>\n",
       "    </tr>\n",
       "    <tr>\n",
       "      <th>85</th>\n",
       "      <td>blanca</td>\n",
       "      <td>555</td>\n",
       "    </tr>\n",
       "    <tr>\n",
       "      <th>538</th>\n",
       "      <td>toque</td>\n",
       "      <td>550</td>\n",
       "    </tr>\n",
       "    <tr>\n",
       "      <th>223</th>\n",
       "      <td>es</td>\n",
       "      <td>547</td>\n",
       "    </tr>\n",
       "    <tr>\n",
       "      <th>309</th>\n",
       "      <td>intenso</td>\n",
       "      <td>542</td>\n",
       "    </tr>\n",
       "    <tr>\n",
       "      <th>318</th>\n",
       "      <td>levadura</td>\n",
       "      <td>527</td>\n",
       "    </tr>\n",
       "    <tr>\n",
       "      <th>325</th>\n",
       "      <td>ligero</td>\n",
       "      <td>517</td>\n",
       "    </tr>\n",
       "    <tr>\n",
       "      <th>177</th>\n",
       "      <td>cítricos</td>\n",
       "      <td>510</td>\n",
       "    </tr>\n",
       "  </tbody>\n",
       "</table>\n",
       "</div>"
      ],
      "text/plain": [
       "             term  occurrences\n",
       "21            ale         2007\n",
       "142         color         1956\n",
       "483         sabor         1666\n",
       "50          aroma         1459\n",
       "30        amargor         1397\n",
       "336        lúpulo         1312\n",
       "231        espuma         1289\n",
       "345         malta         1255\n",
       "313           ipa         1187\n",
       "171        cuerpo         1176\n",
       "338       lúpulos         1122\n",
       "52         aromas         1097\n",
       "347        maltas         1041\n",
       "91           boca         1034\n",
       "412          pale         1005\n",
       "237        estilo          898\n",
       "399         notas          896\n",
       "413      pale ale          832\n",
       "212            en          818\n",
       "470   refrescante          817\n",
       "519         suave          798\n",
       "246         final          734\n",
       "182            de          709\n",
       "241  fermentación          623\n",
       "486       sabores          603\n",
       "24           alta          601\n",
       "553         trigo          574\n",
       "158           con          570\n",
       "85         blanca          555\n",
       "538         toque          550\n",
       "223            es          547\n",
       "309       intenso          542\n",
       "318      levadura          527\n",
       "325        ligero          517\n",
       "177      cítricos          510"
      ]
     },
     "execution_count": 477,
     "metadata": {},
     "output_type": "execute_result"
    }
   ],
   "source": [
    "counts_df.sort_values(by='occurrences', ascending=False).head(35)"
   ]
  },
  {
   "cell_type": "markdown",
   "metadata": {},
   "source": [
    "## TfidfTransformer"
   ]
  },
  {
   "cell_type": "code",
   "execution_count": 466,
   "metadata": {
    "ExecuteTime": {
     "end_time": "2020-02-10T08:48:34.264073Z",
     "start_time": "2020-02-10T08:48:34.116617Z"
    }
   },
   "outputs": [
    {
     "data": {
      "text/plain": [
       "<6683x580 sparse matrix of type '<class 'numpy.float64'>'\n",
       "\twith 115383 stored elements in Compressed Sparse Row format>"
      ]
     },
     "execution_count": 466,
     "metadata": {},
     "output_type": "execute_result"
    }
   ],
   "source": [
    "# use tfidf transformer to calc weights\n",
    "transformer = TfidfTransformer()\n",
    "transformed_weights = transformer.fit_transform(cvec_counts)\n",
    "transformed_weights"
   ]
  },
  {
   "cell_type": "code",
   "execution_count": 467,
   "metadata": {
    "ExecuteTime": {
     "end_time": "2020-02-10T08:48:35.533308Z",
     "start_time": "2020-02-10T08:48:35.489222Z"
    }
   },
   "outputs": [],
   "source": [
    "# Compute cosine similarity with a beer of choice, that is represented in the dataset\n",
    "idx = df.index.get_indexer_for((df[df['Name']=='Malandar Silk'].index))[0]"
   ]
  },
  {
   "cell_type": "markdown",
   "metadata": {},
   "source": [
    "## Cosine Similarity"
   ]
  },
  {
   "cell_type": "code",
   "execution_count": 468,
   "metadata": {
    "ExecuteTime": {
     "end_time": "2020-02-10T08:48:37.417618Z",
     "start_time": "2020-02-10T08:48:37.381818Z"
    }
   },
   "outputs": [
    {
     "data": {
      "text/html": [
       "<div>\n",
       "<style scoped>\n",
       "    .dataframe tbody tr th:only-of-type {\n",
       "        vertical-align: middle;\n",
       "    }\n",
       "\n",
       "    .dataframe tbody tr th {\n",
       "        vertical-align: top;\n",
       "    }\n",
       "\n",
       "    .dataframe thead th {\n",
       "        text-align: right;\n",
       "    }\n",
       "</style>\n",
       "<table border=\"1\" class=\"dataframe\">\n",
       "  <thead>\n",
       "    <tr style=\"text-align: right;\">\n",
       "      <th></th>\n",
       "      <th>Name</th>\n",
       "      <th>Style</th>\n",
       "      <th>sims</th>\n",
       "      <th>Description_3</th>\n",
       "    </tr>\n",
       "  </thead>\n",
       "  <tbody>\n",
       "    <tr>\n",
       "      <th>687</th>\n",
       "      <td>Malandar Silk</td>\n",
       "      <td>New England IPA</td>\n",
       "      <td>1.000000</td>\n",
       "      <td>silk neipa ddh mosaic citra galaxy lactose</td>\n",
       "    </tr>\n",
       "    <tr>\n",
       "      <th>569</th>\n",
       "      <td>Soma Hypebeast</td>\n",
       "      <td>Imperial IPA</td>\n",
       "      <td>0.822911</td>\n",
       "      <td>hypebeast just hop it double neipa ddh cashmere citra mosaic</td>\n",
       "    </tr>\n",
       "    <tr>\n",
       "      <th>688</th>\n",
       "      <td>Malandar Lazy Canalla</td>\n",
       "      <td>New England IPA</td>\n",
       "      <td>0.757408</td>\n",
       "      <td>ddh neipa</td>\n",
       "    </tr>\n",
       "    <tr>\n",
       "      <th>970</th>\n",
       "      <td>Malandar White Trash</td>\n",
       "      <td>New England IPA</td>\n",
       "      <td>0.757408</td>\n",
       "      <td>white trash ddh neipa</td>\n",
       "    </tr>\n",
       "    <tr>\n",
       "      <th>652</th>\n",
       "      <td>Bonvivant Motora</td>\n",
       "      <td>New England IPA</td>\n",
       "      <td>0.757408</td>\n",
       "      <td>motora neipa ddh</td>\n",
       "    </tr>\n",
       "    <tr>\n",
       "      <th>969</th>\n",
       "      <td>Malandar She Is Demolitioner</td>\n",
       "      <td>New England IPA</td>\n",
       "      <td>0.757408</td>\n",
       "      <td>she is demolitioner 9 80665 ddh neipa</td>\n",
       "    </tr>\n",
       "    <tr>\n",
       "      <th>947</th>\n",
       "      <td>Wylie Brewery We Are Aliens</td>\n",
       "      <td>New England IPA</td>\n",
       "      <td>0.753384</td>\n",
       "      <td>we are aliens extra pale neipa amb lactosa pell taronja vainilla ddh citra mosaic azacca</td>\n",
       "    </tr>\n",
       "    <tr>\n",
       "      <th>294</th>\n",
       "      <td>La Grúa Bamboo</td>\n",
       "      <td>New England IPA</td>\n",
       "      <td>0.721752</td>\n",
       "      <td>bamboo ddh neipa con lúpulos idaho 7 mosaic cashmere avena</td>\n",
       "    </tr>\n",
       "    <tr>\n",
       "      <th>718</th>\n",
       "      <td>La Grúa Voodoo</td>\n",
       "      <td>New England IPA</td>\n",
       "      <td>0.720707</td>\n",
       "      <td>voodoo ddh neipa sabor piña coco raudales</td>\n",
       "    </tr>\n",
       "    <tr>\n",
       "      <th>640</th>\n",
       "      <td>Maresme Calima</td>\n",
       "      <td>New England IPA</td>\n",
       "      <td>0.670835</td>\n",
       "      <td>calima calitja hazy ipa 6 8 ddh mosaic citra hüll melon</td>\n",
       "    </tr>\n",
       "  </tbody>\n",
       "</table>\n",
       "</div>"
      ],
      "text/plain": [
       "                             Name            Style      sims  \\\n",
       "687                 Malandar Silk  New England IPA  1.000000   \n",
       "569                Soma Hypebeast     Imperial IPA  0.822911   \n",
       "688         Malandar Lazy Canalla  New England IPA  0.757408   \n",
       "970          Malandar White Trash  New England IPA  0.757408   \n",
       "652              Bonvivant Motora  New England IPA  0.757408   \n",
       "969  Malandar She Is Demolitioner  New England IPA  0.757408   \n",
       "947   Wylie Brewery We Are Aliens  New England IPA  0.753384   \n",
       "294                La Grúa Bamboo  New England IPA  0.721752   \n",
       "718                La Grúa Voodoo  New England IPA  0.720707   \n",
       "640                Maresme Calima  New England IPA  0.670835   \n",
       "\n",
       "                                                                                Description_3  \n",
       "687                                                silk neipa ddh mosaic citra galaxy lactose  \n",
       "569                              hypebeast just hop it double neipa ddh cashmere citra mosaic  \n",
       "688                                                                                 ddh neipa  \n",
       "970                                                                     white trash ddh neipa  \n",
       "652                                                                          motora neipa ddh  \n",
       "969                                                     she is demolitioner 9 80665 ddh neipa  \n",
       "947  we are aliens extra pale neipa amb lactosa pell taronja vainilla ddh citra mosaic azacca  \n",
       "294                                bamboo ddh neipa con lúpulos idaho 7 mosaic cashmere avena  \n",
       "718                                                 voodoo ddh neipa sabor piña coco raudales  \n",
       "640                                   calima calitja hazy ipa 6 8 ddh mosaic citra hüll melon  "
      ]
     },
     "execution_count": 468,
     "metadata": {},
     "output_type": "execute_result"
    }
   ],
   "source": [
    "sims = cosine_similarity(transformed_weights[idx,:], transformed_weights)\n",
    "\n",
    "# Add similarities values to the beer description dataframe, then sort by similarities descending\n",
    "df['sims'] = sims.T\n",
    "df.sort_values(by='sims',ascending=False)[['Name', 'Style', 'sims', 'Description_3']].head(10)"
   ]
  },
  {
   "cell_type": "code",
   "execution_count": 469,
   "metadata": {
    "ExecuteTime": {
     "end_time": "2020-02-10T08:48:57.332874Z",
     "start_time": "2020-02-10T08:48:57.311609Z"
    }
   },
   "outputs": [
    {
     "data": {
      "text/html": [
       "<div>\n",
       "<style scoped>\n",
       "    .dataframe tbody tr th:only-of-type {\n",
       "        vertical-align: middle;\n",
       "    }\n",
       "\n",
       "    .dataframe tbody tr th {\n",
       "        vertical-align: top;\n",
       "    }\n",
       "\n",
       "    .dataframe thead th {\n",
       "        text-align: right;\n",
       "    }\n",
       "</style>\n",
       "<table border=\"1\" class=\"dataframe\">\n",
       "  <thead>\n",
       "    <tr style=\"text-align: right;\">\n",
       "      <th></th>\n",
       "      <th>Name</th>\n",
       "      <th>Brewery</th>\n",
       "      <th>Style</th>\n",
       "      <th>ABV</th>\n",
       "      <th>IBU</th>\n",
       "      <th>Rating</th>\n",
       "      <th>Description</th>\n",
       "      <th>Description_full</th>\n",
       "      <th>Description_2</th>\n",
       "      <th>Description_3</th>\n",
       "      <th>sims</th>\n",
       "    </tr>\n",
       "  </thead>\n",
       "  <tbody>\n",
       "    <tr>\n",
       "      <th>0</th>\n",
       "      <td>BlackLab Sour Lady</td>\n",
       "      <td>NaN</td>\n",
       "      <td>Berliner Weisse</td>\n",
       "      <td>5.0</td>\n",
       "      <td>NaN</td>\n",
       "      <td>NaN</td>\n",
       "      <td>Sour Lady\\nBerliner Weisse with fruit\\nUna cerveza ácida con frambuesas.\\n---------------\\nSour beer with raspberries</td>\n",
       "      <td>Sour Lady\\nBerliner Weisse with fruit\\nUna cerveza ácida con frambuesas.\\n---------------\\nSour beer with raspberries</td>\n",
       "      <td>sour lady berliner weisse fruit una cerveza ácida frambuesas sour beer raspberries</td>\n",
       "      <td>sour lady berliner weisse fruit ácida frambuesas beer raspberries</td>\n",
       "      <td>0.000000</td>\n",
       "    </tr>\n",
       "    <tr>\n",
       "      <th>1</th>\n",
       "      <td>Blacklab Claudia Passion</td>\n",
       "      <td>NaN</td>\n",
       "      <td>American IPA</td>\n",
       "      <td>NaN</td>\n",
       "      <td>NaN</td>\n",
       "      <td>NaN</td>\n",
       "      <td>Claudia Passion\\nFruit IPA\\nNuestra mejor cerveza con Maracuyá\\n--------------\\nOur best IPA with passion fruit</td>\n",
       "      <td>Claudia Passion\\nFruit IPA\\nNuestra mejor cerveza con Maracuyá\\n--------------\\nOur best IPA with passion fruit</td>\n",
       "      <td>claudia passion fruit ipa nuestra mejor cerveza maracuyá our best ipa passion fruit</td>\n",
       "      <td>claudia passion fruit ipa nuestra mejor maracuyá our best</td>\n",
       "      <td>0.000000</td>\n",
       "    </tr>\n",
       "    <tr>\n",
       "      <th>2</th>\n",
       "      <td>BlackLab More Sparkle</td>\n",
       "      <td>NaN</td>\n",
       "      <td>Brut IPA</td>\n",
       "      <td>7.0</td>\n",
       "      <td>NaN</td>\n",
       "      <td>NaN</td>\n",
       "      <td>More Sparkle\\nBrut IPA\\nDry and aromatic. Low bitterness.\\n-----------\\nMuy seca y aromática. Poco amargor.</td>\n",
       "      <td>More Sparkle\\nBrut IPA\\nDry and aromatic. Low bitterness.\\n-----------\\nMuy seca y aromática. Poco amargor.</td>\n",
       "      <td>more sparkle brut ipa dry aromatic low bitterness muy seca aromática poco amargor</td>\n",
       "      <td>more sparkle brut ipa dry aromatic low bitterness muy seca aromática poco amargor</td>\n",
       "      <td>0.000000</td>\n",
       "    </tr>\n",
       "    <tr>\n",
       "      <th>3</th>\n",
       "      <td>Greyhound Brewers Give ’em Hops</td>\n",
       "      <td>NaN</td>\n",
       "      <td>Imperial IPA</td>\n",
       "      <td>8.0</td>\n",
       "      <td>NaN</td>\n",
       "      <td>NaN</td>\n",
       "      <td>Give ’em Hops\\nDoble NEIPA</td>\n",
       "      <td>Give ’em Hops\\nDoble NEIPA</td>\n",
       "      <td>give em hops doble neipa</td>\n",
       "      <td>give em hops doble neipa</td>\n",
       "      <td>0.343555</td>\n",
       "    </tr>\n",
       "    <tr>\n",
       "      <th>4</th>\n",
       "      <td>Greyhound Brewers Slave of New Hops</td>\n",
       "      <td>NaN</td>\n",
       "      <td>American IPA</td>\n",
       "      <td>6.7</td>\n",
       "      <td>50.0</td>\n",
       "      <td>3.76</td>\n",
       "      <td>Slave of New Hops\\nIPA</td>\n",
       "      <td>Slave of New Hops\\nIPA</td>\n",
       "      <td>slave new hops ipa</td>\n",
       "      <td>slave new hops ipa</td>\n",
       "      <td>0.000000</td>\n",
       "    </tr>\n",
       "  </tbody>\n",
       "</table>\n",
       "</div>"
      ],
      "text/plain": [
       "                                  Name Brewery            Style  ABV   IBU  \\\n",
       "0                   BlackLab Sour Lady     NaN  Berliner Weisse  5.0   NaN   \n",
       "1             Blacklab Claudia Passion     NaN     American IPA  NaN   NaN   \n",
       "2                BlackLab More Sparkle     NaN         Brut IPA  7.0   NaN   \n",
       "3      Greyhound Brewers Give ’em Hops     NaN     Imperial IPA  8.0   NaN   \n",
       "4  Greyhound Brewers Slave of New Hops     NaN     American IPA  6.7  50.0   \n",
       "\n",
       "   Rating  \\\n",
       "0     NaN   \n",
       "1     NaN   \n",
       "2     NaN   \n",
       "3     NaN   \n",
       "4    3.76   \n",
       "\n",
       "                                                                                                             Description  \\\n",
       "0  Sour Lady\\nBerliner Weisse with fruit\\nUna cerveza ácida con frambuesas.\\n---------------\\nSour beer with raspberries   \n",
       "1        Claudia Passion\\nFruit IPA\\nNuestra mejor cerveza con Maracuyá\\n--------------\\nOur best IPA with passion fruit   \n",
       "2            More Sparkle\\nBrut IPA\\nDry and aromatic. Low bitterness.\\n-----------\\nMuy seca y aromática. Poco amargor.   \n",
       "3                                                                                             Give ’em Hops\\nDoble NEIPA   \n",
       "4                                                                                                 Slave of New Hops\\nIPA   \n",
       "\n",
       "                                                                                                        Description_full  \\\n",
       "0  Sour Lady\\nBerliner Weisse with fruit\\nUna cerveza ácida con frambuesas.\\n---------------\\nSour beer with raspberries   \n",
       "1        Claudia Passion\\nFruit IPA\\nNuestra mejor cerveza con Maracuyá\\n--------------\\nOur best IPA with passion fruit   \n",
       "2            More Sparkle\\nBrut IPA\\nDry and aromatic. Low bitterness.\\n-----------\\nMuy seca y aromática. Poco amargor.   \n",
       "3                                                                                             Give ’em Hops\\nDoble NEIPA   \n",
       "4                                                                                                 Slave of New Hops\\nIPA   \n",
       "\n",
       "                                                                         Description_2  \\\n",
       "0   sour lady berliner weisse fruit una cerveza ácida frambuesas sour beer raspberries   \n",
       "1  claudia passion fruit ipa nuestra mejor cerveza maracuyá our best ipa passion fruit   \n",
       "2   more sparkle brut ipa dry aromatic low bitterness muy seca aromática poco amargor    \n",
       "3                                                             give em hops doble neipa   \n",
       "4                                                                   slave new hops ipa   \n",
       "\n",
       "                                                                       Description_3  \\\n",
       "0                  sour lady berliner weisse fruit ácida frambuesas beer raspberries   \n",
       "1                          claudia passion fruit ipa nuestra mejor maracuyá our best   \n",
       "2  more sparkle brut ipa dry aromatic low bitterness muy seca aromática poco amargor   \n",
       "3                                                           give em hops doble neipa   \n",
       "4                                                                 slave new hops ipa   \n",
       "\n",
       "       sims  \n",
       "0  0.000000  \n",
       "1  0.000000  \n",
       "2  0.000000  \n",
       "3  0.343555  \n",
       "4  0.000000  "
      ]
     },
     "execution_count": 469,
     "metadata": {},
     "output_type": "execute_result"
    }
   ],
   "source": [
    "df.head()"
   ]
  },
  {
   "cell_type": "code",
   "execution_count": 318,
   "metadata": {
    "ExecuteTime": {
     "end_time": "2020-02-07T13:05:19.551898Z",
     "start_time": "2020-02-07T13:05:19.377301Z"
    }
   },
   "outputs": [],
   "source": [
    "df.to_csv(\"Beer_dataset_v2.csv\", sep='|')"
   ]
  },
  {
   "cell_type": "markdown",
   "metadata": {
    "heading_collapsed": true
   },
   "source": [
    "# Translator"
   ]
  },
  {
   "cell_type": "code",
   "execution_count": 34,
   "metadata": {
    "ExecuteTime": {
     "end_time": "2020-02-07T09:15:01.998645Z",
     "start_time": "2020-02-07T09:15:01.990728Z"
    },
    "hidden": true
   },
   "outputs": [],
   "source": [
    "translator = Translator()"
   ]
  },
  {
   "cell_type": "code",
   "execution_count": 111,
   "metadata": {
    "ExecuteTime": {
     "end_time": "2020-02-07T11:32:06.332842Z",
     "start_time": "2020-02-07T11:32:05.644593Z"
    },
    "hidden": true
   },
   "outputs": [
    {
     "ename": "JSONDecodeError",
     "evalue": "Expecting value: line 1 column 1 (char 0)",
     "output_type": "error",
     "traceback": [
      "\u001b[0;31m---------------------------------------------------------------------------\u001b[0m",
      "\u001b[0;31mJSONDecodeError\u001b[0m                           Traceback (most recent call last)",
      "\u001b[0;32m<ipython-input-111-0ff4576efeb3>\u001b[0m in \u001b[0;36m<module>\u001b[0;34m\u001b[0m\n\u001b[0;32m----> 1\u001b[0;31m \u001b[0mdf\u001b[0m\u001b[0;34m[\u001b[0m\u001b[0;34m\"Description_Spanish\"\u001b[0m\u001b[0;34m]\u001b[0m \u001b[0;34m=\u001b[0m \u001b[0mdf\u001b[0m\u001b[0;34m[\u001b[0m\u001b[0;34m\"Description_2_clean\"\u001b[0m\u001b[0;34m]\u001b[0m\u001b[0;34m.\u001b[0m\u001b[0mmap\u001b[0m\u001b[0;34m(\u001b[0m\u001b[0;32mlambda\u001b[0m \u001b[0mx\u001b[0m\u001b[0;34m:\u001b[0m \u001b[0mtranslator\u001b[0m\u001b[0;34m.\u001b[0m\u001b[0mtranslate\u001b[0m\u001b[0;34m(\u001b[0m\u001b[0mx\u001b[0m\u001b[0;34m,\u001b[0m \u001b[0msrc\u001b[0m\u001b[0;34m=\u001b[0m\u001b[0;34m\"en\"\u001b[0m\u001b[0;34m,\u001b[0m \u001b[0mdest\u001b[0m\u001b[0;34m=\u001b[0m\u001b[0;34m\"es\"\u001b[0m\u001b[0;34m)\u001b[0m\u001b[0;34m.\u001b[0m\u001b[0mtext\u001b[0m \u001b[0;32mif\u001b[0m \u001b[0mlen\u001b[0m\u001b[0;34m(\u001b[0m\u001b[0mx\u001b[0m\u001b[0;34m)\u001b[0m\u001b[0;34m>\u001b[0m\u001b[0;36m1\u001b[0m \u001b[0;32melse\u001b[0m \u001b[0mx\u001b[0m\u001b[0;34m)\u001b[0m\u001b[0;34m\u001b[0m\u001b[0;34m\u001b[0m\u001b[0m\n\u001b[0m",
      "\u001b[0;32m~/anaconda3/lib/python3.6/site-packages/pandas/core/series.py\u001b[0m in \u001b[0;36mmap\u001b[0;34m(self, arg, na_action)\u001b[0m\n\u001b[1;32m   3380\u001b[0m         \"\"\"\n\u001b[1;32m   3381\u001b[0m         new_values = super(Series, self)._map_values(\n\u001b[0;32m-> 3382\u001b[0;31m             arg, na_action=na_action)\n\u001b[0m\u001b[1;32m   3383\u001b[0m         return self._constructor(new_values,\n\u001b[1;32m   3384\u001b[0m                                  index=self.index).__finalize__(self)\n",
      "\u001b[0;32m~/anaconda3/lib/python3.6/site-packages/pandas/core/base.py\u001b[0m in \u001b[0;36m_map_values\u001b[0;34m(self, mapper, na_action)\u001b[0m\n\u001b[1;32m   1216\u001b[0m \u001b[0;34m\u001b[0m\u001b[0m\n\u001b[1;32m   1217\u001b[0m         \u001b[0;31m# mapper is a function\u001b[0m\u001b[0;34m\u001b[0m\u001b[0;34m\u001b[0m\u001b[0;34m\u001b[0m\u001b[0m\n\u001b[0;32m-> 1218\u001b[0;31m         \u001b[0mnew_values\u001b[0m \u001b[0;34m=\u001b[0m \u001b[0mmap_f\u001b[0m\u001b[0;34m(\u001b[0m\u001b[0mvalues\u001b[0m\u001b[0;34m,\u001b[0m \u001b[0mmapper\u001b[0m\u001b[0;34m)\u001b[0m\u001b[0;34m\u001b[0m\u001b[0;34m\u001b[0m\u001b[0m\n\u001b[0m\u001b[1;32m   1219\u001b[0m \u001b[0;34m\u001b[0m\u001b[0m\n\u001b[1;32m   1220\u001b[0m         \u001b[0;32mreturn\u001b[0m \u001b[0mnew_values\u001b[0m\u001b[0;34m\u001b[0m\u001b[0;34m\u001b[0m\u001b[0m\n",
      "\u001b[0;32mpandas/_libs/lib.pyx\u001b[0m in \u001b[0;36mpandas._libs.lib.map_infer\u001b[0;34m()\u001b[0m\n",
      "\u001b[0;32m<ipython-input-111-0ff4576efeb3>\u001b[0m in \u001b[0;36m<lambda>\u001b[0;34m(x)\u001b[0m\n\u001b[0;32m----> 1\u001b[0;31m \u001b[0mdf\u001b[0m\u001b[0;34m[\u001b[0m\u001b[0;34m\"Description_Spanish\"\u001b[0m\u001b[0;34m]\u001b[0m \u001b[0;34m=\u001b[0m \u001b[0mdf\u001b[0m\u001b[0;34m[\u001b[0m\u001b[0;34m\"Description_2_clean\"\u001b[0m\u001b[0;34m]\u001b[0m\u001b[0;34m.\u001b[0m\u001b[0mmap\u001b[0m\u001b[0;34m(\u001b[0m\u001b[0;32mlambda\u001b[0m \u001b[0mx\u001b[0m\u001b[0;34m:\u001b[0m \u001b[0mtranslator\u001b[0m\u001b[0;34m.\u001b[0m\u001b[0mtranslate\u001b[0m\u001b[0;34m(\u001b[0m\u001b[0mx\u001b[0m\u001b[0;34m,\u001b[0m \u001b[0msrc\u001b[0m\u001b[0;34m=\u001b[0m\u001b[0;34m\"en\"\u001b[0m\u001b[0;34m,\u001b[0m \u001b[0mdest\u001b[0m\u001b[0;34m=\u001b[0m\u001b[0;34m\"es\"\u001b[0m\u001b[0;34m)\u001b[0m\u001b[0;34m.\u001b[0m\u001b[0mtext\u001b[0m \u001b[0;32mif\u001b[0m \u001b[0mlen\u001b[0m\u001b[0;34m(\u001b[0m\u001b[0mx\u001b[0m\u001b[0;34m)\u001b[0m\u001b[0;34m>\u001b[0m\u001b[0;36m1\u001b[0m \u001b[0;32melse\u001b[0m \u001b[0mx\u001b[0m\u001b[0;34m)\u001b[0m\u001b[0;34m\u001b[0m\u001b[0;34m\u001b[0m\u001b[0m\n\u001b[0m",
      "\u001b[0;32m~/anaconda3/lib/python3.6/site-packages/googletrans/client.py\u001b[0m in \u001b[0;36mtranslate\u001b[0;34m(self, text, dest, src)\u001b[0m\n\u001b[1;32m    170\u001b[0m \u001b[0;34m\u001b[0m\u001b[0m\n\u001b[1;32m    171\u001b[0m         \u001b[0morigin\u001b[0m \u001b[0;34m=\u001b[0m \u001b[0mtext\u001b[0m\u001b[0;34m\u001b[0m\u001b[0;34m\u001b[0m\u001b[0m\n\u001b[0;32m--> 172\u001b[0;31m         \u001b[0mdata\u001b[0m \u001b[0;34m=\u001b[0m \u001b[0mself\u001b[0m\u001b[0;34m.\u001b[0m\u001b[0m_translate\u001b[0m\u001b[0;34m(\u001b[0m\u001b[0mtext\u001b[0m\u001b[0;34m,\u001b[0m \u001b[0mdest\u001b[0m\u001b[0;34m,\u001b[0m \u001b[0msrc\u001b[0m\u001b[0;34m)\u001b[0m\u001b[0;34m\u001b[0m\u001b[0;34m\u001b[0m\u001b[0m\n\u001b[0m\u001b[1;32m    173\u001b[0m \u001b[0;34m\u001b[0m\u001b[0m\n\u001b[1;32m    174\u001b[0m         \u001b[0;31m# this code will be updated when the format is changed.\u001b[0m\u001b[0;34m\u001b[0m\u001b[0;34m\u001b[0m\u001b[0;34m\u001b[0m\u001b[0m\n",
      "\u001b[0;32m~/anaconda3/lib/python3.6/site-packages/googletrans/client.py\u001b[0m in \u001b[0;36m_translate\u001b[0;34m(self, text, dest, src)\u001b[0m\n\u001b[1;32m     79\u001b[0m         \u001b[0mr\u001b[0m \u001b[0;34m=\u001b[0m \u001b[0mself\u001b[0m\u001b[0;34m.\u001b[0m\u001b[0msession\u001b[0m\u001b[0;34m.\u001b[0m\u001b[0mget\u001b[0m\u001b[0;34m(\u001b[0m\u001b[0murl\u001b[0m\u001b[0;34m,\u001b[0m \u001b[0mparams\u001b[0m\u001b[0;34m=\u001b[0m\u001b[0mparams\u001b[0m\u001b[0;34m)\u001b[0m\u001b[0;34m\u001b[0m\u001b[0;34m\u001b[0m\u001b[0m\n\u001b[1;32m     80\u001b[0m \u001b[0;34m\u001b[0m\u001b[0m\n\u001b[0;32m---> 81\u001b[0;31m         \u001b[0mdata\u001b[0m \u001b[0;34m=\u001b[0m \u001b[0mutils\u001b[0m\u001b[0;34m.\u001b[0m\u001b[0mformat_json\u001b[0m\u001b[0;34m(\u001b[0m\u001b[0mr\u001b[0m\u001b[0;34m.\u001b[0m\u001b[0mtext\u001b[0m\u001b[0;34m)\u001b[0m\u001b[0;34m\u001b[0m\u001b[0;34m\u001b[0m\u001b[0m\n\u001b[0m\u001b[1;32m     82\u001b[0m         \u001b[0;32mreturn\u001b[0m \u001b[0mdata\u001b[0m\u001b[0;34m\u001b[0m\u001b[0;34m\u001b[0m\u001b[0m\n\u001b[1;32m     83\u001b[0m \u001b[0;34m\u001b[0m\u001b[0m\n",
      "\u001b[0;32m~/anaconda3/lib/python3.6/site-packages/googletrans/utils.py\u001b[0m in \u001b[0;36mformat_json\u001b[0;34m(original)\u001b[0m\n\u001b[1;32m     60\u001b[0m         \u001b[0mconverted\u001b[0m \u001b[0;34m=\u001b[0m \u001b[0mjson\u001b[0m\u001b[0;34m.\u001b[0m\u001b[0mloads\u001b[0m\u001b[0;34m(\u001b[0m\u001b[0moriginal\u001b[0m\u001b[0;34m)\u001b[0m\u001b[0;34m\u001b[0m\u001b[0;34m\u001b[0m\u001b[0m\n\u001b[1;32m     61\u001b[0m     \u001b[0;32mexcept\u001b[0m \u001b[0mValueError\u001b[0m\u001b[0;34m:\u001b[0m\u001b[0;34m\u001b[0m\u001b[0;34m\u001b[0m\u001b[0m\n\u001b[0;32m---> 62\u001b[0;31m         \u001b[0mconverted\u001b[0m \u001b[0;34m=\u001b[0m \u001b[0mlegacy_format_json\u001b[0m\u001b[0;34m(\u001b[0m\u001b[0moriginal\u001b[0m\u001b[0;34m)\u001b[0m\u001b[0;34m\u001b[0m\u001b[0;34m\u001b[0m\u001b[0m\n\u001b[0m\u001b[1;32m     63\u001b[0m \u001b[0;34m\u001b[0m\u001b[0m\n\u001b[1;32m     64\u001b[0m     \u001b[0;32mreturn\u001b[0m \u001b[0mconverted\u001b[0m\u001b[0;34m\u001b[0m\u001b[0;34m\u001b[0m\u001b[0m\n",
      "\u001b[0;32m~/anaconda3/lib/python3.6/site-packages/googletrans/utils.py\u001b[0m in \u001b[0;36mlegacy_format_json\u001b[0;34m(original)\u001b[0m\n\u001b[1;32m     52\u001b[0m             \u001b[0mtext\u001b[0m \u001b[0;34m=\u001b[0m \u001b[0mtext\u001b[0m\u001b[0;34m[\u001b[0m\u001b[0;34m:\u001b[0m\u001b[0mp\u001b[0m\u001b[0;34m]\u001b[0m \u001b[0;34m+\u001b[0m \u001b[0mstates\u001b[0m\u001b[0;34m[\u001b[0m\u001b[0mj\u001b[0m\u001b[0;34m]\u001b[0m\u001b[0;34m[\u001b[0m\u001b[0;36m1\u001b[0m\u001b[0;34m]\u001b[0m \u001b[0;34m+\u001b[0m \u001b[0mtext\u001b[0m\u001b[0;34m[\u001b[0m\u001b[0mnxt\u001b[0m\u001b[0;34m:\u001b[0m\u001b[0;34m]\u001b[0m\u001b[0;34m\u001b[0m\u001b[0;34m\u001b[0m\u001b[0m\n\u001b[1;32m     53\u001b[0m \u001b[0;34m\u001b[0m\u001b[0m\n\u001b[0;32m---> 54\u001b[0;31m     \u001b[0mconverted\u001b[0m \u001b[0;34m=\u001b[0m \u001b[0mjson\u001b[0m\u001b[0;34m.\u001b[0m\u001b[0mloads\u001b[0m\u001b[0;34m(\u001b[0m\u001b[0mtext\u001b[0m\u001b[0;34m)\u001b[0m\u001b[0;34m\u001b[0m\u001b[0;34m\u001b[0m\u001b[0m\n\u001b[0m\u001b[1;32m     55\u001b[0m     \u001b[0;32mreturn\u001b[0m \u001b[0mconverted\u001b[0m\u001b[0;34m\u001b[0m\u001b[0;34m\u001b[0m\u001b[0m\n\u001b[1;32m     56\u001b[0m \u001b[0;34m\u001b[0m\u001b[0m\n",
      "\u001b[0;32m~/anaconda3/lib/python3.6/json/__init__.py\u001b[0m in \u001b[0;36mloads\u001b[0;34m(s, encoding, cls, object_hook, parse_float, parse_int, parse_constant, object_pairs_hook, **kw)\u001b[0m\n\u001b[1;32m    352\u001b[0m             \u001b[0mparse_int\u001b[0m \u001b[0;32mis\u001b[0m \u001b[0;32mNone\u001b[0m \u001b[0;32mand\u001b[0m \u001b[0mparse_float\u001b[0m \u001b[0;32mis\u001b[0m \u001b[0;32mNone\u001b[0m \u001b[0;32mand\u001b[0m\u001b[0;34m\u001b[0m\u001b[0;34m\u001b[0m\u001b[0m\n\u001b[1;32m    353\u001b[0m             parse_constant is None and object_pairs_hook is None and not kw):\n\u001b[0;32m--> 354\u001b[0;31m         \u001b[0;32mreturn\u001b[0m \u001b[0m_default_decoder\u001b[0m\u001b[0;34m.\u001b[0m\u001b[0mdecode\u001b[0m\u001b[0;34m(\u001b[0m\u001b[0ms\u001b[0m\u001b[0;34m)\u001b[0m\u001b[0;34m\u001b[0m\u001b[0;34m\u001b[0m\u001b[0m\n\u001b[0m\u001b[1;32m    355\u001b[0m     \u001b[0;32mif\u001b[0m \u001b[0mcls\u001b[0m \u001b[0;32mis\u001b[0m \u001b[0;32mNone\u001b[0m\u001b[0;34m:\u001b[0m\u001b[0;34m\u001b[0m\u001b[0;34m\u001b[0m\u001b[0m\n\u001b[1;32m    356\u001b[0m         \u001b[0mcls\u001b[0m \u001b[0;34m=\u001b[0m \u001b[0mJSONDecoder\u001b[0m\u001b[0;34m\u001b[0m\u001b[0;34m\u001b[0m\u001b[0m\n",
      "\u001b[0;32m~/anaconda3/lib/python3.6/json/decoder.py\u001b[0m in \u001b[0;36mdecode\u001b[0;34m(self, s, _w)\u001b[0m\n\u001b[1;32m    337\u001b[0m \u001b[0;34m\u001b[0m\u001b[0m\n\u001b[1;32m    338\u001b[0m         \"\"\"\n\u001b[0;32m--> 339\u001b[0;31m         \u001b[0mobj\u001b[0m\u001b[0;34m,\u001b[0m \u001b[0mend\u001b[0m \u001b[0;34m=\u001b[0m \u001b[0mself\u001b[0m\u001b[0;34m.\u001b[0m\u001b[0mraw_decode\u001b[0m\u001b[0;34m(\u001b[0m\u001b[0ms\u001b[0m\u001b[0;34m,\u001b[0m \u001b[0midx\u001b[0m\u001b[0;34m=\u001b[0m\u001b[0m_w\u001b[0m\u001b[0;34m(\u001b[0m\u001b[0ms\u001b[0m\u001b[0;34m,\u001b[0m \u001b[0;36m0\u001b[0m\u001b[0;34m)\u001b[0m\u001b[0;34m.\u001b[0m\u001b[0mend\u001b[0m\u001b[0;34m(\u001b[0m\u001b[0;34m)\u001b[0m\u001b[0;34m)\u001b[0m\u001b[0;34m\u001b[0m\u001b[0;34m\u001b[0m\u001b[0m\n\u001b[0m\u001b[1;32m    340\u001b[0m         \u001b[0mend\u001b[0m \u001b[0;34m=\u001b[0m \u001b[0m_w\u001b[0m\u001b[0;34m(\u001b[0m\u001b[0ms\u001b[0m\u001b[0;34m,\u001b[0m \u001b[0mend\u001b[0m\u001b[0;34m)\u001b[0m\u001b[0;34m.\u001b[0m\u001b[0mend\u001b[0m\u001b[0;34m(\u001b[0m\u001b[0;34m)\u001b[0m\u001b[0;34m\u001b[0m\u001b[0;34m\u001b[0m\u001b[0m\n\u001b[1;32m    341\u001b[0m         \u001b[0;32mif\u001b[0m \u001b[0mend\u001b[0m \u001b[0;34m!=\u001b[0m \u001b[0mlen\u001b[0m\u001b[0;34m(\u001b[0m\u001b[0ms\u001b[0m\u001b[0;34m)\u001b[0m\u001b[0;34m:\u001b[0m\u001b[0;34m\u001b[0m\u001b[0;34m\u001b[0m\u001b[0m\n",
      "\u001b[0;32m~/anaconda3/lib/python3.6/json/decoder.py\u001b[0m in \u001b[0;36mraw_decode\u001b[0;34m(self, s, idx)\u001b[0m\n\u001b[1;32m    355\u001b[0m             \u001b[0mobj\u001b[0m\u001b[0;34m,\u001b[0m \u001b[0mend\u001b[0m \u001b[0;34m=\u001b[0m \u001b[0mself\u001b[0m\u001b[0;34m.\u001b[0m\u001b[0mscan_once\u001b[0m\u001b[0;34m(\u001b[0m\u001b[0ms\u001b[0m\u001b[0;34m,\u001b[0m \u001b[0midx\u001b[0m\u001b[0;34m)\u001b[0m\u001b[0;34m\u001b[0m\u001b[0;34m\u001b[0m\u001b[0m\n\u001b[1;32m    356\u001b[0m         \u001b[0;32mexcept\u001b[0m \u001b[0mStopIteration\u001b[0m \u001b[0;32mas\u001b[0m \u001b[0merr\u001b[0m\u001b[0;34m:\u001b[0m\u001b[0;34m\u001b[0m\u001b[0;34m\u001b[0m\u001b[0m\n\u001b[0;32m--> 357\u001b[0;31m             \u001b[0;32mraise\u001b[0m \u001b[0mJSONDecodeError\u001b[0m\u001b[0;34m(\u001b[0m\u001b[0;34m\"Expecting value\"\u001b[0m\u001b[0;34m,\u001b[0m \u001b[0ms\u001b[0m\u001b[0;34m,\u001b[0m \u001b[0merr\u001b[0m\u001b[0;34m.\u001b[0m\u001b[0mvalue\u001b[0m\u001b[0;34m)\u001b[0m \u001b[0;32mfrom\u001b[0m \u001b[0;32mNone\u001b[0m\u001b[0;34m\u001b[0m\u001b[0;34m\u001b[0m\u001b[0m\n\u001b[0m\u001b[1;32m    358\u001b[0m         \u001b[0;32mreturn\u001b[0m \u001b[0mobj\u001b[0m\u001b[0;34m,\u001b[0m \u001b[0mend\u001b[0m\u001b[0;34m\u001b[0m\u001b[0;34m\u001b[0m\u001b[0m\n",
      "\u001b[0;31mJSONDecodeError\u001b[0m: Expecting value: line 1 column 1 (char 0)"
     ]
    }
   ],
   "source": [
    "df[\"Description_Spanish\"] = df[\"Description_2_clean\"].map(lambda x: translator.translate(x, src=\"en\", dest=\"es\").text if len(x)>1 else x)"
   ]
  },
  {
   "cell_type": "code",
   "execution_count": 43,
   "metadata": {
    "ExecuteTime": {
     "end_time": "2020-02-07T09:31:57.112626Z",
     "start_time": "2020-02-07T09:31:57.108041Z"
    },
    "hidden": true
   },
   "outputs": [],
   "source": [
    "df_test = df.iloc[0:1000]"
   ]
  },
  {
   "cell_type": "code",
   "execution_count": 54,
   "metadata": {
    "ExecuteTime": {
     "end_time": "2020-02-07T09:42:25.350091Z",
     "start_time": "2020-02-07T09:42:25.319776Z"
    },
    "hidden": true
   },
   "outputs": [
    {
     "data": {
      "text/html": [
       "<div>\n",
       "<style scoped>\n",
       "    .dataframe tbody tr th:only-of-type {\n",
       "        vertical-align: middle;\n",
       "    }\n",
       "\n",
       "    .dataframe tbody tr th {\n",
       "        vertical-align: top;\n",
       "    }\n",
       "\n",
       "    .dataframe thead th {\n",
       "        text-align: right;\n",
       "    }\n",
       "</style>\n",
       "<table border=\"1\" class=\"dataframe\">\n",
       "  <thead>\n",
       "    <tr style=\"text-align: right;\">\n",
       "      <th></th>\n",
       "      <th>Name</th>\n",
       "      <th>Brewery</th>\n",
       "      <th>Style</th>\n",
       "      <th>ABV</th>\n",
       "      <th>IBU</th>\n",
       "      <th>Rating</th>\n",
       "      <th>Description</th>\n",
       "      <th>Description_2</th>\n",
       "      <th>stemmed</th>\n",
       "    </tr>\n",
       "  </thead>\n",
       "  <tbody>\n",
       "    <tr>\n",
       "      <th>0</th>\n",
       "      <td>Black Bitch Caravan of Bitches</td>\n",
       "      <td>La Vella Caravana</td>\n",
       "      <td>Witbier</td>\n",
       "      <td>5.2</td>\n",
       "      <td>29.0</td>\n",
       "      <td>NaN</td>\n",
       "      <td>Caravan of Bitches\\nHoppy Wheat Ale\\nEstilo tradicional elaborado con malta pilsner, trigo y avena. Este estilo se caracteriza por las adiciones de cascara de naranja amarga y semillas de cilantro.</td>\n",
       "      <td>Caravan Bitches Hoppy Wheat Ale Estilo tradicional elaborado malta pilsner, trigo avena. Este estilo caracteriza adiciones cascara naranja amarga semillas cilantro.</td>\n",
       "      <td>caravan bitch hoppi wheat ale estilo tradicion elaborado malta pilsner, trigo avena. est estilo caracteriza adicion cascara naranja amarga semilla cilantro.</td>\n",
       "    </tr>\n",
       "    <tr>\n",
       "      <th>1</th>\n",
       "      <td>BlackLab Sour Lady</td>\n",
       "      <td>NaN</td>\n",
       "      <td>Berliner Weisse</td>\n",
       "      <td>5.0</td>\n",
       "      <td>NaN</td>\n",
       "      <td>NaN</td>\n",
       "      <td>Sour Lady\\nBerliner Weisse with fruit\\nUna cerveza ácida con frambuesas.\\n---------------\\nSour beer with raspberries</td>\n",
       "      <td>Sour Lady Berliner Weisse fruit Una cerveza ácida frambuesas.  Sour beer raspberries</td>\n",
       "      <td>sour ladi berlin weiss fruit una cerveza ácida frambuesas.  sour beer raspberri</td>\n",
       "    </tr>\n",
       "    <tr>\n",
       "      <th>2</th>\n",
       "      <td>Blacklab Claudia Passion</td>\n",
       "      <td>NaN</td>\n",
       "      <td>American IPA</td>\n",
       "      <td>NaN</td>\n",
       "      <td>NaN</td>\n",
       "      <td>NaN</td>\n",
       "      <td>Claudia Passion\\nFruit IPA\\nNuestra mejor cerveza con Maracuyá\\n--------------\\nOur best IPA with passion fruit</td>\n",
       "      <td>Claudia Passion Fruit IPA Nuestra mejor cerveza Maracuyá  Our best IPA passion fruit</td>\n",
       "      <td>claudia passion fruit ipa nuestra mejor cerveza maracuyá  our best ipa passion fruit</td>\n",
       "    </tr>\n",
       "    <tr>\n",
       "      <th>3</th>\n",
       "      <td>BlackLab More Sparkle</td>\n",
       "      <td>NaN</td>\n",
       "      <td>Brut IPA</td>\n",
       "      <td>7.0</td>\n",
       "      <td>NaN</td>\n",
       "      <td>NaN</td>\n",
       "      <td>More Sparkle\\nBrut IPA\\nDry and aromatic. Low bitterness.\\n-----------\\nMuy seca y aromática. Poco amargor.</td>\n",
       "      <td>More Sparkle Brut IPA Dry aromatic. Low bitterness.  Muy seca aromática. Poco amargor.</td>\n",
       "      <td>more sparkl brut ipa dri aromatic. low bitterness.  muy seca aromática. poco amargor.</td>\n",
       "    </tr>\n",
       "    <tr>\n",
       "      <th>4</th>\n",
       "      <td>Greyhound Brewers Give ’em Hops</td>\n",
       "      <td>NaN</td>\n",
       "      <td>Imperial IPA</td>\n",
       "      <td>8.0</td>\n",
       "      <td>NaN</td>\n",
       "      <td>NaN</td>\n",
       "      <td>Give ’em Hops\\nDoble NEIPA</td>\n",
       "      <td>Give ’em Hops Doble NEIPA</td>\n",
       "      <td>give em hop dobl neipa</td>\n",
       "    </tr>\n",
       "  </tbody>\n",
       "</table>\n",
       "</div>"
      ],
      "text/plain": [
       "                              Name            Brewery            Style  ABV  \\\n",
       "0   Black Bitch Caravan of Bitches  La Vella Caravana          Witbier  5.2   \n",
       "1               BlackLab Sour Lady                NaN  Berliner Weisse  5.0   \n",
       "2         Blacklab Claudia Passion                NaN     American IPA  NaN   \n",
       "3            BlackLab More Sparkle                NaN         Brut IPA  7.0   \n",
       "4  Greyhound Brewers Give ’em Hops                NaN     Imperial IPA  8.0   \n",
       "\n",
       "    IBU  Rating  \\\n",
       "0  29.0     NaN   \n",
       "1   NaN     NaN   \n",
       "2   NaN     NaN   \n",
       "3   NaN     NaN   \n",
       "4   NaN     NaN   \n",
       "\n",
       "                                                                                                                                                                                             Description  \\\n",
       "0  Caravan of Bitches\\nHoppy Wheat Ale\\nEstilo tradicional elaborado con malta pilsner, trigo y avena. Este estilo se caracteriza por las adiciones de cascara de naranja amarga y semillas de cilantro.   \n",
       "1                                                                                  Sour Lady\\nBerliner Weisse with fruit\\nUna cerveza ácida con frambuesas.\\n---------------\\nSour beer with raspberries   \n",
       "2                                                                                        Claudia Passion\\nFruit IPA\\nNuestra mejor cerveza con Maracuyá\\n--------------\\nOur best IPA with passion fruit   \n",
       "3                                                                                            More Sparkle\\nBrut IPA\\nDry and aromatic. Low bitterness.\\n-----------\\nMuy seca y aromática. Poco amargor.   \n",
       "4                                                                                                                                                                             Give ’em Hops\\nDoble NEIPA   \n",
       "\n",
       "                                                                                                                                                          Description_2  \\\n",
       "0  Caravan Bitches Hoppy Wheat Ale Estilo tradicional elaborado malta pilsner, trigo avena. Este estilo caracteriza adiciones cascara naranja amarga semillas cilantro.   \n",
       "1                                                                                  Sour Lady Berliner Weisse fruit Una cerveza ácida frambuesas.  Sour beer raspberries   \n",
       "2                                                                                  Claudia Passion Fruit IPA Nuestra mejor cerveza Maracuyá  Our best IPA passion fruit   \n",
       "3                                                                                More Sparkle Brut IPA Dry aromatic. Low bitterness.  Muy seca aromática. Poco amargor.   \n",
       "4                                                                                                                                             Give ’em Hops Doble NEIPA   \n",
       "\n",
       "                                                                                                                                                        stemmed  \n",
       "0  caravan bitch hoppi wheat ale estilo tradicion elaborado malta pilsner, trigo avena. est estilo caracteriza adicion cascara naranja amarga semilla cilantro.  \n",
       "1                                                                               sour ladi berlin weiss fruit una cerveza ácida frambuesas.  sour beer raspberri  \n",
       "2                                                                          claudia passion fruit ipa nuestra mejor cerveza maracuyá  our best ipa passion fruit  \n",
       "3                                                                         more sparkl brut ipa dri aromatic. low bitterness.  muy seca aromática. poco amargor.  \n",
       "4                                                                                                                                        give em hop dobl neipa  "
      ]
     },
     "execution_count": 54,
     "metadata": {},
     "output_type": "execute_result"
    }
   ],
   "source": [
    "df.head()"
   ]
  },
  {
   "cell_type": "code",
   "execution_count": null,
   "metadata": {
    "ExecuteTime": {
     "end_time": "2020-02-07T08:31:05.536838Z",
     "start_time": "2020-02-07T08:31:05.324051Z"
    },
    "hidden": true
   },
   "outputs": [],
   "source": [
    "df_test[\"Description_2\"].map(lambda x: translator.translate(x, src=\"en\", dest=\"es\").text)"
   ]
  },
  {
   "cell_type": "code",
   "execution_count": 109,
   "metadata": {
    "ExecuteTime": {
     "end_time": "2020-02-07T11:30:04.836059Z",
     "start_time": "2020-02-07T11:30:04.831518Z"
    },
    "hidden": true
   },
   "outputs": [],
   "source": [
    "df_test = df.iloc[2000:3000]"
   ]
  },
  {
   "cell_type": "code",
   "execution_count": 324,
   "metadata": {
    "ExecuteTime": {
     "end_time": "2020-02-10T07:03:17.688329Z",
     "start_time": "2020-02-10T07:03:17.681284Z"
    },
    "hidden": true
   },
   "outputs": [
    {
     "data": {
      "text/plain": [
       "(7861, 10)"
      ]
     },
     "execution_count": 324,
     "metadata": {},
     "output_type": "execute_result"
    }
   ],
   "source": [
    "df.shape"
   ]
  },
  {
   "cell_type": "code",
   "execution_count": 327,
   "metadata": {
    "ExecuteTime": {
     "end_time": "2020-02-10T07:04:00.482912Z",
     "start_time": "2020-02-10T07:04:00.458205Z"
    },
    "hidden": true
   },
   "outputs": [
    {
     "data": {
      "text/html": [
       "<div>\n",
       "<style scoped>\n",
       "    .dataframe tbody tr th:only-of-type {\n",
       "        vertical-align: middle;\n",
       "    }\n",
       "\n",
       "    .dataframe tbody tr th {\n",
       "        vertical-align: top;\n",
       "    }\n",
       "\n",
       "    .dataframe thead th {\n",
       "        text-align: right;\n",
       "    }\n",
       "</style>\n",
       "<table border=\"1\" class=\"dataframe\">\n",
       "  <thead>\n",
       "    <tr style=\"text-align: right;\">\n",
       "      <th></th>\n",
       "      <th>Name</th>\n",
       "      <th>Brewery</th>\n",
       "      <th>Style</th>\n",
       "      <th>ABV</th>\n",
       "      <th>IBU</th>\n",
       "      <th>Rating</th>\n",
       "      <th>Description</th>\n",
       "      <th>Description_2</th>\n",
       "      <th>Description_3</th>\n",
       "      <th>sims</th>\n",
       "    </tr>\n",
       "  </thead>\n",
       "  <tbody>\n",
       "    <tr>\n",
       "      <th>0</th>\n",
       "      <td>Black Bitch Caravan of Bitches</td>\n",
       "      <td>La Vella Caravana</td>\n",
       "      <td>Witbier</td>\n",
       "      <td>5.2</td>\n",
       "      <td>29.0</td>\n",
       "      <td>NaN</td>\n",
       "      <td>Caravan of Bitches\\nHoppy Wheat Ale\\nEstilo tradicional elaborado con malta pilsner, trigo y avena. Este estilo se caracteriza por las adiciones de cascara de naranja amarga y semillas de cilantro.</td>\n",
       "      <td>caravan bitches hoppy wheat ale estilo tradicional elaborado malta pilsner trigo avena este estilo caracteriza adiciones cascara naranja amarga semillas cilantro</td>\n",
       "      <td>caravan bitch hoppi wheat ale estilo tradicion elaborado malta pilsner trigo avena est caracteriza adicion cascara naranja amarga semilla cilantro</td>\n",
       "      <td>0.146398</td>\n",
       "    </tr>\n",
       "    <tr>\n",
       "      <th>1</th>\n",
       "      <td>BlackLab Sour Lady</td>\n",
       "      <td>NaN</td>\n",
       "      <td>Berliner Weisse</td>\n",
       "      <td>5.0</td>\n",
       "      <td>NaN</td>\n",
       "      <td>NaN</td>\n",
       "      <td>Sour Lady\\nBerliner Weisse with fruit\\nUna cerveza ácida con frambuesas.\\n---------------\\nSour beer with raspberries</td>\n",
       "      <td>sour lady berliner weisse fruit una cerveza ácida frambuesas sour beer raspberries</td>\n",
       "      <td>sour ladi berlin weiss fruit ácida frambuesa beer raspberri</td>\n",
       "      <td>0.000000</td>\n",
       "    </tr>\n",
       "    <tr>\n",
       "      <th>2</th>\n",
       "      <td>Blacklab Claudia Passion</td>\n",
       "      <td>NaN</td>\n",
       "      <td>American IPA</td>\n",
       "      <td>NaN</td>\n",
       "      <td>NaN</td>\n",
       "      <td>NaN</td>\n",
       "      <td>Claudia Passion\\nFruit IPA\\nNuestra mejor cerveza con Maracuyá\\n--------------\\nOur best IPA with passion fruit</td>\n",
       "      <td>claudia passion fruit ipa nuestra mejor cerveza maracuyá our best ipa passion fruit</td>\n",
       "      <td>claudia passion fruit ipa nuestra mejor maracuyá our best</td>\n",
       "      <td>0.000000</td>\n",
       "    </tr>\n",
       "    <tr>\n",
       "      <th>3</th>\n",
       "      <td>BlackLab More Sparkle</td>\n",
       "      <td>NaN</td>\n",
       "      <td>Brut IPA</td>\n",
       "      <td>7.0</td>\n",
       "      <td>NaN</td>\n",
       "      <td>NaN</td>\n",
       "      <td>More Sparkle\\nBrut IPA\\nDry and aromatic. Low bitterness.\\n-----------\\nMuy seca y aromática. Poco amargor.</td>\n",
       "      <td>more sparkle brut ipa dry aromatic low bitterness muy seca aromática poco amargor</td>\n",
       "      <td>more sparkl brut ipa dri aromat low bitter muy seca aromática poco amargor</td>\n",
       "      <td>0.000000</td>\n",
       "    </tr>\n",
       "    <tr>\n",
       "      <th>4</th>\n",
       "      <td>Greyhound Brewers Give ’em Hops</td>\n",
       "      <td>NaN</td>\n",
       "      <td>Imperial IPA</td>\n",
       "      <td>8.0</td>\n",
       "      <td>NaN</td>\n",
       "      <td>NaN</td>\n",
       "      <td>Give ’em Hops\\nDoble NEIPA</td>\n",
       "      <td>give em hops doble neipa</td>\n",
       "      <td>give em hop dobl neipa</td>\n",
       "      <td>0.312885</td>\n",
       "    </tr>\n",
       "  </tbody>\n",
       "</table>\n",
       "</div>"
      ],
      "text/plain": [
       "                              Name            Brewery            Style  ABV  \\\n",
       "0   Black Bitch Caravan of Bitches  La Vella Caravana          Witbier  5.2   \n",
       "1               BlackLab Sour Lady                NaN  Berliner Weisse  5.0   \n",
       "2         Blacklab Claudia Passion                NaN     American IPA  NaN   \n",
       "3            BlackLab More Sparkle                NaN         Brut IPA  7.0   \n",
       "4  Greyhound Brewers Give ’em Hops                NaN     Imperial IPA  8.0   \n",
       "\n",
       "    IBU  Rating  \\\n",
       "0  29.0     NaN   \n",
       "1   NaN     NaN   \n",
       "2   NaN     NaN   \n",
       "3   NaN     NaN   \n",
       "4   NaN     NaN   \n",
       "\n",
       "                                                                                                                                                                                             Description  \\\n",
       "0  Caravan of Bitches\\nHoppy Wheat Ale\\nEstilo tradicional elaborado con malta pilsner, trigo y avena. Este estilo se caracteriza por las adiciones de cascara de naranja amarga y semillas de cilantro.   \n",
       "1                                                                                  Sour Lady\\nBerliner Weisse with fruit\\nUna cerveza ácida con frambuesas.\\n---------------\\nSour beer with raspberries   \n",
       "2                                                                                        Claudia Passion\\nFruit IPA\\nNuestra mejor cerveza con Maracuyá\\n--------------\\nOur best IPA with passion fruit   \n",
       "3                                                                                            More Sparkle\\nBrut IPA\\nDry and aromatic. Low bitterness.\\n-----------\\nMuy seca y aromática. Poco amargor.   \n",
       "4                                                                                                                                                                             Give ’em Hops\\nDoble NEIPA   \n",
       "\n",
       "                                                                                                                                                        Description_2  \\\n",
       "0  caravan bitches hoppy wheat ale estilo tradicional elaborado malta pilsner trigo avena este estilo caracteriza adiciones cascara naranja amarga semillas cilantro    \n",
       "1                                                                                  sour lady berliner weisse fruit una cerveza ácida frambuesas sour beer raspberries   \n",
       "2                                                                                 claudia passion fruit ipa nuestra mejor cerveza maracuyá our best ipa passion fruit   \n",
       "3                                                                                  more sparkle brut ipa dry aromatic low bitterness muy seca aromática poco amargor    \n",
       "4                                                                                                                                            give em hops doble neipa   \n",
       "\n",
       "                                                                                                                                        Description_3  \\\n",
       "0  caravan bitch hoppi wheat ale estilo tradicion elaborado malta pilsner trigo avena est caracteriza adicion cascara naranja amarga semilla cilantro   \n",
       "1                                                                                         sour ladi berlin weiss fruit ácida frambuesa beer raspberri   \n",
       "2                                                                                           claudia passion fruit ipa nuestra mejor maracuyá our best   \n",
       "3                                                                          more sparkl brut ipa dri aromat low bitter muy seca aromática poco amargor   \n",
       "4                                                                                                                              give em hop dobl neipa   \n",
       "\n",
       "       sims  \n",
       "0  0.146398  \n",
       "1  0.000000  \n",
       "2  0.000000  \n",
       "3  0.000000  \n",
       "4  0.312885  "
      ]
     },
     "execution_count": 327,
     "metadata": {},
     "output_type": "execute_result"
    }
   ],
   "source": [
    "df.head()"
   ]
  },
  {
   "cell_type": "code",
   "execution_count": 343,
   "metadata": {
    "ExecuteTime": {
     "end_time": "2020-02-10T07:14:07.127167Z",
     "start_time": "2020-02-10T07:14:06.494926Z"
    },
    "hidden": true
   },
   "outputs": [
    {
     "data": {
      "application/vnd.jupyter.widget-view+json": {
       "model_id": "d557d7828df141688a8dd250d0c9d7b4",
       "version_major": 2,
       "version_minor": 0
      },
      "text/plain": [
       "HBox(children=(IntProgress(value=0, max=7861), HTML(value='')))"
      ]
     },
     "metadata": {},
     "output_type": "display_data"
    },
    {
     "ename": "JSONDecodeError",
     "evalue": "Expecting value: line 1 column 1 (char 0)",
     "output_type": "error",
     "traceback": [
      "\u001b[0;31m---------------------------------------------------------------------------\u001b[0m",
      "\u001b[0;31mJSONDecodeError\u001b[0m                           Traceback (most recent call last)",
      "\u001b[0;32m<ipython-input-343-b0debb3023ad>\u001b[0m in \u001b[0;36m<module>\u001b[0;34m\u001b[0m\n\u001b[1;32m     10\u001b[0m         \u001b[0mtranslator\u001b[0m \u001b[0;34m=\u001b[0m \u001b[0mTranslator\u001b[0m\u001b[0;34m(\u001b[0m\u001b[0;34m)\u001b[0m\u001b[0;34m\u001b[0m\u001b[0;34m\u001b[0m\u001b[0m\n\u001b[1;32m     11\u001b[0m     \u001b[0;32mif\u001b[0m \u001b[0mlen\u001b[0m\u001b[0;34m(\u001b[0m\u001b[0mdf\u001b[0m\u001b[0;34m[\u001b[0m\u001b[0;34m\"Description_2\"\u001b[0m\u001b[0;34m]\u001b[0m\u001b[0;34m.\u001b[0m\u001b[0miloc\u001b[0m\u001b[0;34m[\u001b[0m\u001b[0mi\u001b[0m\u001b[0;34m]\u001b[0m\u001b[0;34m)\u001b[0m\u001b[0;34m>\u001b[0m\u001b[0;36m1\u001b[0m\u001b[0;34m:\u001b[0m\u001b[0;34m\u001b[0m\u001b[0;34m\u001b[0m\u001b[0m\n\u001b[0;32m---> 12\u001b[0;31m         \u001b[0mdf\u001b[0m\u001b[0;34m[\u001b[0m\u001b[0;34m\"Description_spanish\"\u001b[0m\u001b[0;34m]\u001b[0m\u001b[0;34m.\u001b[0m\u001b[0miloc\u001b[0m\u001b[0;34m[\u001b[0m\u001b[0mi\u001b[0m\u001b[0;34m]\u001b[0m \u001b[0;34m=\u001b[0m \u001b[0mtranslator\u001b[0m\u001b[0;34m.\u001b[0m\u001b[0mtranslate\u001b[0m\u001b[0;34m(\u001b[0m\u001b[0mdf\u001b[0m\u001b[0;34m[\u001b[0m\u001b[0;34m\"Description_2\"\u001b[0m\u001b[0;34m]\u001b[0m\u001b[0;34m.\u001b[0m\u001b[0miloc\u001b[0m\u001b[0;34m[\u001b[0m\u001b[0mi\u001b[0m\u001b[0;34m]\u001b[0m\u001b[0;34m,\u001b[0m \u001b[0msrc\u001b[0m\u001b[0;34m=\u001b[0m\u001b[0;34m\"en\"\u001b[0m\u001b[0;34m,\u001b[0m \u001b[0mdest\u001b[0m\u001b[0;34m=\u001b[0m\u001b[0;34m\"es\"\u001b[0m\u001b[0;34m)\u001b[0m\u001b[0;34m.\u001b[0m\u001b[0mtext\u001b[0m\u001b[0;34m\u001b[0m\u001b[0;34m\u001b[0m\u001b[0m\n\u001b[0m\u001b[1;32m     13\u001b[0m     \u001b[0;32melse\u001b[0m\u001b[0;34m:\u001b[0m\u001b[0;34m\u001b[0m\u001b[0;34m\u001b[0m\u001b[0m\n\u001b[1;32m     14\u001b[0m         \u001b[0mdf\u001b[0m\u001b[0;34m[\u001b[0m\u001b[0;34m\"Description_spanish\"\u001b[0m\u001b[0;34m]\u001b[0m\u001b[0;34m.\u001b[0m\u001b[0miloc\u001b[0m\u001b[0;34m[\u001b[0m\u001b[0mi\u001b[0m\u001b[0;34m]\u001b[0m \u001b[0;34m=\u001b[0m \u001b[0mdf\u001b[0m\u001b[0;34m[\u001b[0m\u001b[0;34m\"Description_2\"\u001b[0m\u001b[0;34m]\u001b[0m\u001b[0;34m.\u001b[0m\u001b[0miloc\u001b[0m\u001b[0;34m[\u001b[0m\u001b[0mi\u001b[0m\u001b[0;34m]\u001b[0m\u001b[0;34m\u001b[0m\u001b[0;34m\u001b[0m\u001b[0m\n",
      "\u001b[0;32m~/anaconda3/lib/python3.6/site-packages/googletrans/client.py\u001b[0m in \u001b[0;36mtranslate\u001b[0;34m(self, text, dest, src)\u001b[0m\n\u001b[1;32m    170\u001b[0m \u001b[0;34m\u001b[0m\u001b[0m\n\u001b[1;32m    171\u001b[0m         \u001b[0morigin\u001b[0m \u001b[0;34m=\u001b[0m \u001b[0mtext\u001b[0m\u001b[0;34m\u001b[0m\u001b[0;34m\u001b[0m\u001b[0m\n\u001b[0;32m--> 172\u001b[0;31m         \u001b[0mdata\u001b[0m \u001b[0;34m=\u001b[0m \u001b[0mself\u001b[0m\u001b[0;34m.\u001b[0m\u001b[0m_translate\u001b[0m\u001b[0;34m(\u001b[0m\u001b[0mtext\u001b[0m\u001b[0;34m,\u001b[0m \u001b[0mdest\u001b[0m\u001b[0;34m,\u001b[0m \u001b[0msrc\u001b[0m\u001b[0;34m)\u001b[0m\u001b[0;34m\u001b[0m\u001b[0;34m\u001b[0m\u001b[0m\n\u001b[0m\u001b[1;32m    173\u001b[0m \u001b[0;34m\u001b[0m\u001b[0m\n\u001b[1;32m    174\u001b[0m         \u001b[0;31m# this code will be updated when the format is changed.\u001b[0m\u001b[0;34m\u001b[0m\u001b[0;34m\u001b[0m\u001b[0;34m\u001b[0m\u001b[0m\n",
      "\u001b[0;32m~/anaconda3/lib/python3.6/site-packages/googletrans/client.py\u001b[0m in \u001b[0;36m_translate\u001b[0;34m(self, text, dest, src)\u001b[0m\n\u001b[1;32m     79\u001b[0m         \u001b[0mr\u001b[0m \u001b[0;34m=\u001b[0m \u001b[0mself\u001b[0m\u001b[0;34m.\u001b[0m\u001b[0msession\u001b[0m\u001b[0;34m.\u001b[0m\u001b[0mget\u001b[0m\u001b[0;34m(\u001b[0m\u001b[0murl\u001b[0m\u001b[0;34m,\u001b[0m \u001b[0mparams\u001b[0m\u001b[0;34m=\u001b[0m\u001b[0mparams\u001b[0m\u001b[0;34m)\u001b[0m\u001b[0;34m\u001b[0m\u001b[0;34m\u001b[0m\u001b[0m\n\u001b[1;32m     80\u001b[0m \u001b[0;34m\u001b[0m\u001b[0m\n\u001b[0;32m---> 81\u001b[0;31m         \u001b[0mdata\u001b[0m \u001b[0;34m=\u001b[0m \u001b[0mutils\u001b[0m\u001b[0;34m.\u001b[0m\u001b[0mformat_json\u001b[0m\u001b[0;34m(\u001b[0m\u001b[0mr\u001b[0m\u001b[0;34m.\u001b[0m\u001b[0mtext\u001b[0m\u001b[0;34m)\u001b[0m\u001b[0;34m\u001b[0m\u001b[0;34m\u001b[0m\u001b[0m\n\u001b[0m\u001b[1;32m     82\u001b[0m         \u001b[0;32mreturn\u001b[0m \u001b[0mdata\u001b[0m\u001b[0;34m\u001b[0m\u001b[0;34m\u001b[0m\u001b[0m\n\u001b[1;32m     83\u001b[0m \u001b[0;34m\u001b[0m\u001b[0m\n",
      "\u001b[0;32m~/anaconda3/lib/python3.6/site-packages/googletrans/utils.py\u001b[0m in \u001b[0;36mformat_json\u001b[0;34m(original)\u001b[0m\n\u001b[1;32m     60\u001b[0m         \u001b[0mconverted\u001b[0m \u001b[0;34m=\u001b[0m \u001b[0mjson\u001b[0m\u001b[0;34m.\u001b[0m\u001b[0mloads\u001b[0m\u001b[0;34m(\u001b[0m\u001b[0moriginal\u001b[0m\u001b[0;34m)\u001b[0m\u001b[0;34m\u001b[0m\u001b[0;34m\u001b[0m\u001b[0m\n\u001b[1;32m     61\u001b[0m     \u001b[0;32mexcept\u001b[0m \u001b[0mValueError\u001b[0m\u001b[0;34m:\u001b[0m\u001b[0;34m\u001b[0m\u001b[0;34m\u001b[0m\u001b[0m\n\u001b[0;32m---> 62\u001b[0;31m         \u001b[0mconverted\u001b[0m \u001b[0;34m=\u001b[0m \u001b[0mlegacy_format_json\u001b[0m\u001b[0;34m(\u001b[0m\u001b[0moriginal\u001b[0m\u001b[0;34m)\u001b[0m\u001b[0;34m\u001b[0m\u001b[0;34m\u001b[0m\u001b[0m\n\u001b[0m\u001b[1;32m     63\u001b[0m \u001b[0;34m\u001b[0m\u001b[0m\n\u001b[1;32m     64\u001b[0m     \u001b[0;32mreturn\u001b[0m \u001b[0mconverted\u001b[0m\u001b[0;34m\u001b[0m\u001b[0;34m\u001b[0m\u001b[0m\n",
      "\u001b[0;32m~/anaconda3/lib/python3.6/site-packages/googletrans/utils.py\u001b[0m in \u001b[0;36mlegacy_format_json\u001b[0;34m(original)\u001b[0m\n\u001b[1;32m     52\u001b[0m             \u001b[0mtext\u001b[0m \u001b[0;34m=\u001b[0m \u001b[0mtext\u001b[0m\u001b[0;34m[\u001b[0m\u001b[0;34m:\u001b[0m\u001b[0mp\u001b[0m\u001b[0;34m]\u001b[0m \u001b[0;34m+\u001b[0m \u001b[0mstates\u001b[0m\u001b[0;34m[\u001b[0m\u001b[0mj\u001b[0m\u001b[0;34m]\u001b[0m\u001b[0;34m[\u001b[0m\u001b[0;36m1\u001b[0m\u001b[0;34m]\u001b[0m \u001b[0;34m+\u001b[0m \u001b[0mtext\u001b[0m\u001b[0;34m[\u001b[0m\u001b[0mnxt\u001b[0m\u001b[0;34m:\u001b[0m\u001b[0;34m]\u001b[0m\u001b[0;34m\u001b[0m\u001b[0;34m\u001b[0m\u001b[0m\n\u001b[1;32m     53\u001b[0m \u001b[0;34m\u001b[0m\u001b[0m\n\u001b[0;32m---> 54\u001b[0;31m     \u001b[0mconverted\u001b[0m \u001b[0;34m=\u001b[0m \u001b[0mjson\u001b[0m\u001b[0;34m.\u001b[0m\u001b[0mloads\u001b[0m\u001b[0;34m(\u001b[0m\u001b[0mtext\u001b[0m\u001b[0;34m)\u001b[0m\u001b[0;34m\u001b[0m\u001b[0;34m\u001b[0m\u001b[0m\n\u001b[0m\u001b[1;32m     55\u001b[0m     \u001b[0;32mreturn\u001b[0m \u001b[0mconverted\u001b[0m\u001b[0;34m\u001b[0m\u001b[0;34m\u001b[0m\u001b[0m\n\u001b[1;32m     56\u001b[0m \u001b[0;34m\u001b[0m\u001b[0m\n",
      "\u001b[0;32m~/anaconda3/lib/python3.6/json/__init__.py\u001b[0m in \u001b[0;36mloads\u001b[0;34m(s, encoding, cls, object_hook, parse_float, parse_int, parse_constant, object_pairs_hook, **kw)\u001b[0m\n\u001b[1;32m    352\u001b[0m             \u001b[0mparse_int\u001b[0m \u001b[0;32mis\u001b[0m \u001b[0;32mNone\u001b[0m \u001b[0;32mand\u001b[0m \u001b[0mparse_float\u001b[0m \u001b[0;32mis\u001b[0m \u001b[0;32mNone\u001b[0m \u001b[0;32mand\u001b[0m\u001b[0;34m\u001b[0m\u001b[0;34m\u001b[0m\u001b[0m\n\u001b[1;32m    353\u001b[0m             parse_constant is None and object_pairs_hook is None and not kw):\n\u001b[0;32m--> 354\u001b[0;31m         \u001b[0;32mreturn\u001b[0m \u001b[0m_default_decoder\u001b[0m\u001b[0;34m.\u001b[0m\u001b[0mdecode\u001b[0m\u001b[0;34m(\u001b[0m\u001b[0ms\u001b[0m\u001b[0;34m)\u001b[0m\u001b[0;34m\u001b[0m\u001b[0;34m\u001b[0m\u001b[0m\n\u001b[0m\u001b[1;32m    355\u001b[0m     \u001b[0;32mif\u001b[0m \u001b[0mcls\u001b[0m \u001b[0;32mis\u001b[0m \u001b[0;32mNone\u001b[0m\u001b[0;34m:\u001b[0m\u001b[0;34m\u001b[0m\u001b[0;34m\u001b[0m\u001b[0m\n\u001b[1;32m    356\u001b[0m         \u001b[0mcls\u001b[0m \u001b[0;34m=\u001b[0m \u001b[0mJSONDecoder\u001b[0m\u001b[0;34m\u001b[0m\u001b[0;34m\u001b[0m\u001b[0m\n",
      "\u001b[0;32m~/anaconda3/lib/python3.6/json/decoder.py\u001b[0m in \u001b[0;36mdecode\u001b[0;34m(self, s, _w)\u001b[0m\n\u001b[1;32m    337\u001b[0m \u001b[0;34m\u001b[0m\u001b[0m\n\u001b[1;32m    338\u001b[0m         \"\"\"\n\u001b[0;32m--> 339\u001b[0;31m         \u001b[0mobj\u001b[0m\u001b[0;34m,\u001b[0m \u001b[0mend\u001b[0m \u001b[0;34m=\u001b[0m \u001b[0mself\u001b[0m\u001b[0;34m.\u001b[0m\u001b[0mraw_decode\u001b[0m\u001b[0;34m(\u001b[0m\u001b[0ms\u001b[0m\u001b[0;34m,\u001b[0m \u001b[0midx\u001b[0m\u001b[0;34m=\u001b[0m\u001b[0m_w\u001b[0m\u001b[0;34m(\u001b[0m\u001b[0ms\u001b[0m\u001b[0;34m,\u001b[0m \u001b[0;36m0\u001b[0m\u001b[0;34m)\u001b[0m\u001b[0;34m.\u001b[0m\u001b[0mend\u001b[0m\u001b[0;34m(\u001b[0m\u001b[0;34m)\u001b[0m\u001b[0;34m)\u001b[0m\u001b[0;34m\u001b[0m\u001b[0;34m\u001b[0m\u001b[0m\n\u001b[0m\u001b[1;32m    340\u001b[0m         \u001b[0mend\u001b[0m \u001b[0;34m=\u001b[0m \u001b[0m_w\u001b[0m\u001b[0;34m(\u001b[0m\u001b[0ms\u001b[0m\u001b[0;34m,\u001b[0m \u001b[0mend\u001b[0m\u001b[0;34m)\u001b[0m\u001b[0;34m.\u001b[0m\u001b[0mend\u001b[0m\u001b[0;34m(\u001b[0m\u001b[0;34m)\u001b[0m\u001b[0;34m\u001b[0m\u001b[0;34m\u001b[0m\u001b[0m\n\u001b[1;32m    341\u001b[0m         \u001b[0;32mif\u001b[0m \u001b[0mend\u001b[0m \u001b[0;34m!=\u001b[0m \u001b[0mlen\u001b[0m\u001b[0;34m(\u001b[0m\u001b[0ms\u001b[0m\u001b[0;34m)\u001b[0m\u001b[0;34m:\u001b[0m\u001b[0;34m\u001b[0m\u001b[0;34m\u001b[0m\u001b[0m\n",
      "\u001b[0;32m~/anaconda3/lib/python3.6/json/decoder.py\u001b[0m in \u001b[0;36mraw_decode\u001b[0;34m(self, s, idx)\u001b[0m\n\u001b[1;32m    355\u001b[0m             \u001b[0mobj\u001b[0m\u001b[0;34m,\u001b[0m \u001b[0mend\u001b[0m \u001b[0;34m=\u001b[0m \u001b[0mself\u001b[0m\u001b[0;34m.\u001b[0m\u001b[0mscan_once\u001b[0m\u001b[0;34m(\u001b[0m\u001b[0ms\u001b[0m\u001b[0;34m,\u001b[0m \u001b[0midx\u001b[0m\u001b[0;34m)\u001b[0m\u001b[0;34m\u001b[0m\u001b[0;34m\u001b[0m\u001b[0m\n\u001b[1;32m    356\u001b[0m         \u001b[0;32mexcept\u001b[0m \u001b[0mStopIteration\u001b[0m \u001b[0;32mas\u001b[0m \u001b[0merr\u001b[0m\u001b[0;34m:\u001b[0m\u001b[0;34m\u001b[0m\u001b[0;34m\u001b[0m\u001b[0m\n\u001b[0;32m--> 357\u001b[0;31m             \u001b[0;32mraise\u001b[0m \u001b[0mJSONDecodeError\u001b[0m\u001b[0;34m(\u001b[0m\u001b[0;34m\"Expecting value\"\u001b[0m\u001b[0;34m,\u001b[0m \u001b[0ms\u001b[0m\u001b[0;34m,\u001b[0m \u001b[0merr\u001b[0m\u001b[0;34m.\u001b[0m\u001b[0mvalue\u001b[0m\u001b[0;34m)\u001b[0m \u001b[0;32mfrom\u001b[0m \u001b[0;32mNone\u001b[0m\u001b[0;34m\u001b[0m\u001b[0;34m\u001b[0m\u001b[0m\n\u001b[0m\u001b[1;32m    358\u001b[0m         \u001b[0;32mreturn\u001b[0m \u001b[0mobj\u001b[0m\u001b[0;34m,\u001b[0m \u001b[0mend\u001b[0m\u001b[0;34m\u001b[0m\u001b[0;34m\u001b[0m\u001b[0m\n",
      "\u001b[0;31mJSONDecodeError\u001b[0m: Expecting value: line 1 column 1 (char 0)"
     ]
    }
   ],
   "source": [
    "translator = Translator()\n",
    "df[\"Description_spanish\"] = df[\"Description_2\"]\n",
    "\n",
    "for i in tqdm_notebook(range(len(df))):\n",
    "    n_iter = i+1\n",
    "    if n_iter % 200 == 0:\n",
    "        print('Sleeping a bit...')\n",
    "        time.sleep(5)   \n",
    "        # reinitialize the API\n",
    "        translator = Translator()            \n",
    "    if len(df[\"Description_2\"].iloc[i])>1:\n",
    "        df[\"Description_spanish\"].iloc[i] = translator.translate(df[\"Description_2\"].iloc[i], src=\"en\", dest=\"es\").text\n",
    "    else:\n",
    "        df[\"Description_spanish\"].iloc[i] = df[\"Description_2\"].iloc[i]        "
   ]
  },
  {
   "cell_type": "code",
   "execution_count": 96,
   "metadata": {
    "ExecuteTime": {
     "end_time": "2020-02-07T11:24:10.044398Z",
     "start_time": "2020-02-07T11:24:09.816132Z"
    },
    "hidden": true
   },
   "outputs": [],
   "source": [
    "df[\"Description_2_clean\"] = df['Description_2'].map(lambda x: re.sub(r'\\W+', ' ', x))\n",
    "df[\"stemmed_clean\"] = df['stemmed'].map(lambda x: re.sub(r'\\W+', ' ', x))"
   ]
  },
  {
   "cell_type": "code",
   "execution_count": 396,
   "metadata": {
    "ExecuteTime": {
     "end_time": "2020-02-10T07:56:17.704976Z",
     "start_time": "2020-02-10T07:56:17.647042Z"
    },
    "hidden": true
   },
   "outputs": [
    {
     "data": {
      "text/html": [
       "<div>\n",
       "<style scoped>\n",
       "    .dataframe tbody tr th:only-of-type {\n",
       "        vertical-align: middle;\n",
       "    }\n",
       "\n",
       "    .dataframe tbody tr th {\n",
       "        vertical-align: top;\n",
       "    }\n",
       "\n",
       "    .dataframe thead th {\n",
       "        text-align: right;\n",
       "    }\n",
       "</style>\n",
       "<table border=\"1\" class=\"dataframe\">\n",
       "  <thead>\n",
       "    <tr style=\"text-align: right;\">\n",
       "      <th></th>\n",
       "      <th>Name</th>\n",
       "      <th>Brewery</th>\n",
       "      <th>Style</th>\n",
       "      <th>ABV</th>\n",
       "      <th>IBU</th>\n",
       "      <th>Rating</th>\n",
       "      <th>Description_x</th>\n",
       "      <th>Description_2</th>\n",
       "      <th>Description_3</th>\n",
       "      <th>sims</th>\n",
       "      <th>Description_spanish</th>\n",
       "      <th>Description_y</th>\n",
       "    </tr>\n",
       "  </thead>\n",
       "  <tbody>\n",
       "    <tr>\n",
       "      <th>5082</th>\n",
       "      <td>Nox Karls Trauma</td>\n",
       "      <td>NaN</td>\n",
       "      <td>Kölsch</td>\n",
       "      <td>5.5</td>\n",
       "      <td>NaN</td>\n",
       "      <td>NaN</td>\n",
       "      <td></td>\n",
       "      <td></td>\n",
       "      <td></td>\n",
       "      <td>0.0</td>\n",
       "      <td></td>\n",
       "      <td>NaN</td>\n",
       "    </tr>\n",
       "    <tr>\n",
       "      <th>5084</th>\n",
       "      <td>Can Luar IPA</td>\n",
       "      <td>NaN</td>\n",
       "      <td>India Pale Ale</td>\n",
       "      <td>6.5</td>\n",
       "      <td>NaN</td>\n",
       "      <td>3.60</td>\n",
       "      <td></td>\n",
       "      <td></td>\n",
       "      <td></td>\n",
       "      <td>0.0</td>\n",
       "      <td></td>\n",
       "      <td>NaN</td>\n",
       "    </tr>\n",
       "    <tr>\n",
       "      <th>5093</th>\n",
       "      <td>Iberian Wheat</td>\n",
       "      <td>NaN</td>\n",
       "      <td>American Wheat or Rye Beer</td>\n",
       "      <td>6.0</td>\n",
       "      <td>NaN</td>\n",
       "      <td>3.00</td>\n",
       "      <td></td>\n",
       "      <td></td>\n",
       "      <td></td>\n",
       "      <td>0.0</td>\n",
       "      <td></td>\n",
       "      <td>NaN</td>\n",
       "    </tr>\n",
       "    <tr>\n",
       "      <th>5119</th>\n",
       "      <td>Capfoguer Blat</td>\n",
       "      <td>NaN</td>\n",
       "      <td>Weizen-Weissbier</td>\n",
       "      <td>4.8</td>\n",
       "      <td>NaN</td>\n",
       "      <td>3.30</td>\n",
       "      <td></td>\n",
       "      <td></td>\n",
       "      <td></td>\n",
       "      <td>0.0</td>\n",
       "      <td></td>\n",
       "      <td>NaN</td>\n",
       "    </tr>\n",
       "    <tr>\n",
       "      <th>5151</th>\n",
       "      <td>La Cervecita Julia`s IPA</td>\n",
       "      <td>NaN</td>\n",
       "      <td>India Pale Ale</td>\n",
       "      <td>6.9</td>\n",
       "      <td>70.0</td>\n",
       "      <td>NaN</td>\n",
       "      <td></td>\n",
       "      <td></td>\n",
       "      <td></td>\n",
       "      <td>0.0</td>\n",
       "      <td></td>\n",
       "      <td>NaN</td>\n",
       "    </tr>\n",
       "    <tr>\n",
       "      <th>5152</th>\n",
       "      <td>Zulogaarden Jeff Hanneman</td>\n",
       "      <td>NaN</td>\n",
       "      <td>Red Ale</td>\n",
       "      <td>6.5</td>\n",
       "      <td>60.0</td>\n",
       "      <td>NaN</td>\n",
       "      <td></td>\n",
       "      <td></td>\n",
       "      <td></td>\n",
       "      <td>0.0</td>\n",
       "      <td></td>\n",
       "      <td>NaN</td>\n",
       "    </tr>\n",
       "    <tr>\n",
       "      <th>5153</th>\n",
       "      <td>Zulogaarden Piños Nuevos</td>\n",
       "      <td>NaN</td>\n",
       "      <td>India Pale Ale</td>\n",
       "      <td>7.0</td>\n",
       "      <td>NaN</td>\n",
       "      <td>NaN</td>\n",
       "      <td></td>\n",
       "      <td></td>\n",
       "      <td></td>\n",
       "      <td>0.0</td>\n",
       "      <td></td>\n",
       "      <td>NaN</td>\n",
       "    </tr>\n",
       "    <tr>\n",
       "      <th>5154</th>\n",
       "      <td>Zulogaarden Riw-aka 47</td>\n",
       "      <td>NaN</td>\n",
       "      <td>Pale Ale</td>\n",
       "      <td>6.5</td>\n",
       "      <td>NaN</td>\n",
       "      <td>NaN</td>\n",
       "      <td></td>\n",
       "      <td></td>\n",
       "      <td></td>\n",
       "      <td>0.0</td>\n",
       "      <td></td>\n",
       "      <td>NaN</td>\n",
       "    </tr>\n",
       "    <tr>\n",
       "      <th>5156</th>\n",
       "      <td>Zulogaarden Wai-Ti</td>\n",
       "      <td>NaN</td>\n",
       "      <td>Pale Ale</td>\n",
       "      <td>6.5</td>\n",
       "      <td>NaN</td>\n",
       "      <td>NaN</td>\n",
       "      <td></td>\n",
       "      <td></td>\n",
       "      <td></td>\n",
       "      <td>0.0</td>\n",
       "      <td></td>\n",
       "      <td>NaN</td>\n",
       "    </tr>\n",
       "    <tr>\n",
       "      <th>5159</th>\n",
       "      <td>Carmen La Negra</td>\n",
       "      <td>NaN</td>\n",
       "      <td>English Brown</td>\n",
       "      <td>6.0</td>\n",
       "      <td>NaN</td>\n",
       "      <td>NaN</td>\n",
       "      <td></td>\n",
       "      <td></td>\n",
       "      <td></td>\n",
       "      <td>0.0</td>\n",
       "      <td></td>\n",
       "      <td>NaN</td>\n",
       "    </tr>\n",
       "    <tr>\n",
       "      <th>5174</th>\n",
       "      <td>Holz Fucking Christmas</td>\n",
       "      <td>NaN</td>\n",
       "      <td>Imperial IPA</td>\n",
       "      <td>9.2</td>\n",
       "      <td>NaN</td>\n",
       "      <td>NaN</td>\n",
       "      <td></td>\n",
       "      <td></td>\n",
       "      <td></td>\n",
       "      <td>0.0</td>\n",
       "      <td></td>\n",
       "      <td>NaN</td>\n",
       "    </tr>\n",
       "    <tr>\n",
       "      <th>5176</th>\n",
       "      <td>Popaire HBC 3·4·2</td>\n",
       "      <td>NaN</td>\n",
       "      <td>No Definido</td>\n",
       "      <td>NaN</td>\n",
       "      <td>NaN</td>\n",
       "      <td>3.80</td>\n",
       "      <td></td>\n",
       "      <td></td>\n",
       "      <td></td>\n",
       "      <td>0.0</td>\n",
       "      <td></td>\n",
       "      <td>NaN</td>\n",
       "    </tr>\n",
       "    <tr>\n",
       "      <th>5177</th>\n",
       "      <td>DeDues Toccatta</td>\n",
       "      <td>NaN</td>\n",
       "      <td>Smoke Flavored and Wood Aged Beer</td>\n",
       "      <td>11.0</td>\n",
       "      <td>NaN</td>\n",
       "      <td>NaN</td>\n",
       "      <td></td>\n",
       "      <td></td>\n",
       "      <td></td>\n",
       "      <td>0.0</td>\n",
       "      <td></td>\n",
       "      <td>NaN</td>\n",
       "    </tr>\n",
       "    <tr>\n",
       "      <th>5182</th>\n",
       "      <td>Guineu La Fresca</td>\n",
       "      <td>NaN</td>\n",
       "      <td>American Pale Ale</td>\n",
       "      <td>4.6</td>\n",
       "      <td>NaN</td>\n",
       "      <td>3.30</td>\n",
       "      <td></td>\n",
       "      <td></td>\n",
       "      <td></td>\n",
       "      <td>0.0</td>\n",
       "      <td></td>\n",
       "      <td>NaN</td>\n",
       "    </tr>\n",
       "    <tr>\n",
       "      <th>5183</th>\n",
       "      <td>Guineu Wien Ale</td>\n",
       "      <td>NaN</td>\n",
       "      <td>Vienna Lager</td>\n",
       "      <td>NaN</td>\n",
       "      <td>NaN</td>\n",
       "      <td>NaN</td>\n",
       "      <td></td>\n",
       "      <td></td>\n",
       "      <td></td>\n",
       "      <td>0.0</td>\n",
       "      <td></td>\n",
       "      <td>NaN</td>\n",
       "    </tr>\n",
       "    <tr>\n",
       "      <th>5184</th>\n",
       "      <td>Guineu Dr Calypso Iñaki`s Gordo Edition</td>\n",
       "      <td>NaN</td>\n",
       "      <td>Weizen-Weissbier</td>\n",
       "      <td>5.2</td>\n",
       "      <td>NaN</td>\n",
       "      <td>NaN</td>\n",
       "      <td></td>\n",
       "      <td></td>\n",
       "      <td></td>\n",
       "      <td>0.0</td>\n",
       "      <td></td>\n",
       "      <td>NaN</td>\n",
       "    </tr>\n",
       "    <tr>\n",
       "      <th>5233</th>\n",
       "      <td>Fort Local Beer Polaris</td>\n",
       "      <td>NaN</td>\n",
       "      <td>Lager</td>\n",
       "      <td>6.5</td>\n",
       "      <td>NaN</td>\n",
       "      <td>3.50</td>\n",
       "      <td></td>\n",
       "      <td></td>\n",
       "      <td></td>\n",
       "      <td>0.0</td>\n",
       "      <td></td>\n",
       "      <td>NaN</td>\n",
       "    </tr>\n",
       "    <tr>\n",
       "      <th>5280</th>\n",
       "      <td>Zythi</td>\n",
       "      <td>NaN</td>\n",
       "      <td>No Definido</td>\n",
       "      <td>6.0</td>\n",
       "      <td>NaN</td>\n",
       "      <td>3.01</td>\n",
       "      <td></td>\n",
       "      <td></td>\n",
       "      <td></td>\n",
       "      <td>0.0</td>\n",
       "      <td></td>\n",
       "      <td>NaN</td>\n",
       "    </tr>\n",
       "    <tr>\n",
       "      <th>5451</th>\n",
       "      <td>Tito Blas Doble J</td>\n",
       "      <td>NaN</td>\n",
       "      <td>Amber Ale</td>\n",
       "      <td>5.0</td>\n",
       "      <td>NaN</td>\n",
       "      <td>NaN</td>\n",
       "      <td></td>\n",
       "      <td></td>\n",
       "      <td></td>\n",
       "      <td>0.0</td>\n",
       "      <td></td>\n",
       "      <td>NaN</td>\n",
       "    </tr>\n",
       "    <tr>\n",
       "      <th>5714</th>\n",
       "      <td>Ebora Negra</td>\n",
       "      <td>NaN</td>\n",
       "      <td>Stout</td>\n",
       "      <td>4.7</td>\n",
       "      <td>NaN</td>\n",
       "      <td>2.76</td>\n",
       "      <td></td>\n",
       "      <td></td>\n",
       "      <td></td>\n",
       "      <td>0.0</td>\n",
       "      <td></td>\n",
       "      <td>NaN</td>\n",
       "    </tr>\n",
       "    <tr>\n",
       "      <th>5717</th>\n",
       "      <td>La Mataró Special Bitter</td>\n",
       "      <td>NaN</td>\n",
       "      <td>Special-Best-Premium Bitter</td>\n",
       "      <td>4.4</td>\n",
       "      <td>37.0</td>\n",
       "      <td>4.00</td>\n",
       "      <td></td>\n",
       "      <td></td>\n",
       "      <td></td>\n",
       "      <td>0.0</td>\n",
       "      <td></td>\n",
       "      <td>NaN</td>\n",
       "    </tr>\n",
       "    <tr>\n",
       "      <th>5863</th>\n",
       "      <td>Acacia Naranja</td>\n",
       "      <td>NaN</td>\n",
       "      <td>India Pale Ale</td>\n",
       "      <td>NaN</td>\n",
       "      <td>NaN</td>\n",
       "      <td>NaN</td>\n",
       "      <td></td>\n",
       "      <td></td>\n",
       "      <td></td>\n",
       "      <td>0.0</td>\n",
       "      <td></td>\n",
       "      <td>NaN</td>\n",
       "    </tr>\n",
       "    <tr>\n",
       "      <th>5868</th>\n",
       "      <td>Alcalá Sol</td>\n",
       "      <td>NaN</td>\n",
       "      <td>Pilsner</td>\n",
       "      <td>NaN</td>\n",
       "      <td>NaN</td>\n",
       "      <td>NaN</td>\n",
       "      <td></td>\n",
       "      <td></td>\n",
       "      <td></td>\n",
       "      <td>0.0</td>\n",
       "      <td></td>\n",
       "      <td>NaN</td>\n",
       "    </tr>\n",
       "    <tr>\n",
       "      <th>5903</th>\n",
       "      <td>BrewLab 1.0</td>\n",
       "      <td>NaN</td>\n",
       "      <td>India Pale Ale</td>\n",
       "      <td>7.3</td>\n",
       "      <td>70.0</td>\n",
       "      <td>3.70</td>\n",
       "      <td></td>\n",
       "      <td></td>\n",
       "      <td></td>\n",
       "      <td>0.0</td>\n",
       "      <td></td>\n",
       "      <td>NaN</td>\n",
       "    </tr>\n",
       "    <tr>\n",
       "      <th>5954</th>\n",
       "      <td>Molta Birra Revolution IPA</td>\n",
       "      <td>NaN</td>\n",
       "      <td>India Pale Ale</td>\n",
       "      <td>6.5</td>\n",
       "      <td>70.0</td>\n",
       "      <td>3.59</td>\n",
       "      <td></td>\n",
       "      <td></td>\n",
       "      <td></td>\n",
       "      <td>0.0</td>\n",
       "      <td></td>\n",
       "      <td>NaN</td>\n",
       "    </tr>\n",
       "    <tr>\n",
       "      <th>6542</th>\n",
       "      <td>Estraperlo Brown Ale</td>\n",
       "      <td>NaN</td>\n",
       "      <td>American Brown Ale</td>\n",
       "      <td>5.0</td>\n",
       "      <td>NaN</td>\n",
       "      <td>NaN</td>\n",
       "      <td></td>\n",
       "      <td></td>\n",
       "      <td></td>\n",
       "      <td>0.0</td>\n",
       "      <td></td>\n",
       "      <td>NaN</td>\n",
       "    </tr>\n",
       "    <tr>\n",
       "      <th>6543</th>\n",
       "      <td>Estraperlo Ale</td>\n",
       "      <td>NaN</td>\n",
       "      <td>Golden Ale</td>\n",
       "      <td>5.0</td>\n",
       "      <td>NaN</td>\n",
       "      <td>NaN</td>\n",
       "      <td></td>\n",
       "      <td></td>\n",
       "      <td></td>\n",
       "      <td>0.0</td>\n",
       "      <td></td>\n",
       "      <td>NaN</td>\n",
       "    </tr>\n",
       "  </tbody>\n",
       "</table>\n",
       "</div>"
      ],
      "text/plain": [
       "                                         Name Brewery  \\\n",
       "5082                         Nox Karls Trauma     NaN   \n",
       "5084                             Can Luar IPA     NaN   \n",
       "5093                            Iberian Wheat     NaN   \n",
       "5119                           Capfoguer Blat     NaN   \n",
       "5151                 La Cervecita Julia`s IPA     NaN   \n",
       "5152                Zulogaarden Jeff Hanneman     NaN   \n",
       "5153                 Zulogaarden Piños Nuevos     NaN   \n",
       "5154                   Zulogaarden Riw-aka 47     NaN   \n",
       "5156                       Zulogaarden Wai-Ti     NaN   \n",
       "5159                          Carmen La Negra     NaN   \n",
       "5174                   Holz Fucking Christmas     NaN   \n",
       "5176                        Popaire HBC 3·4·2     NaN   \n",
       "5177                          DeDues Toccatta     NaN   \n",
       "5182                         Guineu La Fresca     NaN   \n",
       "5183                          Guineu Wien Ale     NaN   \n",
       "5184  Guineu Dr Calypso Iñaki`s Gordo Edition     NaN   \n",
       "5233                  Fort Local Beer Polaris     NaN   \n",
       "5280                                    Zythi     NaN   \n",
       "5451                        Tito Blas Doble J     NaN   \n",
       "5714                              Ebora Negra     NaN   \n",
       "5717                 La Mataró Special Bitter     NaN   \n",
       "5863                           Acacia Naranja     NaN   \n",
       "5868                               Alcalá Sol     NaN   \n",
       "5903                              BrewLab 1.0     NaN   \n",
       "5954               Molta Birra Revolution IPA     NaN   \n",
       "6542                     Estraperlo Brown Ale     NaN   \n",
       "6543                           Estraperlo Ale     NaN   \n",
       "\n",
       "                                  Style   ABV   IBU  Rating Description_x  \\\n",
       "5082                             Kölsch   5.5   NaN     NaN                 \n",
       "5084                     India Pale Ale   6.5   NaN    3.60                 \n",
       "5093         American Wheat or Rye Beer   6.0   NaN    3.00                 \n",
       "5119                   Weizen-Weissbier   4.8   NaN    3.30                 \n",
       "5151                     India Pale Ale   6.9  70.0     NaN                 \n",
       "5152                            Red Ale   6.5  60.0     NaN                 \n",
       "5153                     India Pale Ale   7.0   NaN     NaN                 \n",
       "5154                           Pale Ale   6.5   NaN     NaN                 \n",
       "5156                           Pale Ale   6.5   NaN     NaN                 \n",
       "5159                      English Brown   6.0   NaN     NaN                 \n",
       "5174                       Imperial IPA   9.2   NaN     NaN                 \n",
       "5176                        No Definido   NaN   NaN    3.80                 \n",
       "5177  Smoke Flavored and Wood Aged Beer  11.0   NaN     NaN                 \n",
       "5182                  American Pale Ale   4.6   NaN    3.30                 \n",
       "5183                       Vienna Lager   NaN   NaN     NaN                 \n",
       "5184                   Weizen-Weissbier   5.2   NaN     NaN                 \n",
       "5233                              Lager   6.5   NaN    3.50                 \n",
       "5280                        No Definido   6.0   NaN    3.01                 \n",
       "5451                          Amber Ale   5.0   NaN     NaN                 \n",
       "5714                              Stout   4.7   NaN    2.76                 \n",
       "5717        Special-Best-Premium Bitter   4.4  37.0    4.00                 \n",
       "5863                     India Pale Ale   NaN   NaN     NaN                 \n",
       "5868                            Pilsner   NaN   NaN     NaN                 \n",
       "5903                     India Pale Ale   7.3  70.0    3.70                 \n",
       "5954                     India Pale Ale   6.5  70.0    3.59                 \n",
       "6542                 American Brown Ale   5.0   NaN     NaN                 \n",
       "6543                         Golden Ale   5.0   NaN     NaN                 \n",
       "\n",
       "     Description_2 Description_3  sims Description_spanish Description_y  \n",
       "5082                               0.0                               NaN  \n",
       "5084                               0.0                               NaN  \n",
       "5093                               0.0                               NaN  \n",
       "5119                               0.0                               NaN  \n",
       "5151                               0.0                               NaN  \n",
       "5152                               0.0                               NaN  \n",
       "5153                               0.0                               NaN  \n",
       "5154                               0.0                               NaN  \n",
       "5156                               0.0                               NaN  \n",
       "5159                               0.0                               NaN  \n",
       "5174                               0.0                               NaN  \n",
       "5176                               0.0                               NaN  \n",
       "5177                               0.0                               NaN  \n",
       "5182                               0.0                               NaN  \n",
       "5183                               0.0                               NaN  \n",
       "5184                               0.0                               NaN  \n",
       "5233                               0.0                               NaN  \n",
       "5280                               0.0                               NaN  \n",
       "5451                               0.0                               NaN  \n",
       "5714                               0.0                               NaN  \n",
       "5717                               0.0                               NaN  \n",
       "5863                               0.0                               NaN  \n",
       "5868                               0.0                               NaN  \n",
       "5903                               0.0                               NaN  \n",
       "5954                               0.0                               NaN  \n",
       "6542                               0.0                               NaN  \n",
       "6543                               0.0                               NaN  "
      ]
     },
     "execution_count": 396,
     "metadata": {},
     "output_type": "execute_result"
    }
   ],
   "source": [
    "df_aux[df_aux.Description_y.isna()]"
   ]
  },
  {
   "cell_type": "code",
   "execution_count": 416,
   "metadata": {
    "ExecuteTime": {
     "end_time": "2020-02-10T08:04:05.641326Z",
     "start_time": "2020-02-10T08:04:05.554896Z"
    },
    "hidden": true
   },
   "outputs": [
    {
     "data": {
      "text/html": [
       "<div>\n",
       "<style scoped>\n",
       "    .dataframe tbody tr th:only-of-type {\n",
       "        vertical-align: middle;\n",
       "    }\n",
       "\n",
       "    .dataframe tbody tr th {\n",
       "        vertical-align: top;\n",
       "    }\n",
       "\n",
       "    .dataframe thead th {\n",
       "        text-align: right;\n",
       "    }\n",
       "</style>\n",
       "<table border=\"1\" class=\"dataframe\">\n",
       "  <thead>\n",
       "    <tr style=\"text-align: right;\">\n",
       "      <th></th>\n",
       "      <th>Name</th>\n",
       "      <th>Brewery</th>\n",
       "      <th>Style</th>\n",
       "      <th>ABV</th>\n",
       "      <th>IBU</th>\n",
       "      <th>Rating</th>\n",
       "      <th>Description_x</th>\n",
       "      <th>Description_2</th>\n",
       "      <th>Description_3</th>\n",
       "      <th>sims</th>\n",
       "      <th>Description_spanish</th>\n",
       "      <th>Description_y</th>\n",
       "    </tr>\n",
       "  </thead>\n",
       "  <tbody>\n",
       "    <tr>\n",
       "      <th>12</th>\n",
       "      <td>Gora Original Black President</td>\n",
       "      <td>NaN</td>\n",
       "      <td>Imperial Stout</td>\n",
       "      <td>10.0</td>\n",
       "      <td>NaN</td>\n",
       "      <td>NaN</td>\n",
       "      <td>Original Black President\\nImperian Stout\\nGaragardoa / Cerveza / Beer\\nOsagaiak: ura, garagar eta zekale maltak, olo-malutak, lupulua eta legamia.\\nIngredientes: agua, malta de cebada y centeno, copos de avena, |upulo y levadura.\\nIngredients: water, barley and rye malt, flacked oat, hops, yeast\\nGlu ...</td>\n",
       "      <td>original black president imperian stout garagardoa cerveza beer osagaiak ura garagar eta zekale maltak olo malutak lupulua eta legamia ingredientes agua malta cebada centeno copos avena upulo levadura ingredients water barley rye malt flacked oat hops yeast glu</td>\n",
       "      <td>origin black presid imperian stout garagardoa beer osagaiak ura garagar eta zekal maltak olo malutak lupulua legamia ingredient agua malta cebada centeno copo avena upulo levadura ingredi water barley rye malt flack oat hop yeast glu</td>\n",
       "      <td>0.000000</td>\n",
       "      <td>original black president imperian stout garagardoa cerveza beer osagaiak ura garagar eta zekale maltak olo malutak lupulua eta legamia ingredientes agua malta cebada centeno copos avena upulo levadura ingredients water barley rye malt flacked oat hops yeast glu</td>\n",
       "      <td>Original Black President\\nImperian Stout\\nGaragardoa / Cerveza / Beer\\nOsagaiak: ura, garagar eta zekale maltak, olo-malutak, lupulua eta legamia.\\nIngredientes: agua, malta de cebada y centeno, copos de avena, |upulo y levadura.\\nIngredients: water, barley ... Ver más rye malt, flacked oat, hops, yeast\\nGlutena dauka / Contiene gluten / Contains gluten Elaborado por “Sergio Martinez Gonzalez y otros CB” y Cerveza Byra R.G.S.\\n30.013078/VI. eta “Sergio Martinez Gonzalezy otros CB”k egina.\\n1...</td>\n",
       "    </tr>\n",
       "    <tr>\n",
       "      <th>43</th>\n",
       "      <td>No Nation TTT</td>\n",
       "      <td>NaN</td>\n",
       "      <td>American IPA</td>\n",
       "      <td>6.5</td>\n",
       "      <td>75.0</td>\n",
       "      <td>3.52</td>\n",
       "      <td>TTT\\nWest Coast IPA\\nDerma Series\\nTTT Derma Series, es una cerveza de estilo West Coast con dos cepas de levadura, que han trabajado en paralelo. Una combinación perfecta de lúpulos.\\n*Grabado en tu piel. Hasta el final. Lo que viviste, es lo que eres. Lo que serás, solo lo sabes tú\".</td>\n",
       "      <td>ttt west coast ipa derma series ttt derma series cerveza estilo west coast dos cepas levadura trabajado paralelo una combinación perfecta lúpulos grabado piel hasta final lo viviste eres lo serás solo sabes tú</td>\n",
       "      <td>ttt west coast ipa derma seri estilo do cepa levadura trabajado paralelo combinación perfecta lúpulo grabado piel hasta final lo vivist ere será solo sabe tú</td>\n",
       "      <td>0.000000</td>\n",
       "      <td>ttt west coast ipa derma series ttt derma series cerveza estilo west coast dos cepas levadura trabajado paralelo una combinación perfecta lúpulos grabado piel hasta final lo viviste eres lo serás solo sabes tú</td>\n",
       "      <td>TTT\\nWest Coast IPA\\nDerma Series\\nTTT Derma Series, es una cerveza de estilo West Coast con dos cepas de levadura, que han trabajado en paralelo. Una combinación perfecta de lúpulos.\\n*Grabado en tu piel. Hasta el final. Lo que viviste, es lo que eres. ... Ver más que serás, solo lo sabes tú. Ver menos</td>\n",
       "    </tr>\n",
       "    <tr>\n",
       "      <th>120</th>\n",
       "      <td>Tibidabo Brewing Jazzblat</td>\n",
       "      <td>NaN</td>\n",
       "      <td>Weizen-Weissbier</td>\n",
       "      <td>5.0</td>\n",
       "      <td>13.0</td>\n",
       "      <td>NaN</td>\n",
       "      <td>Jazzblat\\nWeissbier\\nSolo la malta, el lúpulo y la levadura de fermentación alta dan unas notas agradables al plátano, a pimienta y a clavo. Sin filtrar, aportando todas las vitaminas B de la levadura, es levemente ácida y extremadamente refrescante.</td>\n",
       "      <td>jazzblat weissbier solo malta lúpulo levadura fermentación alta dan unas notas agradables plátano pimienta clavo sin filtrar aportando todas vitaminas b levadura levemente ácida extremadamente refrescante</td>\n",
       "      <td>jazzblat weissbier solo malta lúpulo levadura fermentación alta dan nota agrad plátano pimienta clavo sin filtrar aportando toda vitamina b levement ácida extremadament refrescant</td>\n",
       "      <td>0.000000</td>\n",
       "      <td>jazzblat weissbier solo malta lúpulo levadura fermentación alta dan unas notas agradables plátano pimienta clavo sin filtrar aportando todas vitaminas b levadura levemente ácida extremadamente refrescante</td>\n",
       "      <td>Jazzblat\\nWeissbier\\nSolo la malta, el lúpulo y la levadura de fermentación alta dan unas notas agradables al plátano, a pimienta y a clavo. Sin filtrar, aportando todas las vitaminas B de la levadura, es levemente ácida y extremadamente refrescante.</td>\n",
       "    </tr>\n",
       "    <tr>\n",
       "      <th>121</th>\n",
       "      <td>Tibidabo Brewing Kalahari</td>\n",
       "      <td>NaN</td>\n",
       "      <td>Vienna Lager</td>\n",
       "      <td>NaN</td>\n",
       "      <td>NaN</td>\n",
       "      <td>NaN</td>\n",
       "      <td>Kalahari\\nVienna Lager\\nUna mezcla de seis maltas alemanas tostadas consiguen darnos un sabor dulce, pan, galleta y caramelo. Cada trago revela nuevas capas de dulzura e interacción entre los distintos tipos de cebada malteada. La levadura de baja fermentación permite que sea fácil de beber si ...</td>\n",
       "      <td>kalahari vienna lager una mezcla seis maltas alemanas tostadas consiguen darnos sabor dulce pan galleta caramelo cada trago revela nuevas capas dulzura interacción distintos tipos cebada malteada la levadura baja fermentación permite fácil beber si</td>\n",
       "      <td>kalahari vienna lager mezcla sei malta alemana tostada consiguen darno sabor dulc pan galleta caramelo cada trago revela nueva capa dulzura interacción distinto tipo cebada malteada levadura baja fermentación permit fácil beber si</td>\n",
       "      <td>0.000000</td>\n",
       "      <td>kalahari vienna lager una mezcla seis maltas alemanas tostadas consiguen darnos sabor dulce pan galleta caramelo cada trago revela nuevas capas dulzura interacción distintos tipos cebada malteada la levadura baja fermentación permite fácil beber si</td>\n",
       "      <td>Kalahari\\nVienna Lager\\nUna mezcla de seis maltas alemanas tostadas consiguen darnos un sabor dulce, pan, galleta y caramelo. Cada trago revela nuevas capas de dulzura e interacción entre los distintos tipos de cebada malteada. La levadura de baja ... Ver más permite que sea fácil de beber sin sacrificar el sabor. Ver menos</td>\n",
       "    </tr>\n",
       "    <tr>\n",
       "      <th>123</th>\n",
       "      <td>Tibidabo Brewing Horizons</td>\n",
       "      <td>NaN</td>\n",
       "      <td>Pilsner</td>\n",
       "      <td>5.0</td>\n",
       "      <td>13.0</td>\n",
       "      <td>NaN</td>\n",
       "      <td>Horizons\\nPilsner\\nInspirada en la clásica pilsner checa. Sobre una sutil malta base, añadimos generosamente los lúpulos. Fermentamos el mosto con levaduras lager durante dos semanas y la dejamos madurar durante cuatro semanas más. En boca es suave, refrescante y limpia. Sutiles notas herbale ...</td>\n",
       "      <td>horizons pilsner inspirada clásica pilsner checa sobre sutil malta base añadimos generosamente lúpulos fermentamos mosto levaduras lager dos semanas dejamos madurar cuatro semanas más en boca suave refrescante limpia sutiles notas herbale</td>\n",
       "      <td>horizon pilsner inspirada clásica checa sobr sutil malta base añadimo generosament lúpulo fermentamo mosto levadura lager do semana dejamo madurar cuatro má en boca suav refrescant limpia sutil nota herbal</td>\n",
       "      <td>0.000000</td>\n",
       "      <td>horizons pilsner inspirada clásica pilsner checa sobre sutil malta base añadimos generosamente lúpulos fermentamos mosto levaduras lager dos semanas dejamos madurar cuatro semanas más en boca suave refrescante limpia sutiles notas herbale</td>\n",
       "      <td>Horizons\\nPilsner\\nInspirada en la clásica pilsner checa. Sobre una sutil malta base, añadimos generosamente los lúpulos. Fermentamos el mosto con levaduras lager durante dos semanas y la dejamos madurar durante cuatro semanas más. En boca es suave, ... Ver más y limpia. Sutiles notas herbales y cítricas. Ver menos</td>\n",
       "    </tr>\n",
       "    <tr>\n",
       "      <th>144</th>\n",
       "      <td>Canana IPA</td>\n",
       "      <td>NaN</td>\n",
       "      <td>India Pale Ale</td>\n",
       "      <td>5.8</td>\n",
       "      <td>50.0</td>\n",
       "      <td>NaN</td>\n",
       "      <td>IPA\\nColor cobre a marrón, de aspecto turbio, espuma abundante de duración persistente de color beige y buen encaje.\\nAromas: Aromas maltosos de pan y bollería, algo de manzana y pera.\\nSabor: Sabores de pan y levadura.\\nSensación en boca: Carbonatación leve, burbuja fina, de cuerpo medio, ama ...</td>\n",
       "      <td>ipa color cobre marrón aspecto turbio espuma abundante duración persistente color beige buen encaje aromas aromas maltosos pan bollería manzana pera sabor sabores pan levadura sensación boca carbonatación leve burbuja fina cuerpo medio ama</td>\n",
       "      <td>ipa color cobr marrón aspecto turbio espuma abundant duración persistent beig buen encaj aroma maltoso pan bollería manzana pera sabor sabor levadura sensación boca carbonatación leve burbuja fina cuerpo medio ama</td>\n",
       "      <td>0.000000</td>\n",
       "      <td>ipa color cobre marrón aspecto turbio espuma abundante duración persistente color beige buen encaje aromas aromas maltosos pan bollería manzana pera sabor sabores pan levadura sensación boca carbonatación leve burbuja fina cuerpo medio ama</td>\n",
       "      <td>IPA\\nColor cobre a marrón, de aspecto turbio, espuma abundante de duración persistente de color beige y buen encaje.\\nAromas: Aromas maltosos de pan y bollería, algo de manzana y pera.\\nSabor: Sabores de pan y levadura.\\nSensación en boca: Carbonatación ... Ver más burbuja fina, de cuerpo medio, amargor persistente.\\nImpresión general: Alto nivel de lúpulo. Ver menos</td>\n",
       "    </tr>\n",
       "    <tr>\n",
       "      <th>145</th>\n",
       "      <td>Canana Old Ale</td>\n",
       "      <td>NaN</td>\n",
       "      <td>Old Ale</td>\n",
       "      <td>6.1</td>\n",
       "      <td>22.0</td>\n",
       "      <td>NaN</td>\n",
       "      <td>Old Ale\\nColor ámbar, sin turbidez. Espuma cremosa, abundante y permanente.\\nAromas: Malta dulce, melaza, miel. Aromas a esteres especiados como clavo, canela, pimienta.\\nSabor: Malta dulce, melaza, miel, esteres especiados como pimienta, levaduras y pan.\\nSensación en boca: Carbonatación leve,  ...</td>\n",
       "      <td>old ale color ámbar turbidez espuma cremosa abundante permanente aromas malta dulce melaza miel aromas esteres especiados clavo canela pimienta sabor malta dulce melaza miel esteres especiados pimienta levaduras pan sensación boca carbonatación leve</td>\n",
       "      <td>old ale color ámbar turbidez espuma cremosa abundant permanent aroma malta dulc melaza miel ester especiado clavo canela pimienta sabor levadura pan sensación boca carbonatación leve</td>\n",
       "      <td>0.000000</td>\n",
       "      <td>old ale color ámbar turbidez espuma cremosa abundante permanente aromas malta dulce melaza miel aromas esteres especiados clavo canela pimienta sabor malta dulce melaza miel esteres especiados pimienta levaduras pan sensación boca carbonatación leve</td>\n",
       "      <td>Old Ale\\nColor ámbar, sin turbidez. Espuma cremosa, abundante y permanente.\\nAromas: Malta dulce, melaza, miel. Aromas a esteres especiados como clavo, canela, pimienta.\\nSabor: Malta dulce, melaza, miel, esteres especiados como pimienta, levaduras ... Ver más pan.\\nSensación en boca: Carbonatación leve, burbuja fina y persistente. Persistencia de los sabores caramelizados, ligero amargor.\\nImprwsión general: Cerveza madurada 90 días, compensada a la malta. Ver menos</td>\n",
       "    </tr>\n",
       "    <tr>\n",
       "      <th>175</th>\n",
       "      <td>Olañeta APA</td>\n",
       "      <td>NaN</td>\n",
       "      <td>American Pale Ale</td>\n",
       "      <td>5.0</td>\n",
       "      <td>50.0</td>\n",
       "      <td>3.53</td>\n",
       "      <td>APA\\nAmerican Pale Ale\\nAspecto: Color dorado, turbia debido a la no filtración y al dry-hopping. Nivel de espuma medio.\\nAroma: Temperatura de servicio: 8º C. Afrutado: aroma de cítricos. Posee una persistencia e intensidad muy altas prevaleciendo el aroma que le otorgan los lúpulos empleados ...</td>\n",
       "      <td>apa american pale ale aspecto color dorado turbia debido filtración dry hopping nivel espuma medio aroma temperatura servicio 8º c afrutado aroma cítricos posee persistencia intensidad altas prevaleciendo aroma otorgan lúpulos empleados</td>\n",
       "      <td>apa american pale ale aspecto color dorado turbia debido filtración dri hop nivel espuma medio aroma temperatura servicio 8º c afrutado cítrico pose persistencia intensidad alta prevaleciendo otorgan lúpulo empleado</td>\n",
       "      <td>0.000000</td>\n",
       "      <td>apa american pale ale aspecto color dorado turbia debido filtración dry hopping nivel espuma medio aroma temperatura servicio 8º c afrutado aroma cítricos posee persistencia intensidad altas prevaleciendo aroma otorgan lúpulos empleados</td>\n",
       "      <td>APA\\nAmerican Pale Ale\\nAspecto: Color dorado, turbia debido a la no filtración y al dry-hopping. Nivel de espuma medio.\\nAroma: Temperatura de servicio: 8º C. Afrutado: aroma de cítricos. Posee una persistencia e intensidad muy altas prevaleciendo ... Ver más aroma que le otorgan los lúpulos empleados.\\nSabor: Intensa debido al protagonismo de los lúpulos.\\nSensación en boca: Efervescencia mediana, cuerpo: redonda, amarga, carbonatación moderada y persistencia retro nasal larga.\\nIngredient...</td>\n",
       "    </tr>\n",
       "    <tr>\n",
       "      <th>176</th>\n",
       "      <td>Rosita Kellogg’s Choco Krispies</td>\n",
       "      <td>NaN</td>\n",
       "      <td>Blonde Ale</td>\n",
       "      <td>5.5</td>\n",
       "      <td>7.9</td>\n",
       "      <td>NaN</td>\n",
       "      <td>Kellogg’s Choco Krispies\\nBlonde Ale hecha con Choco Krispies de Kellog’s (arroz inflado chocolateado).\\nCompuesta por agua, malta de cebada, Kellogg’s Choco Krispies, miel, lúpulos y levaduras, Rosita Kellogg’s Choco Krispies es una cerveza rubia de color miel, de carbónico fino, con c ...</td>\n",
       "      <td>kellogg s choco krispies blonde ale hecha choco krispies kellog s arroz inflado chocolateado compuesta agua malta cebada kellogg s choco krispies miel lúpulos levaduras rosita kellogg s choco krispies cerveza rubia color miel carbónico fino c</td>\n",
       "      <td>kellogg s choco krispi blond ale hecha kellog arroz inflado chocolateado compuesta agua malta cebada miel lúpulo levadura rosita rubia color carbónico fino c</td>\n",
       "      <td>0.000000</td>\n",
       "      <td>kellogg s choco krispies blonde ale hecha choco krispies kellog s arroz inflado chocolateado compuesta agua malta cebada kellogg s choco krispies miel lúpulos levaduras rosita kellogg s choco krispies cerveza rubia color miel carbónico fino c</td>\n",
       "      <td>Kellogg’s Choco Krispies\\nBlonde Ale hecha con Choco Krispies de Kellog’s (arroz inflado chocolateado).\\nCompuesta por agua, malta de cebada, Kellogg’s Choco Krispies, miel, lúpulos y levaduras, Rosita Kellogg’s Choco Krispies es una cerveza ... Ver más de color miel, de carbónico fino, con cierta densidad en copa, espuma blanca con tonos marfil cremosa y constante, con buena persistencia. Ver menos</td>\n",
       "    </tr>\n",
       "    <tr>\n",
       "      <th>205</th>\n",
       "      <td>Misterio Fermi Paradox</td>\n",
       "      <td>NaN</td>\n",
       "      <td>IPA Otros</td>\n",
       "      <td>6.3</td>\n",
       "      <td>30.0</td>\n",
       "      <td>3.73</td>\n",
       "      <td>Fermi Paradox\\nFarmhouse IPA con Rakau y Amarillo\\nEn esta Farmhouse Ale los lúpulos Rakau y Amarillo potencian y complementan las notas afrutadas de la levadura belga. Una mezcla de malta Pilsner, trigo y avena evoca el cuerpo y textura en boca de las IPAs americanas modernas. ¡Lo mejor de los ...</td>\n",
       "      <td>fermi paradox farmhouse ipa rakau amarillo en farmhouse ale lúpulos rakau amarillo potencian complementan notas afrutadas levadura belga una mezcla malta pilsner trigo avena evoca cuerpo textura boca ipas americanas modernas lo mejor</td>\n",
       "      <td>fermi paradox farmhous ipa rakau amarillo en ale lúpulo potencian complementan nota afrutada levadura belga mezcla malta pilsner trigo avena evoca cuerpo textura boca ipa americana moderna lo mejor</td>\n",
       "      <td>0.000000</td>\n",
       "      <td>fermi paradox farmhouse ipa rakau amarillo en farmhouse ale lúpulos rakau amarillo potencian complementan notas afrutadas levadura belga una mezcla malta pilsner trigo avena evoca cuerpo textura boca ipas americanas modernas lo mejor</td>\n",
       "      <td>Fermi Paradox\\nFarmhouse IPA con Rakau y Amarillo\\nEn esta Farmhouse Ale los lúpulos Rakau y Amarillo potencian y complementan las notas afrutadas de la levadura belga. Una mezcla de malta Pilsner, trigo y avena evoca el cuerpo y textura en boca de ... Ver más IPAs americanas modernas. ¡Lo mejor de los dos mundos!\\nTiene que haber algo ahí fuera. Los números están de nuestra parte, solo es cuestión de tiempo.\\nLa levadura saison que usamos en esta IPA, al principio oculta tras constelaciones...</td>\n",
       "    </tr>\n",
       "    <tr>\n",
       "      <th>217</th>\n",
       "      <td>Tercer Tiempo Special Kick Off</td>\n",
       "      <td>NaN</td>\n",
       "      <td>IPA Otros</td>\n",
       "      <td>7.3</td>\n",
       "      <td>60.0</td>\n",
       "      <td>NaN</td>\n",
       "      <td>Special Kick Off\\nSpeciality Ipa. IPA con frutosidad y carácter especiado, derivados del uso de levadura belga y de lúpulos americanos.\\nApariencia: color ámbar, clara, con espuma media, blanca y con buena persistencia. Aroma: intenso aroma a fruta blanca, agrumada y tropical. Notas especia ...</td>\n",
       "      <td>special kick off speciality ipa ipa frutosidad cara cter especiado derivados uso levadura belga lu pulos americanos apariencia color a mbar clara espuma media blanca buena persistencia aroma intenso aroma fruta blanca agrumada tropical notas especia</td>\n",
       "      <td>special kick off special ipa frutosidad cara cter especiado derivado uso levadura belga lu pulo americano apariencia color a mbar clara espuma media blanca buena persistencia aroma intenso fruta agrumada tropic nota especia</td>\n",
       "      <td>0.000000</td>\n",
       "      <td>special kick off speciality ipa ipa frutosidad cara cter especiado derivados uso levadura belga lu pulos americanos apariencia color a mbar clara espuma media blanca buena persistencia aroma intenso aroma fruta blanca agrumada tropical notas especia</td>\n",
       "      <td>Special Kick Off\\nSpeciality Ipa. IPA con frutosidad y carácter especiado, derivados del uso de levadura belga y de lúpulos americanos.\\nApariencia: color ámbar, clara, con espuma media, blanca y con buena persistencia. Aroma: intenso aroma a ... Ver más blanca, agrumada y tropical. Notas especiadas y florales. Leve aroma a caramelo.\\nSabor: amargor medio alto, sabor a fruta blanca como manzana, pera, banana y frutas citricas y tropical. Ligero sabor a suave caramelo y tostado.\\nMaridaje:...</td>\n",
       "    </tr>\n",
       "    <tr>\n",
       "      <th>239</th>\n",
       "      <td>Zeta Felicísima</td>\n",
       "      <td>NaN</td>\n",
       "      <td>IPA Otros</td>\n",
       "      <td>6.3</td>\n",
       "      <td>NaN</td>\n",
       "      <td>NaN</td>\n",
       "      <td>Felicísima\\nWeizen IPA\\nWheat and barley malts. Classic weissbier yeast, dry hopped with Simcoe\\nHoy, 22 de octubre, Felicísima hubiera cumplido 69 años. Esta misma mañana hemos embotellado una Weizen IPA con su nombre.\\nBien de lúpulo Simcoe, malta de trigo y la excelsa levadura de las weissb ...</td>\n",
       "      <td>felicísima weizen ipa wheat barley malts classic weissbier yeast dry hopped simcoe hoy 22 octubre felicísima cumplido 69 años esta misma mañana embotellado weizen ipa nombre bien lúpulo simcoe malta trigo excelsa levadura weissb</td>\n",
       "      <td>felicísima weizen ipa wheat barley malt classic weissbier yeast dri hop simco hoy 22 octubr cumplido 69 año esta misma mañana embotellado nombr bien lúpulo malta trigo excelsa levadura weissb</td>\n",
       "      <td>0.000000</td>\n",
       "      <td>felicísima weizen ipa wheat barley malts classic weissbier yeast dry hopped simcoe hoy 22 octubre felicísima cumplido 69 años esta misma mañana embotellado weizen ipa nombre bien lúpulo simcoe malta trigo excelsa levadura weissb</td>\n",
       "      <td>Felicísima\\nWeizen IPA\\nWheat and barley malts. Classic weissbier yeast, dry hopped with Simcoe\\nHoy, 22 de octubre, Felicísima hubiera cumplido 69 años. Esta misma mañana hemos embotellado una Weizen IPA con su nombre.\\nBien de lúpulo Simcoe, malta ... Ver más trigo y la excelsa levadura de las weissbier alemanas. Un híbrido de estilos que es una auténtica gominola: néctar tropical, plátano, pimienta... Y una cremita para comer con la cuchara. Una cerveza para la madre de todos los cervecer...</td>\n",
       "    </tr>\n",
       "    <tr>\n",
       "      <th>258</th>\n",
       "      <td>Jakobsland Words Are Very Unnecessary</td>\n",
       "      <td>NaN</td>\n",
       "      <td>Imperial IPA</td>\n",
       "      <td>8.0</td>\n",
       "      <td>18.0</td>\n",
       "      <td>NaN</td>\n",
       "      <td>Words Are Very Unnecessary\\nOrange Creamsicle Double NEIPA\\nEsta DOBLE NEIPA presenta los lúpulos Amarillo, Simcoe &amp; Citra. Hemos utilizado cáscara de naranja en el whirlpool para darle ese extra toque cítrico y tropical y un toque de lactosa para una sensacion sedosa en boca. La hemos ferment ...</td>\n",
       "      <td>words are very unnecessary orange creamsicle double neipa esta doble neipa presenta lúpulos amarillo simcoe citra hemos utilizado cáscara naranja whirlpool darle extra toque cítrico tropical toque lactosa sensacion sedosa boca la ferment</td>\n",
       "      <td>word are veri unnecessari orang creamsicl doubl neipa esta dobl presenta lúpulo amarillo simco citra hemo utilizado cáscara naranja whirlpool darl extra toqu cítrico tropic lactosa sensacion sedosa boca ferment</td>\n",
       "      <td>0.261409</td>\n",
       "      <td>words are very unnecessary orange creamsicle double neipa esta doble neipa presenta lúpulos amarillo simcoe citra hemos utilizado cáscara naranja whirlpool darle extra toque cítrico tropical toque lactosa sensacion sedosa boca la ferment</td>\n",
       "      <td>Words Are Very Unnecessary\\nOrange Creamsicle Double NEIPA\\nEsta DOBLE NEIPA presenta los lúpulos Amarillo, Simcoe &amp; Citra. Hemos utilizado cáscara de naranja en el whirlpool para darle ese extra toque cítrico y tropical y un toque de lactosa para ... Ver más sensacion sedosa en boca. La hemos fermentada con levadura New England para obtener matices de frutas de hueso.\\n-------------------\\nThis DOUBLE NEIPA features Amarillo, Simcoe &amp; Citra hops. We finished it off with orange zest for that...</td>\n",
       "    </tr>\n",
       "    <tr>\n",
       "      <th>268</th>\n",
       "      <td>Alvar Sandberg</td>\n",
       "      <td>NaN</td>\n",
       "      <td>Lager</td>\n",
       "      <td>NaN</td>\n",
       "      <td>NaN</td>\n",
       "      <td>NaN</td>\n",
       "      <td>Sandberg\\nCalifornia Lager\\nLa Sandberg California es una cerveza que recoge los sabores originarios de las genuinas cervezas de la costa oeste de Estados Unido, una tostada con carácter, elaborada con levaduras Ale pero que fermenta basada en el método tradicional de la lager.\\nSandberg – Cal ...</td>\n",
       "      <td>sandberg california lager la sandberg california cerveza recoge sabores originarios genuinas cervezas costa oeste estados unido tostada carácter elaborada levaduras ale fermenta basada método tradicional lager sandberg cal</td>\n",
       "      <td>sandberg california lager recog sabor originario genuina costa oest estado unido tostada carácter levadura ale fermenta basada método tradicion cal</td>\n",
       "      <td>0.000000</td>\n",
       "      <td>sandberg california lager la sandberg california cerveza recoge sabores originarios genuinas cervezas costa oeste estados unido tostada carácter elaborada levaduras ale fermenta basada método tradicional lager sandberg cal</td>\n",
       "      <td>Sandberg\\nCalifornia Lager\\nLa Sandberg California es una cerveza que recoge los sabores originarios de las genuinas cervezas de la costa oeste de Estados Unido, una tostada con carácter, elaborada con levaduras Ale pero que fermenta basada en el método ... Ver más de la lager.\\nSandberg – California Lager, es ideal para los amantes de la cerveza más tradicional europea, suavidad y ligero tostado caracterizan esta cerveza. Ver menos</td>\n",
       "    </tr>\n",
       "    <tr>\n",
       "      <th>271</th>\n",
       "      <td>Zeta Palmeres</td>\n",
       "      <td>NaN</td>\n",
       "      <td>Session IPA</td>\n",
       "      <td>4.8</td>\n",
       "      <td>NaN</td>\n",
       "      <td>3.83</td>\n",
       "      <td>Palmeres\\nSession NEIPA\\nCebada, trigo, avena y levadura Vermont. Esta cerveza es lo que se conoce como una New England India Pale Ale (NEIPA) en su versión Session, rebajada de alcohol. Un nombre complejo que encierra una cerveza pálida, turbia, suculenta pero ligera en su paso por boca. Su ar ...</td>\n",
       "      <td>palmeres session neipa cebada trigo avena levadura vermont esta cerveza conoce new england india pale ale neipa versión session rebajada alcohol un nombre complejo encierra cerveza pálida turbia suculenta ligera paso boca su ar</td>\n",
       "      <td>palmer session neipa cebada trigo avena levadura vermont esta conoc new england india pale ale versión rebajada alcohol un nombr complejo encierra pálida turbia suculenta ligera paso boca su ar</td>\n",
       "      <td>0.124251</td>\n",
       "      <td>palmeres session neipa cebada trigo avena levadura vermont esta cerveza conoce new england india pale ale neipa versión session rebajada alcohol un nombre complejo encierra cerveza pálida turbia suculenta ligera paso boca su ar</td>\n",
       "      <td>Palmeres\\nSession NEIPA\\nCebada, trigo, avena y levadura Vermont. Esta cerveza es lo que se conoce como una New England India Pale Ale (NEIPA) en su versión Session, rebajada de alcohol. Un nombre complejo que encierra una cerveza pálida, turbia, ... Ver más pero ligera en su paso por boca. Su aroma fresco, cítrico y delirante a base de muchísimo lúpulo de variedades Citra y Simcoe cierra el círculo de la experiencia. Les Palmeres, pedanía de Sueca encerrada entre playa y arrozales, donde se...</td>\n",
       "    </tr>\n",
       "    <tr>\n",
       "      <th>273</th>\n",
       "      <td>Zeta CV-500</td>\n",
       "      <td>NaN</td>\n",
       "      <td>India Pale Lager</td>\n",
       "      <td>5.5</td>\n",
       "      <td>NaN</td>\n",
       "      <td>3.68</td>\n",
       "      <td>CV-500\\nJuicy lager\\nLager con ingentes cantidades de lúpulo añadido en frío durante la fermentación. Cerveza limpia, jugosa, de aroma exageradamente frutal y astringencia poderosa pensada para los enamorados de la levadura más famosa del mundo.\\nLa CV500 es la carretera de único carril y do ...</td>\n",
       "      <td>cv 500 juicy lager lager ingentes cantidades lúpulo añadido frío fermentación cerveza limpia jugosa aroma exageradamente frutal astringencia poderosa pensada enamorados levadura famosa mundo la cv500 carretera único carril</td>\n",
       "      <td>cv 500 juici lager ingent cantidad lúpulo añadido frío fermentación limpia jugosa aroma exageradament frutal astringencia poderosa pensada enamorado levadura famosa mundo cv500 carretera único carril</td>\n",
       "      <td>0.000000</td>\n",
       "      <td>cv 500 juicy lager lager ingentes cantidades lúpulo añadido frío fermentación cerveza limpia jugosa aroma exageradamente frutal astringencia poderosa pensada enamorados levadura famosa mundo la cv500 carretera único carril</td>\n",
       "      <td>CV-500\\nJuicy lager\\nLager con ingentes cantidades de lúpulo añadido en frío durante la fermentación. Cerveza limpia, jugosa, de aroma exageradamente frutal y astringencia poderosa pensada para los enamorados de la levadura más famosa del mundo.\\nLa ... Ver más es la carretera de único carril y doble sentido que conecta Valencia con los Poblados del Sur atravesando la Albufera. Quien la recorra hasta su término, Sueca, se tropezará con las más importantes salas de la Ruta: Barraca, Chocolate...</td>\n",
       "    </tr>\n",
       "    <tr>\n",
       "      <th>309</th>\n",
       "      <td>Drunken Bros Amy</td>\n",
       "      <td>NaN</td>\n",
       "      <td>Session IPA</td>\n",
       "      <td>2.7</td>\n",
       "      <td>NaN</td>\n",
       "      <td>3.96</td>\n",
       "      <td>Amy 1983-2011\\nMicro IPA\\nMemorial Series\\nAMY, nuestra micro hazy ipa de tan solo 2,7% de alcohol y cantidades exageradas de TnT, Amarillo y Mosaic y nuestra levadura de cabecera Vermont, pronto verá la luz.\\nAmy Winehouse era pequeña pero poseía un carácter , una personalidad y una voz atrona ...</td>\n",
       "      <td>amy 1983 2011 micro ipa memorial series amy micro hazy ipa tan solo 2 7 alcohol cantidades exageradas tnt amarillo mosaic levadura cabecera vermont pronto verá luz amy winehouse pequeña poseía carácter personalidad voz atrona</td>\n",
       "      <td>ami 1983 2011 micro ipa memori seri hazi tan solo 2 7 alcohol cantidad exagerada tnt amarillo mosaic levadura cabecera vermont pronto verá luz winehous pequeña poseía carácter personalidad voz atrona</td>\n",
       "      <td>0.154479</td>\n",
       "      <td>amy 1983 2011 micro ipa memorial series amy micro hazy ipa tan solo 2 7 alcohol cantidades exageradas tnt amarillo mosaic levadura cabecera vermont pronto verá luz amy winehouse pequeña poseía carácter personalidad voz atrona</td>\n",
       "      <td>Amy 1983-2011\\nMicro IPA\\nMemorial Series\\nAMY, nuestra micro hazy ipa de tan solo 2,7% de alcohol y cantidades exageradas de TnT, Amarillo y Mosaic y nuestra levadura de cabecera Vermont, pronto verá la luz.\\nAmy Winehouse era pequeña pero poseía ... Ver más carácter , una personalidad y una voz atronadoras.Nuestra Amy es pequeña pero con todo el sabor , el aroma y el carácter que le pides a una buena cerveza.\\nAquí tenéis nuestro personal homenaje a la diva del soul del siglo XXI. Ver menos</td>\n",
       "    </tr>\n",
       "    <tr>\n",
       "      <th>311</th>\n",
       "      <td>Bidassoa Basque Brewery Acid Flashback</td>\n",
       "      <td>NaN</td>\n",
       "      <td>IPA Otros</td>\n",
       "      <td>5.5</td>\n",
       "      <td>35.0</td>\n",
       "      <td>3.55</td>\n",
       "      <td>Acid Flashback\\nFarmhouse IPA\\nDe color dorado, cristalina y con espuma blanca y persistente. Muy aromática, destacando aromas especiados, pimienta. Sabor equilibrado ligeramente especiado y herbaceo. De cuerpo medio-ligero. Final equilibrado y ligeramente amargo y picante. Cerveza refrescante d ...</td>\n",
       "      <td>acid flashback farmhouse ipa de color dorado cristalina espuma blanca persistente muy aromática destacando aromas especiados pimienta sabor equilibrado ligeramente especiado herbaceo de cuerpo medio ligero final equilibrado ligeramente amargo picante cerveza refrescante</td>\n",
       "      <td>acid flashback farmhous ipa de color dorado cristalina espuma blanca persistent muy aromática destacando aroma especiado pimienta sabor equilibrado ligerament especiado herbaceo cuerpo medio ligero final amargo picant refrescant</td>\n",
       "      <td>0.000000</td>\n",
       "      <td>acid flashback farmhouse ipa de color dorado cristalina espuma blanca persistente muy aromática destacando aromas especiados pimienta sabor equilibrado ligeramente especiado herbaceo de cuerpo medio ligero final equilibrado ligeramente amargo picante cerveza refrescante</td>\n",
       "      <td>Acid Flashback\\nFarmhouse IPA\\nDe color dorado, cristalina y con espuma blanca y persistente. Muy aromática, destacando aromas especiados, pimienta. Sabor equilibrado ligeramente especiado y herbaceo. De cuerpo medio-ligero. Final equilibrado y ligeramente ... Ver más y picante. Cerveza refrescante donde resaltan las notas de levadura.  Ver menos</td>\n",
       "    </tr>\n",
       "    <tr>\n",
       "      <th>325</th>\n",
       "      <td>Drunken Bros Shannon</td>\n",
       "      <td>NaN</td>\n",
       "      <td>American IPA</td>\n",
       "      <td>6.8</td>\n",
       "      <td>NaN</td>\n",
       "      <td>3.79</td>\n",
       "      <td>Shannon\\nWeast Coast India Pale Ale\\nMemorial Series\\nLa West Coast India Pale Ale dentro de la memorial series. Os presentamos una Ipa con levadura Omega y lúpulos Chinook, Ekuanot y Amarillo. Aromas cítricos hebales y además de afrutados.\\nUna vez en boca se presenta refrescante con un amargor ...</td>\n",
       "      <td>shannon weast coast india pale ale memorial series la west coast india pale ale dentro memorial series os presentamos ipa levadura omega lúpulos chinook ekuanot amarillo aromas cítricos hebales además afrutados una vez boca presenta refrescante amargor</td>\n",
       "      <td>shannon weast coast india pale ale memori seri west dentro os presentamo ipa levadura omega lúpulo chinook ekuanot amarillo aroma cítrico hebal ademá afrutado vez boca presenta refrescant amargor</td>\n",
       "      <td>0.000000</td>\n",
       "      <td>shannon weast coast india pale ale memorial series la west coast india pale ale dentro memorial series os presentamos ipa levadura omega lúpulos chinook ekuanot amarillo aromas cítricos hebales además afrutados una vez boca presenta refrescante amargor</td>\n",
       "      <td>Shannon\\nWeast Coast India Pale Ale\\nMemorial Series\\nLa West Coast India Pale Ale dentro de la memorial series. Os presentamos una Ipa con levadura Omega y lúpulos Chinook, Ekuanot y Amarillo. Aromas cítricos hebales y además de afrutados.\\nUna vez ... Ver más boca se presenta refrescante con un amargor resinoso que perdura en el paladar después del trago que se combina a sabores cítricos y afrutados. Refrescante a la vez que potente. Una ipa como las de antes. Nuestro homenaje a Shanoon Ho...</td>\n",
       "    </tr>\n",
       "    <tr>\n",
       "      <th>346</th>\n",
       "      <td>Cerex Trigo</td>\n",
       "      <td>NaN</td>\n",
       "      <td>Weizen-Weissbier</td>\n",
       "      <td>5.0</td>\n",
       "      <td>15.0</td>\n",
       "      <td>NaN</td>\n",
       "      <td>Trigo Edición Limitada\\nCerveza de Trigo especial elaborada siguiendo una receta centenaria traída de la región de Baviera (Alemania). Edición Limitada de 1.000 botellas.\\nTecnología alemana aplicada en Extremadura: receta original de la región de Baviera, extraída por Marcos Rubio, socio  ...</td>\n",
       "      <td>trigo edición limitada cerveza trigo especial elaborada siguiendo receta centenaria traída región baviera alemania edición limitada 1 000 botellas tecnología alemana aplicada extremadura receta original región baviera extraída marcos rubio socio</td>\n",
       "      <td>trigo edición limitada especi siguiendo receta centenaria traída región baviera alemania 1 000 botella tecnología alemana aplicada extremadura origin extraída marco rubio socio</td>\n",
       "      <td>0.000000</td>\n",
       "      <td>trigo edición limitada cerveza trigo especial elaborada siguiendo receta centenaria traída región baviera alemania edición limitada 1 000 botellas tecnología alemana aplicada extremadura receta original región baviera extraída marcos rubio socio</td>\n",
       "      <td>Trigo Edición Limitada\\nCerveza de Trigo especial elaborada siguiendo una receta centenaria traída de la región de Baviera (Alemania). Edición Limitada de 1.000 botellas.\\nTecnología alemana aplicada en Extremadura: receta original de la región ... Ver más Baviera, extraída por Marcos Rubio, socio fundador de Cerex, durante su último viaje a Alemania.\\nSe trata de una cerveza inspirada en el estilo más clásico de origen alemán: Weißbier Naturtrüb, sin filtrar, que da como resultado una cerve...</td>\n",
       "    </tr>\n",
       "    <tr>\n",
       "      <th>365</th>\n",
       "      <td>La Morena Wheat Beer</td>\n",
       "      <td>NaN</td>\n",
       "      <td>Weizen-Weissbier</td>\n",
       "      <td>4.9</td>\n",
       "      <td>16.0</td>\n",
       "      <td>NaN</td>\n",
       "      <td>Wheat Beer\\nLa Morena Wheat Beer es una cerveza de Trigo, de alta fermentación estilo alemán, elaborada con 50% de Trigo, 50% de Malta de Cebada. Presenta un color rubio pálido, con espuma densa de burbuja fina y duradera. En el vaso es turbia al no estar filtrada, su sabor es ligero, afruta ...</td>\n",
       "      <td>wheat beer la morena wheat beer cerveza trigo alta fermentación estilo alemán elaborada 50 trigo 50 malta cebada presenta color rubio pálido espuma densa burbuja fina duradera en vaso turbia filtrada sabor ligero afruta</td>\n",
       "      <td>wheat beer morena trigo alta fermentación estilo alemán 50 malta cebada presenta color rubio pálido espuma densa burbuja fina duradera en vaso turbia filtrada sabor ligero afruta</td>\n",
       "      <td>0.000000</td>\n",
       "      <td>wheat beer la morena wheat beer cerveza trigo alta fermentación estilo alemán elaborada 50 trigo 50 malta cebada presenta color rubio pálido espuma densa burbuja fina duradera en vaso turbia filtrada sabor ligero afruta</td>\n",
       "      <td>Wheat Beer\\nLa Morena Wheat Beer es una cerveza de Trigo, de alta fermentación estilo alemán, elaborada con 50% de Trigo, 50% de Malta de Cebada. Presenta un color rubio pálido, con espuma densa de burbuja fina y duradera. En el vaso es turbia al ... Ver más estar filtrada, su sabor es ligero, afrutado y algo ácido. Los aromas y sabores que predominan son: pan, plátano, especias, clavo, vainilla. Es una cerveza viva, podremos encontrar levadura en forma de sedimento en el fondo de la botella...</td>\n",
       "    </tr>\n",
       "    <tr>\n",
       "      <th>367</th>\n",
       "      <td>Cerex Cereza Sin Gluten</td>\n",
       "      <td>NaN</td>\n",
       "      <td>Sin Gluten</td>\n",
       "      <td>5.0</td>\n",
       "      <td>NaN</td>\n",
       "      <td>NaN</td>\n",
       "      <td>Creza Sin Gluten\\nCerveza de Cereza Sin Gluten. 100% apta para celíacos.\\nColor rojo mate intenso. Carbónico ligero.\\nAroma intenso a cereza y levaduras de la variedad Bretanomyces, procedente de la piel de la cereza. Los aromas son frutales y florales, de cereza fresca, y flores blancas (azahar ...</td>\n",
       "      <td>creza sin gluten cerveza cereza sin gluten 100 apta celíacos color rojo mate intenso carbónico ligero aroma intenso cereza levaduras variedad bretanomyces procedente piel cereza los aromas frutales florales cereza fresca flores blancas azahar</td>\n",
       "      <td>creza sin gluten cereza 100 apta celíaco color rojo mate intenso carbónico ligero aroma levadura variedad bretanomyc procedent piel lo aroma frutal floral fresca flore blanca azahar</td>\n",
       "      <td>0.000000</td>\n",
       "      <td>creza sin gluten cerveza cereza sin gluten 100 apta celíacos color rojo mate intenso carbónico ligero aroma intenso cereza levaduras variedad bretanomyces procedente piel cereza los aromas frutales florales cereza fresca flores blancas azahar</td>\n",
       "      <td>Creza Sin Gluten\\nCerveza de Cereza Sin Gluten. 100% apta para celíacos.\\nColor rojo mate intenso. Carbónico ligero.\\nAroma intenso a cereza y levaduras de la variedad Bretanomyces, procedente de la piel de la cereza. Los aromas son frutales y florales, ... Ver más cereza fresca, y flores blancas (azahar y claveles blancos).\\nCerveza muy expresiva, suave en boca, dejando notas en todo el recorrido en boca. Al final de la lengua se percibe cierta acidez, que combina perfectamente con el predo...</td>\n",
       "    </tr>\n",
       "    <tr>\n",
       "      <th>443</th>\n",
       "      <td>In Peccatum Pecado Original</td>\n",
       "      <td>NaN</td>\n",
       "      <td>Saison</td>\n",
       "      <td>6.0</td>\n",
       "      <td>NaN</td>\n",
       "      <td>3.28</td>\n",
       "      <td>Pecado Original\\nOak barrel Aged Farmhouse\\nFarmhouse envejecida en barrica de roble\\nEsta cerveza de edición limitada es el resultado de un blend de diferentes cervezas envejecidas en barrica de roble con diferentes levaduras, bacterias y frutas durante un mínimo de 32 meses:\\n70% Farmhouse refe ...</td>\n",
       "      <td>pecado original oak barrel aged farmhouse farmhouse envejecida barrica roble esta cerveza edición limitada resultado blend diferentes cervezas envejecidas barrica roble diferentes levaduras bacterias frutas mínimo 32 meses 70 farmhouse refe</td>\n",
       "      <td>pecado origin oak barrel age farmhous envejecida barrica robl esta edición limitada resultado blend diferent envejecida levadura bacteria fruta mínimo 32 mese 70 refe</td>\n",
       "      <td>0.000000</td>\n",
       "      <td>pecado original oak barrel aged farmhouse farmhouse envejecida barrica roble esta cerveza edición limitada resultado blend diferentes cervezas envejecidas barrica roble diferentes levaduras bacterias frutas mínimo 32 meses 70 farmhouse refe</td>\n",
       "      <td>Pecado Original\\nOak barrel Aged Farmhouse\\nFarmhouse envejecida en barrica de roble\\nEsta cerveza de edición limitada es el resultado de un blend de diferentes cervezas envejecidas en barrica de roble con diferentes levaduras, bacterias y frutas durante ... Ver más mínimo de 32 meses:\\n70% Farmhouse refermentada en barrica de roble con membrillo y brettanomyces bruxellensis.\\n15% Farmhouse refermentada en barrica de roble con brettanomyces lambicus.\\n15% Farmhouse refermentada en barrica de...</td>\n",
       "    </tr>\n",
       "    <tr>\n",
       "      <th>464</th>\n",
       "      <td>Barley &amp; Co. Babilense</td>\n",
       "      <td>NaN</td>\n",
       "      <td>Hefeweizen</td>\n",
       "      <td>4.3</td>\n",
       "      <td>16.0</td>\n",
       "      <td>NaN</td>\n",
       "      <td>Babilense\\nHefeweissbier\\nNuestra cerveza de trigo amarilla dorada con espuma blanca de finos poros, impresiona con su aroma a plátano, su cuerpo y su suave sabor a levadura.\\nVa de maravilla con pescados y mariscos, quesos picantes y especialmente con la salchica bavara de ternera</td>\n",
       "      <td>babilense hefeweissbier nuestra cerveza trigo amarilla dorada espuma blanca finos poros impresiona aroma plátano cuerpo suave sabor levadura va maravilla pescados mariscos quesos picantes especialmente salchica bavara ternera</td>\n",
       "      <td>babilens hefeweissbi nuestra trigo amarilla dorada espuma blanca fino poro impresiona aroma plátano cuerpo suav sabor levadura va maravilla pescado marisco queso picant especialment salchica bavara ternera</td>\n",
       "      <td>0.000000</td>\n",
       "      <td>babilense hefeweissbier nuestra cerveza trigo amarilla dorada espuma blanca finos poros impresiona aroma plátano cuerpo suave sabor levadura va maravilla pescados mariscos quesos picantes especialmente salchica bavara ternera</td>\n",
       "      <td>Babilense\\nHefeweissbier\\nNuestra cerveza de trigo amarilla dorada con espuma blanca de finos poros, impresiona con su aroma a plátano, su cuerpo y su suave sabor a levadura.\\nVa de maravilla con pescados y mariscos, quesos picantes y especialmente ... Ver más la salchica bavara de ternera Ver menos</td>\n",
       "    </tr>\n",
       "    <tr>\n",
       "      <th>483</th>\n",
       "      <td>Redneck Whiteclay Moonshiner Series</td>\n",
       "      <td>NaN</td>\n",
       "      <td>American Pale Ale</td>\n",
       "      <td>5.7</td>\n",
       "      <td>32.0</td>\n",
       "      <td>3.69</td>\n",
       "      <td>Redneck Whiteclay Moonshiner Series\\nExtra pale ale extra hoppy, Vic secret, Citra, Simcoe y cascade, malta extra pale y levadura west coast Bry 97.</td>\n",
       "      <td>redneck whiteclay moonshiner series extra pale ale extra hoppy vic secret citra simcoe cascade malta extra pale levadura west coast bry 97</td>\n",
       "      <td>redneck whiteclay moonshin seri extra pale ale hoppi vic secret citra simco cascad malta levadura west coast bri 97</td>\n",
       "      <td>0.133211</td>\n",
       "      <td>redneck whiteclay moonshiner series extra pale ale extra hoppy vic secret citra simcoe cascade malta extra pale levadura west coast bry 97</td>\n",
       "      <td>Redneck Whiteclay Moonshiner Series\\nExtra pale ale extra hoppy, Vic secret, Citra, Simcoe y cascade, malta extra pale y levadura west coast Bry 97.</td>\n",
       "    </tr>\n",
       "    <tr>\n",
       "      <th>488</th>\n",
       "      <td>Vandalia Azabache</td>\n",
       "      <td>NaN</td>\n",
       "      <td>Porter</td>\n",
       "      <td>5.0</td>\n",
       "      <td>40.0</td>\n",
       "      <td>2.88</td>\n",
       "      <td>Azabache Porter\\nCerveza de tonos marrones y destellos de rubí\\nCerveza Porter tipo ALE, con matices marrones y reflejos de rubí cuando se la pone al trasluz, espuma de color café con leche con retención razonable, de aroma tostado proveniente de las maltas con las que se elabora, también pu ...</td>\n",
       "      <td>azabache porter cerveza tonos marrones destellos rubí cerveza porter tipo ale matices marrones reflejos rubí pone trasluz espuma color café leche retención razonable aroma tostado proveniente maltas elabora pu</td>\n",
       "      <td>azabach porter tono marron destello rubí tipo ale matic reflejo pone trasluz espuma color café lech retención razon aroma tostado provenient malta elabora pu</td>\n",
       "      <td>0.000000</td>\n",
       "      <td>azabache porter cerveza tonos marrones destellos rubí cerveza porter tipo ale matices marrones reflejos rubí pone trasluz espuma color café leche retención razonable aroma tostado proveniente maltas elabora pu</td>\n",
       "      <td>Azabache Porter\\nCerveza de tonos marrones y destellos de rubí\\nCerveza Porter tipo ALE, con matices marrones y reflejos de rubí cuando se la pone al trasluz, espuma de color café con leche con retención razonable, de aroma tostado proveniente de ... Ver más maltas con las que se elabora, también puede desprender toques a chocolate y nuez, en cuanto al sabor, es una cerveza de cuerpo medio, carbonatación media y con marcados sabores maltosos de regaliz y café con un remate final acaramelado ...</td>\n",
       "    </tr>\n",
       "    <tr>\n",
       "      <th>492</th>\n",
       "      <td>Scone Pale Ale</td>\n",
       "      <td>NaN</td>\n",
       "      <td>Pale Ale</td>\n",
       "      <td>5.0</td>\n",
       "      <td>35.0</td>\n",
       "      <td>3.36</td>\n",
       "      <td>Pale Ale\\nLa Pale Ale es el estilo característico de Inglaterra y es por ello que hemos elegido maltas de cebada 100% inglesas, consiguiendo un equilibrio casi perfecto entre el cereal y el lúpulo.\\nVista (color): Color ambar claro y brillante. Con espuma blanca dense y cremosa.\\nNariz (olor): A ...</td>\n",
       "      <td>pale ale la pale ale estilo característico inglaterra ello elegido maltas cebada 100 inglesas consiguiendo equilibrio casi perfecto cereal lúpulo vista color color ambar claro brillante con espuma blanca dense cremosa nariz olor a</td>\n",
       "      <td>pale ale estilo característico inglaterra ello elegido malta cebada 100 inglesa consiguiendo equilibrio casi perfecto cereal lúpulo vista color ambar claro brillant con espuma blanca dens cremosa nariz olor a</td>\n",
       "      <td>0.000000</td>\n",
       "      <td>pale ale la pale ale estilo característico inglaterra ello elegido maltas cebada 100 inglesas consiguiendo equilibrio casi perfecto cereal lúpulo vista color color ambar claro brillante con espuma blanca dense cremosa nariz olor a</td>\n",
       "      <td>Pale Ale\\nLa Pale Ale es el estilo característico de Inglaterra y es por ello que hemos elegido maltas de cebada 100% inglesas, consiguiendo un equilibrio casi perfecto entre el cereal y el lúpulo.\\nVista (color): Color ambar claro y brillante. Con ... Ver más blanca dense y cremosa.\\nNariz (olor): Aroma afrutado y fresco, que evoluciona hacia notas de levadura y final maltoso.\\nBoca (sabor):Primera sensación en boca fresca con primeras notas a miel. A medio trago sale el cuerpo maltoso de l...</td>\n",
       "    </tr>\n",
       "    <tr>\n",
       "      <th>494</th>\n",
       "      <td>Jakobsland Blending In</td>\n",
       "      <td>NaN</td>\n",
       "      <td>Imperial IPA</td>\n",
       "      <td>8.0</td>\n",
       "      <td>18.0</td>\n",
       "      <td>3.89</td>\n",
       "      <td>Blending In\\nEkuanot Citra DIPA\\nEsta DIPA presenta dos de nuestros lúpulos favoritos, Citra y Ekuanot, que juntos consiguen intensos aromas y sabores a lima, melon, papaya, con un fondo resinoso, y que se han añadido durante un doble dryhopping de 26g/L. La hemos fermentado con levadura ingles ...</td>\n",
       "      <td>blending in ekuanot citra dipa esta dipa presenta dos lúpulos favoritos citra ekuanot juntos consiguen intensos aromas sabores lima melon papaya fondo resinoso añadido doble dryhopping 26g l la fermentado levadura ingles</td>\n",
       "      <td>blend in ekuanot citra dipa esta presenta do lúpulo favorito junto consiguen intenso aroma sabor lima melon papaya fondo resinoso añadido dobl dryhop 26g l fermentado levadura ingl</td>\n",
       "      <td>0.134565</td>\n",
       "      <td>blending in ekuanot citra dipa esta dipa presenta dos lúpulos favoritos citra ekuanot juntos consiguen intensos aromas sabores lima melon papaya fondo resinoso añadido doble dryhopping 26g l la fermentado levadura ingles</td>\n",
       "      <td>Blending In\\nEkuanot Citra DIPA\\nEsta DIPA presenta dos de nuestros lúpulos favoritos, Citra y Ekuanot, que juntos consiguen intensos aromas y sabores a lima, melon, papaya, con un fondo resinoso, y que se han añadido durante un doble dryhopping de ... Ver más La hemos fermentado con levadura inglesa para el toque de frutas maduras.\\nThis DIPA features two of our favourite hops; Citra and Ekuanot, blended together for a big juicy kick of lime, melon, papaya and a hearty resinous backbone. Do...</td>\n",
       "    </tr>\n",
       "    <tr>\n",
       "      <th>508</th>\n",
       "      <td>Jakobsland Sweet Disposition</td>\n",
       "      <td>NaN</td>\n",
       "      <td>New England IPA</td>\n",
       "      <td>6.7</td>\n",
       "      <td>18.0</td>\n",
       "      <td>3.84</td>\n",
       "      <td>Sweet Disposition\\nHemos abarrotado esta NEIPA con los jugosos lupulos de Chinook y Vic Secret en un doble dry hopping de 24g/L para conseguir un dulce buque de aromas de pomelo, melon y melocotón madura. La hemos fermentado con levadura inglesa para un toque complejo de frutas de hueso.</td>\n",
       "      <td>sweet disposition hemos abarrotado neipa jugosos lupulos chinook vic secret doble dry hopping 24g l conseguir dulce buque aromas pomelo melon melocotón madura la fermentado levadura inglesa toque complejo frutas hueso</td>\n",
       "      <td>sweet disposit hemo abarrotado neipa jugoso lupulo chinook vic secret dobl dri hop 24g l conseguir dulc buqu aroma pomelo melon melocotón madura fermentado levadura inglesa toqu complejo fruta hueso</td>\n",
       "      <td>0.185624</td>\n",
       "      <td>sweet disposition hemos abarrotado neipa jugosos lupulos chinook vic secret doble dry hopping 24g l conseguir dulce buque aromas pomelo melon melocotón madura la fermentado levadura inglesa toque complejo frutas hueso</td>\n",
       "      <td>Sweet Disposition\\nHemos abarrotado esta NEIPA con los jugosos lupulos de Chinook y Vic Secret en un doble dry hopping de 24g/L para conseguir un dulce buque de aromas de pomelo, melon y melocotón madura. La hemos fermentado con levadura inglesa para ... Ver más toque complejo de frutas de hueso. Ver menos</td>\n",
       "    </tr>\n",
       "    <tr>\n",
       "      <th>528</th>\n",
       "      <td>Jakobsland On Cloud 9</td>\n",
       "      <td>NaN</td>\n",
       "      <td>Imperial IPA</td>\n",
       "      <td>8.0</td>\n",
       "      <td>18.0</td>\n",
       "      <td>3.96</td>\n",
       "      <td>On Cloud 9\\nOat Cream DIPA\\nEsta DIPA presenta 3 lúpulos; Ekuanot, Azacca y Vic Secret, con intensos aromas y sabores a papaya, piña y mango. Les hemos envuelto en una nube de avena con un toque de lactosa para una sensación en boca muy cremosa. Hemos fermentado esta DIPA con levadura Inglesa  ...</td>\n",
       "      <td>on cloud 9 oat cream dipa esta dipa presenta 3 lúpulos ekuanot azacca vic secret intensos aromas sabores papaya piña mango les envuelto nube avena toque lactosa sensación boca cremosa hemos fermentado dipa levadura inglesa</td>\n",
       "      <td>on cloud 9 oat cream dipa esta presenta 3 lúpulo ekuanot azacca vic secret intenso aroma sabor papaya piña mango le envuelto nube avena toqu lactosa sensación boca cremosa hemo fermentado levadura inglesa</td>\n",
       "      <td>0.000000</td>\n",
       "      <td>on cloud 9 oat cream dipa esta dipa presenta 3 lúpulos ekuanot azacca vic secret intensos aromas sabores papaya piña mango les envuelto nube avena toque lactosa sensación boca cremosa hemos fermentado dipa levadura inglesa</td>\n",
       "      <td>On Cloud 9\\nOat Cream DIPA\\nEsta DIPA presenta 3 lúpulos; Ekuanot, Azacca y Vic Secret, con intensos aromas y sabores a papaya, piña y mango. Les hemos envuelto en una nube de avena con un toque de lactosa para una sensación en boca muy cremosa. ... Ver más fermentado esta DIPA con levadura Inglesa para el toque de frutas maduras.\\n-------------\\nThis DIPA features 3 fruit forward hops; Ekuanot, Azacca &amp; Vic Secret, with aromas &amp; flavors of papaya, pineapple &amp; mango. Laid on top of a fluffy ...</td>\n",
       "    </tr>\n",
       "    <tr>\n",
       "      <th>...</th>\n",
       "      <td>...</td>\n",
       "      <td>...</td>\n",
       "      <td>...</td>\n",
       "      <td>...</td>\n",
       "      <td>...</td>\n",
       "      <td>...</td>\n",
       "      <td>...</td>\n",
       "      <td>...</td>\n",
       "      <td>...</td>\n",
       "      <td>...</td>\n",
       "      <td>...</td>\n",
       "      <td>...</td>\n",
       "    </tr>\n",
       "    <tr>\n",
       "      <th>6497</th>\n",
       "      <td>Estrella Damm Inedit</td>\n",
       "      <td>NaN</td>\n",
       "      <td>Pale Ale</td>\n",
       "      <td>4.8</td>\n",
       "      <td>18.0</td>\n",
       "      <td>3.50</td>\n",
       "      <td>Estrella Damm Inedit es un coupage único de malta de cebada y trigo, aromatizado con cilantro, piel de naranja y regaliz.\\r\\nEstrella Damm Inedit nace del convencimiento de que era necesaria una cerveza capaz de acompañar con el máximo respeto la mejor gastronomía. Esa es su intención y su v ...</td>\n",
       "      <td>estrella damm inedit coupage único malta cebada trigo aromatizado cilantro piel naranja regaliz estrella damm inedit nace convencimiento necesaria cerveza capaz acompañar máximo respeto mejor gastronomía esa intención v</td>\n",
       "      <td>estrella damm inedit coupag único malta cebada trigo aromatizado cilantro piel naranja regaliz nace convencimiento necesaria capaz acompañar máximo respeto mejor gastronomía esa intención v</td>\n",
       "      <td>0.000000</td>\n",
       "      <td>estrella damm inedit coupage único malta cebada trigo aromatizado cilantro piel naranja regaliz estrella damm inedit nace convencimiento necesaria cerveza capaz acompañar máximo respeto mejor gastronomía esa intención v</td>\n",
       "      <td>Estrella Damm Inedit es un coupage único de malta de cebada y trigo, aromatizado con cilantro, piel de naranja y regaliz.\\r\\nEstrella Damm Inedit nace del convencimiento de que era necesaria una cerveza capaz de acompañar con el máximo respeto la ... Ver más gastronomía. Esa es su intención y su virtud, y eso es lo que la convierte en una cerveza diferente, especial, única.\\r\\nHa sido creada por los maestros cerveceros de Damm, herederos de una tradición secular y creadores de algunas de las...</td>\n",
       "    </tr>\n",
       "    <tr>\n",
       "      <th>6503</th>\n",
       "      <td>Illa Premium</td>\n",
       "      <td>NaN</td>\n",
       "      <td>Premium American Lager</td>\n",
       "      <td>NaN</td>\n",
       "      <td>NaN</td>\n",
       "      <td>1.50</td>\n",
       "      <td>Cerveza lager Premium, bohemia, equilibrada y elegante, con recuerdo largo en boca y donde la suave amargor del lúpulo fresco convive con el aroma intenso de la malta.CATA CERVEZA ILLA ARTESANAColor dorado oscuro con espuma blanca densa y cremosa.Aroma suave donde predominan las notas de cerea ...</td>\n",
       "      <td>cerveza lager premium bohemia equilibrada elegante recuerdo largo boca suave amargor lúpulo fresco convive aroma intenso malta cata cerveza illa artesanacolor dorado oscuro espuma blanca densa cremosa aroma suave predominan notas cerea</td>\n",
       "      <td>lager premium bohemia equilibrada elegant recuerdo largo boca suav amargor lúpulo fresco conviv aroma intenso malta cata illa artesanacolor dorado oscuro espuma blanca densa cremosa predominan nota cerea</td>\n",
       "      <td>0.000000</td>\n",
       "      <td>cerveza lager premium bohemia equilibrada elegante recuerdo largo boca suave amargor lúpulo fresco convive aroma intenso malta cata cerveza illa artesanacolor dorado oscuro espuma blanca densa cremosa aroma suave predominan notas cerea</td>\n",
       "      <td>Cerveza lager Premium, bohemia, equilibrada y elegante, con recuerdo largo en boca y donde la suave amargor del lúpulo fresco convive con el aroma intenso de la malta.CATA CERVEZA ILLA ARTESANAColor dorado oscuro con espuma blanca densa y cremosa.Aroma ... Ver más donde predominan las notas de cereales y tostados con un final en levaduras.Entrada con fuerza llenando toda la boca con una efervescencia moderada que permite notar perfectamente los gustos a maltas y levaduras.Retrogusto largo qu...</td>\n",
       "    </tr>\n",
       "    <tr>\n",
       "      <th>6504</th>\n",
       "      <td>Illa Artesana</td>\n",
       "      <td>NaN</td>\n",
       "      <td>Pilsner</td>\n",
       "      <td>6.0</td>\n",
       "      <td>NaN</td>\n",
       "      <td>3.09</td>\n",
       "      <td>Illa Artesana\\r\\nColor ambarino ligeramente velado con espuma blanca densa y cremosa.\\r\\nAroma suave donde predominan las notas de cereal, levadura, lúpulo, tostados, caramelos suaves con una fondo de regaliz y vainilla.\\r\\nEntrada suave, densa, voluminosa con una efervescencia fina perfectamente in ...</td>\n",
       "      <td>illa artesana color ambarino ligeramente velado espuma blanca densa cremosa aroma suave predominan notas cereal levadura lúpulo tostados caramelos suaves fondo regaliz vainilla entrada suave densa voluminosa efervescencia fina perfectamente</td>\n",
       "      <td>illa artesana color ambarino ligerament velado espuma blanca densa cremosa aroma suav predominan nota cereal levadura lúpulo tostado caramelo suav fondo regaliz vainilla entrada voluminosa efervescencia fina perfectament</td>\n",
       "      <td>0.000000</td>\n",
       "      <td>illa artesana color ambarino ligeramente velado espuma blanca densa cremosa aroma suave predominan notas cereal levadura lúpulo tostados caramelos suaves fondo regaliz vainilla entrada suave densa voluminosa efervescencia fina perfectamente</td>\n",
       "      <td>Illa Artesana\\r\\nColor ambarino ligeramente velado con espuma blanca densa y cremosa.\\r\\nAroma suave donde predominan las notas de cereal, levadura, lúpulo, tostados, caramelos suaves con una fondo de regaliz y vainilla.\\r\\nEntrada suave, densa, voluminosa ... Ver más una efervescencia fina perfectamente integrada con un retrogusto largo y fresco con toques de regaliz y ahumados. Ver menos</td>\n",
       "    </tr>\n",
       "    <tr>\n",
       "      <th>6514</th>\n",
       "      <td>Maier Pale Ale</td>\n",
       "      <td>NaN</td>\n",
       "      <td>American Pale Ale</td>\n",
       "      <td>4.5</td>\n",
       "      <td>29.0</td>\n",
       "      <td>3.15</td>\n",
       "      <td>La cerveza Maier Pale Ale debe su profundo color ámbar, espuma gruesa y rico sabor, a un proceso de elaboración de la cerveza como ninguna otra.Se trata de un proceso que combina un profundo respeto por la tradición cervecera con muchas décadas de evolución para llegar a un enfoque único: ...</td>\n",
       "      <td>la cerveza maier pale ale debe profundo color ámbar espuma gruesa rico sabor proceso elaboración cerveza ninguna otra se trata proceso combina profundo respeto tradición cervecera muchas décadas evolución llegar enfoque único</td>\n",
       "      <td>maier pale ale debe profundo color ámbar espuma gruesa rico sabor proceso elaboración ninguna otra se trata combina respeto tradición cervecera mucha década evolución llegar enfoqu único</td>\n",
       "      <td>0.000000</td>\n",
       "      <td>la cerveza maier pale ale debe profundo color ámbar espuma gruesa rico sabor proceso elaboración cerveza ninguna otra se trata proceso combina profundo respeto tradición cervecera muchas décadas evolución llegar enfoque único</td>\n",
       "      <td>La cerveza Maier Pale Ale debe su profundo color ámbar, espuma gruesa y rico sabor, a un proceso de elaboración de la cerveza como ninguna otra.Se trata de un proceso que combina un profundo respeto por la tradición cervecera con muchas décadas ... Ver más evolución para llegar a un enfoque único: una mezcla de maltas pálidas y caramelo con un leve toque amargo gracias al lúpulo americano cascade. Una primera fermentación alta con levadura ale y una segunda fermentación en botella donde se p...</td>\n",
       "    </tr>\n",
       "    <tr>\n",
       "      <th>6521</th>\n",
       "      <td>Rosita Negra con Avellanas de Alcover</td>\n",
       "      <td>NaN</td>\n",
       "      <td>American Brown Ale</td>\n",
       "      <td>6.0</td>\n",
       "      <td>NaN</td>\n",
       "      <td>3.22</td>\n",
       "      <td>Cerveza negra con un color muy llamativo debido a sus reflejos a caramelo de azúcar o café. En copa es densa y su elegancia en el carbónico es muy apreciable. Una espuma de color marrón claro, mas parecido a “café con leche”, no es tan resistente en copa debido a contener avellanas que ...</td>\n",
       "      <td>cerveza negra color llamativo debido reflejos caramelo azúcar café en copa densa elegancia carbónico apreciable una espuma color marrón claro mas parecido café leche tan resistente copa debido contener avellanas</td>\n",
       "      <td>negra color llamativo debido reflejo caramelo azúcar café en copa densa elegancia carbónico apreci espuma marrón claro ma parecido lech tan resistent conten avellana</td>\n",
       "      <td>0.000000</td>\n",
       "      <td>cerveza negra color llamativo debido reflejos caramelo azúcar café en copa densa elegancia carbónico apreciable una espuma color marrón claro mas parecido café leche tan resistente copa debido contener avellanas</td>\n",
       "      <td>Cerveza negra con un color muy llamativo debido a sus reflejos a caramelo de azúcar o café. En copa es densa y su elegancia en el carbónico es muy apreciable. Una espuma de color marrón claro, mas parecido a “café con leche”, no es tan resistente ... Ver más copa debido a contener avellanas que nos carga la persistencia de la misma. Pero resiste lo suficiente como para apreciarla y disfrutar. En nariz es una cerveza única, ya que sus notas a avellanas tostadas están bien marcadas y sus notas...</td>\n",
       "    </tr>\n",
       "    <tr>\n",
       "      <th>6522</th>\n",
       "      <td>Rosita d’Ivori</td>\n",
       "      <td>NaN</td>\n",
       "      <td>Witbier</td>\n",
       "      <td>4.5</td>\n",
       "      <td>NaN</td>\n",
       "      <td>3.02</td>\n",
       "      <td>Rosita d’Ivori\\nCerveza rubia, con burbujas finas y elegantes, ligera en copa, una turbidez poco marcada a pesar de sufrir una segunda fermentación en botella y tener las levaduras precipitadas (Lías).\\nEspuma blanca y consistente en copa, muy atractiva a la vista. En nariz es un conjunto cí ...</td>\n",
       "      <td>rosita d ivori cerveza rubia burbujas finas elegantes ligera copa turbidez marcada pesar sufrir segunda fermentación botella tener levaduras precipitadas lías espuma blanca consistente copa atractiva vista en nariz conjunto cí</td>\n",
       "      <td>rosita d ivori rubia burbuja fina elegant ligera copa turbidez marcada pesar sufrir segunda fermentación botella tener levadura precipitada lía espuma blanca consistent atractiva vista en nariz conjunto cí</td>\n",
       "      <td>0.000000</td>\n",
       "      <td>rosita d ivori cerveza rubia burbujas finas elegantes ligera copa turbidez marcada pesar sufrir segunda fermentación botella tener levaduras precipitadas lías espuma blanca consistente copa atractiva vista en nariz conjunto cí</td>\n",
       "      <td>Rosita d’Ivori\\nCerveza rubia, con burbujas finas y elegantes, ligera en copa, una turbidez poco marcada a pesar de sufrir una segunda fermentación en botella y tener las levaduras precipitadas (Lías).\\nEspuma blanca y consistente en copa, muy atractiva ... Ver más la vista. En nariz es un conjunto cítrico, marcados por la piel de naranja y la misma pulpa. Aromas al cereal, en este caso el trigo, flores blancas también marcan mucho sus aromas, es una cerveza fresca y muy agradable olfativame...</td>\n",
       "    </tr>\n",
       "    <tr>\n",
       "      <th>6523</th>\n",
       "      <td>Rosita Original</td>\n",
       "      <td>NaN</td>\n",
       "      <td>Blonde Ale</td>\n",
       "      <td>5.5</td>\n",
       "      <td>8.0</td>\n",
       "      <td>3.15</td>\n",
       "      <td>Rosita Original\\r\\nCerveza rubia de color miel, de carbónico fino y elegante, con cierta densidad en copa, espuma blanca con tonos marfil cremosa y constante, con buena persistencia. Debido a la presencia de levaduras de la segunda fermentación, es turbia.\\r\\nOlfativamente se muestra muy afrutada ...</td>\n",
       "      <td>rosita original cerveza rubia color miel carbónico fino elegante cierta densidad copa espuma blanca tonos marfil cremosa constante buena persistencia debido presencia levaduras segunda fermentación turbia olfativamente muestra afrutada</td>\n",
       "      <td>rosita origin rubia color miel carbónico fino elegant cierta densidad copa espuma blanca tono marfil cremosa constant buena persistencia debido presencia levadura segunda fermentación turbia olfativament muestra afrutada</td>\n",
       "      <td>0.000000</td>\n",
       "      <td>rosita original cerveza rubia color miel carbónico fino elegante cierta densidad copa espuma blanca tonos marfil cremosa constante buena persistencia debido presencia levaduras segunda fermentación turbia olfativamente muestra afrutada</td>\n",
       "      <td>Rosita Original\\r\\nCerveza rubia de color miel, de carbónico fino y elegante, con cierta densidad en copa, espuma blanca con tonos marfil cremosa y constante, con buena persistencia. Debido a la presencia de levaduras de la segunda fermentación, es ... Ver más se muestra muy afrutada, con mucha persistencia del grano infusionado, notas a plátano y manzana roja, recuerdos a melazas y tostados muy sutiles, muy compleja. En boca es dulce y golosa al principio, para pasar a notar todo su volumen...</td>\n",
       "    </tr>\n",
       "    <tr>\n",
       "      <th>6525</th>\n",
       "      <td>La Font del Diable Candela Strong</td>\n",
       "      <td>NaN</td>\n",
       "      <td>Amber Ale</td>\n",
       "      <td>5.5</td>\n",
       "      <td>50.0</td>\n",
       "      <td>3.54</td>\n",
       "      <td>La Font del Diable Candela Strong\\r\\nCandela Strong es una interpretación de Amber Ale con alcohol medio y moderado, amargor marcado y aroma contundente.\\r\\n5 tipos de malta y copos de cebada para crear la base, y 3 variedades de lúpulo hacen el mosto.\\r\\nElegimos lúpulos Europeos para generar ama ...</td>\n",
       "      <td>la font diable candela strong candela strong interpretación amber ale alcohol medio moderado amargor marcado aroma contundente 5 tipos malta copos cebada crear base 3 variedades lúpulo hacen mosto elegimos lúpulos europeos generar ama</td>\n",
       "      <td>font diabl candela strong interpretación amber ale alcohol medio moderado amargor marcado aroma contundent 5 tipo malta copo cebada crear base 3 variedad lúpulo hacen mosto elegimo lúpulo europeo generar ama</td>\n",
       "      <td>0.000000</td>\n",
       "      <td>la font diable candela strong candela strong interpretación amber ale alcohol medio moderado amargor marcado aroma contundente 5 tipos malta copos cebada crear base 3 variedades lúpulo hacen mosto elegimos lúpulos europeos generar ama</td>\n",
       "      <td>La Font del Diable Candela Strong\\r\\nCandela Strong es una interpretación de Amber Ale con alcohol medio y moderado, amargor marcado y aroma contundente.\\r\\n5 tipos de malta y copos de cebada para crear la base, y 3 variedades de lúpulo hacen el mosto.\\r\\nElegimos ... Ver más Europeos para generar amargor y sabor limpio, y Neozelandeses para procurar aromas marcados a frutas, frutas maduras o uva entre otras cosas, enfatizando con un pequeño Dry Hopping.\\r\\nFermentamos con levadura neutra es...</td>\n",
       "    </tr>\n",
       "    <tr>\n",
       "      <th>6526</th>\n",
       "      <td>La Font del Diable Febre Groga</td>\n",
       "      <td>NaN</td>\n",
       "      <td>English IPA</td>\n",
       "      <td>5.5</td>\n",
       "      <td>71.0</td>\n",
       "      <td>3.58</td>\n",
       "      <td>La Font del Diable Febre Groga\\r\\nCerveza de color naranja con notas florales y cítricas, final seco y amargo.\\r\\nMaridaje recomendado: Curry, Samosa.\\r\\nEn nuestra primer cerveza quisimos interpretar lo que para nosotros es una cerveza amarga, aromática y con bebilidad alta, para esto hemos buscad ...</td>\n",
       "      <td>la font diable febre groga cerveza color naranja notas florales cítricas final seco amargo maridaje recomendado curry samosa en primer cerveza quisimos interpretar cerveza amarga aromática bebilidad alta buscad</td>\n",
       "      <td>font diabl febr groga color naranja nota floral cítrica final seco amargo maridaj recomendado curri samosa en primer quisimo interpretar amarga aromática bebilidad alta buscad</td>\n",
       "      <td>0.000000</td>\n",
       "      <td>la font diable febre groga cerveza color naranja notas florales cítricas final seco amargo maridaje recomendado curry samosa en primer cerveza quisimos interpretar cerveza amarga aromática bebilidad alta buscad</td>\n",
       "      <td>La Font del Diable Febre Groga\\r\\nCerveza de color naranja con notas florales y cítricas, final seco y amargo.\\r\\nMaridaje recomendado: Curry, Samosa.\\r\\nEn nuestra primer cerveza quisimos interpretar lo que para nosotros es una cerveza amarga, aromática ... Ver más con bebilidad alta, para esto hemos buscado un amargor tardío y un aroma marcado pero sutil.\\r\\nPara ello nos hemos basado en los estilos American India Pale Ale y English India Pale Ale, dando así lugar a diferentes característi...</td>\n",
       "    </tr>\n",
       "    <tr>\n",
       "      <th>6528</th>\n",
       "      <td>Krut Gold</td>\n",
       "      <td>NaN</td>\n",
       "      <td>Blonde Ale</td>\n",
       "      <td>5.5</td>\n",
       "      <td>NaN</td>\n",
       "      <td>3.10</td>\n",
       "      <td>Krut Gold es una cerveza dorada tipo American Golden Ale hecha con levadura ‘Prise de Mousse’ y lúpulo Citra. Tiene un sabor malteado sutil, aroma a lúpulo y color dorado. Suave y refrescante a la vez, es ideal para cualquier momento. Es nuestro elixir de la inmortalidad.</td>\n",
       "      <td>krut gold cerveza dorada tipo american golden ale hecha levadura prise mousse lúpulo citra tiene sabor malteado sutil aroma lúpulo color dorado suave refrescante vez ideal cualquier momento es elixir inmortalidad</td>\n",
       "      <td>krut gold dorada tipo american golden ale hecha levadura prise mouss lúpulo citra tien sabor malteado sutil aroma color dorado suav refrescant vez ideal cualquier momento es elixir inmortalidad</td>\n",
       "      <td>0.104413</td>\n",
       "      <td>krut gold cerveza dorada tipo american golden ale hecha levadura prise mousse lúpulo citra tiene sabor malteado sutil aroma lúpulo color dorado suave refrescante vez ideal cualquier momento es elixir inmortalidad</td>\n",
       "      <td>Krut Gold es una cerveza dorada tipo American Golden Ale hecha con levadura ‘Prise de Mousse’ y lúpulo Citra. Tiene un sabor malteado sutil, aroma a lúpulo y color dorado. Suave y refrescante a la vez, es ideal para cualquier momento. Es nuestro ... Ver más de la inmortalidad. Ver menos</td>\n",
       "    </tr>\n",
       "    <tr>\n",
       "      <th>6544</th>\n",
       "      <td>Maüser Bitter</td>\n",
       "      <td>NaN</td>\n",
       "      <td>Standard-Ordinary Bitter</td>\n",
       "      <td>4.6</td>\n",
       "      <td>NaN</td>\n",
       "      <td>2.50</td>\n",
       "      <td>Cerveza Ale, de fermentación alta, rubia, de estilo británico, típica de pub inglés y de grado alcohólico moderado. Amarga, de carácter seco pero suave, está elaborada solo con una malta británica. Tiene una tonalidad de cobre característica, con un toque de color de miel.\\r\\nCARACTERÍS ...</td>\n",
       "      <td>cerveza ale fermentación alta rubia estilo británico típica pub inglés grado alcohólico moderado amarga carácter seco suave elaborada solo malta británica tiene tonalidad cobre característica toque color miel caracterís</td>\n",
       "      <td>ale fermentación alta rubia estilo británico típica pub inglé grado alcohólico moderado amarga carácter seco suav solo malta británica tien tonalidad cobr característica toqu color miel caracterí</td>\n",
       "      <td>0.000000</td>\n",
       "      <td>cerveza ale fermentación alta rubia estilo británico típica pub inglés grado alcohólico moderado amarga carácter seco suave elaborada solo malta británica tiene tonalidad cobre característica toque color miel caracterís</td>\n",
       "      <td>Cerveza Ale, de fermentación alta, rubia, de estilo británico, típica de pub inglés y de grado alcohólico moderado. Amarga, de carácter seco pero suave, está elaborada solo con una malta británica. Tiene una tonalidad de cobre característica, ... Ver más un toque de color de miel.\\r\\nCARACTERÍSTICAS DE LA MAÜSER BITTER\\r\\nLas maltas y las levaduras para nuestra Bitter son importadas de Gran Bretaña. Recomendamos servirlo entre 7 º y 9 º utilizando, a ser posible, una copa de vino donde lo de...</td>\n",
       "    </tr>\n",
       "    <tr>\n",
       "      <th>6545</th>\n",
       "      <td>Maüser Märzen</td>\n",
       "      <td>NaN</td>\n",
       "      <td>Oktoberfest-Marzen</td>\n",
       "      <td>6.0</td>\n",
       "      <td>NaN</td>\n",
       "      <td>0.25</td>\n",
       "      <td>Estilo de cerveza producida por primera vez en el 1841 a la ciudad de Viena por Anton Dreher. Actualmente es la cerveza reina de las fiestas de la cerveza de Octubre de Múnich. Los cinco tipos de malta diferentes que intervienen en su elaboración le otorgan un sabor muy característico y marc ...</td>\n",
       "      <td>estilo cerveza producida primera vez 1841 ciudad viena anton dreher actualmente cerveza reina fiestas cerveza octubre múnich los cinco tipos malta diferentes intervienen elaboración otorgan sabor característico marc</td>\n",
       "      <td>estilo producida primera vez 1841 ciudad viena anton dreher actualment reina fiesta octubr múnich lo cinco tipo malta diferent intervienen elaboración otorgan sabor característico marc</td>\n",
       "      <td>0.000000</td>\n",
       "      <td>estilo cerveza producida primera vez 1841 ciudad viena anton dreher actualmente cerveza reina fiestas cerveza octubre múnich los cinco tipos malta diferentes intervienen elaboración otorgan sabor característico marc</td>\n",
       "      <td>Estilo de cerveza producida por primera vez en el 1841 a la ciudad de Viena por Anton Dreher. Actualmente es la cerveza reina de las fiestas de la cerveza de Octubre de Múnich. Los cinco tipos de malta diferentes que intervienen en su elaboración ... Ver más otorgan un sabor muy característico y marcado, la dotan de un color castaño oscuro con mucho cuerpo.\\r\\nCARACTERÍSTICAS DE LA MAÜSER MÄRZEN\\r\\nLas maltas y las levaduras para nuestra Märzen son importadas de Alemania. Recomendamos servir...</td>\n",
       "    </tr>\n",
       "    <tr>\n",
       "      <th>6547</th>\n",
       "      <td>DeDues Original Ale</td>\n",
       "      <td>NaN</td>\n",
       "      <td>Witbier</td>\n",
       "      <td>5.1</td>\n",
       "      <td>NaN</td>\n",
       "      <td>3.46</td>\n",
       "      <td>Cereales: 80% de cebada, 20% de trigo. Natural, sin aditivos, ni colorantes, ni conservantes. \\r\\nAlta fermentación: aporta aromas frutales a la cerveza.\\r\\nSegunda fermentación en botella: el gas propio de la cerveza lo produce ella misma, sin necesidad de añadirlo artificialmente. Así, la bu ...</td>\n",
       "      <td>cereales 80 cebada 20 trigo natural aditivos colorantes conservantes alta fermentación aporta aromas frutales cerveza segunda fermentación botella gas propio cerveza produce misma necesidad añadirlo artificialmente así bu</td>\n",
       "      <td>cereal 80 cebada 20 trigo natur aditivo colorant conservant alta fermentación aporta aroma frutal segunda botella ga propio produc misma necesidad añadirlo artificialment así bu</td>\n",
       "      <td>0.000000</td>\n",
       "      <td>cereales 80 cebada 20 trigo natural aditivos colorantes conservantes alta fermentación aporta aromas frutales cerveza segunda fermentación botella gas propio cerveza produce misma necesidad añadirlo artificialmente así bu</td>\n",
       "      <td>Cereales: 80% de cebada, 20% de trigo. Natural, sin aditivos, ni colorantes, ni conservantes. Alta fermentación: aporta aromas frutales a la cerveza.\\r\\nSegunda fermentación en botella: el gas propio de la cerveza lo produce ella misma, sin necesidad ... Ver más añadirlo artificialmente. Así, la burbuja resultante es de gran finura. Sin pasteurizar ni filtrar: da capacidad de evolución dentro de la botella y conserva todos los aromas de las levaduras. Produce un poso natural. Nota de cata: A...</td>\n",
       "    </tr>\n",
       "    <tr>\n",
       "      <th>6548</th>\n",
       "      <td>Ponent de Blat</td>\n",
       "      <td>NaN</td>\n",
       "      <td>Weizen-Weissbier</td>\n",
       "      <td>4.1</td>\n",
       "      <td>16.0</td>\n",
       "      <td>2.87</td>\n",
       "      <td>Cerveza artesana de alta fermentación (ALE) de trigo. Respetando la clasificación clásica, correspondería al estilo “Weissbier” originario de la zona de Baviera, al sur de Alemania.\\r\\nLa turbidez, singular de este estilo de cervezas, se consigue en no filtrar la cerveza y permite una seg ...</td>\n",
       "      <td>cerveza artesana alta fermentación ale trigo respetando clasificación clásica correspondería estilo weissbier originario zona baviera sur alemania la turbidez singular estilo cervezas consigue filtrar cerveza permite seg</td>\n",
       "      <td>artesana alta fermentación ale trigo respetando clasificación clásica correspondería estilo weissbier originario zona baviera sur alemania turbidez singular consigu filtrar permit seg</td>\n",
       "      <td>0.000000</td>\n",
       "      <td>cerveza artesana alta fermentación ale trigo respetando clasificación clásica correspondería estilo weissbier originario zona baviera sur alemania la turbidez singular estilo cervezas consigue filtrar cerveza permite seg</td>\n",
       "      <td>Cerveza artesana de alta fermentación (ALE) de trigo. Respetando la clasificación clásica, correspondería al estilo “Weissbier” originario de la zona de Baviera, al sur de Alemania.\\r\\nLa turbidez, singular de este estilo de cervezas, se consigue ... Ver más no filtrar la cerveza y permite una segunda fermentación en la botella. El poso del fondo de la botella se debe a la presencia de levaduras que nos han permitido la fermentación en botella y una carbonatación 100% natural.\\r\\nDos modos d...</td>\n",
       "    </tr>\n",
       "    <tr>\n",
       "      <th>6549</th>\n",
       "      <td>Pingüí</td>\n",
       "      <td>NaN</td>\n",
       "      <td>English Pale Ale</td>\n",
       "      <td>5.6</td>\n",
       "      <td>NaN</td>\n",
       "      <td>3.39</td>\n",
       "      <td>El Pingüí es una cerveza elegante, refrescante y diferente. Se ha elaborado a partir de un proceso natural y artesanal con especias africanas y productos europeos.\\r\\nEs una Pale Ale de color paja anaranjada. A copa es densa y turbia, propio de una cerveza sin filtrar. Su acidez marcada a boca  ...</td>\n",
       "      <td>el pingüí cerveza elegante refrescante diferente se elaborado partir proceso natural artesanal especias africanas productos europeos es pale ale color paja anaranjada a copa densa turbia propio cerveza filtrar su acidez marcada boca</td>\n",
       "      <td>pingüí elegant refrescant diferent se elaborado partir proceso natur artesan especia africana producto europeo es pale ale color paja anaranjada a copa densa turbia propio filtrar su acidez marcada boca</td>\n",
       "      <td>0.000000</td>\n",
       "      <td>el pingüí cerveza elegante refrescante diferente se elaborado partir proceso natural artesanal especias africanas productos europeos es pale ale color paja anaranjada a copa densa turbia propio cerveza filtrar su acidez marcada boca</td>\n",
       "      <td>El Pingüí es una cerveza elegante, refrescante y diferente. Se ha elaborado a partir de un proceso natural y artesanal con especias africanas y productos europeos.\\r\\nEs una Pale Ale de color paja anaranjada. A copa es densa y turbia, propio de una ... Ver más sin filtrar. Su acidez marcada a boca produce un largo recorrido con burbuja fina y dulce. Tiene amarguras suaves y consistentes, sin ser estridentes. Sus toques de naranja, litchis, pomelos, violeta, pétalos de rosa, pino, piña, pera ...</td>\n",
       "    </tr>\n",
       "    <tr>\n",
       "      <th>6550</th>\n",
       "      <td>Quatre Punts Mild Ale</td>\n",
       "      <td>NaN</td>\n",
       "      <td>Mild</td>\n",
       "      <td>5.5</td>\n",
       "      <td>30.0</td>\n",
       "      <td>0.35</td>\n",
       "      <td>Cerveza elaborada con maltas Maris Otter, Caramalt, Crystal, lúpulos, levadura y agua. Sin filtrar ni pausterizar.</td>\n",
       "      <td>cerveza elaborada maltas maris otter caramalt crystal lúpulos levadura agua sin filtrar pausterizar</td>\n",
       "      <td>malta mari otter caramalt crystal lúpulo levadura agua sin filtrar pausterizar</td>\n",
       "      <td>0.000000</td>\n",
       "      <td>cerveza elaborada maltas maris otter caramalt crystal lúpulos levadura agua sin filtrar pausterizar</td>\n",
       "      <td>Cerveza elaborada con maltas Maris Otter, Caramalt, Crystal, lúpulos, levadura y agua. Sin filtrar ni pausterizar.</td>\n",
       "    </tr>\n",
       "    <tr>\n",
       "      <th>6570</th>\n",
       "      <td>Bleder Cova de Drac</td>\n",
       "      <td>NaN</td>\n",
       "      <td>Imperial Stout</td>\n",
       "      <td>8.0</td>\n",
       "      <td>NaN</td>\n",
       "      <td>3.31</td>\n",
       "      <td>Cerveza estilo Imperial Stout. Elaborada con malta Pale Ale, maltas coloreadas y con lúpulos americanos que le proporcionan un sabor y aroma característicos. Las maltas oscuras están integradas para darle el color y sabor característico adecuados a nuestra cultura mediterranea. El amargor f ...</td>\n",
       "      <td>cerveza estilo imperial stout elaborada malta pale ale maltas coloreadas lúpulos americanos proporcionan sabor aroma característicos las maltas oscuras integradas darle color sabor característico adecuados cultura mediterranea el amargor f</td>\n",
       "      <td>estilo imperi stout malta pale ale malta coloreada lúpulo americano proporcionan sabor aroma característico oscura integrada darl color característico adecuado cultura mediterranea amargor f</td>\n",
       "      <td>0.000000</td>\n",
       "      <td>cerveza estilo imperial stout elaborada malta pale ale maltas coloreadas lúpulos americanos proporcionan sabor aroma característicos las maltas oscuras integradas darle color sabor característico adecuados cultura mediterranea el amargor f</td>\n",
       "      <td>Cerveza estilo Imperial Stout. Elaborada con malta Pale Ale, maltas coloreadas y con lúpulos americanos que le proporcionan un sabor y aroma característicos. Las maltas oscuras están integradas para darle el color y sabor característico adecuados ... Ver más nuestra cultura mediterranea. El amargor final está pensado para que no esconda los sabores de las maltas empleadas. Una vez en copa presenta aromas de curry , pimienta, canela y algo de picante. Color marrón oscuro con buena espuma colo...</td>\n",
       "    </tr>\n",
       "    <tr>\n",
       "      <th>6575</th>\n",
       "      <td>Nunc est Bibendum</td>\n",
       "      <td>NaN</td>\n",
       "      <td>Ale</td>\n",
       "      <td>5.6</td>\n",
       "      <td>45.0</td>\n",
       "      <td>NaN</td>\n",
       "      <td>Nunc est BIBENDUM ( Ale )Examen visual: Rubia por esencia y de color dorado. Con un giste blanquísimo y brillante, de apariencia espumosa, burbuja amplia y efímera, pero con buena retención. La carbonatación es visible a simple vista dentro de la copa.Examen Olfativo: En nariz es principalm ...</td>\n",
       "      <td>nunc est bibendum ale examen visual rubia esencia color dorado con giste blanquísimo brillante apariencia espumosa burbuja amplia efímera buena retención la carbonatación visible simple vista dentro copa examen olfativo en nariz principalm</td>\n",
       "      <td>nunc est bibendum ale examen visual rubia esencia color dorado con gist blanquísimo brillant apariencia espumosa burbuja amplia efímera buena retención carbonatación visibl simpl vista dentro copa olfativo en nariz principalm</td>\n",
       "      <td>0.000000</td>\n",
       "      <td>nunc est bibendum ale examen visual rubia esencia color dorado con giste blanquísimo brillante apariencia espumosa burbuja amplia efímera buena retención la carbonatación visible simple vista dentro copa examen olfativo en nariz principalm</td>\n",
       "      <td>Nunc est BIBENDUM ( Ale )Examen visual: Rubia por esencia y de color dorado. Con un giste blanquísimo y brillante, de apariencia espumosa, burbuja amplia y efímera, pero con buena retención. La carbonatación es visible a simple vista dentro de ... Ver más copa.Examen Olfativo: En nariz es principalmente lupulada, dejando en un segundo plano la malta. Fresca y con un final afrutado que le otorga los lúpulos y la levadura.Examen gustativo Buen cuerpo, gasificación media muy constante. En boca ...</td>\n",
       "    </tr>\n",
       "    <tr>\n",
       "      <th>6578</th>\n",
       "      <td>Dorada Especial</td>\n",
       "      <td>NaN</td>\n",
       "      <td>Premium American Lager</td>\n",
       "      <td>5.5</td>\n",
       "      <td>NaN</td>\n",
       "      <td>3.03</td>\n",
       "      <td>La cerveza de Canarias de calidad reconocida internacionalmente con la medalla de Oro 2009 de Monde Selection y el Superior Taste Award: calidad y orgullo canario.\\nUna cerveza con un sabor y post sabor redondo, Dorada Especial se elabora con 100% malta y un 13% de extracto original que le confi ...</td>\n",
       "      <td>la cerveza canarias calidad reconocida internacionalmente medalla oro 2009 monde selection superior taste award calidad orgullo canario una cerveza sabor post sabor redondo dorada especial elabora 100 malta 13 extracto original confi</td>\n",
       "      <td>canaria calidad reconocida internacionalment medalla oro 2009 mond select superior tast award orgullo canario sabor post redondo dorada especi elabora 100 malta 13 extracto origin confi</td>\n",
       "      <td>0.000000</td>\n",
       "      <td>la cerveza canarias calidad reconocida internacionalmente medalla oro 2009 monde selection superior taste award calidad orgullo canario una cerveza sabor post sabor redondo dorada especial elabora 100 malta 13 extracto original confi</td>\n",
       "      <td>La cerveza de Canarias de calidad reconocida internacionalmente con la medalla de Oro 2009 de Monde Selection y el Superior Taste Award: calidad y orgullo canario.\\nUna cerveza con un sabor y post sabor redondo, Dorada Especial se elabora con 100% ... Ver más y un 13% de extracto original que le confieren un intenso color dorado y un sabor fácilmente reconocible a lúpulo y a frutas tropicales.\\nCerveza tipo Pilsen, elaborada con métodos tradicionales y los mejores ingredientes naturales, 100...</td>\n",
       "    </tr>\n",
       "    <tr>\n",
       "      <th>6585</th>\n",
       "      <td>Alhambra Especial</td>\n",
       "      <td>NaN</td>\n",
       "      <td>Lager</td>\n",
       "      <td>5.4</td>\n",
       "      <td>17.0</td>\n",
       "      <td>3.02</td>\n",
       "      <td>Alhambra Especial\\nEdición Limitada Granada - Alhambra Especial Vintage\\nCerveza brillante y dorada. Con una espuma cremosa y consistente.\\nLa fragancia aromática tiene un perfil con suaves notas afrutadas y un reflejo a levadura. Los aromas de lúpulo son leves aunque florales y se intensifica ...</td>\n",
       "      <td>alhambra especial edición limitada granada alhambra especial vintage cerveza brillante dorada con espuma cremosa consistente la fragancia aromática perfil suaves notas afrutadas reflejo levadura los aromas lúpulo leves aunque florales intensifica</td>\n",
       "      <td>alhambra especi edición limitada granada vintag brillant dorada con espuma cremosa consistent fragancia aromática perfil suav nota afrutada reflejo levadura lo aroma lúpulo leve aunqu floral intensifica</td>\n",
       "      <td>0.000000</td>\n",
       "      <td>alhambra especial edición limitada granada alhambra especial vintage cerveza brillante dorada con espuma cremosa consistente la fragancia aromática perfil suaves notas afrutadas reflejo levadura los aromas lúpulo leves aunque florales intensifica</td>\n",
       "      <td>Alhambra Especial\\nEdición Limitada Granada - Alhambra Especial Vintage\\nCerveza brillante y dorada. Con una espuma cremosa y consistente.\\nLa fragancia aromática tiene un perfil con suaves notas afrutadas y un reflejo a levadura. Los aromas de lúpulo ... Ver más leves aunque florales y se intensifican al tragar.\\nMuy equilibrada, en boca tiene un amargor suave pero con sensación de cuerpo. La persistencia es fina, ligeramente dulce con acabado seco. Ver menos</td>\n",
       "    </tr>\n",
       "    <tr>\n",
       "      <th>6594</th>\n",
       "      <td>San Miguel Especial</td>\n",
       "      <td>NaN</td>\n",
       "      <td>Lager</td>\n",
       "      <td>5.4</td>\n",
       "      <td>18.0</td>\n",
       "      <td>3.02</td>\n",
       "      <td>San Miguel Especial\\r\\nFue la primera cerveza especial en España y se ha convertido en la marca española de mayor exportación, con reconocido éxito nacional e internacional por su calidad y buen sabor.\\r\\nUna cerveza, especial por su color amarillo oro brillante, que al probarla destaca por su  ...</td>\n",
       "      <td>san miguel especial fue primera cerveza especial españa convertido marca española mayor exportación reconocido éxito nacional internacional calidad buen sabor una cerveza especial color amarillo oro brillante probarla destaca</td>\n",
       "      <td>san miguel especi fue primera españa convertido marca española mayor exportación reconocido éxito nacion internacion calidad buen sabor color amarillo oro brillant probarla destaca</td>\n",
       "      <td>0.000000</td>\n",
       "      <td>san miguel especial fue primera cerveza especial españa convertido marca española mayor exportación reconocido éxito nacional internacional calidad buen sabor una cerveza especial color amarillo oro brillante probarla destaca</td>\n",
       "      <td>San Miguel Especial\\r\\nFue la primera cerveza especial en España y se ha convertido en la marca española de mayor exportación, con reconocido éxito nacional e internacional por su calidad y buen sabor.\\r\\nUna cerveza, especial por su color amarillo ... Ver más brillante, que al probarla destaca por su equilibrio, su frescura y su ligero amargor. Sus levaduras y maltas le dan una serie de matices al cuerpo y aroma que le otorgan un perfecto equilibrio entre suave y amargo.\\r\\nUn poco de histo...</td>\n",
       "    </tr>\n",
       "    <tr>\n",
       "      <th>6600</th>\n",
       "      <td>Mahou Cinco Estrellas</td>\n",
       "      <td>NaN</td>\n",
       "      <td>Pilsner</td>\n",
       "      <td>5.5</td>\n",
       "      <td>NaN</td>\n",
       "      <td>2.92</td>\n",
       "      <td>Nacida para satisfacer a los paladares más exigentes, Mahou Cinco Estrellas está elaborada con las mejores variedades de lúpulo y levadura, que le imprimen sus característicos cuerpo y sabor. Mahou Cinco Estrellas destaca por su color dorado y su característico amargor, moderado y fino, qu ...</td>\n",
       "      <td>nacida satisfacer paladares exigentes mahou cinco estrellas elaborada mejores variedades lúpulo levadura imprimen característicos cuerpo sabor mahou cinco estrellas destaca color dorado característico amargor moderado fino qu</td>\n",
       "      <td>nacida satisfac paladar exigent mahou cinco estrella mejor variedad lúpulo levadura imprimen característico cuerpo sabor destaca color dorado característico amargor moderado fino qu</td>\n",
       "      <td>0.000000</td>\n",
       "      <td>nacida satisfacer paladares exigentes mahou cinco estrellas elaborada mejores variedades lúpulo levadura imprimen característicos cuerpo sabor mahou cinco estrellas destaca color dorado característico amargor moderado fino qu</td>\n",
       "      <td>Nacida para satisfacer a los paladares más exigentes, Mahou Cinco Estrellas está elaborada con las mejores variedades de lúpulo y levadura, que le imprimen sus característicos cuerpo y sabor. Mahou Cinco Estrellas destaca por su color dorado y ... Ver más característico amargor, moderado y fino, que da un buen balance gustativo que persiste en el paladar.\\nAño de lanzamiento: 1969 Grado alcohólico: 5,5% vol. Tipo de cerveza: Con alcohol Ver menos</td>\n",
       "    </tr>\n",
       "    <tr>\n",
       "      <th>6616</th>\n",
       "      <td>Baias Beltza</td>\n",
       "      <td>NaN</td>\n",
       "      <td>Porter</td>\n",
       "      <td>4.5</td>\n",
       "      <td>35.0</td>\n",
       "      <td>3.32</td>\n",
       "      <td>Es una cerveza porter, muy oscura, casi negra, con un sabor decididamente tostado o torrefacto. Las maltas empleadas se tuestan hasta un grado semejante a los granos de cacao o café. La elaboramos con levadura de fermentación alta que proporciona un toque afrutado a los sabores tostados de la ...</td>\n",
       "      <td>es cerveza porter oscura casi negra sabor decididamente tostado torrefacto las maltas empleadas tuestan grado semejante granos cacao café la elaboramos levadura fermentación alta proporciona toque afrutado sabores tostados</td>\n",
       "      <td>es porter oscura casi negra sabor decididament tostado torrefacto malta empleada tuestan grado semejant grano cacao café elaboramo levadura fermentación alta proporciona toqu afrutado sabor tostado</td>\n",
       "      <td>0.000000</td>\n",
       "      <td>es cerveza porter oscura casi negra sabor decididamente tostado torrefacto las maltas empleadas tuestan grado semejante granos cacao café la elaboramos levadura fermentación alta proporciona toque afrutado sabores tostados</td>\n",
       "      <td>Es una cerveza porter, muy oscura, casi negra, con un sabor decididamente tostado o torrefacto. Las maltas empleadas se tuestan hasta un grado semejante a los granos de cacao o café. La elaboramos con levadura de fermentación alta que proporciona ... Ver más toque afrutado a los sabores tostados de las maltas.\\r\\nTemperatura: servir entre 8 y 10 º C\\r\\nEnvase: 33 cl y 75 cl Ver menos</td>\n",
       "    </tr>\n",
       "    <tr>\n",
       "      <th>6642</th>\n",
       "      <td>Etxeandia Mattin Pirata</td>\n",
       "      <td>NaN</td>\n",
       "      <td>Saison</td>\n",
       "      <td>7.0</td>\n",
       "      <td>6.0</td>\n",
       "      <td>2.81</td>\n",
       "      <td>Mattin Pirata\\r\\nMattin Pirata es la cerveza rubia-fuerte que fabricamos todo el año.\\r\\nVista: Rubia, ligeramente turbia. Abundante espuma. En los lostes más fuertes parece una cerveza de trigo (blanca belga, o wit berlinesa) pero no tiene nada que ver. Media/alta carbonatación. Espuma blanca y ...</td>\n",
       "      <td>mattin pirata mattin pirata cerveza rubia fuerte fabricamos año vista rubia ligeramente turbia abundante espuma en lostes fuertes parece cerveza trigo blanca belga wit berlinesa ver media alta carbonatación espuma blanca</td>\n",
       "      <td>mattin pirata rubia fuert fabricamo año vista ligerament turbia abundant espuma en lost fuert parec trigo blanca belga wit berlinesa ver media alta carbonatación</td>\n",
       "      <td>0.000000</td>\n",
       "      <td>mattin pirata mattin pirata cerveza rubia fuerte fabricamos año vista rubia ligeramente turbia abundante espuma en lostes fuertes parece cerveza trigo blanca belga wit berlinesa ver media alta carbonatación espuma blanca</td>\n",
       "      <td>Mattin Pirata\\r\\nMattin Pirata es la cerveza rubia-fuerte que fabricamos todo el año.\\r\\nVista: Rubia, ligeramente turbia. Abundante espuma. En los lostes más fuertes parece una cerveza de trigo (blanca belga, o wit berlinesa) pero no tiene nada que ... Ver más Media/alta carbonatación. Espuma blanca y cerrada. Imponente “encaje belga” (mancha de espuma la copa).\\r\\nAroma: frutal (pero, platano), y alcoholes pesados. Prevalecen aromas a levadura y malta.\\r\\nSabor: Dulce afrutado. Los sabores...</td>\n",
       "    </tr>\n",
       "    <tr>\n",
       "      <th>6643</th>\n",
       "      <td>Tierra de Frontera Pale Ale</td>\n",
       "      <td>NaN</td>\n",
       "      <td>Pale Ale</td>\n",
       "      <td>4.5</td>\n",
       "      <td>NaN</td>\n",
       "      <td>2.82</td>\n",
       "      <td>Tierra de Frontera es una cerveza artesana elaborada a partir de ingredientes naturales de alta calidad, manejados mediante el buen hacer de las técnicas artesanales tradicionales. El resultado es una cerveza natural con carácter, con refermentación y gasificación natural en botella, como r ...</td>\n",
       "      <td>tierra frontera cerveza artesana elaborada partir ingredientes naturales alta calidad manejados mediante buen hacer técnicas artesanales tradicionales el resultado cerveza natural carácter refermentación gasificación natural botella r</td>\n",
       "      <td>tierra frontera artesana partir ingredient natural alta calidad manejado mediant buen hacer técnica artesanal tradicional resultado natur carácter refermentación gasificación botella r</td>\n",
       "      <td>0.000000</td>\n",
       "      <td>tierra frontera cerveza artesana elaborada partir ingredientes naturales alta calidad manejados mediante buen hacer técnicas artesanales tradicionales el resultado cerveza natural carácter refermentación gasificación natural botella r</td>\n",
       "      <td>Tierra de Frontera es una cerveza artesana elaborada a partir de ingredientes naturales de alta calidad, manejados mediante el buen hacer de las técnicas artesanales tradicionales. El resultado es una cerveza natural con carácter, con refermentación ... Ver más gasificación natural en botella, como revela el sedimento de saludable levadura que queda en el fondo de la botella, sin filtrar ni pasteurizar. Ver menos</td>\n",
       "    </tr>\n",
       "    <tr>\n",
       "      <th>6651</th>\n",
       "      <td>Ibon Pale Ale</td>\n",
       "      <td>NaN</td>\n",
       "      <td>Pale Ale</td>\n",
       "      <td>5.0</td>\n",
       "      <td>NaN</td>\n",
       "      <td>2.96</td>\n",
       "      <td>\\t\\r\\n\\r\\n    Ibón es una cerveza 100% natural y artesana, por la calidad de sus ingredientes y por su método de elaboración tradicional. Elaborada con Maltas Pilsen, Carapils y Malta de Trigo, Flor de lúpulos de las cepas Chinook, Fuggles y Cascade, agua y levadura seleccionada de cerveza. Esto ...</td>\n",
       "      <td>ibón cerveza 100 natural artesana calidad ingredientes método elaboración tradicional elaborada maltas pilsen carapils malta trigo flor lúpulos cepas chinook fuggles cascade agua levadura seleccionada cerveza esto</td>\n",
       "      <td>ibón 100 natur artesana calidad ingredient método elaboración tradicion malta pilsen carapil malta trigo flor lúpulo cepa chinook fuggl cascad agua levadura seleccionada esto</td>\n",
       "      <td>0.000000</td>\n",
       "      <td>ibón cerveza 100 natural artesana calidad ingredientes método elaboración tradicional elaborada maltas pilsen carapils malta trigo flor lúpulos cepas chinook fuggles cascade agua levadura seleccionada cerveza esto</td>\n",
       "      <td>Ibón es una cerveza 100% natural y artesana, por la calidad de sus ingredientes y por su método de elaboración tradicional. Elaborada con Maltas Pilsen, Carapils y Malta de Trigo, Flor de lúpulos de las cepas Chinook, Fuggles y Cascade, agua ... Ver más levadura seleccionada de cerveza. Estos ingredientes junto al proceso de alta fermentación (Ale) le confieren cuerpo, sutiles aromas y una complejidad de sabores que llenan el paladar e intensifican su bouquet. Es una cerveza sin filtrar ...</td>\n",
       "    </tr>\n",
       "    <tr>\n",
       "      <th>6654</th>\n",
       "      <td>Icue Mepa</td>\n",
       "      <td>NaN</td>\n",
       "      <td>American Pale Ale</td>\n",
       "      <td>5.5</td>\n",
       "      <td>30.0</td>\n",
       "      <td>0.47</td>\n",
       "      <td>Hace algún tiempo nació la cerveza Icue Mepa , es de fermentación alta basada en el estilo American Pale Ale, una bebida viva la cual irá cambiando su composición organoléptica con el transcurso del tiempo si se respetan las condiciones de guarda de entre 7º y 15º.La maduración y gasif ...</td>\n",
       "      <td>hace algún tiempo nació cerveza icue mepa fermentación alta basada estilo american pale ale bebida viva irá cambiando composición organoléptica transcurso tiempo si respetan condiciones guarda 7º 15º la maduración gasif</td>\n",
       "      <td>hace algún tiempo nació icu mepa fermentación alta basada estilo american pale ale bebida viva irá cambiando composición organoléptica transcurso si respetan condicion guarda 7º 15º maduración gasif</td>\n",
       "      <td>0.000000</td>\n",
       "      <td>hace algún tiempo nació cerveza icue mepa fermentación alta basada estilo american pale ale bebida viva irá cambiando composición organoléptica transcurso tiempo si respetan condiciones guarda 7º 15º la maduración gasif</td>\n",
       "      <td>Hace algún tiempo nació la cerveza Icue Mepa , es de fermentación alta basada en el estilo American Pale Ale, una bebida viva la cual irá cambiando su composición organoléptica con el transcurso del tiempo si se respetan las condiciones de guarda ... Ver más entre 7º y 15º.La maduración y gasificación se producen en la botella, son cervezas de doble fermentación sin filtraje por lo que contienen levaduras vivas las cuales son las encargadas de generar el carbónico en la botella, también apor...</td>\n",
       "    </tr>\n",
       "    <tr>\n",
       "      <th>6676</th>\n",
       "      <td>Lüge Pale Ale</td>\n",
       "      <td>NaN</td>\n",
       "      <td>Pale Ale</td>\n",
       "      <td>5.0</td>\n",
       "      <td>NaN</td>\n",
       "      <td>2.57</td>\n",
       "      <td>Del estilo de las cervezas inglesas con color rojizo y con final amargo sin ser excesivo.\\r\\n\\r\\nCompuesta de agua, maltas de cebada, lúpulo y levadura. Su fermentación se realiza en botella y debe conservarse en posición vertical, sin luz y donde la temperatura no oscile.\\r\\n\\r\\nUna cerveza ligera  ...</td>\n",
       "      <td>del estilo cervezas inglesas color rojizo final amargo ser excesivo compuesta agua maltas cebada lúpulo levadura su fermentación realiza botella debe conservarse posición vertical luz temperatura oscile una cerveza ligera</td>\n",
       "      <td>del estilo inglesa color rojizo final amargo ser excesivo compuesta agua malta cebada lúpulo levadura su fermentación realiza botella debe conservars posición vertic luz temperatura oscil ligera</td>\n",
       "      <td>0.000000</td>\n",
       "      <td>del estilo cervezas inglesas color rojizo final amargo ser excesivo compuesta agua maltas cebada lúpulo levadura su fermentación realiza botella debe conservarse posición vertical luz temperatura oscile una cerveza ligera</td>\n",
       "      <td>Del estilo de las cervezas inglesas con color rojizo y con final amargo sin ser excesivo.\\n\\r\\nCompuesta de agua, maltas de cebada, lúpulo y levadura. Su fermentación se realiza en botella y debe conservarse en posición vertical, sin luz y donde ... Ver más temperatura no oscile.\\n\\r\\nUna cerveza ligera que podemos fusionar con comidas especiadas y guisos. Ver menos</td>\n",
       "    </tr>\n",
       "    <tr>\n",
       "      <th>6677</th>\n",
       "      <td>Lüge Wheat</td>\n",
       "      <td>NaN</td>\n",
       "      <td>Weizen-Weissbier</td>\n",
       "      <td>5.0</td>\n",
       "      <td>NaN</td>\n",
       "      <td>0.10</td>\n",
       "      <td>Con sabor a pan, ideal para verano, suave, fácil de degustar.\\r\\n\\r\\nCompuesta de agua, maltas de trigo y cebada, lúpulo y levadura. Su fermentación se realiza en botella y debe conservarse en posición vertical, sin luz y donde la temperatura no oscile.</td>\n",
       "      <td>con sabor pan ideal verano suave fácil degustar compuesta agua maltas trigo cebada lúpulo levadura su fermentación realiza botella debe conservarse posición vertical luz temperatura oscile</td>\n",
       "      <td>con sabor pan ideal verano suav fácil degustar compuesta agua malta trigo cebada lúpulo levadura su fermentación realiza botella debe conservars posición vertic luz temperatura oscil</td>\n",
       "      <td>0.000000</td>\n",
       "      <td>con sabor pan ideal verano suave fácil degustar compuesta agua maltas trigo cebada lúpulo levadura su fermentación realiza botella debe conservarse posición vertical luz temperatura oscile</td>\n",
       "      <td>Con sabor a pan, ideal para verano, suave, fácil de degustar.\\n\\r\\nCompuesta de agua, maltas de trigo y cebada, lúpulo y levadura. Su fermentación se realiza en botella y debe conservarse en posición vertical, sin luz y donde la temperatura no oscile.</td>\n",
       "    </tr>\n",
       "    <tr>\n",
       "      <th>6678</th>\n",
       "      <td>Lüge Gold</td>\n",
       "      <td>NaN</td>\n",
       "      <td>Lager</td>\n",
       "      <td>5.0</td>\n",
       "      <td>NaN</td>\n",
       "      <td>NaN</td>\n",
       "      <td>Es una cerveza dorada del estilo a las lager alemanas. Con espuma y burbujas duraderas, refrescantes con tonos finales y aroma peculiar con poco grado alcohólico.\\r\\n\\r\\nCompuesta de agua, maltas de cebada, lúpulo y levadura. Su fermentación se realiza en botella y debe conservarse en posición  ...</td>\n",
       "      <td>es cerveza dorada estilo lager alemanas con espuma burbujas duraderas refrescantes tonos finales aroma peculiar grado alcohólico compuesta agua maltas cebada lúpulo levadura su fermentación realiza botella debe conservarse posición</td>\n",
       "      <td>es dorada estilo lager alemana con espuma burbuja duradera refrescant tono final aroma peculiar grado alcohólico compuesta agua malta cebada lúpulo levadura su fermentación realiza botella debe conservars posición</td>\n",
       "      <td>0.000000</td>\n",
       "      <td>es cerveza dorada estilo lager alemanas con espuma burbujas duraderas refrescantes tonos finales aroma peculiar grado alcohólico compuesta agua maltas cebada lúpulo levadura su fermentación realiza botella debe conservarse posición</td>\n",
       "      <td>Es una cerveza dorada del estilo a las lager alemanas. Con espuma y burbujas duraderas, refrescantes con tonos finales y aroma peculiar con poco grado alcohólico.\\n\\r\\nCompuesta de agua, maltas de cebada, lúpulo y levadura. Su fermentación se realiza ... Ver más botella y debe conservarse en posición vertical, sin luz y donde la temperatura no oscile.\\n\\r\\nUna buena cerveza para acompañar con platos fríos, carnes asadas o guisos... Cerveza con buen olor, sabor y cuerpo. Ver menos</td>\n",
       "    </tr>\n",
       "  </tbody>\n",
       "</table>\n",
       "<p>576 rows × 12 columns</p>\n",
       "</div>"
      ],
      "text/plain": [
       "                                        Name Brewery  \\\n",
       "12             Gora Original Black President     NaN   \n",
       "43                             No Nation TTT     NaN   \n",
       "120                Tibidabo Brewing Jazzblat     NaN   \n",
       "121                Tibidabo Brewing Kalahari     NaN   \n",
       "123                Tibidabo Brewing Horizons     NaN   \n",
       "144                               Canana IPA     NaN   \n",
       "145                           Canana Old Ale     NaN   \n",
       "175                              Olañeta APA     NaN   \n",
       "176          Rosita Kellogg’s Choco Krispies     NaN   \n",
       "205                   Misterio Fermi Paradox     NaN   \n",
       "217           Tercer Tiempo Special Kick Off     NaN   \n",
       "239                          Zeta Felicísima     NaN   \n",
       "258    Jakobsland Words Are Very Unnecessary     NaN   \n",
       "268                           Alvar Sandberg     NaN   \n",
       "271                            Zeta Palmeres     NaN   \n",
       "273                              Zeta CV-500     NaN   \n",
       "309                         Drunken Bros Amy     NaN   \n",
       "311   Bidassoa Basque Brewery Acid Flashback     NaN   \n",
       "325                     Drunken Bros Shannon     NaN   \n",
       "346                              Cerex Trigo     NaN   \n",
       "365                     La Morena Wheat Beer     NaN   \n",
       "367                  Cerex Cereza Sin Gluten     NaN   \n",
       "443              In Peccatum Pecado Original     NaN   \n",
       "464                   Barley & Co. Babilense     NaN   \n",
       "483      Redneck Whiteclay Moonshiner Series     NaN   \n",
       "488                        Vandalia Azabache     NaN   \n",
       "492                           Scone Pale Ale     NaN   \n",
       "494                   Jakobsland Blending In     NaN   \n",
       "508             Jakobsland Sweet Disposition     NaN   \n",
       "528                    Jakobsland On Cloud 9     NaN   \n",
       "...                                      ...     ...   \n",
       "6497                    Estrella Damm Inedit     NaN   \n",
       "6503                            Illa Premium     NaN   \n",
       "6504                           Illa Artesana     NaN   \n",
       "6514                          Maier Pale Ale     NaN   \n",
       "6521   Rosita Negra con Avellanas de Alcover     NaN   \n",
       "6522                          Rosita d’Ivori     NaN   \n",
       "6523                         Rosita Original     NaN   \n",
       "6525       La Font del Diable Candela Strong     NaN   \n",
       "6526          La Font del Diable Febre Groga     NaN   \n",
       "6528                               Krut Gold     NaN   \n",
       "6544                           Maüser Bitter     NaN   \n",
       "6545                           Maüser Märzen     NaN   \n",
       "6547                     DeDues Original Ale     NaN   \n",
       "6548                          Ponent de Blat     NaN   \n",
       "6549                                  Pingüí     NaN   \n",
       "6550                   Quatre Punts Mild Ale     NaN   \n",
       "6570                     Bleder Cova de Drac     NaN   \n",
       "6575                       Nunc est Bibendum     NaN   \n",
       "6578                         Dorada Especial     NaN   \n",
       "6585                       Alhambra Especial     NaN   \n",
       "6594                     San Miguel Especial     NaN   \n",
       "6600                   Mahou Cinco Estrellas     NaN   \n",
       "6616                            Baias Beltza     NaN   \n",
       "6642                 Etxeandia Mattin Pirata     NaN   \n",
       "6643             Tierra de Frontera Pale Ale     NaN   \n",
       "6651                           Ibon Pale Ale     NaN   \n",
       "6654                               Icue Mepa     NaN   \n",
       "6676                           Lüge Pale Ale     NaN   \n",
       "6677                              Lüge Wheat     NaN   \n",
       "6678                               Lüge Gold     NaN   \n",
       "\n",
       "                         Style   ABV   IBU  Rating  \\\n",
       "12              Imperial Stout  10.0   NaN     NaN   \n",
       "43                American IPA   6.5  75.0    3.52   \n",
       "120           Weizen-Weissbier   5.0  13.0     NaN   \n",
       "121               Vienna Lager   NaN   NaN     NaN   \n",
       "123                    Pilsner   5.0  13.0     NaN   \n",
       "144             India Pale Ale   5.8  50.0     NaN   \n",
       "145                    Old Ale   6.1  22.0     NaN   \n",
       "175          American Pale Ale   5.0  50.0    3.53   \n",
       "176                 Blonde Ale   5.5   7.9     NaN   \n",
       "205                  IPA Otros   6.3  30.0    3.73   \n",
       "217                  IPA Otros   7.3  60.0     NaN   \n",
       "239                  IPA Otros   6.3   NaN     NaN   \n",
       "258               Imperial IPA   8.0  18.0     NaN   \n",
       "268                      Lager   NaN   NaN     NaN   \n",
       "271                Session IPA   4.8   NaN    3.83   \n",
       "273           India Pale Lager   5.5   NaN    3.68   \n",
       "309                Session IPA   2.7   NaN    3.96   \n",
       "311                  IPA Otros   5.5  35.0    3.55   \n",
       "325               American IPA   6.8   NaN    3.79   \n",
       "346           Weizen-Weissbier   5.0  15.0     NaN   \n",
       "365           Weizen-Weissbier   4.9  16.0     NaN   \n",
       "367                 Sin Gluten   5.0   NaN     NaN   \n",
       "443                     Saison   6.0   NaN    3.28   \n",
       "464                 Hefeweizen   4.3  16.0     NaN   \n",
       "483          American Pale Ale   5.7  32.0    3.69   \n",
       "488                     Porter   5.0  40.0    2.88   \n",
       "492                   Pale Ale   5.0  35.0    3.36   \n",
       "494               Imperial IPA   8.0  18.0    3.89   \n",
       "508            New England IPA   6.7  18.0    3.84   \n",
       "528               Imperial IPA   8.0  18.0    3.96   \n",
       "...                        ...   ...   ...     ...   \n",
       "6497                  Pale Ale   4.8  18.0    3.50   \n",
       "6503    Premium American Lager   NaN   NaN    1.50   \n",
       "6504                   Pilsner   6.0   NaN    3.09   \n",
       "6514         American Pale Ale   4.5  29.0    3.15   \n",
       "6521        American Brown Ale   6.0   NaN    3.22   \n",
       "6522                   Witbier   4.5   NaN    3.02   \n",
       "6523                Blonde Ale   5.5   8.0    3.15   \n",
       "6525                 Amber Ale   5.5  50.0    3.54   \n",
       "6526               English IPA   5.5  71.0    3.58   \n",
       "6528                Blonde Ale   5.5   NaN    3.10   \n",
       "6544  Standard-Ordinary Bitter   4.6   NaN    2.50   \n",
       "6545        Oktoberfest-Marzen   6.0   NaN    0.25   \n",
       "6547                   Witbier   5.1   NaN    3.46   \n",
       "6548          Weizen-Weissbier   4.1  16.0    2.87   \n",
       "6549          English Pale Ale   5.6   NaN    3.39   \n",
       "6550                      Mild   5.5  30.0    0.35   \n",
       "6570            Imperial Stout   8.0   NaN    3.31   \n",
       "6575                       Ale   5.6  45.0     NaN   \n",
       "6578    Premium American Lager   5.5   NaN    3.03   \n",
       "6585                     Lager   5.4  17.0    3.02   \n",
       "6594                     Lager   5.4  18.0    3.02   \n",
       "6600                   Pilsner   5.5   NaN    2.92   \n",
       "6616                    Porter   4.5  35.0    3.32   \n",
       "6642                    Saison   7.0   6.0    2.81   \n",
       "6643                  Pale Ale   4.5   NaN    2.82   \n",
       "6651                  Pale Ale   5.0   NaN    2.96   \n",
       "6654         American Pale Ale   5.5  30.0    0.47   \n",
       "6676                  Pale Ale   5.0   NaN    2.57   \n",
       "6677          Weizen-Weissbier   5.0   NaN    0.10   \n",
       "6678                     Lager   5.0   NaN     NaN   \n",
       "\n",
       "                                                                                                                                                                                                                                                                                                          Description_x  \\\n",
       "12    Original Black President\\nImperian Stout\\nGaragardoa / Cerveza / Beer\\nOsagaiak: ura, garagar eta zekale maltak, olo-malutak, lupulua eta legamia.\\nIngredientes: agua, malta de cebada y centeno, copos de avena, |upulo y levadura.\\nIngredients: water, barley and rye malt, flacked oat, hops, yeast\\nGlu ...   \n",
       "43                       TTT\\nWest Coast IPA\\nDerma Series\\nTTT Derma Series, es una cerveza de estilo West Coast con dos cepas de levadura, que han trabajado en paralelo. Una combinación perfecta de lúpulos.\\n*Grabado en tu piel. Hasta el final. Lo que viviste, es lo que eres. Lo que serás, solo lo sabes tú\".   \n",
       "120                                                          Jazzblat\\nWeissbier\\nSolo la malta, el lúpulo y la levadura de fermentación alta dan unas notas agradables al plátano, a pimienta y a clavo. Sin filtrar, aportando todas las vitaminas B de la levadura, es levemente ácida y extremadamente refrescante.   \n",
       "121          Kalahari\\nVienna Lager\\nUna mezcla de seis maltas alemanas tostadas consiguen darnos un sabor dulce, pan, galleta y caramelo. Cada trago revela nuevas capas de dulzura e interacción entre los distintos tipos de cebada malteada. La levadura de baja fermentación permite que sea fácil de beber si ...   \n",
       "123           Horizons\\nPilsner\\nInspirada en la clásica pilsner checa. Sobre una sutil malta base, añadimos generosamente los lúpulos. Fermentamos el mosto con levaduras lager durante dos semanas y la dejamos madurar durante cuatro semanas más. En boca es suave, refrescante y limpia. Sutiles notas herbale ...   \n",
       "144          IPA\\nColor cobre a marrón, de aspecto turbio, espuma abundante de duración persistente de color beige y buen encaje.\\nAromas: Aromas maltosos de pan y bollería, algo de manzana y pera.\\nSabor: Sabores de pan y levadura.\\nSensación en boca: Carbonatación leve, burbuja fina, de cuerpo medio, ama ...   \n",
       "145        Old Ale\\nColor ámbar, sin turbidez. Espuma cremosa, abundante y permanente.\\nAromas: Malta dulce, melaza, miel. Aromas a esteres especiados como clavo, canela, pimienta.\\nSabor: Malta dulce, melaza, miel, esteres especiados como pimienta, levaduras y pan.\\nSensación en boca: Carbonatación leve,  ...   \n",
       "175          APA\\nAmerican Pale Ale\\nAspecto: Color dorado, turbia debido a la no filtración y al dry-hopping. Nivel de espuma medio.\\nAroma: Temperatura de servicio: 8º C. Afrutado: aroma de cítricos. Posee una persistencia e intensidad muy altas prevaleciendo el aroma que le otorgan los lúpulos empleados ...   \n",
       "176                 Kellogg’s Choco Krispies\\nBlonde Ale hecha con Choco Krispies de Kellog’s (arroz inflado chocolateado).\\nCompuesta por agua, malta de cebada, Kellogg’s Choco Krispies, miel, lúpulos y levaduras, Rosita Kellogg’s Choco Krispies es una cerveza rubia de color miel, de carbónico fino, con c ...   \n",
       "205         Fermi Paradox\\nFarmhouse IPA con Rakau y Amarillo\\nEn esta Farmhouse Ale los lúpulos Rakau y Amarillo potencian y complementan las notas afrutadas de la levadura belga. Una mezcla de malta Pilsner, trigo y avena evoca el cuerpo y textura en boca de las IPAs americanas modernas. ¡Lo mejor de los ...   \n",
       "217          Special Kick Off\\nSpeciality Ipa. IPA con frutosidad y carácter especiado, derivados del uso de levadura belga y de lúpulos americanos.\\nApariencia: color ámbar, clara, con espuma media, blanca y con buena persistencia. Aroma: intenso aroma a fruta blanca, agrumada y tropical. Notas especia ...   \n",
       "239          Felicísima\\nWeizen IPA\\nWheat and barley malts. Classic weissbier yeast, dry hopped with Simcoe\\nHoy, 22 de octubre, Felicísima hubiera cumplido 69 años. Esta misma mañana hemos embotellado una Weizen IPA con su nombre.\\nBien de lúpulo Simcoe, malta de trigo y la excelsa levadura de las weissb ...   \n",
       "258          Words Are Very Unnecessary\\nOrange Creamsicle Double NEIPA\\nEsta DOBLE NEIPA presenta los lúpulos Amarillo, Simcoe & Citra. Hemos utilizado cáscara de naranja en el whirlpool para darle ese extra toque cítrico y tropical y un toque de lactosa para una sensacion sedosa en boca. La hemos ferment ...   \n",
       "268          Sandberg\\nCalifornia Lager\\nLa Sandberg California es una cerveza que recoge los sabores originarios de las genuinas cervezas de la costa oeste de Estados Unido, una tostada con carácter, elaborada con levaduras Ale pero que fermenta basada en el método tradicional de la lager.\\nSandberg – Cal ...   \n",
       "271         Palmeres\\nSession NEIPA\\nCebada, trigo, avena y levadura Vermont. Esta cerveza es lo que se conoce como una New England India Pale Ale (NEIPA) en su versión Session, rebajada de alcohol. Un nombre complejo que encierra una cerveza pálida, turbia, suculenta pero ligera en su paso por boca. Su ar ...   \n",
       "273            CV-500\\nJuicy lager\\nLager con ingentes cantidades de lúpulo añadido en frío durante la fermentación. Cerveza limpia, jugosa, de aroma exageradamente frutal y astringencia poderosa pensada para los enamorados de la levadura más famosa del mundo.\\nLa CV500 es la carretera de único carril y do ...   \n",
       "309         Amy 1983-2011\\nMicro IPA\\nMemorial Series\\nAMY, nuestra micro hazy ipa de tan solo 2,7% de alcohol y cantidades exageradas de TnT, Amarillo y Mosaic y nuestra levadura de cabecera Vermont, pronto verá la luz.\\nAmy Winehouse era pequeña pero poseía un carácter , una personalidad y una voz atrona ...   \n",
       "311        Acid Flashback\\nFarmhouse IPA\\nDe color dorado, cristalina y con espuma blanca y persistente. Muy aromática, destacando aromas especiados, pimienta. Sabor equilibrado ligeramente especiado y herbaceo. De cuerpo medio-ligero. Final equilibrado y ligeramente amargo y picante. Cerveza refrescante d ...   \n",
       "325        Shannon\\nWeast Coast India Pale Ale\\nMemorial Series\\nLa West Coast India Pale Ale dentro de la memorial series. Os presentamos una Ipa con levadura Omega y lúpulos Chinook, Ekuanot y Amarillo. Aromas cítricos hebales y además de afrutados.\\nUna vez en boca se presenta refrescante con un amargor ...   \n",
       "346              Trigo Edición Limitada\\nCerveza de Trigo especial elaborada siguiendo una receta centenaria traída de la región de Baviera (Alemania). Edición Limitada de 1.000 botellas.\\nTecnología alemana aplicada en Extremadura: receta original de la región de Baviera, extraída por Marcos Rubio, socio  ...   \n",
       "365            Wheat Beer\\nLa Morena Wheat Beer es una cerveza de Trigo, de alta fermentación estilo alemán, elaborada con 50% de Trigo, 50% de Malta de Cebada. Presenta un color rubio pálido, con espuma densa de burbuja fina y duradera. En el vaso es turbia al no estar filtrada, su sabor es ligero, afruta ...   \n",
       "367        Creza Sin Gluten\\nCerveza de Cereza Sin Gluten. 100% apta para celíacos.\\nColor rojo mate intenso. Carbónico ligero.\\nAroma intenso a cereza y levaduras de la variedad Bretanomyces, procedente de la piel de la cereza. Los aromas son frutales y florales, de cereza fresca, y flores blancas (azahar ...   \n",
       "443       Pecado Original\\nOak barrel Aged Farmhouse\\nFarmhouse envejecida en barrica de roble\\nEsta cerveza de edición limitada es el resultado de un blend de diferentes cervezas envejecidas en barrica de roble con diferentes levaduras, bacterias y frutas durante un mínimo de 32 meses:\\n70% Farmhouse refe ...   \n",
       "464                          Babilense\\nHefeweissbier\\nNuestra cerveza de trigo amarilla dorada con espuma blanca de finos poros, impresiona con su aroma a plátano, su cuerpo y su suave sabor a levadura.\\nVa de maravilla con pescados y mariscos, quesos picantes y especialmente con la salchica bavara de ternera   \n",
       "483                                                                                                                                                                Redneck Whiteclay Moonshiner Series\\nExtra pale ale extra hoppy, Vic secret, Citra, Simcoe y cascade, malta extra pale y levadura west coast Bry 97.   \n",
       "488            Azabache Porter\\nCerveza de tonos marrones y destellos de rubí\\nCerveza Porter tipo ALE, con matices marrones y reflejos de rubí cuando se la pone al trasluz, espuma de color café con leche con retención razonable, de aroma tostado proveniente de las maltas con las que se elabora, también pu ...   \n",
       "492        Pale Ale\\nLa Pale Ale es el estilo característico de Inglaterra y es por ello que hemos elegido maltas de cebada 100% inglesas, consiguiendo un equilibrio casi perfecto entre el cereal y el lúpulo.\\nVista (color): Color ambar claro y brillante. Con espuma blanca dense y cremosa.\\nNariz (olor): A ...   \n",
       "494         Blending In\\nEkuanot Citra DIPA\\nEsta DIPA presenta dos de nuestros lúpulos favoritos, Citra y Ekuanot, que juntos consiguen intensos aromas y sabores a lima, melon, papaya, con un fondo resinoso, y que se han añadido durante un doble dryhopping de 26g/L. La hemos fermentado con levadura ingles ...   \n",
       "508                    Sweet Disposition\\nHemos abarrotado esta NEIPA con los jugosos lupulos de Chinook y Vic Secret en un doble dry hopping de 24g/L para conseguir un dulce buque de aromas de pomelo, melon y melocotón madura. La hemos fermentado con levadura inglesa para un toque complejo de frutas de hueso.   \n",
       "528          On Cloud 9\\nOat Cream DIPA\\nEsta DIPA presenta 3 lúpulos; Ekuanot, Azacca y Vic Secret, con intensos aromas y sabores a papaya, piña y mango. Les hemos envuelto en una nube de avena con un toque de lactosa para una sensación en boca muy cremosa. Hemos fermentado esta DIPA con levadura Inglesa  ...   \n",
       "...                                                                                                                                                                                                                                                                                                                 ...   \n",
       "6497           Estrella Damm Inedit es un coupage único de malta de cebada y trigo, aromatizado con cilantro, piel de naranja y regaliz.\\r\\nEstrella Damm Inedit nace del convencimiento de que era necesaria una cerveza capaz de acompañar con el máximo respeto la mejor gastronomía. Esa es su intención y su v ...   \n",
       "6503         Cerveza lager Premium, bohemia, equilibrada y elegante, con recuerdo largo en boca y donde la suave amargor del lúpulo fresco convive con el aroma intenso de la malta.CATA CERVEZA ILLA ARTESANAColor dorado oscuro con espuma blanca densa y cremosa.Aroma suave donde predominan las notas de cerea ...   \n",
       "6504   Illa Artesana\\r\\nColor ambarino ligeramente velado con espuma blanca densa y cremosa.\\r\\nAroma suave donde predominan las notas de cereal, levadura, lúpulo, tostados, caramelos suaves con una fondo de regaliz y vainilla.\\r\\nEntrada suave, densa, voluminosa con una efervescencia fina perfectamente in ...   \n",
       "6514              La cerveza Maier Pale Ale debe su profundo color ámbar, espuma gruesa y rico sabor, a un proceso de elaboración de la cerveza como ninguna otra.Se trata de un proceso que combina un profundo respeto por la tradición cervecera con muchas décadas de evolución para llegar a un enfoque único: ...   \n",
       "6521                 Cerveza negra con un color muy llamativo debido a sus reflejos a caramelo de azúcar o café. En copa es densa y su elegancia en el carbónico es muy apreciable. Una espuma de color marrón claro, mas parecido a “café con leche”, no es tan resistente en copa debido a contener avellanas que ...   \n",
       "6522           Rosita d’Ivori\\nCerveza rubia, con burbujas finas y elegantes, ligera en copa, una turbidez poco marcada a pesar de sufrir una segunda fermentación en botella y tener las levaduras precipitadas (Lías).\\nEspuma blanca y consistente en copa, muy atractiva a la vista. En nariz es un conjunto cí ...   \n",
       "6523      Rosita Original\\r\\nCerveza rubia de color miel, de carbónico fino y elegante, con cierta densidad en copa, espuma blanca con tonos marfil cremosa y constante, con buena persistencia. Debido a la presencia de levaduras de la segunda fermentación, es turbia.\\r\\nOlfativamente se muestra muy afrutada ...   \n",
       "6525     La Font del Diable Candela Strong\\r\\nCandela Strong es una interpretación de Amber Ale con alcohol medio y moderado, amargor marcado y aroma contundente.\\r\\n5 tipos de malta y copos de cebada para crear la base, y 3 variedades de lúpulo hacen el mosto.\\r\\nElegimos lúpulos Europeos para generar ama ...   \n",
       "6526    La Font del Diable Febre Groga\\r\\nCerveza de color naranja con notas florales y cítricas, final seco y amargo.\\r\\nMaridaje recomendado: Curry, Samosa.\\r\\nEn nuestra primer cerveza quisimos interpretar lo que para nosotros es una cerveza amarga, aromática y con bebilidad alta, para esto hemos buscad ...   \n",
       "6528                                   Krut Gold es una cerveza dorada tipo American Golden Ale hecha con levadura ‘Prise de Mousse’ y lúpulo Citra. Tiene un sabor malteado sutil, aroma a lúpulo y color dorado. Suave y refrescante a la vez, es ideal para cualquier momento. Es nuestro elixir de la inmortalidad.   \n",
       "6544                Cerveza Ale, de fermentación alta, rubia, de estilo británico, típica de pub inglés y de grado alcohólico moderado. Amarga, de carácter seco pero suave, está elaborada solo con una malta británica. Tiene una tonalidad de cobre característica, con un toque de color de miel.\\r\\nCARACTERÍS ...   \n",
       "6545           Estilo de cerveza producida por primera vez en el 1841 a la ciudad de Viena por Anton Dreher. Actualmente es la cerveza reina de las fiestas de la cerveza de Octubre de Múnich. Los cinco tipos de malta diferentes que intervienen en su elaboración le otorgan un sabor muy característico y marc ...   \n",
       "6547         Cereales: 80% de cebada, 20% de trigo. Natural, sin aditivos, ni colorantes, ni conservantes. \\r\\nAlta fermentación: aporta aromas frutales a la cerveza.\\r\\nSegunda fermentación en botella: el gas propio de la cerveza lo produce ella misma, sin necesidad de añadirlo artificialmente. Así, la bu ...   \n",
       "6548              Cerveza artesana de alta fermentación (ALE) de trigo. Respetando la clasificación clásica, correspondería al estilo “Weissbier” originario de la zona de Baviera, al sur de Alemania.\\r\\nLa turbidez, singular de este estilo de cervezas, se consigue en no filtrar la cerveza y permite una seg ...   \n",
       "6549        El Pingüí es una cerveza elegante, refrescante y diferente. Se ha elaborado a partir de un proceso natural y artesanal con especias africanas y productos europeos.\\r\\nEs una Pale Ale de color paja anaranjada. A copa es densa y turbia, propio de una cerveza sin filtrar. Su acidez marcada a boca  ...   \n",
       "6550                                                                                                                                                                                                 Cerveza elaborada con maltas Maris Otter, Caramalt, Crystal, lúpulos, levadura y agua. Sin filtrar ni pausterizar.   \n",
       "6570            Cerveza estilo Imperial Stout. Elaborada con malta Pale Ale, maltas coloreadas y con lúpulos americanos que le proporcionan un sabor y aroma característicos. Las maltas oscuras están integradas para darle el color y sabor característico adecuados a nuestra cultura mediterranea. El amargor f ...   \n",
       "6575            Nunc est BIBENDUM ( Ale )Examen visual: Rubia por esencia y de color dorado. Con un giste blanquísimo y brillante, de apariencia espumosa, burbuja amplia y efímera, pero con buena retención. La carbonatación es visible a simple vista dentro de la copa.Examen Olfativo: En nariz es principalm ...   \n",
       "6578       La cerveza de Canarias de calidad reconocida internacionalmente con la medalla de Oro 2009 de Monde Selection y el Superior Taste Award: calidad y orgullo canario.\\nUna cerveza con un sabor y post sabor redondo, Dorada Especial se elabora con 100% malta y un 13% de extracto original que le confi ...   \n",
       "6585         Alhambra Especial\\nEdición Limitada Granada - Alhambra Especial Vintage\\nCerveza brillante y dorada. Con una espuma cremosa y consistente.\\nLa fragancia aromática tiene un perfil con suaves notas afrutadas y un reflejo a levadura. Los aromas de lúpulo son leves aunque florales y se intensifica ...   \n",
       "6594        San Miguel Especial\\r\\nFue la primera cerveza especial en España y se ha convertido en la marca española de mayor exportación, con reconocido éxito nacional e internacional por su calidad y buen sabor.\\r\\nUna cerveza, especial por su color amarillo oro brillante, que al probarla destaca por su  ...   \n",
       "6600             Nacida para satisfacer a los paladares más exigentes, Mahou Cinco Estrellas está elaborada con las mejores variedades de lúpulo y levadura, que le imprimen sus característicos cuerpo y sabor. Mahou Cinco Estrellas destaca por su color dorado y su característico amargor, moderado y fino, qu ...   \n",
       "6616          Es una cerveza porter, muy oscura, casi negra, con un sabor decididamente tostado o torrefacto. Las maltas empleadas se tuestan hasta un grado semejante a los granos de cacao o café. La elaboramos con levadura de fermentación alta que proporciona un toque afrutado a los sabores tostados de la ...   \n",
       "6642       Mattin Pirata\\r\\nMattin Pirata es la cerveza rubia-fuerte que fabricamos todo el año.\\r\\nVista: Rubia, ligeramente turbia. Abundante espuma. En los lostes más fuertes parece una cerveza de trigo (blanca belga, o wit berlinesa) pero no tiene nada que ver. Media/alta carbonatación. Espuma blanca y ...   \n",
       "6643            Tierra de Frontera es una cerveza artesana elaborada a partir de ingredientes naturales de alta calidad, manejados mediante el buen hacer de las técnicas artesanales tradicionales. El resultado es una cerveza natural con carácter, con refermentación y gasificación natural en botella, como r ...   \n",
       "6651       \\t\\r\\n\\r\\n    Ibón es una cerveza 100% natural y artesana, por la calidad de sus ingredientes y por su método de elaboración tradicional. Elaborada con Maltas Pilsen, Carapils y Malta de Trigo, Flor de lúpulos de las cepas Chinook, Fuggles y Cascade, agua y levadura seleccionada de cerveza. Esto ...   \n",
       "6654                 Hace algún tiempo nació la cerveza Icue Mepa , es de fermentación alta basada en el estilo American Pale Ale, una bebida viva la cual irá cambiando su composición organoléptica con el transcurso del tiempo si se respetan las condiciones de guarda de entre 7º y 15º.La maduración y gasif ...   \n",
       "6676   Del estilo de las cervezas inglesas con color rojizo y con final amargo sin ser excesivo.\\r\\n\\r\\nCompuesta de agua, maltas de cebada, lúpulo y levadura. Su fermentación se realiza en botella y debe conservarse en posición vertical, sin luz y donde la temperatura no oscile.\\r\\n\\r\\nUna cerveza ligera  ...   \n",
       "6677                                                      Con sabor a pan, ideal para verano, suave, fácil de degustar.\\r\\n\\r\\nCompuesta de agua, maltas de trigo y cebada, lúpulo y levadura. Su fermentación se realiza en botella y debe conservarse en posición vertical, sin luz y donde la temperatura no oscile.   \n",
       "6678        Es una cerveza dorada del estilo a las lager alemanas. Con espuma y burbujas duraderas, refrescantes con tonos finales y aroma peculiar con poco grado alcohólico.\\r\\n\\r\\nCompuesta de agua, maltas de cebada, lúpulo y levadura. Su fermentación se realiza en botella y debe conservarse en posición  ...   \n",
       "\n",
       "                                                                                                                                                                                                                                                                        Description_2  \\\n",
       "12             original black president imperian stout garagardoa cerveza beer osagaiak ura garagar eta zekale maltak olo malutak lupulua eta legamia ingredientes agua malta cebada centeno copos avena upulo levadura ingredients water barley rye malt flacked oat hops yeast glu    \n",
       "43                                                                 ttt west coast ipa derma series ttt derma series cerveza estilo west coast dos cepas levadura trabajado paralelo una combinación perfecta lúpulos grabado piel hasta final lo viviste eres lo serás solo sabes tú    \n",
       "120                                                                     jazzblat weissbier solo malta lúpulo levadura fermentación alta dan unas notas agradables plátano pimienta clavo sin filtrar aportando todas vitaminas b levadura levemente ácida extremadamente refrescante    \n",
       "121                         kalahari vienna lager una mezcla seis maltas alemanas tostadas consiguen darnos sabor dulce pan galleta caramelo cada trago revela nuevas capas dulzura interacción distintos tipos cebada malteada la levadura baja fermentación permite fácil beber si    \n",
       "123                                   horizons pilsner inspirada clásica pilsner checa sobre sutil malta base añadimos generosamente lúpulos fermentamos mosto levaduras lager dos semanas dejamos madurar cuatro semanas más en boca suave refrescante limpia sutiles notas herbale    \n",
       "144                                  ipa color cobre marrón aspecto turbio espuma abundante duración persistente color beige buen encaje aromas aromas maltosos pan bollería manzana pera sabor sabores pan levadura sensación boca carbonatación leve burbuja fina cuerpo medio ama    \n",
       "145                        old ale color ámbar turbidez espuma cremosa abundante permanente aromas malta dulce melaza miel aromas esteres especiados clavo canela pimienta sabor malta dulce melaza miel esteres especiados pimienta levaduras pan sensación boca carbonatación leve    \n",
       "175                                     apa american pale ale aspecto color dorado turbia debido filtración dry hopping nivel espuma medio aroma temperatura servicio 8º c afrutado aroma cítricos posee persistencia intensidad altas prevaleciendo aroma otorgan lúpulos empleados    \n",
       "176                               kellogg s choco krispies blonde ale hecha choco krispies kellog s arroz inflado chocolateado compuesta agua malta cebada kellogg s choco krispies miel lúpulos levaduras rosita kellogg s choco krispies cerveza rubia color miel carbónico fino c    \n",
       "205                                        fermi paradox farmhouse ipa rakau amarillo en farmhouse ale lúpulos rakau amarillo potencian complementan notas afrutadas levadura belga una mezcla malta pilsner trigo avena evoca cuerpo textura boca ipas americanas modernas lo mejor    \n",
       "217                        special kick off speciality ipa ipa frutosidad cara cter especiado derivados uso levadura belga lu pulos americanos apariencia color a mbar clara espuma media blanca buena persistencia aroma intenso aroma fruta blanca agrumada tropical notas especia    \n",
       "239                                             felicísima weizen ipa wheat barley malts classic weissbier yeast dry hopped simcoe hoy 22 octubre felicísima cumplido 69 años esta misma mañana embotellado weizen ipa nombre bien lúpulo simcoe malta trigo excelsa levadura weissb    \n",
       "258                                    words are very unnecessary orange creamsicle double neipa esta doble neipa presenta lúpulos amarillo simcoe citra hemos utilizado cáscara naranja whirlpool darle extra toque cítrico tropical toque lactosa sensacion sedosa boca la ferment    \n",
       "268                                                   sandberg california lager la sandberg california cerveza recoge sabores originarios genuinas cervezas costa oeste estados unido tostada carácter elaborada levaduras ale fermenta basada método tradicional lager sandberg cal    \n",
       "271                                              palmeres session neipa cebada trigo avena levadura vermont esta cerveza conoce new england india pale ale neipa versión session rebajada alcohol un nombre complejo encierra cerveza pálida turbia suculenta ligera paso boca su ar    \n",
       "273                                                   cv 500 juicy lager lager ingentes cantidades lúpulo añadido frío fermentación cerveza limpia jugosa aroma exageradamente frutal astringencia poderosa pensada enamorados levadura famosa mundo la cv500 carretera único carril    \n",
       "309                                                amy 1983 2011 micro ipa memorial series amy micro hazy ipa tan solo 2 7 alcohol cantidades exageradas tnt amarillo mosaic levadura cabecera vermont pronto verá luz amy winehouse pequeña poseía carácter personalidad voz atrona    \n",
       "311   acid flashback farmhouse ipa de color dorado cristalina espuma blanca persistente muy aromática destacando aromas especiados pimienta sabor equilibrado ligeramente especiado herbaceo de cuerpo medio ligero final equilibrado ligeramente amargo picante cerveza refrescante    \n",
       "325                     shannon weast coast india pale ale memorial series la west coast india pale ale dentro memorial series os presentamos ipa levadura omega lúpulos chinook ekuanot amarillo aromas cítricos hebales además afrutados una vez boca presenta refrescante amargor    \n",
       "346                            trigo edición limitada cerveza trigo especial elaborada siguiendo receta centenaria traída región baviera alemania edición limitada 1 000 botellas tecnología alemana aplicada extremadura receta original región baviera extraída marcos rubio socio    \n",
       "365                                                      wheat beer la morena wheat beer cerveza trigo alta fermentación estilo alemán elaborada 50 trigo 50 malta cebada presenta color rubio pálido espuma densa burbuja fina duradera en vaso turbia filtrada sabor ligero afruta    \n",
       "367                               creza sin gluten cerveza cereza sin gluten 100 apta celíacos color rojo mate intenso carbónico ligero aroma intenso cereza levaduras variedad bretanomyces procedente piel cereza los aromas frutales florales cereza fresca flores blancas azahar    \n",
       "443                                 pecado original oak barrel aged farmhouse farmhouse envejecida barrica roble esta cerveza edición limitada resultado blend diferentes cervezas envejecidas barrica roble diferentes levaduras bacterias frutas mínimo 32 meses 70 farmhouse refe    \n",
       "464                                                 babilense hefeweissbier nuestra cerveza trigo amarilla dorada espuma blanca finos poros impresiona aroma plátano cuerpo suave sabor levadura va maravilla pescados mariscos quesos picantes especialmente salchica bavara ternera   \n",
       "483                                                                                                                                       redneck whiteclay moonshiner series extra pale ale extra hoppy vic secret citra simcoe cascade malta extra pale levadura west coast bry 97    \n",
       "488                                                                azabache porter cerveza tonos marrones destellos rubí cerveza porter tipo ale matices marrones reflejos rubí pone trasluz espuma color café leche retención razonable aroma tostado proveniente maltas elabora pu    \n",
       "492                                           pale ale la pale ale estilo característico inglaterra ello elegido maltas cebada 100 inglesas consiguiendo equilibrio casi perfecto cereal lúpulo vista color color ambar claro brillante con espuma blanca dense cremosa nariz olor a    \n",
       "494                                                     blending in ekuanot citra dipa esta dipa presenta dos lúpulos favoritos citra ekuanot juntos consiguen intensos aromas sabores lima melon papaya fondo resinoso añadido doble dryhopping 26g l la fermentado levadura ingles    \n",
       "508                                                        sweet disposition hemos abarrotado neipa jugosos lupulos chinook vic secret doble dry hopping 24g l conseguir dulce buque aromas pomelo melon melocotón madura la fermentado levadura inglesa toque complejo frutas hueso    \n",
       "528                                                   on cloud 9 oat cream dipa esta dipa presenta 3 lúpulos ekuanot azacca vic secret intensos aromas sabores papaya piña mango les envuelto nube avena toque lactosa sensación boca cremosa hemos fermentado dipa levadura inglesa    \n",
       "...                                                                                                                                                                                                                                                                               ...   \n",
       "6497                                                     estrella damm inedit coupage único malta cebada trigo aromatizado cilantro piel naranja regaliz estrella damm inedit nace convencimiento necesaria cerveza capaz acompañar máximo respeto mejor gastronomía esa intención v    \n",
       "6503                                     cerveza lager premium bohemia equilibrada elegante recuerdo largo boca suave amargor lúpulo fresco convive aroma intenso malta cata cerveza illa artesanacolor dorado oscuro espuma blanca densa cremosa aroma suave predominan notas cerea    \n",
       "6504                                illa artesana color ambarino ligeramente velado espuma blanca densa cremosa aroma suave predominan notas cereal levadura lúpulo tostados caramelos suaves fondo regaliz vainilla entrada suave densa voluminosa efervescencia fina perfectamente    \n",
       "6514                                               la cerveza maier pale ale debe profundo color ámbar espuma gruesa rico sabor proceso elaboración cerveza ninguna otra se trata proceso combina profundo respeto tradición cervecera muchas décadas evolución llegar enfoque único    \n",
       "6521                                                             cerveza negra color llamativo debido reflejos caramelo azúcar café en copa densa elegancia carbónico apreciable una espuma color marrón claro mas parecido café leche tan resistente copa debido contener avellanas    \n",
       "6522                                              rosita d ivori cerveza rubia burbujas finas elegantes ligera copa turbidez marcada pesar sufrir segunda fermentación botella tener levaduras precipitadas lías espuma blanca consistente copa atractiva vista en nariz conjunto cí    \n",
       "6523                                     rosita original cerveza rubia color miel carbónico fino elegante cierta densidad copa espuma blanca tonos marfil cremosa constante buena persistencia debido presencia levaduras segunda fermentación turbia olfativamente muestra afrutada    \n",
       "6525                                      la font diable candela strong candela strong interpretación amber ale alcohol medio moderado amargor marcado aroma contundente 5 tipos malta copos cebada crear base 3 variedades lúpulo hacen mosto elegimos lúpulos europeos generar ama    \n",
       "6526                                                              la font diable febre groga cerveza color naranja notas florales cítricas final seco amargo maridaje recomendado curry samosa en primer cerveza quisimos interpretar cerveza amarga aromática bebilidad alta buscad    \n",
       "6528                                                            krut gold cerveza dorada tipo american golden ale hecha levadura prise mousse lúpulo citra tiene sabor malteado sutil aroma lúpulo color dorado suave refrescante vez ideal cualquier momento es elixir inmortalidad    \n",
       "6544                                                     cerveza ale fermentación alta rubia estilo británico típica pub inglés grado alcohólico moderado amarga carácter seco suave elaborada solo malta británica tiene tonalidad cobre característica toque color miel caracterís    \n",
       "6545                                                         estilo cerveza producida primera vez 1841 ciudad viena anton dreher actualmente cerveza reina fiestas cerveza octubre múnich los cinco tipos malta diferentes intervienen elaboración otorgan sabor característico marc    \n",
       "6547                                                   cereales 80 cebada 20 trigo natural aditivos colorantes conservantes alta fermentación aporta aromas frutales cerveza segunda fermentación botella gas propio cerveza produce misma necesidad añadirlo artificialmente así bu    \n",
       "6548                                                    cerveza artesana alta fermentación ale trigo respetando clasificación clásica correspondería estilo weissbier originario zona baviera sur alemania la turbidez singular estilo cervezas consigue filtrar cerveza permite seg    \n",
       "6549                                        el pingüí cerveza elegante refrescante diferente se elaborado partir proceso natural artesanal especias africanas productos europeos es pale ale color paja anaranjada a copa densa turbia propio cerveza filtrar su acidez marcada boca    \n",
       "6550                                                                                                                                                                             cerveza elaborada maltas maris otter caramalt crystal lúpulos levadura agua sin filtrar pausterizar    \n",
       "6570                                 cerveza estilo imperial stout elaborada malta pale ale maltas coloreadas lúpulos americanos proporcionan sabor aroma característicos las maltas oscuras integradas darle color sabor característico adecuados cultura mediterranea el amargor f    \n",
       "6575                                 nunc est bibendum ale examen visual rubia esencia color dorado con giste blanquísimo brillante apariencia espumosa burbuja amplia efímera buena retención la carbonatación visible simple vista dentro copa examen olfativo en nariz principalm    \n",
       "6578                                       la cerveza canarias calidad reconocida internacionalmente medalla oro 2009 monde selection superior taste award calidad orgullo canario una cerveza sabor post sabor redondo dorada especial elabora 100 malta 13 extracto original confi    \n",
       "6585                          alhambra especial edición limitada granada alhambra especial vintage cerveza brillante dorada con espuma cremosa consistente la fragancia aromática perfil suaves notas afrutadas reflejo levadura los aromas lúpulo leves aunque florales intensifica    \n",
       "6594                                               san miguel especial fue primera cerveza especial españa convertido marca española mayor exportación reconocido éxito nacional internacional calidad buen sabor una cerveza especial color amarillo oro brillante probarla destaca    \n",
       "6600                                               nacida satisfacer paladares exigentes mahou cinco estrellas elaborada mejores variedades lúpulo levadura imprimen característicos cuerpo sabor mahou cinco estrellas destaca color dorado característico amargor moderado fino qu    \n",
       "6616                                                  es cerveza porter oscura casi negra sabor decididamente tostado torrefacto las maltas empleadas tuestan grado semejante granos cacao café la elaboramos levadura fermentación alta proporciona toque afrutado sabores tostados    \n",
       "6642                                                    mattin pirata mattin pirata cerveza rubia fuerte fabricamos año vista rubia ligeramente turbia abundante espuma en lostes fuertes parece cerveza trigo blanca belga wit berlinesa ver media alta carbonatación espuma blanca    \n",
       "6643                                      tierra frontera cerveza artesana elaborada partir ingredientes naturales alta calidad manejados mediante buen hacer técnicas artesanales tradicionales el resultado cerveza natural carácter refermentación gasificación natural botella r    \n",
       "6651                                                           ibón cerveza 100 natural artesana calidad ingredientes método elaboración tradicional elaborada maltas pilsen carapils malta trigo flor lúpulos cepas chinook fuggles cascade agua levadura seleccionada cerveza esto    \n",
       "6654                                                     hace algún tiempo nació cerveza icue mepa fermentación alta basada estilo american pale ale bebida viva irá cambiando composición organoléptica transcurso tiempo si respetan condiciones guarda 7º 15º la maduración gasif    \n",
       "6676                                                   del estilo cervezas inglesas color rojizo final amargo ser excesivo compuesta agua maltas cebada lúpulo levadura su fermentación realiza botella debe conservarse posición vertical luz temperatura oscile una cerveza ligera    \n",
       "6677                                                                                    con sabor pan ideal verano suave fácil degustar compuesta agua maltas trigo cebada lúpulo levadura su fermentación realiza botella debe conservarse posición vertical luz temperatura oscile    \n",
       "6678                                         es cerveza dorada estilo lager alemanas con espuma burbujas duraderas refrescantes tonos finales aroma peculiar grado alcohólico compuesta agua maltas cebada lúpulo levadura su fermentación realiza botella debe conservarse posición    \n",
       "\n",
       "                                                                                                                                                                                                                                  Description_3  \\\n",
       "12    origin black presid imperian stout garagardoa beer osagaiak ura garagar eta zekal maltak olo malutak lupulua legamia ingredient agua malta cebada centeno copo avena upulo levadura ingredi water barley rye malt flack oat hop yeast glu   \n",
       "43                                                                                ttt west coast ipa derma seri estilo do cepa levadura trabajado paralelo combinación perfecta lúpulo grabado piel hasta final lo vivist ere será solo sabe tú   \n",
       "120                                                         jazzblat weissbier solo malta lúpulo levadura fermentación alta dan nota agrad plátano pimienta clavo sin filtrar aportando toda vitamina b levement ácida extremadament refrescant   \n",
       "121      kalahari vienna lager mezcla sei malta alemana tostada consiguen darno sabor dulc pan galleta caramelo cada trago revela nueva capa dulzura interacción distinto tipo cebada malteada levadura baja fermentación permit fácil beber si   \n",
       "123                               horizon pilsner inspirada clásica checa sobr sutil malta base añadimo generosament lúpulo fermentamo mosto levadura lager do semana dejamo madurar cuatro má en boca suav refrescant limpia sutil nota herbal   \n",
       "144                       ipa color cobr marrón aspecto turbio espuma abundant duración persistent beig buen encaj aroma maltoso pan bollería manzana pera sabor sabor levadura sensación boca carbonatación leve burbuja fina cuerpo medio ama   \n",
       "145                                                      old ale color ámbar turbidez espuma cremosa abundant permanent aroma malta dulc melaza miel ester especiado clavo canela pimienta sabor levadura pan sensación boca carbonatación leve   \n",
       "175                     apa american pale ale aspecto color dorado turbia debido filtración dri hop nivel espuma medio aroma temperatura servicio 8º c afrutado cítrico pose persistencia intensidad alta prevaleciendo otorgan lúpulo empleado   \n",
       "176                                                                               kellogg s choco krispi blond ale hecha kellog arroz inflado chocolateado compuesta agua malta cebada miel lúpulo levadura rosita rubia color carbónico fino c   \n",
       "205                                       fermi paradox farmhous ipa rakau amarillo en ale lúpulo potencian complementan nota afrutada levadura belga mezcla malta pilsner trigo avena evoca cuerpo textura boca ipa americana moderna lo mejor   \n",
       "217             special kick off special ipa frutosidad cara cter especiado derivado uso levadura belga lu pulo americano apariencia color a mbar clara espuma media blanca buena persistencia aroma intenso fruta agrumada tropic nota especia   \n",
       "239                                             felicísima weizen ipa wheat barley malt classic weissbier yeast dri hop simco hoy 22 octubr cumplido 69 año esta misma mañana embotellado nombr bien lúpulo malta trigo excelsa levadura weissb   \n",
       "258                          word are veri unnecessari orang creamsicl doubl neipa esta dobl presenta lúpulo amarillo simco citra hemo utilizado cáscara naranja whirlpool darl extra toqu cítrico tropic lactosa sensacion sedosa boca ferment   \n",
       "268                                                                                         sandberg california lager recog sabor originario genuina costa oest estado unido tostada carácter levadura ale fermenta basada método tradicion cal   \n",
       "271                                           palmer session neipa cebada trigo avena levadura vermont esta conoc new england india pale ale versión rebajada alcohol un nombr complejo encierra pálida turbia suculenta ligera paso boca su ar   \n",
       "273                                     cv 500 juici lager ingent cantidad lúpulo añadido frío fermentación limpia jugosa aroma exageradament frutal astringencia poderosa pensada enamorado levadura famosa mundo cv500 carretera único carril   \n",
       "309                                     ami 1983 2011 micro ipa memori seri hazi tan solo 2 7 alcohol cantidad exagerada tnt amarillo mosaic levadura cabecera vermont pronto verá luz winehous pequeña poseía carácter personalidad voz atrona   \n",
       "311        acid flashback farmhous ipa de color dorado cristalina espuma blanca persistent muy aromática destacando aroma especiado pimienta sabor equilibrado ligerament especiado herbaceo cuerpo medio ligero final amargo picant refrescant   \n",
       "325                                         shannon weast coast india pale ale memori seri west dentro os presentamo ipa levadura omega lúpulo chinook ekuanot amarillo aroma cítrico hebal ademá afrutado vez boca presenta refrescant amargor   \n",
       "346                                                            trigo edición limitada especi siguiendo receta centenaria traída región baviera alemania 1 000 botella tecnología alemana aplicada extremadura origin extraída marco rubio socio   \n",
       "365                                                          wheat beer morena trigo alta fermentación estilo alemán 50 malta cebada presenta color rubio pálido espuma densa burbuja fina duradera en vaso turbia filtrada sabor ligero afruta   \n",
       "367                                                       creza sin gluten cereza 100 apta celíaco color rojo mate intenso carbónico ligero aroma levadura variedad bretanomyc procedent piel lo aroma frutal floral fresca flore blanca azahar   \n",
       "443                                                                      pecado origin oak barrel age farmhous envejecida barrica robl esta edición limitada resultado blend diferent envejecida levadura bacteria fruta mínimo 32 mese 70 refe   \n",
       "464                               babilens hefeweissbi nuestra trigo amarilla dorada espuma blanca fino poro impresiona aroma plátano cuerpo suav sabor levadura va maravilla pescado marisco queso picant especialment salchica bavara ternera   \n",
       "483                                                                                                                         redneck whiteclay moonshin seri extra pale ale hoppi vic secret citra simco cascad malta levadura west coast bri 97   \n",
       "488                                                                               azabach porter tono marron destello rubí tipo ale matic reflejo pone trasluz espuma color café lech retención razon aroma tostado provenient malta elabora pu   \n",
       "492                            pale ale estilo característico inglaterra ello elegido malta cebada 100 inglesa consiguiendo equilibrio casi perfecto cereal lúpulo vista color ambar claro brillant con espuma blanca dens cremosa nariz olor a   \n",
       "494                                                        blend in ekuanot citra dipa esta presenta do lúpulo favorito junto consiguen intenso aroma sabor lima melon papaya fondo resinoso añadido dobl dryhop 26g l fermentado levadura ingl   \n",
       "508                                      sweet disposit hemo abarrotado neipa jugoso lupulo chinook vic secret dobl dri hop 24g l conseguir dulc buqu aroma pomelo melon melocotón madura fermentado levadura inglesa toqu complejo fruta hueso   \n",
       "528                                on cloud 9 oat cream dipa esta presenta 3 lúpulo ekuanot azacca vic secret intenso aroma sabor papaya piña mango le envuelto nube avena toqu lactosa sensación boca cremosa hemo fermentado levadura inglesa   \n",
       "...                                                                                                                                                                                                                                         ...   \n",
       "6497                                              estrella damm inedit coupag único malta cebada trigo aromatizado cilantro piel naranja regaliz nace convencimiento necesaria capaz acompañar máximo respeto mejor gastronomía esa intención v   \n",
       "6503                                lager premium bohemia equilibrada elegant recuerdo largo boca suav amargor lúpulo fresco conviv aroma intenso malta cata illa artesanacolor dorado oscuro espuma blanca densa cremosa predominan nota cerea   \n",
       "6504               illa artesana color ambarino ligerament velado espuma blanca densa cremosa aroma suav predominan nota cereal levadura lúpulo tostado caramelo suav fondo regaliz vainilla entrada voluminosa efervescencia fina perfectament   \n",
       "6514                                                 maier pale ale debe profundo color ámbar espuma gruesa rico sabor proceso elaboración ninguna otra se trata combina respeto tradición cervecera mucha década evolución llegar enfoqu único   \n",
       "6521                                                                      negra color llamativo debido reflejo caramelo azúcar café en copa densa elegancia carbónico apreci espuma marrón claro ma parecido lech tan resistent conten avellana   \n",
       "6522                              rosita d ivori rubia burbuja fina elegant ligera copa turbidez marcada pesar sufrir segunda fermentación botella tener levadura precipitada lía espuma blanca consistent atractiva vista en nariz conjunto cí   \n",
       "6523               rosita origin rubia color miel carbónico fino elegant cierta densidad copa espuma blanca tono marfil cremosa constant buena persistencia debido presencia levadura segunda fermentación turbia olfativament muestra afrutada   \n",
       "6525                            font diabl candela strong interpretación amber ale alcohol medio moderado amargor marcado aroma contundent 5 tipo malta copo cebada crear base 3 variedad lúpulo hacen mosto elegimo lúpulo europeo generar ama   \n",
       "6526                                                            font diabl febr groga color naranja nota floral cítrica final seco amargo maridaj recomendado curri samosa en primer quisimo interpretar amarga aromática bebilidad alta buscad   \n",
       "6528                                          krut gold dorada tipo american golden ale hecha levadura prise mouss lúpulo citra tien sabor malteado sutil aroma color dorado suav refrescant vez ideal cualquier momento es elixir inmortalidad   \n",
       "6544                                        ale fermentación alta rubia estilo británico típica pub inglé grado alcohólico moderado amarga carácter seco suav solo malta británica tien tonalidad cobr característica toqu color miel caracterí   \n",
       "6545                                                   estilo producida primera vez 1841 ciudad viena anton dreher actualment reina fiesta octubr múnich lo cinco tipo malta diferent intervienen elaboración otorgan sabor característico marc   \n",
       "6547                                                          cereal 80 cebada 20 trigo natur aditivo colorant conservant alta fermentación aporta aroma frutal segunda botella ga propio produc misma necesidad añadirlo artificialment así bu   \n",
       "6548                                                    artesana alta fermentación ale trigo respetando clasificación clásica correspondería estilo weissbier originario zona baviera sur alemania turbidez singular consigu filtrar permit seg   \n",
       "6549                                 pingüí elegant refrescant diferent se elaborado partir proceso natur artesan especia africana producto europeo es pale ale color paja anaranjada a copa densa turbia propio filtrar su acidez marcada boca   \n",
       "6550                                                                                                                                                             malta mari otter caramalt crystal lúpulo levadura agua sin filtrar pausterizar   \n",
       "6570                                             estilo imperi stout malta pale ale malta coloreada lúpulo americano proporcionan sabor aroma característico oscura integrada darl color característico adecuado cultura mediterranea amargor f   \n",
       "6575          nunc est bibendum ale examen visual rubia esencia color dorado con gist blanquísimo brillant apariencia espumosa burbuja amplia efímera buena retención carbonatación visibl simpl vista dentro copa olfativo en nariz principalm   \n",
       "6578                                                  canaria calidad reconocida internacionalment medalla oro 2009 mond select superior tast award orgullo canario sabor post redondo dorada especi elabora 100 malta 13 extracto origin confi   \n",
       "6585                                 alhambra especi edición limitada granada vintag brillant dorada con espuma cremosa consistent fragancia aromática perfil suav nota afrutada reflejo levadura lo aroma lúpulo leve aunqu floral intensifica   \n",
       "6594                                                       san miguel especi fue primera españa convertido marca española mayor exportación reconocido éxito nacion internacion calidad buen sabor color amarillo oro brillant probarla destaca   \n",
       "6600                                                      nacida satisfac paladar exigent mahou cinco estrella mejor variedad lúpulo levadura imprimen característico cuerpo sabor destaca color dorado característico amargor moderado fino qu   \n",
       "6616                                      es porter oscura casi negra sabor decididament tostado torrefacto malta empleada tuestan grado semejant grano cacao café elaboramo levadura fermentación alta proporciona toqu afrutado sabor tostado   \n",
       "6642                                                                          mattin pirata rubia fuert fabricamo año vista ligerament turbia abundant espuma en lost fuert parec trigo blanca belga wit berlinesa ver media alta carbonatación   \n",
       "6643                                                   tierra frontera artesana partir ingredient natural alta calidad manejado mediant buen hacer técnica artesanal tradicional resultado natur carácter refermentación gasificación botella r   \n",
       "6651                                                             ibón 100 natur artesana calidad ingredient método elaboración tradicion malta pilsen carapil malta trigo flor lúpulo cepa chinook fuggl cascad agua levadura seleccionada esto   \n",
       "6654                                     hace algún tiempo nació icu mepa fermentación alta basada estilo american pale ale bebida viva irá cambiando composición organoléptica transcurso si respetan condicion guarda 7º 15º maduración gasif   \n",
       "6676                                         del estilo inglesa color rojizo final amargo ser excesivo compuesta agua malta cebada lúpulo levadura su fermentación realiza botella debe conservars posición vertic luz temperatura oscil ligera   \n",
       "6677                                                     con sabor pan ideal verano suav fácil degustar compuesta agua malta trigo cebada lúpulo levadura su fermentación realiza botella debe conservars posición vertic luz temperatura oscil   \n",
       "6678                      es dorada estilo lager alemana con espuma burbuja duradera refrescant tono final aroma peculiar grado alcohólico compuesta agua malta cebada lúpulo levadura su fermentación realiza botella debe conservars posición   \n",
       "\n",
       "          sims  \\\n",
       "12    0.000000   \n",
       "43    0.000000   \n",
       "120   0.000000   \n",
       "121   0.000000   \n",
       "123   0.000000   \n",
       "144   0.000000   \n",
       "145   0.000000   \n",
       "175   0.000000   \n",
       "176   0.000000   \n",
       "205   0.000000   \n",
       "217   0.000000   \n",
       "239   0.000000   \n",
       "258   0.261409   \n",
       "268   0.000000   \n",
       "271   0.124251   \n",
       "273   0.000000   \n",
       "309   0.154479   \n",
       "311   0.000000   \n",
       "325   0.000000   \n",
       "346   0.000000   \n",
       "365   0.000000   \n",
       "367   0.000000   \n",
       "443   0.000000   \n",
       "464   0.000000   \n",
       "483   0.133211   \n",
       "488   0.000000   \n",
       "492   0.000000   \n",
       "494   0.134565   \n",
       "508   0.185624   \n",
       "528   0.000000   \n",
       "...        ...   \n",
       "6497  0.000000   \n",
       "6503  0.000000   \n",
       "6504  0.000000   \n",
       "6514  0.000000   \n",
       "6521  0.000000   \n",
       "6522  0.000000   \n",
       "6523  0.000000   \n",
       "6525  0.000000   \n",
       "6526  0.000000   \n",
       "6528  0.104413   \n",
       "6544  0.000000   \n",
       "6545  0.000000   \n",
       "6547  0.000000   \n",
       "6548  0.000000   \n",
       "6549  0.000000   \n",
       "6550  0.000000   \n",
       "6570  0.000000   \n",
       "6575  0.000000   \n",
       "6578  0.000000   \n",
       "6585  0.000000   \n",
       "6594  0.000000   \n",
       "6600  0.000000   \n",
       "6616  0.000000   \n",
       "6642  0.000000   \n",
       "6643  0.000000   \n",
       "6651  0.000000   \n",
       "6654  0.000000   \n",
       "6676  0.000000   \n",
       "6677  0.000000   \n",
       "6678  0.000000   \n",
       "\n",
       "                                                                                                                                                                                                                                                                  Description_spanish  \\\n",
       "12             original black president imperian stout garagardoa cerveza beer osagaiak ura garagar eta zekale maltak olo malutak lupulua eta legamia ingredientes agua malta cebada centeno copos avena upulo levadura ingredients water barley rye malt flacked oat hops yeast glu    \n",
       "43                                                                 ttt west coast ipa derma series ttt derma series cerveza estilo west coast dos cepas levadura trabajado paralelo una combinación perfecta lúpulos grabado piel hasta final lo viviste eres lo serás solo sabes tú    \n",
       "120                                                                     jazzblat weissbier solo malta lúpulo levadura fermentación alta dan unas notas agradables plátano pimienta clavo sin filtrar aportando todas vitaminas b levadura levemente ácida extremadamente refrescante    \n",
       "121                         kalahari vienna lager una mezcla seis maltas alemanas tostadas consiguen darnos sabor dulce pan galleta caramelo cada trago revela nuevas capas dulzura interacción distintos tipos cebada malteada la levadura baja fermentación permite fácil beber si    \n",
       "123                                   horizons pilsner inspirada clásica pilsner checa sobre sutil malta base añadimos generosamente lúpulos fermentamos mosto levaduras lager dos semanas dejamos madurar cuatro semanas más en boca suave refrescante limpia sutiles notas herbale    \n",
       "144                                  ipa color cobre marrón aspecto turbio espuma abundante duración persistente color beige buen encaje aromas aromas maltosos pan bollería manzana pera sabor sabores pan levadura sensación boca carbonatación leve burbuja fina cuerpo medio ama    \n",
       "145                        old ale color ámbar turbidez espuma cremosa abundante permanente aromas malta dulce melaza miel aromas esteres especiados clavo canela pimienta sabor malta dulce melaza miel esteres especiados pimienta levaduras pan sensación boca carbonatación leve    \n",
       "175                                     apa american pale ale aspecto color dorado turbia debido filtración dry hopping nivel espuma medio aroma temperatura servicio 8º c afrutado aroma cítricos posee persistencia intensidad altas prevaleciendo aroma otorgan lúpulos empleados    \n",
       "176                               kellogg s choco krispies blonde ale hecha choco krispies kellog s arroz inflado chocolateado compuesta agua malta cebada kellogg s choco krispies miel lúpulos levaduras rosita kellogg s choco krispies cerveza rubia color miel carbónico fino c    \n",
       "205                                        fermi paradox farmhouse ipa rakau amarillo en farmhouse ale lúpulos rakau amarillo potencian complementan notas afrutadas levadura belga una mezcla malta pilsner trigo avena evoca cuerpo textura boca ipas americanas modernas lo mejor    \n",
       "217                        special kick off speciality ipa ipa frutosidad cara cter especiado derivados uso levadura belga lu pulos americanos apariencia color a mbar clara espuma media blanca buena persistencia aroma intenso aroma fruta blanca agrumada tropical notas especia    \n",
       "239                                             felicísima weizen ipa wheat barley malts classic weissbier yeast dry hopped simcoe hoy 22 octubre felicísima cumplido 69 años esta misma mañana embotellado weizen ipa nombre bien lúpulo simcoe malta trigo excelsa levadura weissb    \n",
       "258                                    words are very unnecessary orange creamsicle double neipa esta doble neipa presenta lúpulos amarillo simcoe citra hemos utilizado cáscara naranja whirlpool darle extra toque cítrico tropical toque lactosa sensacion sedosa boca la ferment    \n",
       "268                                                   sandberg california lager la sandberg california cerveza recoge sabores originarios genuinas cervezas costa oeste estados unido tostada carácter elaborada levaduras ale fermenta basada método tradicional lager sandberg cal    \n",
       "271                                              palmeres session neipa cebada trigo avena levadura vermont esta cerveza conoce new england india pale ale neipa versión session rebajada alcohol un nombre complejo encierra cerveza pálida turbia suculenta ligera paso boca su ar    \n",
       "273                                                   cv 500 juicy lager lager ingentes cantidades lúpulo añadido frío fermentación cerveza limpia jugosa aroma exageradamente frutal astringencia poderosa pensada enamorados levadura famosa mundo la cv500 carretera único carril    \n",
       "309                                                amy 1983 2011 micro ipa memorial series amy micro hazy ipa tan solo 2 7 alcohol cantidades exageradas tnt amarillo mosaic levadura cabecera vermont pronto verá luz amy winehouse pequeña poseía carácter personalidad voz atrona    \n",
       "311   acid flashback farmhouse ipa de color dorado cristalina espuma blanca persistente muy aromática destacando aromas especiados pimienta sabor equilibrado ligeramente especiado herbaceo de cuerpo medio ligero final equilibrado ligeramente amargo picante cerveza refrescante    \n",
       "325                     shannon weast coast india pale ale memorial series la west coast india pale ale dentro memorial series os presentamos ipa levadura omega lúpulos chinook ekuanot amarillo aromas cítricos hebales además afrutados una vez boca presenta refrescante amargor    \n",
       "346                            trigo edición limitada cerveza trigo especial elaborada siguiendo receta centenaria traída región baviera alemania edición limitada 1 000 botellas tecnología alemana aplicada extremadura receta original región baviera extraída marcos rubio socio    \n",
       "365                                                      wheat beer la morena wheat beer cerveza trigo alta fermentación estilo alemán elaborada 50 trigo 50 malta cebada presenta color rubio pálido espuma densa burbuja fina duradera en vaso turbia filtrada sabor ligero afruta    \n",
       "367                               creza sin gluten cerveza cereza sin gluten 100 apta celíacos color rojo mate intenso carbónico ligero aroma intenso cereza levaduras variedad bretanomyces procedente piel cereza los aromas frutales florales cereza fresca flores blancas azahar    \n",
       "443                                 pecado original oak barrel aged farmhouse farmhouse envejecida barrica roble esta cerveza edición limitada resultado blend diferentes cervezas envejecidas barrica roble diferentes levaduras bacterias frutas mínimo 32 meses 70 farmhouse refe    \n",
       "464                                                 babilense hefeweissbier nuestra cerveza trigo amarilla dorada espuma blanca finos poros impresiona aroma plátano cuerpo suave sabor levadura va maravilla pescados mariscos quesos picantes especialmente salchica bavara ternera   \n",
       "483                                                                                                                                       redneck whiteclay moonshiner series extra pale ale extra hoppy vic secret citra simcoe cascade malta extra pale levadura west coast bry 97    \n",
       "488                                                                azabache porter cerveza tonos marrones destellos rubí cerveza porter tipo ale matices marrones reflejos rubí pone trasluz espuma color café leche retención razonable aroma tostado proveniente maltas elabora pu    \n",
       "492                                           pale ale la pale ale estilo característico inglaterra ello elegido maltas cebada 100 inglesas consiguiendo equilibrio casi perfecto cereal lúpulo vista color color ambar claro brillante con espuma blanca dense cremosa nariz olor a    \n",
       "494                                                     blending in ekuanot citra dipa esta dipa presenta dos lúpulos favoritos citra ekuanot juntos consiguen intensos aromas sabores lima melon papaya fondo resinoso añadido doble dryhopping 26g l la fermentado levadura ingles    \n",
       "508                                                        sweet disposition hemos abarrotado neipa jugosos lupulos chinook vic secret doble dry hopping 24g l conseguir dulce buque aromas pomelo melon melocotón madura la fermentado levadura inglesa toque complejo frutas hueso    \n",
       "528                                                   on cloud 9 oat cream dipa esta dipa presenta 3 lúpulos ekuanot azacca vic secret intensos aromas sabores papaya piña mango les envuelto nube avena toque lactosa sensación boca cremosa hemos fermentado dipa levadura inglesa    \n",
       "...                                                                                                                                                                                                                                                                               ...   \n",
       "6497                                                     estrella damm inedit coupage único malta cebada trigo aromatizado cilantro piel naranja regaliz estrella damm inedit nace convencimiento necesaria cerveza capaz acompañar máximo respeto mejor gastronomía esa intención v    \n",
       "6503                                     cerveza lager premium bohemia equilibrada elegante recuerdo largo boca suave amargor lúpulo fresco convive aroma intenso malta cata cerveza illa artesanacolor dorado oscuro espuma blanca densa cremosa aroma suave predominan notas cerea    \n",
       "6504                                illa artesana color ambarino ligeramente velado espuma blanca densa cremosa aroma suave predominan notas cereal levadura lúpulo tostados caramelos suaves fondo regaliz vainilla entrada suave densa voluminosa efervescencia fina perfectamente    \n",
       "6514                                               la cerveza maier pale ale debe profundo color ámbar espuma gruesa rico sabor proceso elaboración cerveza ninguna otra se trata proceso combina profundo respeto tradición cervecera muchas décadas evolución llegar enfoque único    \n",
       "6521                                                             cerveza negra color llamativo debido reflejos caramelo azúcar café en copa densa elegancia carbónico apreciable una espuma color marrón claro mas parecido café leche tan resistente copa debido contener avellanas    \n",
       "6522                                              rosita d ivori cerveza rubia burbujas finas elegantes ligera copa turbidez marcada pesar sufrir segunda fermentación botella tener levaduras precipitadas lías espuma blanca consistente copa atractiva vista en nariz conjunto cí    \n",
       "6523                                     rosita original cerveza rubia color miel carbónico fino elegante cierta densidad copa espuma blanca tonos marfil cremosa constante buena persistencia debido presencia levaduras segunda fermentación turbia olfativamente muestra afrutada    \n",
       "6525                                      la font diable candela strong candela strong interpretación amber ale alcohol medio moderado amargor marcado aroma contundente 5 tipos malta copos cebada crear base 3 variedades lúpulo hacen mosto elegimos lúpulos europeos generar ama    \n",
       "6526                                                              la font diable febre groga cerveza color naranja notas florales cítricas final seco amargo maridaje recomendado curry samosa en primer cerveza quisimos interpretar cerveza amarga aromática bebilidad alta buscad    \n",
       "6528                                                            krut gold cerveza dorada tipo american golden ale hecha levadura prise mousse lúpulo citra tiene sabor malteado sutil aroma lúpulo color dorado suave refrescante vez ideal cualquier momento es elixir inmortalidad    \n",
       "6544                                                     cerveza ale fermentación alta rubia estilo británico típica pub inglés grado alcohólico moderado amarga carácter seco suave elaborada solo malta británica tiene tonalidad cobre característica toque color miel caracterís    \n",
       "6545                                                         estilo cerveza producida primera vez 1841 ciudad viena anton dreher actualmente cerveza reina fiestas cerveza octubre múnich los cinco tipos malta diferentes intervienen elaboración otorgan sabor característico marc    \n",
       "6547                                                   cereales 80 cebada 20 trigo natural aditivos colorantes conservantes alta fermentación aporta aromas frutales cerveza segunda fermentación botella gas propio cerveza produce misma necesidad añadirlo artificialmente así bu    \n",
       "6548                                                    cerveza artesana alta fermentación ale trigo respetando clasificación clásica correspondería estilo weissbier originario zona baviera sur alemania la turbidez singular estilo cervezas consigue filtrar cerveza permite seg    \n",
       "6549                                        el pingüí cerveza elegante refrescante diferente se elaborado partir proceso natural artesanal especias africanas productos europeos es pale ale color paja anaranjada a copa densa turbia propio cerveza filtrar su acidez marcada boca    \n",
       "6550                                                                                                                                                                             cerveza elaborada maltas maris otter caramalt crystal lúpulos levadura agua sin filtrar pausterizar    \n",
       "6570                                 cerveza estilo imperial stout elaborada malta pale ale maltas coloreadas lúpulos americanos proporcionan sabor aroma característicos las maltas oscuras integradas darle color sabor característico adecuados cultura mediterranea el amargor f    \n",
       "6575                                 nunc est bibendum ale examen visual rubia esencia color dorado con giste blanquísimo brillante apariencia espumosa burbuja amplia efímera buena retención la carbonatación visible simple vista dentro copa examen olfativo en nariz principalm    \n",
       "6578                                       la cerveza canarias calidad reconocida internacionalmente medalla oro 2009 monde selection superior taste award calidad orgullo canario una cerveza sabor post sabor redondo dorada especial elabora 100 malta 13 extracto original confi    \n",
       "6585                          alhambra especial edición limitada granada alhambra especial vintage cerveza brillante dorada con espuma cremosa consistente la fragancia aromática perfil suaves notas afrutadas reflejo levadura los aromas lúpulo leves aunque florales intensifica    \n",
       "6594                                               san miguel especial fue primera cerveza especial españa convertido marca española mayor exportación reconocido éxito nacional internacional calidad buen sabor una cerveza especial color amarillo oro brillante probarla destaca    \n",
       "6600                                               nacida satisfacer paladares exigentes mahou cinco estrellas elaborada mejores variedades lúpulo levadura imprimen característicos cuerpo sabor mahou cinco estrellas destaca color dorado característico amargor moderado fino qu    \n",
       "6616                                                  es cerveza porter oscura casi negra sabor decididamente tostado torrefacto las maltas empleadas tuestan grado semejante granos cacao café la elaboramos levadura fermentación alta proporciona toque afrutado sabores tostados    \n",
       "6642                                                    mattin pirata mattin pirata cerveza rubia fuerte fabricamos año vista rubia ligeramente turbia abundante espuma en lostes fuertes parece cerveza trigo blanca belga wit berlinesa ver media alta carbonatación espuma blanca    \n",
       "6643                                      tierra frontera cerveza artesana elaborada partir ingredientes naturales alta calidad manejados mediante buen hacer técnicas artesanales tradicionales el resultado cerveza natural carácter refermentación gasificación natural botella r    \n",
       "6651                                                           ibón cerveza 100 natural artesana calidad ingredientes método elaboración tradicional elaborada maltas pilsen carapils malta trigo flor lúpulos cepas chinook fuggles cascade agua levadura seleccionada cerveza esto    \n",
       "6654                                                     hace algún tiempo nació cerveza icue mepa fermentación alta basada estilo american pale ale bebida viva irá cambiando composición organoléptica transcurso tiempo si respetan condiciones guarda 7º 15º la maduración gasif    \n",
       "6676                                                   del estilo cervezas inglesas color rojizo final amargo ser excesivo compuesta agua maltas cebada lúpulo levadura su fermentación realiza botella debe conservarse posición vertical luz temperatura oscile una cerveza ligera    \n",
       "6677                                                                                    con sabor pan ideal verano suave fácil degustar compuesta agua maltas trigo cebada lúpulo levadura su fermentación realiza botella debe conservarse posición vertical luz temperatura oscile    \n",
       "6678                                         es cerveza dorada estilo lager alemanas con espuma burbujas duraderas refrescantes tonos finales aroma peculiar grado alcohólico compuesta agua maltas cebada lúpulo levadura su fermentación realiza botella debe conservarse posición    \n",
       "\n",
       "                                                                                                                                                                                                                                                                                                                                                                                                                                                                                                            Description_y  \n",
       "12    Original Black President\\nImperian Stout\\nGaragardoa / Cerveza / Beer\\nOsagaiak: ura, garagar eta zekale maltak, olo-malutak, lupulua eta legamia.\\nIngredientes: agua, malta de cebada y centeno, copos de avena, |upulo y levadura.\\nIngredients: water, barley ... Ver más rye malt, flacked oat, hops, yeast\\nGlutena dauka / Contiene gluten / Contains gluten Elaborado por “Sergio Martinez Gonzalez y otros CB” y Cerveza Byra R.G.S.\\n30.013078/VI. eta “Sergio Martinez Gonzalezy otros CB”k egina.\\n1...  \n",
       "43                                                                                                                                                                                                       TTT\\nWest Coast IPA\\nDerma Series\\nTTT Derma Series, es una cerveza de estilo West Coast con dos cepas de levadura, que han trabajado en paralelo. Una combinación perfecta de lúpulos.\\n*Grabado en tu piel. Hasta el final. Lo que viviste, es lo que eres. ... Ver más que serás, solo lo sabes tú. Ver menos  \n",
       "120                                                                                                                                                                                                                                                            Jazzblat\\nWeissbier\\nSolo la malta, el lúpulo y la levadura de fermentación alta dan unas notas agradables al plátano, a pimienta y a clavo. Sin filtrar, aportando todas las vitaminas B de la levadura, es levemente ácida y extremadamente refrescante.  \n",
       "121                                                                                                                                                                                 Kalahari\\nVienna Lager\\nUna mezcla de seis maltas alemanas tostadas consiguen darnos un sabor dulce, pan, galleta y caramelo. Cada trago revela nuevas capas de dulzura e interacción entre los distintos tipos de cebada malteada. La levadura de baja ... Ver más permite que sea fácil de beber sin sacrificar el sabor. Ver menos  \n",
       "123                                                                                                                                                                                          Horizons\\nPilsner\\nInspirada en la clásica pilsner checa. Sobre una sutil malta base, añadimos generosamente los lúpulos. Fermentamos el mosto con levaduras lager durante dos semanas y la dejamos madurar durante cuatro semanas más. En boca es suave, ... Ver más y limpia. Sutiles notas herbales y cítricas. Ver menos  \n",
       "144                                                                                                                                     IPA\\nColor cobre a marrón, de aspecto turbio, espuma abundante de duración persistente de color beige y buen encaje.\\nAromas: Aromas maltosos de pan y bollería, algo de manzana y pera.\\nSabor: Sabores de pan y levadura.\\nSensación en boca: Carbonatación ... Ver más burbuja fina, de cuerpo medio, amargor persistente.\\nImpresión general: Alto nivel de lúpulo. Ver menos  \n",
       "145                               Old Ale\\nColor ámbar, sin turbidez. Espuma cremosa, abundante y permanente.\\nAromas: Malta dulce, melaza, miel. Aromas a esteres especiados como clavo, canela, pimienta.\\nSabor: Malta dulce, melaza, miel, esteres especiados como pimienta, levaduras ... Ver más pan.\\nSensación en boca: Carbonatación leve, burbuja fina y persistente. Persistencia de los sabores caramelizados, ligero amargor.\\nImprwsión general: Cerveza madurada 90 días, compensada a la malta. Ver menos  \n",
       "175   APA\\nAmerican Pale Ale\\nAspecto: Color dorado, turbia debido a la no filtración y al dry-hopping. Nivel de espuma medio.\\nAroma: Temperatura de servicio: 8º C. Afrutado: aroma de cítricos. Posee una persistencia e intensidad muy altas prevaleciendo ... Ver más aroma que le otorgan los lúpulos empleados.\\nSabor: Intensa debido al protagonismo de los lúpulos.\\nSensación en boca: Efervescencia mediana, cuerpo: redonda, amarga, carbonatación moderada y persistencia retro nasal larga.\\nIngredient...  \n",
       "176                                                                                                    Kellogg’s Choco Krispies\\nBlonde Ale hecha con Choco Krispies de Kellog’s (arroz inflado chocolateado).\\nCompuesta por agua, malta de cebada, Kellogg’s Choco Krispies, miel, lúpulos y levaduras, Rosita Kellogg’s Choco Krispies es una cerveza ... Ver más de color miel, de carbónico fino, con cierta densidad en copa, espuma blanca con tonos marfil cremosa y constante, con buena persistencia. Ver menos  \n",
       "205   Fermi Paradox\\nFarmhouse IPA con Rakau y Amarillo\\nEn esta Farmhouse Ale los lúpulos Rakau y Amarillo potencian y complementan las notas afrutadas de la levadura belga. Una mezcla de malta Pilsner, trigo y avena evoca el cuerpo y textura en boca de ... Ver más IPAs americanas modernas. ¡Lo mejor de los dos mundos!\\nTiene que haber algo ahí fuera. Los números están de nuestra parte, solo es cuestión de tiempo.\\nLa levadura saison que usamos en esta IPA, al principio oculta tras constelaciones...  \n",
       "217   Special Kick Off\\nSpeciality Ipa. IPA con frutosidad y carácter especiado, derivados del uso de levadura belga y de lúpulos americanos.\\nApariencia: color ámbar, clara, con espuma media, blanca y con buena persistencia. Aroma: intenso aroma a ... Ver más blanca, agrumada y tropical. Notas especiadas y florales. Leve aroma a caramelo.\\nSabor: amargor medio alto, sabor a fruta blanca como manzana, pera, banana y frutas citricas y tropical. Ligero sabor a suave caramelo y tostado.\\nMaridaje:...  \n",
       "239   Felicísima\\nWeizen IPA\\nWheat and barley malts. Classic weissbier yeast, dry hopped with Simcoe\\nHoy, 22 de octubre, Felicísima hubiera cumplido 69 años. Esta misma mañana hemos embotellado una Weizen IPA con su nombre.\\nBien de lúpulo Simcoe, malta ... Ver más trigo y la excelsa levadura de las weissbier alemanas. Un híbrido de estilos que es una auténtica gominola: néctar tropical, plátano, pimienta... Y una cremita para comer con la cuchara. Una cerveza para la madre de todos los cervecer...  \n",
       "258   Words Are Very Unnecessary\\nOrange Creamsicle Double NEIPA\\nEsta DOBLE NEIPA presenta los lúpulos Amarillo, Simcoe & Citra. Hemos utilizado cáscara de naranja en el whirlpool para darle ese extra toque cítrico y tropical y un toque de lactosa para ... Ver más sensacion sedosa en boca. La hemos fermentada con levadura New England para obtener matices de frutas de hueso.\\n-------------------\\nThis DOUBLE NEIPA features Amarillo, Simcoe & Citra hops. We finished it off with orange zest for that...  \n",
       "268                                                                  Sandberg\\nCalifornia Lager\\nLa Sandberg California es una cerveza que recoge los sabores originarios de las genuinas cervezas de la costa oeste de Estados Unido, una tostada con carácter, elaborada con levaduras Ale pero que fermenta basada en el método ... Ver más de la lager.\\nSandberg – California Lager, es ideal para los amantes de la cerveza más tradicional europea, suavidad y ligero tostado caracterizan esta cerveza. Ver menos  \n",
       "271   Palmeres\\nSession NEIPA\\nCebada, trigo, avena y levadura Vermont. Esta cerveza es lo que se conoce como una New England India Pale Ale (NEIPA) en su versión Session, rebajada de alcohol. Un nombre complejo que encierra una cerveza pálida, turbia, ... Ver más pero ligera en su paso por boca. Su aroma fresco, cítrico y delirante a base de muchísimo lúpulo de variedades Citra y Simcoe cierra el círculo de la experiencia. Les Palmeres, pedanía de Sueca encerrada entre playa y arrozales, donde se...  \n",
       "273   CV-500\\nJuicy lager\\nLager con ingentes cantidades de lúpulo añadido en frío durante la fermentación. Cerveza limpia, jugosa, de aroma exageradamente frutal y astringencia poderosa pensada para los enamorados de la levadura más famosa del mundo.\\nLa ... Ver más es la carretera de único carril y doble sentido que conecta Valencia con los Poblados del Sur atravesando la Albufera. Quien la recorra hasta su término, Sueca, se tropezará con las más importantes salas de la Ruta: Barraca, Chocolate...  \n",
       "309     Amy 1983-2011\\nMicro IPA\\nMemorial Series\\nAMY, nuestra micro hazy ipa de tan solo 2,7% de alcohol y cantidades exageradas de TnT, Amarillo y Mosaic y nuestra levadura de cabecera Vermont, pronto verá la luz.\\nAmy Winehouse era pequeña pero poseía ... Ver más carácter , una personalidad y una voz atronadoras.Nuestra Amy es pequeña pero con todo el sabor , el aroma y el carácter que le pides a una buena cerveza.\\nAquí tenéis nuestro personal homenaje a la diva del soul del siglo XXI. Ver menos  \n",
       "311                                                                                                                                                          Acid Flashback\\nFarmhouse IPA\\nDe color dorado, cristalina y con espuma blanca y persistente. Muy aromática, destacando aromas especiados, pimienta. Sabor equilibrado ligeramente especiado y herbaceo. De cuerpo medio-ligero. Final equilibrado y ligeramente ... Ver más y picante. Cerveza refrescante donde resaltan las notas de levadura.  Ver menos  \n",
       "325   Shannon\\nWeast Coast India Pale Ale\\nMemorial Series\\nLa West Coast India Pale Ale dentro de la memorial series. Os presentamos una Ipa con levadura Omega y lúpulos Chinook, Ekuanot y Amarillo. Aromas cítricos hebales y además de afrutados.\\nUna vez ... Ver más boca se presenta refrescante con un amargor resinoso que perdura en el paladar después del trago que se combina a sabores cítricos y afrutados. Refrescante a la vez que potente. Una ipa como las de antes. Nuestro homenaje a Shanoon Ho...  \n",
       "346   Trigo Edición Limitada\\nCerveza de Trigo especial elaborada siguiendo una receta centenaria traída de la región de Baviera (Alemania). Edición Limitada de 1.000 botellas.\\nTecnología alemana aplicada en Extremadura: receta original de la región ... Ver más Baviera, extraída por Marcos Rubio, socio fundador de Cerex, durante su último viaje a Alemania.\\nSe trata de una cerveza inspirada en el estilo más clásico de origen alemán: Weißbier Naturtrüb, sin filtrar, que da como resultado una cerve...  \n",
       "365   Wheat Beer\\nLa Morena Wheat Beer es una cerveza de Trigo, de alta fermentación estilo alemán, elaborada con 50% de Trigo, 50% de Malta de Cebada. Presenta un color rubio pálido, con espuma densa de burbuja fina y duradera. En el vaso es turbia al ... Ver más estar filtrada, su sabor es ligero, afrutado y algo ácido. Los aromas y sabores que predominan son: pan, plátano, especias, clavo, vainilla. Es una cerveza viva, podremos encontrar levadura en forma de sedimento en el fondo de la botella...  \n",
       "367   Creza Sin Gluten\\nCerveza de Cereza Sin Gluten. 100% apta para celíacos.\\nColor rojo mate intenso. Carbónico ligero.\\nAroma intenso a cereza y levaduras de la variedad Bretanomyces, procedente de la piel de la cereza. Los aromas son frutales y florales, ... Ver más cereza fresca, y flores blancas (azahar y claveles blancos).\\nCerveza muy expresiva, suave en boca, dejando notas en todo el recorrido en boca. Al final de la lengua se percibe cierta acidez, que combina perfectamente con el predo...  \n",
       "443   Pecado Original\\nOak barrel Aged Farmhouse\\nFarmhouse envejecida en barrica de roble\\nEsta cerveza de edición limitada es el resultado de un blend de diferentes cervezas envejecidas en barrica de roble con diferentes levaduras, bacterias y frutas durante ... Ver más mínimo de 32 meses:\\n70% Farmhouse refermentada en barrica de roble con membrillo y brettanomyces bruxellensis.\\n15% Farmhouse refermentada en barrica de roble con brettanomyces lambicus.\\n15% Farmhouse refermentada en barrica de...  \n",
       "464                                                                                                                                                                                                          Babilense\\nHefeweissbier\\nNuestra cerveza de trigo amarilla dorada con espuma blanca de finos poros, impresiona con su aroma a plátano, su cuerpo y su suave sabor a levadura.\\nVa de maravilla con pescados y mariscos, quesos picantes y especialmente ... Ver más la salchica bavara de ternera Ver menos  \n",
       "483                                                                                                                                                                                                                                                                                                                                                                  Redneck Whiteclay Moonshiner Series\\nExtra pale ale extra hoppy, Vic secret, Citra, Simcoe y cascade, malta extra pale y levadura west coast Bry 97.  \n",
       "488   Azabache Porter\\nCerveza de tonos marrones y destellos de rubí\\nCerveza Porter tipo ALE, con matices marrones y reflejos de rubí cuando se la pone al trasluz, espuma de color café con leche con retención razonable, de aroma tostado proveniente de ... Ver más maltas con las que se elabora, también puede desprender toques a chocolate y nuez, en cuanto al sabor, es una cerveza de cuerpo medio, carbonatación media y con marcados sabores maltosos de regaliz y café con un remate final acaramelado ...  \n",
       "492   Pale Ale\\nLa Pale Ale es el estilo característico de Inglaterra y es por ello que hemos elegido maltas de cebada 100% inglesas, consiguiendo un equilibrio casi perfecto entre el cereal y el lúpulo.\\nVista (color): Color ambar claro y brillante. Con ... Ver más blanca dense y cremosa.\\nNariz (olor): Aroma afrutado y fresco, que evoluciona hacia notas de levadura y final maltoso.\\nBoca (sabor):Primera sensación en boca fresca con primeras notas a miel. A medio trago sale el cuerpo maltoso de l...  \n",
       "494   Blending In\\nEkuanot Citra DIPA\\nEsta DIPA presenta dos de nuestros lúpulos favoritos, Citra y Ekuanot, que juntos consiguen intensos aromas y sabores a lima, melon, papaya, con un fondo resinoso, y que se han añadido durante un doble dryhopping de ... Ver más La hemos fermentado con levadura inglesa para el toque de frutas maduras.\\nThis DIPA features two of our favourite hops; Citra and Ekuanot, blended together for a big juicy kick of lime, melon, papaya and a hearty resinous backbone. Do...  \n",
       "508                                                                                                                                                                                                   Sweet Disposition\\nHemos abarrotado esta NEIPA con los jugosos lupulos de Chinook y Vic Secret en un doble dry hopping de 24g/L para conseguir un dulce buque de aromas de pomelo, melon y melocotón madura. La hemos fermentado con levadura inglesa para ... Ver más toque complejo de frutas de hueso. Ver menos  \n",
       "528   On Cloud 9\\nOat Cream DIPA\\nEsta DIPA presenta 3 lúpulos; Ekuanot, Azacca y Vic Secret, con intensos aromas y sabores a papaya, piña y mango. Les hemos envuelto en una nube de avena con un toque de lactosa para una sensación en boca muy cremosa. ... Ver más fermentado esta DIPA con levadura Inglesa para el toque de frutas maduras.\\n-------------\\nThis DIPA features 3 fruit forward hops; Ekuanot, Azacca & Vic Secret, with aromas & flavors of papaya, pineapple & mango. Laid on top of a fluffy ...  \n",
       "...                                                                                                                                                                                                                                                                                                                                                                                                                                                                                                                   ...  \n",
       "6497  Estrella Damm Inedit es un coupage único de malta de cebada y trigo, aromatizado con cilantro, piel de naranja y regaliz.\\r\\nEstrella Damm Inedit nace del convencimiento de que era necesaria una cerveza capaz de acompañar con el máximo respeto la ... Ver más gastronomía. Esa es su intención y su virtud, y eso es lo que la convierte en una cerveza diferente, especial, única.\\r\\nHa sido creada por los maestros cerveceros de Damm, herederos de una tradición secular y creadores de algunas de las...  \n",
       "6503  Cerveza lager Premium, bohemia, equilibrada y elegante, con recuerdo largo en boca y donde la suave amargor del lúpulo fresco convive con el aroma intenso de la malta.CATA CERVEZA ILLA ARTESANAColor dorado oscuro con espuma blanca densa y cremosa.Aroma ... Ver más donde predominan las notas de cereales y tostados con un final en levaduras.Entrada con fuerza llenando toda la boca con una efervescencia moderada que permite notar perfectamente los gustos a maltas y levaduras.Retrogusto largo qu...  \n",
       "6504                                                                                                             Illa Artesana\\r\\nColor ambarino ligeramente velado con espuma blanca densa y cremosa.\\r\\nAroma suave donde predominan las notas de cereal, levadura, lúpulo, tostados, caramelos suaves con una fondo de regaliz y vainilla.\\r\\nEntrada suave, densa, voluminosa ... Ver más una efervescencia fina perfectamente integrada con un retrogusto largo y fresco con toques de regaliz y ahumados. Ver menos  \n",
       "6514  La cerveza Maier Pale Ale debe su profundo color ámbar, espuma gruesa y rico sabor, a un proceso de elaboración de la cerveza como ninguna otra.Se trata de un proceso que combina un profundo respeto por la tradición cervecera con muchas décadas ... Ver más evolución para llegar a un enfoque único: una mezcla de maltas pálidas y caramelo con un leve toque amargo gracias al lúpulo americano cascade. Una primera fermentación alta con levadura ale y una segunda fermentación en botella donde se p...  \n",
       "6521  Cerveza negra con un color muy llamativo debido a sus reflejos a caramelo de azúcar o café. En copa es densa y su elegancia en el carbónico es muy apreciable. Una espuma de color marrón claro, mas parecido a “café con leche”, no es tan resistente ... Ver más copa debido a contener avellanas que nos carga la persistencia de la misma. Pero resiste lo suficiente como para apreciarla y disfrutar. En nariz es una cerveza única, ya que sus notas a avellanas tostadas están bien marcadas y sus notas...  \n",
       "6522  Rosita d’Ivori\\nCerveza rubia, con burbujas finas y elegantes, ligera en copa, una turbidez poco marcada a pesar de sufrir una segunda fermentación en botella y tener las levaduras precipitadas (Lías).\\nEspuma blanca y consistente en copa, muy atractiva ... Ver más la vista. En nariz es un conjunto cítrico, marcados por la piel de naranja y la misma pulpa. Aromas al cereal, en este caso el trigo, flores blancas también marcan mucho sus aromas, es una cerveza fresca y muy agradable olfativame...  \n",
       "6523  Rosita Original\\r\\nCerveza rubia de color miel, de carbónico fino y elegante, con cierta densidad en copa, espuma blanca con tonos marfil cremosa y constante, con buena persistencia. Debido a la presencia de levaduras de la segunda fermentación, es ... Ver más se muestra muy afrutada, con mucha persistencia del grano infusionado, notas a plátano y manzana roja, recuerdos a melazas y tostados muy sutiles, muy compleja. En boca es dulce y golosa al principio, para pasar a notar todo su volumen...  \n",
       "6525  La Font del Diable Candela Strong\\r\\nCandela Strong es una interpretación de Amber Ale con alcohol medio y moderado, amargor marcado y aroma contundente.\\r\\n5 tipos de malta y copos de cebada para crear la base, y 3 variedades de lúpulo hacen el mosto.\\r\\nElegimos ... Ver más Europeos para generar amargor y sabor limpio, y Neozelandeses para procurar aromas marcados a frutas, frutas maduras o uva entre otras cosas, enfatizando con un pequeño Dry Hopping.\\r\\nFermentamos con levadura neutra es...  \n",
       "6526  La Font del Diable Febre Groga\\r\\nCerveza de color naranja con notas florales y cítricas, final seco y amargo.\\r\\nMaridaje recomendado: Curry, Samosa.\\r\\nEn nuestra primer cerveza quisimos interpretar lo que para nosotros es una cerveza amarga, aromática ... Ver más con bebilidad alta, para esto hemos buscado un amargor tardío y un aroma marcado pero sutil.\\r\\nPara ello nos hemos basado en los estilos American India Pale Ale y English India Pale Ale, dando así lugar a diferentes característi...  \n",
       "6528                                                                                                                                                                                                                      Krut Gold es una cerveza dorada tipo American Golden Ale hecha con levadura ‘Prise de Mousse’ y lúpulo Citra. Tiene un sabor malteado sutil, aroma a lúpulo y color dorado. Suave y refrescante a la vez, es ideal para cualquier momento. Es nuestro ... Ver más de la inmortalidad. Ver menos  \n",
       "6544  Cerveza Ale, de fermentación alta, rubia, de estilo británico, típica de pub inglés y de grado alcohólico moderado. Amarga, de carácter seco pero suave, está elaborada solo con una malta británica. Tiene una tonalidad de cobre característica, ... Ver más un toque de color de miel.\\r\\nCARACTERÍSTICAS DE LA MAÜSER BITTER\\r\\nLas maltas y las levaduras para nuestra Bitter son importadas de Gran Bretaña. Recomendamos servirlo entre 7 º y 9 º utilizando, a ser posible, una copa de vino donde lo de...  \n",
       "6545  Estilo de cerveza producida por primera vez en el 1841 a la ciudad de Viena por Anton Dreher. Actualmente es la cerveza reina de las fiestas de la cerveza de Octubre de Múnich. Los cinco tipos de malta diferentes que intervienen en su elaboración ... Ver más otorgan un sabor muy característico y marcado, la dotan de un color castaño oscuro con mucho cuerpo.\\r\\nCARACTERÍSTICAS DE LA MAÜSER MÄRZEN\\r\\nLas maltas y las levaduras para nuestra Märzen son importadas de Alemania. Recomendamos servir...  \n",
       "6547  Cereales: 80% de cebada, 20% de trigo. Natural, sin aditivos, ni colorantes, ni conservantes. Alta fermentación: aporta aromas frutales a la cerveza.\\r\\nSegunda fermentación en botella: el gas propio de la cerveza lo produce ella misma, sin necesidad ... Ver más añadirlo artificialmente. Así, la burbuja resultante es de gran finura. Sin pasteurizar ni filtrar: da capacidad de evolución dentro de la botella y conserva todos los aromas de las levaduras. Produce un poso natural. Nota de cata: A...  \n",
       "6548  Cerveza artesana de alta fermentación (ALE) de trigo. Respetando la clasificación clásica, correspondería al estilo “Weissbier” originario de la zona de Baviera, al sur de Alemania.\\r\\nLa turbidez, singular de este estilo de cervezas, se consigue ... Ver más no filtrar la cerveza y permite una segunda fermentación en la botella. El poso del fondo de la botella se debe a la presencia de levaduras que nos han permitido la fermentación en botella y una carbonatación 100% natural.\\r\\nDos modos d...  \n",
       "6549  El Pingüí es una cerveza elegante, refrescante y diferente. Se ha elaborado a partir de un proceso natural y artesanal con especias africanas y productos europeos.\\r\\nEs una Pale Ale de color paja anaranjada. A copa es densa y turbia, propio de una ... Ver más sin filtrar. Su acidez marcada a boca produce un largo recorrido con burbuja fina y dulce. Tiene amarguras suaves y consistentes, sin ser estridentes. Sus toques de naranja, litchis, pomelos, violeta, pétalos de rosa, pino, piña, pera ...  \n",
       "6550                                                                                                                                                                                                                                                                                                                                                                                                   Cerveza elaborada con maltas Maris Otter, Caramalt, Crystal, lúpulos, levadura y agua. Sin filtrar ni pausterizar.  \n",
       "6570  Cerveza estilo Imperial Stout. Elaborada con malta Pale Ale, maltas coloreadas y con lúpulos americanos que le proporcionan un sabor y aroma característicos. Las maltas oscuras están integradas para darle el color y sabor característico adecuados ... Ver más nuestra cultura mediterranea. El amargor final está pensado para que no esconda los sabores de las maltas empleadas. Una vez en copa presenta aromas de curry , pimienta, canela y algo de picante. Color marrón oscuro con buena espuma colo...  \n",
       "6575  Nunc est BIBENDUM ( Ale )Examen visual: Rubia por esencia y de color dorado. Con un giste blanquísimo y brillante, de apariencia espumosa, burbuja amplia y efímera, pero con buena retención. La carbonatación es visible a simple vista dentro de ... Ver más copa.Examen Olfativo: En nariz es principalmente lupulada, dejando en un segundo plano la malta. Fresca y con un final afrutado que le otorga los lúpulos y la levadura.Examen gustativo Buen cuerpo, gasificación media muy constante. En boca ...  \n",
       "6578  La cerveza de Canarias de calidad reconocida internacionalmente con la medalla de Oro 2009 de Monde Selection y el Superior Taste Award: calidad y orgullo canario.\\nUna cerveza con un sabor y post sabor redondo, Dorada Especial se elabora con 100% ... Ver más y un 13% de extracto original que le confieren un intenso color dorado y un sabor fácilmente reconocible a lúpulo y a frutas tropicales.\\nCerveza tipo Pilsen, elaborada con métodos tradicionales y los mejores ingredientes naturales, 100...  \n",
       "6585                                     Alhambra Especial\\nEdición Limitada Granada - Alhambra Especial Vintage\\nCerveza brillante y dorada. Con una espuma cremosa y consistente.\\nLa fragancia aromática tiene un perfil con suaves notas afrutadas y un reflejo a levadura. Los aromas de lúpulo ... Ver más leves aunque florales y se intensifican al tragar.\\nMuy equilibrada, en boca tiene un amargor suave pero con sensación de cuerpo. La persistencia es fina, ligeramente dulce con acabado seco. Ver menos  \n",
       "6594  San Miguel Especial\\r\\nFue la primera cerveza especial en España y se ha convertido en la marca española de mayor exportación, con reconocido éxito nacional e internacional por su calidad y buen sabor.\\r\\nUna cerveza, especial por su color amarillo ... Ver más brillante, que al probarla destaca por su equilibrio, su frescura y su ligero amargor. Sus levaduras y maltas le dan una serie de matices al cuerpo y aroma que le otorgan un perfecto equilibrio entre suave y amargo.\\r\\nUn poco de histo...  \n",
       "6600                                                   Nacida para satisfacer a los paladares más exigentes, Mahou Cinco Estrellas está elaborada con las mejores variedades de lúpulo y levadura, que le imprimen sus característicos cuerpo y sabor. Mahou Cinco Estrellas destaca por su color dorado y ... Ver más característico amargor, moderado y fino, que da un buen balance gustativo que persiste en el paladar.\\nAño de lanzamiento: 1969 Grado alcohólico: 5,5% vol. Tipo de cerveza: Con alcohol Ver menos  \n",
       "6616                                                                                                                   Es una cerveza porter, muy oscura, casi negra, con un sabor decididamente tostado o torrefacto. Las maltas empleadas se tuestan hasta un grado semejante a los granos de cacao o café. La elaboramos con levadura de fermentación alta que proporciona ... Ver más toque afrutado a los sabores tostados de las maltas.\\r\\nTemperatura: servir entre 8 y 10 º C\\r\\nEnvase: 33 cl y 75 cl Ver menos  \n",
       "6642  Mattin Pirata\\r\\nMattin Pirata es la cerveza rubia-fuerte que fabricamos todo el año.\\r\\nVista: Rubia, ligeramente turbia. Abundante espuma. En los lostes más fuertes parece una cerveza de trigo (blanca belga, o wit berlinesa) pero no tiene nada que ... Ver más Media/alta carbonatación. Espuma blanca y cerrada. Imponente “encaje belga” (mancha de espuma la copa).\\r\\nAroma: frutal (pero, platano), y alcoholes pesados. Prevalecen aromas a levadura y malta.\\r\\nSabor: Dulce afrutado. Los sabores...  \n",
       "6643                                                                                     Tierra de Frontera es una cerveza artesana elaborada a partir de ingredientes naturales de alta calidad, manejados mediante el buen hacer de las técnicas artesanales tradicionales. El resultado es una cerveza natural con carácter, con refermentación ... Ver más gasificación natural en botella, como revela el sedimento de saludable levadura que queda en el fondo de la botella, sin filtrar ni pasteurizar. Ver menos  \n",
       "6651      Ibón es una cerveza 100% natural y artesana, por la calidad de sus ingredientes y por su método de elaboración tradicional. Elaborada con Maltas Pilsen, Carapils y Malta de Trigo, Flor de lúpulos de las cepas Chinook, Fuggles y Cascade, agua ... Ver más levadura seleccionada de cerveza. Estos ingredientes junto al proceso de alta fermentación (Ale) le confieren cuerpo, sutiles aromas y una complejidad de sabores que llenan el paladar e intensifican su bouquet. Es una cerveza sin filtrar ...  \n",
       "6654  Hace algún tiempo nació la cerveza Icue Mepa , es de fermentación alta basada en el estilo American Pale Ale, una bebida viva la cual irá cambiando su composición organoléptica con el transcurso del tiempo si se respetan las condiciones de guarda ... Ver más entre 7º y 15º.La maduración y gasificación se producen en la botella, son cervezas de doble fermentación sin filtraje por lo que contienen levaduras vivas las cuales son las encargadas de generar el carbónico en la botella, también apor...  \n",
       "6676                                                                                                                                     Del estilo de las cervezas inglesas con color rojizo y con final amargo sin ser excesivo.\\n\\r\\nCompuesta de agua, maltas de cebada, lúpulo y levadura. Su fermentación se realiza en botella y debe conservarse en posición vertical, sin luz y donde ... Ver más temperatura no oscile.\\n\\r\\nUna cerveza ligera que podemos fusionar con comidas especiadas y guisos. Ver menos  \n",
       "6677                                                                                                                                                                                                                                                          Con sabor a pan, ideal para verano, suave, fácil de degustar.\\n\\r\\nCompuesta de agua, maltas de trigo y cebada, lúpulo y levadura. Su fermentación se realiza en botella y debe conservarse en posición vertical, sin luz y donde la temperatura no oscile.  \n",
       "6678                 Es una cerveza dorada del estilo a las lager alemanas. Con espuma y burbujas duraderas, refrescantes con tonos finales y aroma peculiar con poco grado alcohólico.\\n\\r\\nCompuesta de agua, maltas de cebada, lúpulo y levadura. Su fermentación se realiza ... Ver más botella y debe conservarse en posición vertical, sin luz y donde la temperatura no oscile.\\n\\r\\nUna buena cerveza para acompañar con platos fríos, carnes asadas o guisos... Cerveza con buen olor, sabor y cuerpo. Ver menos  \n",
       "\n",
       "[576 rows x 12 columns]"
      ]
     },
     "execution_count": 416,
     "metadata": {},
     "output_type": "execute_result"
    }
   ],
   "source": [
    "df_aux[df_aux.Description_y.str.contains('levadura', na=False)]"
   ]
  },
  {
   "cell_type": "code",
   "execution_count": null,
   "metadata": {
    "hidden": true
   },
   "outputs": [],
   "source": []
  }
 ],
 "metadata": {
  "kernelspec": {
   "display_name": "Python 3",
   "language": "python",
   "name": "python3"
  },
  "language_info": {
   "codemirror_mode": {
    "name": "ipython",
    "version": 3
   },
   "file_extension": ".py",
   "mimetype": "text/x-python",
   "name": "python",
   "nbconvert_exporter": "python",
   "pygments_lexer": "ipython3",
   "version": "3.6.9"
  },
  "toc": {
   "base_numbering": 1,
   "nav_menu": {},
   "number_sections": true,
   "sideBar": true,
   "skip_h1_title": false,
   "title_cell": "Table of Contents",
   "title_sidebar": "Contents",
   "toc_cell": false,
   "toc_position": {
    "height": "calc(100% - 180px)",
    "left": "10px",
    "top": "150px",
    "width": "216.6px"
   },
   "toc_section_display": true,
   "toc_window_display": true
  },
  "varInspector": {
   "cols": {
    "lenName": 16,
    "lenType": 16,
    "lenVar": 40
   },
   "kernels_config": {
    "python": {
     "delete_cmd_postfix": "",
     "delete_cmd_prefix": "del ",
     "library": "var_list.py",
     "varRefreshCmd": "print(var_dic_list())"
    },
    "r": {
     "delete_cmd_postfix": ") ",
     "delete_cmd_prefix": "rm(",
     "library": "var_list.r",
     "varRefreshCmd": "cat(var_dic_list()) "
    }
   },
   "types_to_exclude": [
    "module",
    "function",
    "builtin_function_or_method",
    "instance",
    "_Feature"
   ],
   "window_display": false
  }
 },
 "nbformat": 4,
 "nbformat_minor": 2
}
