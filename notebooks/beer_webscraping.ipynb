{
 "cells": [
  {
   "cell_type": "code",
   "execution_count": 1,
   "metadata": {
    "ExecuteTime": {
     "end_time": "2020-02-17T14:38:36.892313Z",
     "start_time": "2020-02-17T14:38:32.039021Z"
    }
   },
   "outputs": [],
   "source": [
    "import pandas as pd\n",
    "import numpy as np\n",
    "pd.set_option('display.max_columns', 50)\n",
    "pd.set_option('display.max_colwidth', 500)\n",
    "from tqdm import tqdm_notebook\n",
    "import seaborn as sns\n",
    "\n",
    "import nltk\n",
    "from nltk.corpus import stopwords\n",
    "from nltk.stem.snowball import SnowballStemmer\n",
    "from nltk.stem import WordNetLemmatizer, PorterStemmer \n",
    "\n",
    "from sklearn.metrics.pairwise import euclidean_distances, manhattan_distances, cosine_similarity\n",
    "from sklearn.feature_extraction.text import CountVectorizer, TfidfTransformer, TfidfVectorizer\n",
    "from itertools import islice\n",
    "from scipy.spatial.distance import cdist\n",
    "from scipy.stats.stats import pearsonr"
   ]
  },
  {
   "cell_type": "code",
   "execution_count": 2,
   "metadata": {
    "ExecuteTime": {
     "end_time": "2020-02-17T14:38:37.412659Z",
     "start_time": "2020-02-17T14:38:36.970354Z"
    }
   },
   "outputs": [],
   "source": [
    "import googletrans\n",
    "from googletrans import Translator\n",
    "import time\n",
    "import re"
   ]
  },
  {
   "cell_type": "code",
   "execution_count": 3,
   "metadata": {
    "ExecuteTime": {
     "end_time": "2020-02-17T14:38:37.443842Z",
     "start_time": "2020-02-17T14:38:37.435130Z"
    }
   },
   "outputs": [
    {
     "data": {
      "text/html": [
       "<style>.container { width:80% !important; }</style>"
      ],
      "text/plain": [
       "<IPython.core.display.HTML object>"
      ]
     },
     "metadata": {},
     "output_type": "display_data"
    }
   ],
   "source": [
    "from IPython.core.display import display, HTML\n",
    "display(HTML(\"<style>.container { width:80% !important; }</style>\"))"
   ]
  },
  {
   "cell_type": "markdown",
   "metadata": {
    "heading_collapsed": true
   },
   "source": [
    "# Individual request"
   ]
  },
  {
   "cell_type": "code",
   "execution_count": null,
   "metadata": {
    "ExecuteTime": {
     "end_time": "2020-02-05T14:19:51.825635Z",
     "start_time": "2020-02-05T14:19:50.902085Z"
    },
    "hidden": true
   },
   "outputs": [],
   "source": [
    "from requests import get\n",
    "url = 'https://birrapedia.com/cervezas/de-espana'\n",
    "response = get(url)\n",
    "print(response.text[:500])"
   ]
  },
  {
   "cell_type": "code",
   "execution_count": null,
   "metadata": {
    "ExecuteTime": {
     "end_time": "2020-02-05T14:19:57.389787Z",
     "start_time": "2020-02-05T14:19:57.377413Z"
    },
    "hidden": true
   },
   "outputs": [],
   "source": [
    "response"
   ]
  },
  {
   "cell_type": "code",
   "execution_count": null,
   "metadata": {
    "ExecuteTime": {
     "end_time": "2020-02-05T14:20:00.579390Z",
     "start_time": "2020-02-05T14:20:00.554992Z"
    },
    "hidden": true
   },
   "outputs": [],
   "source": [
    "response.text"
   ]
  },
  {
   "cell_type": "markdown",
   "metadata": {
    "heading_collapsed": true
   },
   "source": [
    "# Beatiful Soup"
   ]
  },
  {
   "cell_type": "code",
   "execution_count": null,
   "metadata": {
    "ExecuteTime": {
     "end_time": "2020-02-05T14:24:29.322037Z",
     "start_time": "2020-02-05T14:24:28.338634Z"
    },
    "hidden": true
   },
   "outputs": [],
   "source": [
    "from bs4 import BeautifulSoup\n",
    "soup = BeautifulSoup(response.content, 'html.parser')"
   ]
  },
  {
   "cell_type": "code",
   "execution_count": null,
   "metadata": {
    "ExecuteTime": {
     "end_time": "2020-02-05T14:25:01.925813Z",
     "start_time": "2020-02-05T14:25:01.879211Z"
    },
    "hidden": true
   },
   "outputs": [],
   "source": [
    "print(soup.prettify())"
   ]
  },
  {
   "cell_type": "code",
   "execution_count": null,
   "metadata": {
    "ExecuteTime": {
     "end_time": "2020-02-05T14:35:10.725966Z",
     "start_time": "2020-02-05T14:35:10.714125Z"
    },
    "hidden": true
   },
   "outputs": [],
   "source": [
    "set([type(item) for item in list(soup.children)])"
   ]
  },
  {
   "cell_type": "code",
   "execution_count": null,
   "metadata": {
    "ExecuteTime": {
     "end_time": "2020-02-05T14:35:24.551698Z",
     "start_time": "2020-02-05T14:35:24.496882Z"
    },
    "hidden": true
   },
   "outputs": [],
   "source": [
    "soup.find_all('a')"
   ]
  },
  {
   "cell_type": "code",
   "execution_count": null,
   "metadata": {
    "ExecuteTime": {
     "end_time": "2020-02-05T14:28:44.947589Z",
     "start_time": "2020-02-05T14:28:44.933938Z"
    },
    "hidden": true
   },
   "outputs": [],
   "source": [
    "soup.find_all('p')[0].get_text()"
   ]
  },
  {
   "cell_type": "code",
   "execution_count": null,
   "metadata": {
    "ExecuteTime": {
     "end_time": "2020-02-05T14:30:41.241798Z",
     "start_time": "2020-02-05T14:30:41.231249Z"
    },
    "hidden": true
   },
   "outputs": [],
   "source": [
    "soup.find_all('p')[4].get_text()"
   ]
  },
  {
   "cell_type": "code",
   "execution_count": null,
   "metadata": {
    "ExecuteTime": {
     "end_time": "2020-02-05T14:36:58.487220Z",
     "start_time": "2020-02-05T14:36:58.462755Z"
    },
    "hidden": true
   },
   "outputs": [],
   "source": [
    "soup.select(\"div p\")"
   ]
  },
  {
   "cell_type": "code",
   "execution_count": null,
   "metadata": {
    "ExecuteTime": {
     "end_time": "2020-02-05T14:51:19.929437Z",
     "start_time": "2020-02-05T14:51:19.905517Z"
    },
    "hidden": true
   },
   "outputs": [],
   "source": [
    "for i in range(10):\n",
    "    print(soup.find_all('p')[i].get_text())"
   ]
  },
  {
   "cell_type": "code",
   "execution_count": null,
   "metadata": {
    "ExecuteTime": {
     "end_time": "2020-02-05T15:05:41.589475Z",
     "start_time": "2020-02-05T15:05:41.561851Z"
    },
    "hidden": true
   },
   "outputs": [],
   "source": [
    "divs = soup.findAll(\"div\", {\"class\": \"lista-cab\"})"
   ]
  },
  {
   "cell_type": "code",
   "execution_count": null,
   "metadata": {
    "ExecuteTime": {
     "end_time": "2020-02-05T15:06:09.811965Z",
     "start_time": "2020-02-05T15:06:09.786382Z"
    },
    "hidden": true
   },
   "outputs": [],
   "source": [
    "divs"
   ]
  },
  {
   "cell_type": "code",
   "execution_count": null,
   "metadata": {
    "ExecuteTime": {
     "end_time": "2020-02-05T15:03:27.976460Z",
     "start_time": "2020-02-05T15:03:27.947434Z"
    },
    "hidden": true
   },
   "outputs": [],
   "source": [
    "soup.findAll(\"div\", {\"class\": \"lista-cab\"})[0]"
   ]
  },
  {
   "cell_type": "code",
   "execution_count": null,
   "metadata": {
    "ExecuteTime": {
     "end_time": "2020-02-05T15:03:39.134413Z",
     "start_time": "2020-02-05T15:03:39.097942Z"
    },
    "hidden": true
   },
   "outputs": [],
   "source": [
    "soup.findAll(\"div\", {\"class\": \"lista-cab\"})[1]"
   ]
  },
  {
   "cell_type": "code",
   "execution_count": null,
   "metadata": {
    "ExecuteTime": {
     "end_time": "2020-02-05T15:03:52.310315Z",
     "start_time": "2020-02-05T15:03:52.272628Z"
    },
    "hidden": true
   },
   "outputs": [],
   "source": [
    "soup.findAll(\"div\", {\"class\": \"lista-cab\"})[1].get_text()"
   ]
  },
  {
   "cell_type": "code",
   "execution_count": null,
   "metadata": {
    "ExecuteTime": {
     "end_time": "2020-02-05T15:08:06.558059Z",
     "start_time": "2020-02-05T15:08:06.530614Z"
    },
    "hidden": true
   },
   "outputs": [],
   "source": [
    "soup.findAll(\"div\", {\"class\": \"lista-cab\"})[3].get_text()"
   ]
  },
  {
   "cell_type": "code",
   "execution_count": null,
   "metadata": {
    "ExecuteTime": {
     "end_time": "2020-02-05T16:08:13.333525Z",
     "start_time": "2020-02-05T16:08:13.282773Z"
    },
    "hidden": true
   },
   "outputs": [],
   "source": [
    "soup.findAll(\"div\", {\"class\": \"lista-cab\"})[3]"
   ]
  },
  {
   "cell_type": "code",
   "execution_count": null,
   "metadata": {
    "ExecuteTime": {
     "end_time": "2020-02-05T16:10:07.886484Z",
     "start_time": "2020-02-05T16:10:07.855291Z"
    },
    "hidden": true
   },
   "outputs": [],
   "source": [
    "soup.findAll(\"div\", {\"class\": \"lista-cab\"})[3].findAll(\"p\", {\"class\": \"colorNegro\"})[0].get_text()"
   ]
  },
  {
   "cell_type": "code",
   "execution_count": null,
   "metadata": {
    "ExecuteTime": {
     "end_time": "2020-02-05T16:10:18.682876Z",
     "start_time": "2020-02-05T16:10:18.655572Z"
    },
    "hidden": true
   },
   "outputs": [],
   "source": [
    "soup.findAll(\"div\", {\"class\": \"lista-cab\"})[3].findAll(\"p\", {\"class\": \"colorNegro\"})[1].get_text()"
   ]
  },
  {
   "cell_type": "code",
   "execution_count": null,
   "metadata": {
    "ExecuteTime": {
     "end_time": "2020-02-05T16:11:13.586347Z",
     "start_time": "2020-02-05T16:11:13.553600Z"
    },
    "hidden": true
   },
   "outputs": [],
   "source": [
    "soup.findAll(\"div\", {\"class\": \"lista-cab\"})[3].findAll(\"p\", {\"class\": \"text-muted oculta-pequenyo\"})[0].get_text()"
   ]
  },
  {
   "cell_type": "code",
   "execution_count": null,
   "metadata": {
    "ExecuteTime": {
     "end_time": "2020-02-05T16:21:26.908042Z",
     "start_time": "2020-02-05T16:21:26.881089Z"
    },
    "hidden": true
   },
   "outputs": [],
   "source": [
    "N_beers = len(soup.findAll(\"div\", {\"class\": \"lista-cab\"}))"
   ]
  },
  {
   "cell_type": "code",
   "execution_count": null,
   "metadata": {
    "ExecuteTime": {
     "end_time": "2020-02-05T16:21:29.322045Z",
     "start_time": "2020-02-05T16:21:27.474274Z"
    },
    "hidden": true
   },
   "outputs": [],
   "source": [
    "beer_name = []\n",
    "beer_style = []\n",
    "description = []\n",
    "\n",
    "for i in range(N_beers):\n",
    "    beer_name.append(soup.findAll(\"div\", {\"class\": \"lista-cab\"})[i].findAll(\"p\", {\"class\": \"colorNegro\"})[0].get_text())\n",
    "    beer_style.append(soup.findAll(\"div\", {\"class\": \"lista-cab\"})[i].findAll(\"p\", {\"class\": \"colorNegro\"})[1].get_text())\n",
    "    description.append(soup.findAll(\"div\", {\"class\": \"lista-cab\"})[i].findAll(\"p\", {\"class\": \"text-muted oculta-pequenyo\"})[0].get_text())"
   ]
  },
  {
   "cell_type": "markdown",
   "metadata": {
    "heading_collapsed": true
   },
   "source": [
    "# Automatization"
   ]
  },
  {
   "cell_type": "code",
   "execution_count": null,
   "metadata": {
    "ExecuteTime": {
     "end_time": "2020-02-05T16:28:11.873447Z",
     "start_time": "2020-02-05T16:28:11.866733Z"
    },
    "hidden": true
   },
   "outputs": [],
   "source": [
    "url_1 = 'https://birrapedia.com/espana/'\n",
    "url_2 = '/i-70616573'"
   ]
  },
  {
   "cell_type": "code",
   "execution_count": null,
   "metadata": {
    "ExecuteTime": {
     "end_time": "2020-02-05T16:48:40.236078Z",
     "start_time": "2020-02-05T16:37:55.805071Z"
    },
    "hidden": true,
    "scrolled": true
   },
   "outputs": [],
   "source": [
    "beer_name = []\n",
    "beer_style = []\n",
    "description = []\n",
    "\n",
    "for i in tqdm_notebook(range(200)):\n",
    "    print('Iteration', i)\n",
    "    # Build url\n",
    "    j = i + 1\n",
    "    url = url_1 + str(j) + url_2\n",
    "    \n",
    "    # Make request\n",
    "    response = get(url)\n",
    "\n",
    "    # Parse content with BeautifulSoup\n",
    "    soup = BeautifulSoup(response.content, 'html.parser')    \n",
    "    \n",
    "    N_beers = len(soup.findAll(\"div\", {\"class\": \"lista-cab\"}))  \n",
    "\n",
    "    for i in range(N_beers):\n",
    "        beer_name.append(soup.findAll(\"div\", {\"class\": \"lista-cab\"})[i].findAll(\"p\", {\"class\": \"colorNegro\"})[0].get_text())\n",
    "        beer_style.append(soup.findAll(\"div\", {\"class\": \"lista-cab\"})[i].findAll(\"p\", {\"class\": \"colorNegro\"})[1].get_text())\n",
    "        description.append(soup.findAll(\"div\", {\"class\": \"lista-cab\"})[i].findAll(\"p\", {\"class\": \"text-muted oculta-pequenyo\"})[0].get_text())"
   ]
  },
  {
   "cell_type": "code",
   "execution_count": null,
   "metadata": {
    "ExecuteTime": {
     "end_time": "2020-02-05T16:49:03.426583Z",
     "start_time": "2020-02-05T16:49:03.420542Z"
    },
    "hidden": true
   },
   "outputs": [],
   "source": [
    "len(beer_name)"
   ]
  },
  {
   "cell_type": "code",
   "execution_count": null,
   "metadata": {
    "ExecuteTime": {
     "end_time": "2020-02-05T16:49:06.596315Z",
     "start_time": "2020-02-05T16:49:06.577912Z"
    },
    "hidden": true
   },
   "outputs": [],
   "source": [
    "df = pd.DataFrame(list(zip(beer_name, beer_style, description)), columns =['Name', 'Style', 'Description']) "
   ]
  },
  {
   "cell_type": "markdown",
   "metadata": {},
   "source": [
    "# Export raw to csv"
   ]
  },
  {
   "cell_type": "code",
   "execution_count": 56,
   "metadata": {
    "ExecuteTime": {
     "end_time": "2020-02-18T08:33:28.784807Z",
     "start_time": "2020-02-18T08:33:28.782152Z"
    }
   },
   "outputs": [],
   "source": [
    "df.to_csv('Beer_dataset_raw.csv')"
   ]
  }
 ],
 "metadata": {
  "kernelspec": {
   "display_name": "Python 3",
   "language": "python",
   "name": "python3"
  },
  "language_info": {
   "codemirror_mode": {
    "name": "ipython",
    "version": 3
   },
   "file_extension": ".py",
   "mimetype": "text/x-python",
   "name": "python",
   "nbconvert_exporter": "python",
   "pygments_lexer": "ipython3",
   "version": "3.6.9"
  },
  "toc": {
   "base_numbering": 1,
   "nav_menu": {},
   "number_sections": true,
   "sideBar": true,
   "skip_h1_title": false,
   "title_cell": "Table of Contents",
   "title_sidebar": "Contents",
   "toc_cell": false,
   "toc_position": {
    "height": "calc(100% - 180px)",
    "left": "10px",
    "top": "150px",
    "width": "216.6px"
   },
   "toc_section_display": true,
   "toc_window_display": true
  },
  "varInspector": {
   "cols": {
    "lenName": 16,
    "lenType": 16,
    "lenVar": 40
   },
   "kernels_config": {
    "python": {
     "delete_cmd_postfix": "",
     "delete_cmd_prefix": "del ",
     "library": "var_list.py",
     "varRefreshCmd": "print(var_dic_list())"
    },
    "r": {
     "delete_cmd_postfix": ") ",
     "delete_cmd_prefix": "rm(",
     "library": "var_list.r",
     "varRefreshCmd": "cat(var_dic_list()) "
    }
   },
   "types_to_exclude": [
    "module",
    "function",
    "builtin_function_or_method",
    "instance",
    "_Feature"
   ],
   "window_display": false
  }
 },
 "nbformat": 4,
 "nbformat_minor": 2
}
