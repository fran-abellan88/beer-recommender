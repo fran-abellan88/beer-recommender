{
 "cells": [
  {
   "cell_type": "code",
   "execution_count": 102,
   "metadata": {
    "ExecuteTime": {
     "end_time": "2020-02-18T10:38:50.689759Z",
     "start_time": "2020-02-18T10:38:50.682042Z"
    }
   },
   "outputs": [],
   "source": [
    "from nltk.stem import WordNetLemmatizer, PorterStemmer\n",
    "from scipy.stats.stats import pearsonr\n",
    "from scipy.spatial.distance import cdist\n",
    "from itertools import islice\n",
    "from sklearn.feature_extraction.text import CountVectorizer, TfidfTransformer, TfidfVectorizer\n",
    "from sklearn.metrics.pairwise import euclidean_distances, manhattan_distances, cosine_similarity\n",
    "from nltk.stem.snowball import SnowballStemmer\n",
    "from nltk.corpus import stopwords\n",
    "import nltk\n",
    "import seaborn as sns\n",
    "from tqdm import tqdm_notebook\n",
    "import pandas as pd\n",
    "import numpy as np\n",
    "pd.set_option('display.max_columns', 50)\n",
    "pd.set_option('display.max_colwidth', 500)\n",
    "import os"
   ]
  },
  {
   "cell_type": "code",
   "execution_count": 103,
   "metadata": {
    "ExecuteTime": {
     "end_time": "2020-02-18T10:38:50.811281Z",
     "start_time": "2020-02-18T10:38:50.692452Z"
    }
   },
   "outputs": [],
   "source": [
    "import googletrans\n",
    "from googletrans import Translator\n",
    "import time\n",
    "import re"
   ]
  },
  {
   "cell_type": "code",
   "execution_count": 104,
   "metadata": {
    "ExecuteTime": {
     "end_time": "2020-02-18T10:38:50.924868Z",
     "start_time": "2020-02-18T10:38:50.814331Z"
    }
   },
   "outputs": [
    {
     "data": {
      "text/html": [
       "<style>.container { width:80% !important; }</style>"
      ],
      "text/plain": [
       "<IPython.core.display.HTML object>"
      ]
     },
     "metadata": {},
     "output_type": "display_data"
    }
   ],
   "source": [
    "from IPython.core.display import display, HTML\n",
    "display(HTML(\"<style>.container { width:80% !important; }</style>\"))"
   ]
  },
  {
   "cell_type": "code",
   "execution_count": 105,
   "metadata": {
    "ExecuteTime": {
     "end_time": "2020-02-18T10:38:51.144352Z",
     "start_time": "2020-02-18T10:38:50.928205Z"
    }
   },
   "outputs": [],
   "source": [
    "DATA_FOLDER = \"data\"\n",
    "data_path = os.path.join(DATA_FOLDER) + \"/\"\n",
    "\n",
    "if not DATA_FOLDER in os.listdir():\n",
    "    os.mkdir(DATA_FOLDER)"
   ]
  },
  {
   "cell_type": "markdown",
   "metadata": {},
   "source": [
    "# Read csv"
   ]
  },
  {
   "cell_type": "code",
   "execution_count": 109,
   "metadata": {
    "ExecuteTime": {
     "end_time": "2020-02-18T10:38:52.266986Z",
     "start_time": "2020-02-18T10:38:52.115792Z"
    }
   },
   "outputs": [],
   "source": [
    "df = pd.read_csv(data_path+'Beer_dataset_raw.csv', index_col=0)"
   ]
  },
  {
   "cell_type": "code",
   "execution_count": 110,
   "metadata": {
    "ExecuteTime": {
     "end_time": "2020-02-18T10:38:52.338619Z",
     "start_time": "2020-02-18T10:38:52.272958Z"
    }
   },
   "outputs": [
    {
     "data": {
      "text/plain": [
       "Name            0\n",
       "Style           0\n",
       "Description    66\n",
       "dtype: int64"
      ]
     },
     "execution_count": 110,
     "metadata": {},
     "output_type": "execute_result"
    }
   ],
   "source": [
    "df.isna().sum()"
   ]
  },
  {
   "cell_type": "code",
   "execution_count": 111,
   "metadata": {
    "ExecuteTime": {
     "end_time": "2020-02-18T10:38:52.457280Z",
     "start_time": "2020-02-18T10:38:52.343187Z"
    }
   },
   "outputs": [
    {
     "data": {
      "text/html": [
       "<div>\n",
       "<style scoped>\n",
       "    .dataframe tbody tr th:only-of-type {\n",
       "        vertical-align: middle;\n",
       "    }\n",
       "\n",
       "    .dataframe tbody tr th {\n",
       "        vertical-align: top;\n",
       "    }\n",
       "\n",
       "    .dataframe thead th {\n",
       "        text-align: right;\n",
       "    }\n",
       "</style>\n",
       "<table border=\"1\" class=\"dataframe\">\n",
       "  <thead>\n",
       "    <tr style=\"text-align: right;\">\n",
       "      <th></th>\n",
       "      <th>Name</th>\n",
       "      <th>Style</th>\n",
       "      <th>Description</th>\n",
       "    </tr>\n",
       "  </thead>\n",
       "  <tbody>\n",
       "    <tr>\n",
       "      <th>0</th>\n",
       "      <td>La Vella Caravana / Black Bitch Caravan of Bitches</td>\n",
       "      <td>Witbier - 5.2 º - 29 IBU</td>\n",
       "      <td>Caravan of Bitches\\nHoppy Wheat Ale\\nEstilo tradicional elaborado con malta pilsner, trigo y avena. Este estilo se caracteriza por las adiciones de cascara de naranja amarga y semillas de cilantro.</td>\n",
       "    </tr>\n",
       "    <tr>\n",
       "      <th>1</th>\n",
       "      <td>BlackLab Sour Lady</td>\n",
       "      <td>Berliner Weisse - 5 º</td>\n",
       "      <td>Sour Lady\\nBerliner Weisse with fruit\\nUna cerveza ácida con frambuesas.\\n---------------\\nSour beer with raspberries</td>\n",
       "    </tr>\n",
       "    <tr>\n",
       "      <th>2</th>\n",
       "      <td>Blacklab Claudia Passion</td>\n",
       "      <td>American IPA</td>\n",
       "      <td>Claudia Passion\\nFruit IPA\\nNuestra mejor cerveza con Maracuyá\\n--------------\\nOur best IPA with passion fruit</td>\n",
       "    </tr>\n",
       "    <tr>\n",
       "      <th>3</th>\n",
       "      <td>BlackLab More Sparkle</td>\n",
       "      <td>Brut IPA - 7 º</td>\n",
       "      <td>More Sparkle\\nBrut IPA\\nDry and aromatic. Low bitterness.\\n-----------\\nMuy seca y aromática. Poco amargor.</td>\n",
       "    </tr>\n",
       "    <tr>\n",
       "      <th>4</th>\n",
       "      <td>Greyhound Brewers Give ’em Hops</td>\n",
       "      <td>Imperial IPA - 8 º</td>\n",
       "      <td>Give ’em Hops\\nDoble NEIPA</td>\n",
       "    </tr>\n",
       "  </tbody>\n",
       "</table>\n",
       "</div>"
      ],
      "text/plain": [
       "                                                  Name  \\\n",
       "0  La Vella Caravana / Black Bitch Caravan of Bitches    \n",
       "1                                  BlackLab Sour Lady    \n",
       "2                            Blacklab Claudia Passion    \n",
       "3                               BlackLab More Sparkle    \n",
       "4                     Greyhound Brewers Give ’em Hops    \n",
       "\n",
       "                      Style  \\\n",
       "0  Witbier - 5.2 º - 29 IBU   \n",
       "1     Berliner Weisse - 5 º   \n",
       "2              American IPA   \n",
       "3            Brut IPA - 7 º   \n",
       "4        Imperial IPA - 8 º   \n",
       "\n",
       "                                                                                                                                                                                             Description  \n",
       "0  Caravan of Bitches\\nHoppy Wheat Ale\\nEstilo tradicional elaborado con malta pilsner, trigo y avena. Este estilo se caracteriza por las adiciones de cascara de naranja amarga y semillas de cilantro.  \n",
       "1                                                                                  Sour Lady\\nBerliner Weisse with fruit\\nUna cerveza ácida con frambuesas.\\n---------------\\nSour beer with raspberries  \n",
       "2                                                                                        Claudia Passion\\nFruit IPA\\nNuestra mejor cerveza con Maracuyá\\n--------------\\nOur best IPA with passion fruit  \n",
       "3                                                                                            More Sparkle\\nBrut IPA\\nDry and aromatic. Low bitterness.\\n-----------\\nMuy seca y aromática. Poco amargor.  \n",
       "4                                                                                                                                                                             Give ’em Hops\\nDoble NEIPA  "
      ]
     },
     "execution_count": 111,
     "metadata": {},
     "output_type": "execute_result"
    }
   ],
   "source": [
    "df.head()"
   ]
  },
  {
   "cell_type": "markdown",
   "metadata": {},
   "source": [
    "# Style"
   ]
  },
  {
   "cell_type": "code",
   "execution_count": 112,
   "metadata": {
    "ExecuteTime": {
     "end_time": "2020-02-18T10:38:52.622096Z",
     "start_time": "2020-02-18T10:38:52.459567Z"
    }
   },
   "outputs": [],
   "source": [
    "df[['Style', 'ABV', 'IBU']] = df.Style.str.split(' - ', n=2, expand=True)"
   ]
  },
  {
   "cell_type": "code",
   "execution_count": 113,
   "metadata": {
    "ExecuteTime": {
     "end_time": "2020-02-18T10:38:52.718820Z",
     "start_time": "2020-02-18T10:38:52.623768Z"
    }
   },
   "outputs": [
    {
     "data": {
      "text/html": [
       "<div>\n",
       "<style scoped>\n",
       "    .dataframe tbody tr th:only-of-type {\n",
       "        vertical-align: middle;\n",
       "    }\n",
       "\n",
       "    .dataframe tbody tr th {\n",
       "        vertical-align: top;\n",
       "    }\n",
       "\n",
       "    .dataframe thead th {\n",
       "        text-align: right;\n",
       "    }\n",
       "</style>\n",
       "<table border=\"1\" class=\"dataframe\">\n",
       "  <thead>\n",
       "    <tr style=\"text-align: right;\">\n",
       "      <th></th>\n",
       "      <th>Name</th>\n",
       "      <th>Style</th>\n",
       "      <th>Description</th>\n",
       "      <th>ABV</th>\n",
       "      <th>IBU</th>\n",
       "    </tr>\n",
       "  </thead>\n",
       "  <tbody>\n",
       "    <tr>\n",
       "      <th>0</th>\n",
       "      <td>La Vella Caravana / Black Bitch Caravan of Bitches</td>\n",
       "      <td>Witbier</td>\n",
       "      <td>Caravan of Bitches\\nHoppy Wheat Ale\\nEstilo tradicional elaborado con malta pilsner, trigo y avena. Este estilo se caracteriza por las adiciones de cascara de naranja amarga y semillas de cilantro.</td>\n",
       "      <td>5.2 º</td>\n",
       "      <td>29 IBU</td>\n",
       "    </tr>\n",
       "    <tr>\n",
       "      <th>1</th>\n",
       "      <td>BlackLab Sour Lady</td>\n",
       "      <td>Berliner Weisse</td>\n",
       "      <td>Sour Lady\\nBerliner Weisse with fruit\\nUna cerveza ácida con frambuesas.\\n---------------\\nSour beer with raspberries</td>\n",
       "      <td>5 º</td>\n",
       "      <td>None</td>\n",
       "    </tr>\n",
       "    <tr>\n",
       "      <th>2</th>\n",
       "      <td>Blacklab Claudia Passion</td>\n",
       "      <td>American IPA</td>\n",
       "      <td>Claudia Passion\\nFruit IPA\\nNuestra mejor cerveza con Maracuyá\\n--------------\\nOur best IPA with passion fruit</td>\n",
       "      <td>None</td>\n",
       "      <td>None</td>\n",
       "    </tr>\n",
       "    <tr>\n",
       "      <th>3</th>\n",
       "      <td>BlackLab More Sparkle</td>\n",
       "      <td>Brut IPA</td>\n",
       "      <td>More Sparkle\\nBrut IPA\\nDry and aromatic. Low bitterness.\\n-----------\\nMuy seca y aromática. Poco amargor.</td>\n",
       "      <td>7 º</td>\n",
       "      <td>None</td>\n",
       "    </tr>\n",
       "    <tr>\n",
       "      <th>4</th>\n",
       "      <td>Greyhound Brewers Give ’em Hops</td>\n",
       "      <td>Imperial IPA</td>\n",
       "      <td>Give ’em Hops\\nDoble NEIPA</td>\n",
       "      <td>8 º</td>\n",
       "      <td>None</td>\n",
       "    </tr>\n",
       "  </tbody>\n",
       "</table>\n",
       "</div>"
      ],
      "text/plain": [
       "                                                  Name            Style  \\\n",
       "0  La Vella Caravana / Black Bitch Caravan of Bitches           Witbier   \n",
       "1                                  BlackLab Sour Lady   Berliner Weisse   \n",
       "2                            Blacklab Claudia Passion      American IPA   \n",
       "3                               BlackLab More Sparkle          Brut IPA   \n",
       "4                     Greyhound Brewers Give ’em Hops      Imperial IPA   \n",
       "\n",
       "                                                                                                                                                                                             Description  \\\n",
       "0  Caravan of Bitches\\nHoppy Wheat Ale\\nEstilo tradicional elaborado con malta pilsner, trigo y avena. Este estilo se caracteriza por las adiciones de cascara de naranja amarga y semillas de cilantro.   \n",
       "1                                                                                  Sour Lady\\nBerliner Weisse with fruit\\nUna cerveza ácida con frambuesas.\\n---------------\\nSour beer with raspberries   \n",
       "2                                                                                        Claudia Passion\\nFruit IPA\\nNuestra mejor cerveza con Maracuyá\\n--------------\\nOur best IPA with passion fruit   \n",
       "3                                                                                            More Sparkle\\nBrut IPA\\nDry and aromatic. Low bitterness.\\n-----------\\nMuy seca y aromática. Poco amargor.   \n",
       "4                                                                                                                                                                             Give ’em Hops\\nDoble NEIPA   \n",
       "\n",
       "     ABV     IBU  \n",
       "0  5.2 º  29 IBU  \n",
       "1    5 º    None  \n",
       "2   None    None  \n",
       "3    7 º    None  \n",
       "4    8 º    None  "
      ]
     },
     "execution_count": 113,
     "metadata": {},
     "output_type": "execute_result"
    }
   ],
   "source": [
    "df.head()"
   ]
  },
  {
   "cell_type": "markdown",
   "metadata": {},
   "source": [
    "# ABV"
   ]
  },
  {
   "cell_type": "code",
   "execution_count": 114,
   "metadata": {
    "ExecuteTime": {
     "end_time": "2020-02-18T10:38:52.824761Z",
     "start_time": "2020-02-18T10:38:52.722219Z"
    }
   },
   "outputs": [
    {
     "data": {
      "text/plain": [
       "0    5.2 º\n",
       "1      5 º\n",
       "2     None\n",
       "3      7 º\n",
       "4      8 º\n",
       "Name: ABV, dtype: object"
      ]
     },
     "execution_count": 114,
     "metadata": {},
     "output_type": "execute_result"
    }
   ],
   "source": [
    "df.ABV.head()"
   ]
  },
  {
   "cell_type": "markdown",
   "metadata": {},
   "source": [
    "## Replace strange symbols"
   ]
  },
  {
   "cell_type": "code",
   "execution_count": 115,
   "metadata": {
    "ExecuteTime": {
     "end_time": "2020-02-18T10:38:52.963390Z",
     "start_time": "2020-02-18T10:38:52.827390Z"
    }
   },
   "outputs": [],
   "source": [
    "df.ABV = df.ABV.str.replace(\" º\", \"\")\n",
    "df.ABV = df.ABV.str.replace(\" \", \"\")\n",
    "df.ABV = df.ABV.str.replace(\"\\xa0\", \" \")\n",
    "df.ABV = df.ABV.str.replace(\"%\", \"\")\n",
    "df.ABV = df.ABV.str.replace(\"vol.\", \"\")\n",
    "df.ABV = df.ABV.str.replace(\"ABV\", \"\")"
   ]
  },
  {
   "cell_type": "code",
   "execution_count": 116,
   "metadata": {
    "ExecuteTime": {
     "end_time": "2020-02-18T10:38:53.073340Z",
     "start_time": "2020-02-18T10:38:52.967453Z"
    }
   },
   "outputs": [],
   "source": [
    "# Eliminamos \"Hidromiel\" y \"Sidra\"\n",
    "\n",
    "df = df[df.ABV != \"Applewine\"]\n",
    "df = df[df.ABV != \"Hidromiel\"]\n",
    "df = df[df.ABV != \"OtherSpecialtyCider/Perry\"]\n",
    "df = df[df.ABV != \"FruitCider\"]\n",
    "df = df[df.ABV != \"CTZ.Amarillo.Mosaic\"]"
   ]
  },
  {
   "cell_type": "code",
   "execution_count": 117,
   "metadata": {
    "ExecuteTime": {
     "end_time": "2020-02-18T10:38:53.200461Z",
     "start_time": "2020-02-18T10:38:53.075933Z"
    }
   },
   "outputs": [],
   "source": [
    "# Eliminamos los 13 registros que no traen valor de ABV, solo de IBU\n",
    "\n",
    "df = df[~df.ABV.str.contains(\"IBU\", na=False)]"
   ]
  },
  {
   "cell_type": "code",
   "execution_count": 118,
   "metadata": {
    "ExecuteTime": {
     "end_time": "2020-02-18T10:38:53.392968Z",
     "start_time": "2020-02-18T10:38:53.202180Z"
    }
   },
   "outputs": [],
   "source": [
    "df.ABV = df.ABV.str.split(\"-\", n=1, expand=True)[0]"
   ]
  },
  {
   "cell_type": "code",
   "execution_count": 119,
   "metadata": {
    "ExecuteTime": {
     "end_time": "2020-02-18T10:38:53.478870Z",
     "start_time": "2020-02-18T10:38:53.395674Z"
    }
   },
   "outputs": [],
   "source": [
    "df.ABV = df.ABV.str.replace(\"\\.\\.\", \".\", regex=True)\n",
    "df.ABV = df.ABV.str.replace(\"’\", \"\")\n",
    "df.ABV = df.ABV.str.replace(\"´\", \"\")"
   ]
  },
  {
   "cell_type": "code",
   "execution_count": 120,
   "metadata": {
    "ExecuteTime": {
     "end_time": "2020-02-18T10:38:53.619047Z",
     "start_time": "2020-02-18T10:38:53.481013Z"
    }
   },
   "outputs": [],
   "source": [
    "df.ABV = df.ABV.str.split(\"/\", n=1, expand=True)[0]"
   ]
  },
  {
   "cell_type": "code",
   "execution_count": 121,
   "metadata": {
    "ExecuteTime": {
     "end_time": "2020-02-18T10:38:53.737839Z",
     "start_time": "2020-02-18T10:38:53.621213Z"
    }
   },
   "outputs": [
    {
     "data": {
      "text/plain": [
       "185"
      ]
     },
     "execution_count": 121,
     "metadata": {},
     "output_type": "execute_result"
    }
   ],
   "source": [
    "df.ABV.isna().sum()"
   ]
  },
  {
   "cell_type": "code",
   "execution_count": 122,
   "metadata": {
    "ExecuteTime": {
     "end_time": "2020-02-18T10:38:53.858473Z",
     "start_time": "2020-02-18T10:38:53.740842Z"
    }
   },
   "outputs": [],
   "source": [
    "df.ABV = df.ABV.astype('float')"
   ]
  },
  {
   "cell_type": "markdown",
   "metadata": {},
   "source": [
    "## Clean outliers"
   ]
  },
  {
   "cell_type": "code",
   "execution_count": 123,
   "metadata": {
    "ExecuteTime": {
     "end_time": "2020-02-18T10:38:53.980780Z",
     "start_time": "2020-02-18T10:38:53.863159Z"
    }
   },
   "outputs": [],
   "source": [
    "df.ABV = df.ABV.apply(lambda x: x if x < 30 else x/10)"
   ]
  },
  {
   "cell_type": "markdown",
   "metadata": {},
   "source": [
    "# IBU"
   ]
  },
  {
   "cell_type": "code",
   "execution_count": 124,
   "metadata": {
    "ExecuteTime": {
     "end_time": "2020-02-18T10:38:54.106169Z",
     "start_time": "2020-02-18T10:38:53.983040Z"
    }
   },
   "outputs": [],
   "source": [
    "df.IBU = df.IBU.str.replace(\"IBU\", \"\")\n",
    "df.IBU = df.IBU.replace(\" \", \"\")\n",
    "df.IBU = df.IBU.str.replace(\"\\xa0\", \" \")\n",
    "df.IBU = df.IBU.str.replace(\",\", \".\")"
   ]
  },
  {
   "cell_type": "code",
   "execution_count": 125,
   "metadata": {
    "ExecuteTime": {
     "end_time": "2020-02-18T10:38:54.252216Z",
     "start_time": "2020-02-18T10:38:54.108044Z"
    }
   },
   "outputs": [],
   "source": [
    "df.IBU = df.IBU.str.split(\"-\", n=1, expand=True)[0]\n",
    "df.IBU = df.IBU.str.split(\"/\", n=1, expand=True)[0]"
   ]
  },
  {
   "cell_type": "code",
   "execution_count": 126,
   "metadata": {
    "ExecuteTime": {
     "end_time": "2020-02-18T10:38:54.353370Z",
     "start_time": "2020-02-18T10:38:54.254264Z"
    }
   },
   "outputs": [],
   "source": [
    "df.IBU = df.IBU.astype('float')"
   ]
  },
  {
   "cell_type": "markdown",
   "metadata": {},
   "source": [
    "# Name, Brewery and Rating"
   ]
  },
  {
   "cell_type": "code",
   "execution_count": 127,
   "metadata": {
    "ExecuteTime": {
     "end_time": "2020-02-18T10:38:54.494504Z",
     "start_time": "2020-02-18T10:38:54.355545Z"
    }
   },
   "outputs": [],
   "source": [
    "df.Name = df.Name.str.replace(\"starstarstarstarstar\", \"star\")\n",
    "df.Name = df.Name.str.replace(\"starstarstarstar\", \"star\")\n",
    "df.Name = df.Name.str.replace(\"starstarstar\", \"star\")\n",
    "df.Name = df.Name.str.replace(\"starstar\", \"star\")"
   ]
  },
  {
   "cell_type": "code",
   "execution_count": 128,
   "metadata": {
    "ExecuteTime": {
     "end_time": "2020-02-18T10:38:54.679436Z",
     "start_time": "2020-02-18T10:38:54.496278Z"
    }
   },
   "outputs": [],
   "source": [
    "df.Name = df.Name.str.replace(\"star_borderstar_borderstar_borderstar_borderstar_border\", \"/foo/\")\n",
    "df.Name = df.Name.str.replace(\"star_halfstar_borderstar_borderstar_borderstar_border\", \"/foo/\")\n",
    "df.Name = df.Name.str.replace(\"star_halfstar_borderstar_borderstar_border\", \"/foo/\")\n",
    "df.Name = df.Name.str.replace(\"star_borderstar_borderstar_borderstar_border\", \"/foo/\")\n",
    "df.Name = df.Name.str.replace(\"star_borderstar_borderstar_border\", \"/foo/\")\n",
    "df.Name = df.Name.str.replace(\"star_halfstar_borderstar_border\", \"/foo/\")\n",
    "df.Name = df.Name.str.replace(\"star_borderstar_border\", \"/foo/\")\n",
    "df.Name = df.Name.str.replace(\"star_halfstar_border\", \"/foo/\")\n",
    "df.Name = df.Name.str.replace(\"star_border\", \"/foo/\")\n",
    "df.Name = df.Name.str.replace(\"star_half\", \"/foo/\")\n",
    "df.Name = df.Name.str.replace(\" star \", \" /foo/ \")"
   ]
  },
  {
   "cell_type": "code",
   "execution_count": 129,
   "metadata": {
    "ExecuteTime": {
     "end_time": "2020-02-18T10:38:54.799808Z",
     "start_time": "2020-02-18T10:38:54.681780Z"
    }
   },
   "outputs": [],
   "source": [
    "df[['Name', 'Rating']] = df.Name.str.split('/foo/', n=1, expand=True)"
   ]
  },
  {
   "cell_type": "code",
   "execution_count": 130,
   "metadata": {
    "ExecuteTime": {
     "end_time": "2020-02-18T10:38:54.909003Z",
     "start_time": "2020-02-18T10:38:54.802282Z"
    }
   },
   "outputs": [],
   "source": [
    "df.Rating = df.Rating.str.replace(\",\", \".\")"
   ]
  },
  {
   "cell_type": "code",
   "execution_count": 131,
   "metadata": {
    "ExecuteTime": {
     "end_time": "2020-02-18T10:38:55.035061Z",
     "start_time": "2020-02-18T10:38:54.910740Z"
    }
   },
   "outputs": [],
   "source": [
    "df.Rating = df.Rating.astype('float')"
   ]
  },
  {
   "cell_type": "code",
   "execution_count": 132,
   "metadata": {
    "ExecuteTime": {
     "end_time": "2020-02-18T10:38:55.154356Z",
     "start_time": "2020-02-18T10:38:55.036820Z"
    }
   },
   "outputs": [
    {
     "data": {
      "text/html": [
       "<div>\n",
       "<style scoped>\n",
       "    .dataframe tbody tr th:only-of-type {\n",
       "        vertical-align: middle;\n",
       "    }\n",
       "\n",
       "    .dataframe tbody tr th {\n",
       "        vertical-align: top;\n",
       "    }\n",
       "\n",
       "    .dataframe thead th {\n",
       "        text-align: right;\n",
       "    }\n",
       "</style>\n",
       "<table border=\"1\" class=\"dataframe\">\n",
       "  <thead>\n",
       "    <tr style=\"text-align: right;\">\n",
       "      <th></th>\n",
       "      <th>Name</th>\n",
       "      <th>Style</th>\n",
       "      <th>Description</th>\n",
       "      <th>ABV</th>\n",
       "      <th>IBU</th>\n",
       "      <th>Rating</th>\n",
       "    </tr>\n",
       "  </thead>\n",
       "  <tbody>\n",
       "    <tr>\n",
       "      <th>0</th>\n",
       "      <td>La Vella Caravana / Black Bitch Caravan of Bitches</td>\n",
       "      <td>Witbier</td>\n",
       "      <td>Caravan of Bitches\\nHoppy Wheat Ale\\nEstilo tradicional elaborado con malta pilsner, trigo y avena. Este estilo se caracteriza por las adiciones de cascara de naranja amarga y semillas de cilantro.</td>\n",
       "      <td>5.2</td>\n",
       "      <td>29.0</td>\n",
       "      <td>NaN</td>\n",
       "    </tr>\n",
       "    <tr>\n",
       "      <th>1</th>\n",
       "      <td>BlackLab Sour Lady</td>\n",
       "      <td>Berliner Weisse</td>\n",
       "      <td>Sour Lady\\nBerliner Weisse with fruit\\nUna cerveza ácida con frambuesas.\\n---------------\\nSour beer with raspberries</td>\n",
       "      <td>5.0</td>\n",
       "      <td>NaN</td>\n",
       "      <td>NaN</td>\n",
       "    </tr>\n",
       "    <tr>\n",
       "      <th>2</th>\n",
       "      <td>Blacklab Claudia Passion</td>\n",
       "      <td>American IPA</td>\n",
       "      <td>Claudia Passion\\nFruit IPA\\nNuestra mejor cerveza con Maracuyá\\n--------------\\nOur best IPA with passion fruit</td>\n",
       "      <td>NaN</td>\n",
       "      <td>NaN</td>\n",
       "      <td>NaN</td>\n",
       "    </tr>\n",
       "    <tr>\n",
       "      <th>3</th>\n",
       "      <td>BlackLab More Sparkle</td>\n",
       "      <td>Brut IPA</td>\n",
       "      <td>More Sparkle\\nBrut IPA\\nDry and aromatic. Low bitterness.\\n-----------\\nMuy seca y aromática. Poco amargor.</td>\n",
       "      <td>7.0</td>\n",
       "      <td>NaN</td>\n",
       "      <td>NaN</td>\n",
       "    </tr>\n",
       "    <tr>\n",
       "      <th>4</th>\n",
       "      <td>Greyhound Brewers Give ’em Hops</td>\n",
       "      <td>Imperial IPA</td>\n",
       "      <td>Give ’em Hops\\nDoble NEIPA</td>\n",
       "      <td>8.0</td>\n",
       "      <td>NaN</td>\n",
       "      <td>NaN</td>\n",
       "    </tr>\n",
       "  </tbody>\n",
       "</table>\n",
       "</div>"
      ],
      "text/plain": [
       "                                                  Name            Style  \\\n",
       "0  La Vella Caravana / Black Bitch Caravan of Bitches           Witbier   \n",
       "1                                  BlackLab Sour Lady   Berliner Weisse   \n",
       "2                            Blacklab Claudia Passion      American IPA   \n",
       "3                               BlackLab More Sparkle          Brut IPA   \n",
       "4                     Greyhound Brewers Give ’em Hops      Imperial IPA   \n",
       "\n",
       "                                                                                                                                                                                             Description  \\\n",
       "0  Caravan of Bitches\\nHoppy Wheat Ale\\nEstilo tradicional elaborado con malta pilsner, trigo y avena. Este estilo se caracteriza por las adiciones de cascara de naranja amarga y semillas de cilantro.   \n",
       "1                                                                                  Sour Lady\\nBerliner Weisse with fruit\\nUna cerveza ácida con frambuesas.\\n---------------\\nSour beer with raspberries   \n",
       "2                                                                                        Claudia Passion\\nFruit IPA\\nNuestra mejor cerveza con Maracuyá\\n--------------\\nOur best IPA with passion fruit   \n",
       "3                                                                                            More Sparkle\\nBrut IPA\\nDry and aromatic. Low bitterness.\\n-----------\\nMuy seca y aromática. Poco amargor.   \n",
       "4                                                                                                                                                                             Give ’em Hops\\nDoble NEIPA   \n",
       "\n",
       "   ABV   IBU  Rating  \n",
       "0  5.2  29.0     NaN  \n",
       "1  5.0   NaN     NaN  \n",
       "2  NaN   NaN     NaN  \n",
       "3  7.0   NaN     NaN  \n",
       "4  8.0   NaN     NaN  "
      ]
     },
     "execution_count": 132,
     "metadata": {},
     "output_type": "execute_result"
    }
   ],
   "source": [
    "df.head()"
   ]
  },
  {
   "cell_type": "code",
   "execution_count": 133,
   "metadata": {
    "ExecuteTime": {
     "end_time": "2020-02-18T10:38:55.289140Z",
     "start_time": "2020-02-18T10:38:55.156532Z"
    }
   },
   "outputs": [],
   "source": [
    "# df[\"Test\"] = df.Name.str.split('/')"
   ]
  },
  {
   "cell_type": "code",
   "execution_count": 134,
   "metadata": {
    "ExecuteTime": {
     "end_time": "2020-02-18T10:38:55.411203Z",
     "start_time": "2020-02-18T10:38:55.290956Z"
    }
   },
   "outputs": [],
   "source": [
    "# df[\"Name\"] = df.Test.apply(lambda x: x[-1] if len(x)>1 else x[0])\n",
    "# df[\"Brewery\"] = df.Test.apply(lambda x: x[0:-1] if len(x)>1 else None)"
   ]
  },
  {
   "cell_type": "code",
   "execution_count": 135,
   "metadata": {
    "ExecuteTime": {
     "end_time": "2020-02-18T10:38:55.535985Z",
     "start_time": "2020-02-18T10:38:55.413088Z"
    }
   },
   "outputs": [],
   "source": [
    "df.Name = df.Name.str.rstrip()\n",
    "df.Name = df.Name.str.lstrip()\n",
    "\n",
    "# df.Brewery = df.Brewery.str.rstrip()\n",
    "# df.Brewery = df.Brewery.str.lstrip()"
   ]
  },
  {
   "cell_type": "markdown",
   "metadata": {},
   "source": [
    "# Reordering"
   ]
  },
  {
   "cell_type": "code",
   "execution_count": 136,
   "metadata": {
    "ExecuteTime": {
     "end_time": "2020-02-18T10:38:55.649734Z",
     "start_time": "2020-02-18T10:38:55.538119Z"
    }
   },
   "outputs": [],
   "source": [
    "# columns = ['Name', 'Brewery', 'Style', 'ABV', 'IBU', 'Rating', 'Description']\n",
    "columns = ['Name', 'Style', 'ABV', 'IBU', 'Rating', 'Description']\n",
    "\n",
    "df = df[columns]"
   ]
  },
  {
   "cell_type": "code",
   "execution_count": 137,
   "metadata": {
    "ExecuteTime": {
     "end_time": "2020-02-18T10:38:55.777397Z",
     "start_time": "2020-02-18T10:38:55.651469Z"
    }
   },
   "outputs": [
    {
     "data": {
      "text/html": [
       "<div>\n",
       "<style scoped>\n",
       "    .dataframe tbody tr th:only-of-type {\n",
       "        vertical-align: middle;\n",
       "    }\n",
       "\n",
       "    .dataframe tbody tr th {\n",
       "        vertical-align: top;\n",
       "    }\n",
       "\n",
       "    .dataframe thead th {\n",
       "        text-align: right;\n",
       "    }\n",
       "</style>\n",
       "<table border=\"1\" class=\"dataframe\">\n",
       "  <thead>\n",
       "    <tr style=\"text-align: right;\">\n",
       "      <th></th>\n",
       "      <th>Name</th>\n",
       "      <th>Style</th>\n",
       "      <th>ABV</th>\n",
       "      <th>IBU</th>\n",
       "      <th>Rating</th>\n",
       "      <th>Description</th>\n",
       "    </tr>\n",
       "  </thead>\n",
       "  <tbody>\n",
       "    <tr>\n",
       "      <th>0</th>\n",
       "      <td>La Vella Caravana / Black Bitch Caravan of Bitches</td>\n",
       "      <td>Witbier</td>\n",
       "      <td>5.2</td>\n",
       "      <td>29.0</td>\n",
       "      <td>NaN</td>\n",
       "      <td>Caravan of Bitches\\nHoppy Wheat Ale\\nEstilo tradicional elaborado con malta pilsner, trigo y avena. Este estilo se caracteriza por las adiciones de cascara de naranja amarga y semillas de cilantro.</td>\n",
       "    </tr>\n",
       "    <tr>\n",
       "      <th>1</th>\n",
       "      <td>BlackLab Sour Lady</td>\n",
       "      <td>Berliner Weisse</td>\n",
       "      <td>5.0</td>\n",
       "      <td>NaN</td>\n",
       "      <td>NaN</td>\n",
       "      <td>Sour Lady\\nBerliner Weisse with fruit\\nUna cerveza ácida con frambuesas.\\n---------------\\nSour beer with raspberries</td>\n",
       "    </tr>\n",
       "    <tr>\n",
       "      <th>2</th>\n",
       "      <td>Blacklab Claudia Passion</td>\n",
       "      <td>American IPA</td>\n",
       "      <td>NaN</td>\n",
       "      <td>NaN</td>\n",
       "      <td>NaN</td>\n",
       "      <td>Claudia Passion\\nFruit IPA\\nNuestra mejor cerveza con Maracuyá\\n--------------\\nOur best IPA with passion fruit</td>\n",
       "    </tr>\n",
       "    <tr>\n",
       "      <th>3</th>\n",
       "      <td>BlackLab More Sparkle</td>\n",
       "      <td>Brut IPA</td>\n",
       "      <td>7.0</td>\n",
       "      <td>NaN</td>\n",
       "      <td>NaN</td>\n",
       "      <td>More Sparkle\\nBrut IPA\\nDry and aromatic. Low bitterness.\\n-----------\\nMuy seca y aromática. Poco amargor.</td>\n",
       "    </tr>\n",
       "    <tr>\n",
       "      <th>4</th>\n",
       "      <td>Greyhound Brewers Give ’em Hops</td>\n",
       "      <td>Imperial IPA</td>\n",
       "      <td>8.0</td>\n",
       "      <td>NaN</td>\n",
       "      <td>NaN</td>\n",
       "      <td>Give ’em Hops\\nDoble NEIPA</td>\n",
       "    </tr>\n",
       "  </tbody>\n",
       "</table>\n",
       "</div>"
      ],
      "text/plain": [
       "                                                 Name            Style  ABV  \\\n",
       "0  La Vella Caravana / Black Bitch Caravan of Bitches          Witbier  5.2   \n",
       "1                                  BlackLab Sour Lady  Berliner Weisse  5.0   \n",
       "2                            Blacklab Claudia Passion     American IPA  NaN   \n",
       "3                               BlackLab More Sparkle         Brut IPA  7.0   \n",
       "4                     Greyhound Brewers Give ’em Hops     Imperial IPA  8.0   \n",
       "\n",
       "    IBU  Rating  \\\n",
       "0  29.0     NaN   \n",
       "1   NaN     NaN   \n",
       "2   NaN     NaN   \n",
       "3   NaN     NaN   \n",
       "4   NaN     NaN   \n",
       "\n",
       "                                                                                                                                                                                             Description  \n",
       "0  Caravan of Bitches\\nHoppy Wheat Ale\\nEstilo tradicional elaborado con malta pilsner, trigo y avena. Este estilo se caracteriza por las adiciones de cascara de naranja amarga y semillas de cilantro.  \n",
       "1                                                                                  Sour Lady\\nBerliner Weisse with fruit\\nUna cerveza ácida con frambuesas.\\n---------------\\nSour beer with raspberries  \n",
       "2                                                                                        Claudia Passion\\nFruit IPA\\nNuestra mejor cerveza con Maracuyá\\n--------------\\nOur best IPA with passion fruit  \n",
       "3                                                                                            More Sparkle\\nBrut IPA\\nDry and aromatic. Low bitterness.\\n-----------\\nMuy seca y aromática. Poco amargor.  \n",
       "4                                                                                                                                                                             Give ’em Hops\\nDoble NEIPA  "
      ]
     },
     "execution_count": 137,
     "metadata": {},
     "output_type": "execute_result"
    }
   ],
   "source": [
    "df.head()"
   ]
  },
  {
   "cell_type": "code",
   "execution_count": 138,
   "metadata": {
    "ExecuteTime": {
     "end_time": "2020-02-18T10:38:56.011403Z",
     "start_time": "2020-02-18T10:38:55.780034Z"
    }
   },
   "outputs": [],
   "source": [
    "# df.Brewery.notnull().sum()"
   ]
  },
  {
   "cell_type": "markdown",
   "metadata": {},
   "source": [
    "# Duplicates"
   ]
  },
  {
   "cell_type": "code",
   "execution_count": 139,
   "metadata": {
    "ExecuteTime": {
     "end_time": "2020-02-18T10:38:56.129921Z",
     "start_time": "2020-02-18T10:38:56.013806Z"
    }
   },
   "outputs": [
    {
     "data": {
      "text/plain": [
       "Tacoa Golden Ale                        2\n",
       "Cata Craft Pumpk Not Died               2\n",
       "Catalan Brewery Beach Bunny             2\n",
       "Microbombolla Maguau                    2\n",
       "Antiga La Pica en Flandes               1\n",
       "La Pirata / Edge Brewing Bee’s Knees    1\n",
       "Yakka / El Barbas Wood Works            1\n",
       "Quer Jai Alai                           1\n",
       "Hope Fil·loxera                         1\n",
       "CESC Marion                             1\n",
       "Name: Name, dtype: int64"
      ]
     },
     "execution_count": 139,
     "metadata": {},
     "output_type": "execute_result"
    }
   ],
   "source": [
    "df.Name.value_counts().head(10)"
   ]
  },
  {
   "cell_type": "code",
   "execution_count": 140,
   "metadata": {
    "ExecuteTime": {
     "end_time": "2020-02-18T10:38:56.244523Z",
     "start_time": "2020-02-18T10:38:56.139653Z"
    }
   },
   "outputs": [],
   "source": [
    "# df.Brewery.value_counts().head(10)"
   ]
  },
  {
   "cell_type": "code",
   "execution_count": 141,
   "metadata": {
    "ExecuteTime": {
     "end_time": "2020-02-18T10:38:56.355587Z",
     "start_time": "2020-02-18T10:38:56.252050Z"
    }
   },
   "outputs": [],
   "source": [
    "# Drop some duplicates after checking which one we want\n",
    "\n",
    "# df = df.drop(4359)\n",
    "# df = df.drop(679)\n",
    "# df = df.drop(4464)\n",
    "# df = df.drop(3831)"
   ]
  },
  {
   "cell_type": "code",
   "execution_count": 142,
   "metadata": {
    "ExecuteTime": {
     "end_time": "2020-02-18T10:38:56.500738Z",
     "start_time": "2020-02-18T10:38:56.358261Z"
    }
   },
   "outputs": [],
   "source": [
    "df.reset_index(drop=True, inplace=True)"
   ]
  },
  {
   "cell_type": "code",
   "execution_count": 143,
   "metadata": {
    "ExecuteTime": {
     "end_time": "2020-02-18T10:38:56.622956Z",
     "start_time": "2020-02-18T10:38:56.502863Z"
    }
   },
   "outputs": [
    {
     "data": {
      "text/html": [
       "<div>\n",
       "<style scoped>\n",
       "    .dataframe tbody tr th:only-of-type {\n",
       "        vertical-align: middle;\n",
       "    }\n",
       "\n",
       "    .dataframe tbody tr th {\n",
       "        vertical-align: top;\n",
       "    }\n",
       "\n",
       "    .dataframe thead th {\n",
       "        text-align: right;\n",
       "    }\n",
       "</style>\n",
       "<table border=\"1\" class=\"dataframe\">\n",
       "  <thead>\n",
       "    <tr style=\"text-align: right;\">\n",
       "      <th></th>\n",
       "      <th>Name</th>\n",
       "      <th>Style</th>\n",
       "      <th>ABV</th>\n",
       "      <th>IBU</th>\n",
       "      <th>Rating</th>\n",
       "      <th>Description</th>\n",
       "    </tr>\n",
       "  </thead>\n",
       "  <tbody>\n",
       "    <tr>\n",
       "      <th>0</th>\n",
       "      <td>La Vella Caravana / Black Bitch Caravan of Bitches</td>\n",
       "      <td>Witbier</td>\n",
       "      <td>5.2</td>\n",
       "      <td>29.0</td>\n",
       "      <td>NaN</td>\n",
       "      <td>Caravan of Bitches\\nHoppy Wheat Ale\\nEstilo tradicional elaborado con malta pilsner, trigo y avena. Este estilo se caracteriza por las adiciones de cascara de naranja amarga y semillas de cilantro.</td>\n",
       "    </tr>\n",
       "    <tr>\n",
       "      <th>1</th>\n",
       "      <td>BlackLab Sour Lady</td>\n",
       "      <td>Berliner Weisse</td>\n",
       "      <td>5.0</td>\n",
       "      <td>NaN</td>\n",
       "      <td>NaN</td>\n",
       "      <td>Sour Lady\\nBerliner Weisse with fruit\\nUna cerveza ácida con frambuesas.\\n---------------\\nSour beer with raspberries</td>\n",
       "    </tr>\n",
       "    <tr>\n",
       "      <th>2</th>\n",
       "      <td>Blacklab Claudia Passion</td>\n",
       "      <td>American IPA</td>\n",
       "      <td>NaN</td>\n",
       "      <td>NaN</td>\n",
       "      <td>NaN</td>\n",
       "      <td>Claudia Passion\\nFruit IPA\\nNuestra mejor cerveza con Maracuyá\\n--------------\\nOur best IPA with passion fruit</td>\n",
       "    </tr>\n",
       "    <tr>\n",
       "      <th>3</th>\n",
       "      <td>BlackLab More Sparkle</td>\n",
       "      <td>Brut IPA</td>\n",
       "      <td>7.0</td>\n",
       "      <td>NaN</td>\n",
       "      <td>NaN</td>\n",
       "      <td>More Sparkle\\nBrut IPA\\nDry and aromatic. Low bitterness.\\n-----------\\nMuy seca y aromática. Poco amargor.</td>\n",
       "    </tr>\n",
       "    <tr>\n",
       "      <th>4</th>\n",
       "      <td>Greyhound Brewers Give ’em Hops</td>\n",
       "      <td>Imperial IPA</td>\n",
       "      <td>8.0</td>\n",
       "      <td>NaN</td>\n",
       "      <td>NaN</td>\n",
       "      <td>Give ’em Hops\\nDoble NEIPA</td>\n",
       "    </tr>\n",
       "  </tbody>\n",
       "</table>\n",
       "</div>"
      ],
      "text/plain": [
       "                                                 Name            Style  ABV  \\\n",
       "0  La Vella Caravana / Black Bitch Caravan of Bitches          Witbier  5.2   \n",
       "1                                  BlackLab Sour Lady  Berliner Weisse  5.0   \n",
       "2                            Blacklab Claudia Passion     American IPA  NaN   \n",
       "3                               BlackLab More Sparkle         Brut IPA  7.0   \n",
       "4                     Greyhound Brewers Give ’em Hops     Imperial IPA  8.0   \n",
       "\n",
       "    IBU  Rating  \\\n",
       "0  29.0     NaN   \n",
       "1   NaN     NaN   \n",
       "2   NaN     NaN   \n",
       "3   NaN     NaN   \n",
       "4   NaN     NaN   \n",
       "\n",
       "                                                                                                                                                                                             Description  \n",
       "0  Caravan of Bitches\\nHoppy Wheat Ale\\nEstilo tradicional elaborado con malta pilsner, trigo y avena. Este estilo se caracteriza por las adiciones de cascara de naranja amarga y semillas de cilantro.  \n",
       "1                                                                                  Sour Lady\\nBerliner Weisse with fruit\\nUna cerveza ácida con frambuesas.\\n---------------\\nSour beer with raspberries  \n",
       "2                                                                                        Claudia Passion\\nFruit IPA\\nNuestra mejor cerveza con Maracuyá\\n--------------\\nOur best IPA with passion fruit  \n",
       "3                                                                                            More Sparkle\\nBrut IPA\\nDry and aromatic. Low bitterness.\\n-----------\\nMuy seca y aromática. Poco amargor.  \n",
       "4                                                                                                                                                                             Give ’em Hops\\nDoble NEIPA  "
      ]
     },
     "execution_count": 143,
     "metadata": {},
     "output_type": "execute_result"
    }
   ],
   "source": [
    "df.head()"
   ]
  },
  {
   "cell_type": "markdown",
   "metadata": {},
   "source": [
    "# Export dataset"
   ]
  },
  {
   "cell_type": "code",
   "execution_count": 144,
   "metadata": {
    "ExecuteTime": {
     "end_time": "2020-02-18T10:38:56.865482Z",
     "start_time": "2020-02-18T10:38:56.625464Z"
    }
   },
   "outputs": [],
   "source": [
    "df.to_csv(data_path+'Beer_dataset_v1.csv')"
   ]
  }
 ],
 "metadata": {
  "kernelspec": {
   "display_name": "Python 3",
   "language": "python",
   "name": "python3"
  },
  "language_info": {
   "codemirror_mode": {
    "name": "ipython",
    "version": 3
   },
   "file_extension": ".py",
   "mimetype": "text/x-python",
   "name": "python",
   "nbconvert_exporter": "python",
   "pygments_lexer": "ipython3",
   "version": "3.6.9"
  },
  "toc": {
   "base_numbering": 1,
   "nav_menu": {},
   "number_sections": true,
   "sideBar": true,
   "skip_h1_title": false,
   "title_cell": "Table of Contents",
   "title_sidebar": "Contents",
   "toc_cell": false,
   "toc_position": {
    "height": "calc(100% - 180px)",
    "left": "10px",
    "top": "150px",
    "width": "216.6px"
   },
   "toc_section_display": true,
   "toc_window_display": true
  },
  "varInspector": {
   "cols": {
    "lenName": 16,
    "lenType": 16,
    "lenVar": 40
   },
   "kernels_config": {
    "python": {
     "delete_cmd_postfix": "",
     "delete_cmd_prefix": "del ",
     "library": "var_list.py",
     "varRefreshCmd": "print(var_dic_list())"
    },
    "r": {
     "delete_cmd_postfix": ") ",
     "delete_cmd_prefix": "rm(",
     "library": "var_list.r",
     "varRefreshCmd": "cat(var_dic_list()) "
    }
   },
   "types_to_exclude": [
    "module",
    "function",
    "builtin_function_or_method",
    "instance",
    "_Feature"
   ],
   "window_display": false
  }
 },
 "nbformat": 4,
 "nbformat_minor": 2
}
