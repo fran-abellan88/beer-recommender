{
 "cells": [
  {
   "cell_type": "code",
   "execution_count": 1,
   "metadata": {
    "ExecuteTime": {
     "end_time": "2020-02-21T13:16:14.898586Z",
     "start_time": "2020-02-21T13:16:12.807741Z"
    }
   },
   "outputs": [],
   "source": [
    "import os\n",
    "import re\n",
    "import requests\n",
    "from bs4 import BeautifulSoup\n",
    "from urllib.parse import urlparse\n",
    "from tqdm import tqdm_notebook\n",
    "import sys\n",
    "\n",
    "import urllib.request as urllib2\n",
    "from selenium import webdriver\n",
    "from selenium.webdriver.common.keys import Keys\n",
    "import datetime\n",
    "import time\n",
    "import argparse\n",
    "import io\n",
    "import os\n",
    "import timeit\n",
    "import glob\n",
    "import pickle\n",
    "\n",
    "from PIL import Image"
   ]
  },
  {
   "cell_type": "markdown",
   "metadata": {},
   "source": [
    "# Image scraping"
   ]
  },
  {
   "cell_type": "code",
   "execution_count": 2,
   "metadata": {
    "ExecuteTime": {
     "end_time": "2020-02-21T13:16:16.443287Z",
     "start_time": "2020-02-21T13:16:16.440780Z"
    }
   },
   "outputs": [],
   "source": [
    "DRIVER_PATH = '/usr/local/bin/chromedriver'"
   ]
  },
  {
   "cell_type": "code",
   "execution_count": 12,
   "metadata": {
    "ExecuteTime": {
     "end_time": "2020-02-21T13:18:23.499193Z",
     "start_time": "2020-02-21T13:18:23.493333Z"
    }
   },
   "outputs": [],
   "source": [
    "beers = ['arriaca ipa', 'mad brewing camarillo', 'attik brewing ace vendetta',\n",
    "         'caleya ayalga', 'garage beer co virtue signal', 'fort local beer mosaic apa', 'jakobsland we exist']\n",
    "\n",
    "# beers = ['arriaca ipa']"
   ]
  },
  {
   "cell_type": "code",
   "execution_count": 13,
   "metadata": {
    "ExecuteTime": {
     "end_time": "2020-02-21T13:18:26.133145Z",
     "start_time": "2020-02-21T13:18:26.127781Z"
    }
   },
   "outputs": [],
   "source": [
    "with open(\"beers_images_saved.txt\", \"rb\") as fp:\n",
    "    beers_saved = pickle.load(fp)"
   ]
  },
  {
   "cell_type": "code",
   "execution_count": 14,
   "metadata": {
    "ExecuteTime": {
     "end_time": "2020-02-21T13:18:26.356481Z",
     "start_time": "2020-02-21T13:18:26.353048Z"
    }
   },
   "outputs": [],
   "source": [
    "# beers_saved = []"
   ]
  },
  {
   "cell_type": "code",
   "execution_count": 15,
   "metadata": {
    "ExecuteTime": {
     "end_time": "2020-02-21T13:18:26.564487Z",
     "start_time": "2020-02-21T13:18:26.547337Z"
    }
   },
   "outputs": [],
   "source": [
    "def get_link_tags(wd):\n",
    "\n",
    "    print('Getting link tags...')\n",
    "    wd.get(\"https://www.google.com\")\n",
    "    search = wd.find_element_by_name('q')\n",
    "    search.send_keys(beer + \" untappd photos\")\n",
    "    search.send_keys(Keys.RETURN)\n",
    "    link_tags = wd.find_elements_by_tag_name('a')\n",
    "\n",
    "    return link_tags\n",
    "\n",
    "\n",
    "def get_link_untappd(link_tags):\n",
    "\n",
    "    print('Getting link untappd...')\n",
    "    hrefs = []\n",
    "\n",
    "    for i in range(len(link_tags[0:80])):\n",
    "        if link_tags[i].get_attribute('href'):\n",
    "            if 'untappd' in link_tags[i].get_attribute('href'):\n",
    "                if 'google' not in link_tags[i].get_attribute('href'):\n",
    "                    hrefs.append(link_tags[i].get_attribute('href'))\n",
    "\n",
    "    return hrefs[0]\n",
    "\n",
    "\n",
    "def get_pictures(link_untappd):\n",
    "\n",
    "    print('Getting pictures...')\n",
    "    wd.find_element_by_xpath('//a[@href=\"'+link_untappd+'\"]').click()\n",
    "    #     wd.set_window_size(1800, 1200)  # TO DO: important to define this well!\n",
    "    webdriver.ActionChains(wd).send_keys(Keys.PAGE_DOWN).perform()\n",
    "    time.sleep(1)\n",
    "    pictures = wd.find_elements_by_css_selector('div.photo-inner')\n",
    "\n",
    "    return pictures\n",
    "\n",
    "\n",
    "def save_pictures(pictures):\n",
    "\n",
    "    print('Saving pictures...')\n",
    "    for i in range(len(pictures)):\n",
    "        pictures[i].click()\n",
    "        time.sleep(1)\n",
    "        name_picture = \"{}_{}_raw.png\".format(beer, i)\n",
    "        new_name_picture = name_picture.split(\"_raw.\")[0] + '.png'\n",
    "        if not new_name_picture in os.listdir():\n",
    "            wd.save_screenshot(name_picture)\n",
    "            im = Image.open(name_picture)\n",
    "            im_new = im.crop((128, 131, 765, 770))\n",
    "            im_new.save(new_name_picture)\n",
    "            os.remove(name_picture)\n",
    "        else:\n",
    "            print('Image already saved!')\n",
    "        webdriver.ActionChains(wd).send_keys(Keys.ESCAPE).perform()"
   ]
  },
  {
   "cell_type": "code",
   "execution_count": 16,
   "metadata": {
    "ExecuteTime": {
     "end_time": "2020-02-21T13:18:26.921782Z",
     "start_time": "2020-02-21T13:18:26.911953Z"
    }
   },
   "outputs": [
    {
     "name": "stdout",
     "output_type": "stream",
     "text": [
      "Folder images already created\n"
     ]
    }
   ],
   "source": [
    "DATA_FOLDER = \"images\"\n",
    "data_path = os.path.join(DATA_FOLDER) + \"/\"\n",
    "\n",
    "if not DATA_FOLDER in os.listdir():\n",
    "    os.mkdir(DATA_FOLDER)\n",
    "else:\n",
    "    print('Folder {} already created'.format(DATA_FOLDER))"
   ]
  },
  {
   "cell_type": "code",
   "execution_count": 17,
   "metadata": {
    "ExecuteTime": {
     "end_time": "2020-02-21T13:19:09.512893Z",
     "start_time": "2020-02-21T13:18:29.249500Z"
    }
   },
   "outputs": [
    {
     "data": {
      "application/vnd.jupyter.widget-view+json": {
       "model_id": "75036a9cb3be47b0b7ea97cb0290b96e",
       "version_major": 2,
       "version_minor": 0
      },
      "text/plain": [
       "HBox(children=(IntProgress(value=0, max=7), HTML(value='')))"
      ]
     },
     "metadata": {},
     "output_type": "display_data"
    },
    {
     "name": "stdout",
     "output_type": "stream",
     "text": [
      "\n",
      " Beer: arriaca ipa\n",
      "Beer arriaca ipa already saved!\n",
      "\n",
      " Beer: mad brewing camarillo\n",
      "Beer mad brewing camarillo already saved!\n",
      "\n",
      " Beer: attik brewing ace vendetta\n",
      "Beer attik brewing ace vendetta already saved!\n",
      "\n",
      " Beer: caleya ayalga\n",
      "Beer caleya ayalga already saved!\n",
      "\n",
      " Beer: garage beer co virtue signal\n",
      "Beer garage beer co virtue signal already saved!\n",
      "\n",
      " Beer: fort local beer mosaic apa\n",
      "Beer fort local beer mosaic apa already saved!\n",
      "\n",
      " Beer: jakobsland we exist\n",
      "Getting link tags...\n",
      "Getting link untappd...\n",
      "Getting pictures...\n",
      "Saving pictures...\n",
      "\n",
      "DONE!\n",
      "Total time of execution : 40.25680508100777\n"
     ]
    }
   ],
   "source": [
    "os.chdir(r\"images\")\n",
    "\n",
    "starttime = timeit.default_timer()\n",
    "\n",
    "for beer in tqdm_notebook(beers):\n",
    "    print('\\n', 'Beer:', beer)\n",
    "    try:\n",
    "        if beer not in beers_saved:\n",
    "            wd = webdriver.Chrome(executable_path=DRIVER_PATH)\n",
    "            link_tags = get_link_tags(wd)\n",
    "            link_untappd = get_link_untappd(link_tags)\n",
    "            pictures = get_pictures(link_untappd)\n",
    "            save_pictures(pictures)\n",
    "            beers_saved.append(beer)\n",
    "            wd.quit()\n",
    "        else:\n",
    "            print('Beer {} already saved!'.format(beer))\n",
    "    except:\n",
    "        pass\n",
    "\n",
    "print(\"DONE!\")\n",
    "print(\"Total time of execution :\", timeit.default_timer() - starttime)\n",
    "\n",
    "os.chdir(r\"..\")"
   ]
  },
  {
   "cell_type": "code",
   "execution_count": 279,
   "metadata": {
    "ExecuteTime": {
     "end_time": "2020-02-21T13:11:43.131151Z",
     "start_time": "2020-02-21T13:11:43.119082Z"
    }
   },
   "outputs": [],
   "source": [
    "with open(\"beers_images_saved.txt\", \"wb\") as fp:\n",
    "    pickle.dump(beers_saved, fp)"
   ]
  },
  {
   "cell_type": "code",
   "execution_count": 10,
   "metadata": {
    "ExecuteTime": {
     "end_time": "2020-02-21T13:18:03.544324Z",
     "start_time": "2020-02-21T13:18:03.538484Z"
    }
   },
   "outputs": [],
   "source": [
    "os.chdir(r\"..\")"
   ]
  },
  {
   "cell_type": "code",
   "execution_count": null,
   "metadata": {},
   "outputs": [],
   "source": []
  },
  {
   "cell_type": "code",
   "execution_count": null,
   "metadata": {},
   "outputs": [],
   "source": []
  },
  {
   "cell_type": "code",
   "execution_count": null,
   "metadata": {},
   "outputs": [],
   "source": []
  },
  {
   "cell_type": "code",
   "execution_count": null,
   "metadata": {},
   "outputs": [],
   "source": []
  },
  {
   "cell_type": "code",
   "execution_count": null,
   "metadata": {},
   "outputs": [],
   "source": []
  },
  {
   "cell_type": "code",
   "execution_count": null,
   "metadata": {},
   "outputs": [],
   "source": []
  },
  {
   "cell_type": "code",
   "execution_count": null,
   "metadata": {},
   "outputs": [],
   "source": []
  },
  {
   "cell_type": "code",
   "execution_count": null,
   "metadata": {},
   "outputs": [],
   "source": []
  },
  {
   "cell_type": "code",
   "execution_count": null,
   "metadata": {},
   "outputs": [],
   "source": []
  },
  {
   "cell_type": "markdown",
   "metadata": {},
   "source": [
    "# Selenium"
   ]
  },
  {
   "cell_type": "code",
   "execution_count": 2,
   "metadata": {
    "ExecuteTime": {
     "end_time": "2020-02-21T08:17:06.225906Z",
     "start_time": "2020-02-21T08:17:06.219769Z"
    }
   },
   "outputs": [
    {
     "name": "stdout",
     "output_type": "stream",
     "text": [
      "Folder images already created\n"
     ]
    }
   ],
   "source": [
    "DATA_FOLDER = \"images\"\n",
    "data_path = os.path.join(DATA_FOLDER) + \"/\"\n",
    "\n",
    "if not DATA_FOLDER in os.listdir():\n",
    "    os.mkdir(DATA_FOLDER)\n",
    "else:\n",
    "    print('Folder {} already created'.format(DATA_FOLDER))"
   ]
  },
  {
   "cell_type": "code",
   "execution_count": 153,
   "metadata": {
    "ExecuteTime": {
     "end_time": "2020-02-21T11:20:34.972845Z",
     "start_time": "2020-02-21T11:20:34.969307Z"
    }
   },
   "outputs": [],
   "source": [
    "DRIVER_PATH = '/usr/local/bin/chromedriver'"
   ]
  },
  {
   "cell_type": "code",
   "execution_count": 154,
   "metadata": {
    "ExecuteTime": {
     "end_time": "2020-02-21T11:20:40.578608Z",
     "start_time": "2020-02-21T11:20:39.105782Z"
    }
   },
   "outputs": [],
   "source": [
    "wd = webdriver.Chrome(executable_path=DRIVER_PATH)"
   ]
  },
  {
   "cell_type": "code",
   "execution_count": 112,
   "metadata": {
    "ExecuteTime": {
     "end_time": "2020-02-21T10:48:07.262135Z",
     "start_time": "2020-02-21T10:48:05.575571Z"
    }
   },
   "outputs": [],
   "source": [
    "beer = 'arriaca ipa'\n",
    "wd.get(\"https://www.google.com\")\n",
    "search = wd.find_element_by_name('q')\n",
    "search.send_keys(beer + \"untappd photos\")\n",
    "search.send_keys(Keys.RETURN)\n",
    "link_tags = wd.find_elements_by_tag_name('a')    "
   ]
  },
  {
   "cell_type": "code",
   "execution_count": 114,
   "metadata": {
    "ExecuteTime": {
     "end_time": "2020-02-21T10:49:37.124740Z",
     "start_time": "2020-02-21T10:49:35.338188Z"
    },
    "scrolled": false
   },
   "outputs": [],
   "source": [
    "hrefs = []\n",
    "\n",
    "for i in range(len(link_tags[0:80])):\n",
    "    if link_tags[i].get_attribute('href'):\n",
    "        if 'untappd' in link_tags[i].get_attribute('href'):\n",
    "            if 'google' not in link_tags[i].get_attribute('href'):\n",
    "                hrefs.append(link_tags[i].get_attribute('href'))"
   ]
  },
  {
   "cell_type": "code",
   "execution_count": 122,
   "metadata": {
    "ExecuteTime": {
     "end_time": "2020-02-21T10:53:08.144489Z",
     "start_time": "2020-02-21T10:53:05.852536Z"
    }
   },
   "outputs": [],
   "source": [
    "wd.find_element_by_xpath('//a[@href=\"'+hrefs[0]+'\"]').click()"
   ]
  },
  {
   "cell_type": "code",
   "execution_count": 118,
   "metadata": {
    "ExecuteTime": {
     "end_time": "2020-02-21T10:50:53.588606Z",
     "start_time": "2020-02-21T10:50:53.575419Z"
    }
   },
   "outputs": [
    {
     "ename": "AttributeError",
     "evalue": "'WebDriver' object has no attribute 'clik'",
     "output_type": "error",
     "traceback": [
      "\u001b[0;31m---------------------------------------------------------------------------\u001b[0m",
      "\u001b[0;31mAttributeError\u001b[0m                            Traceback (most recent call last)",
      "\u001b[0;32m<ipython-input-118-043a0a37d8ff>\u001b[0m in \u001b[0;36m<module>\u001b[0;34m\u001b[0m\n\u001b[0;32m----> 1\u001b[0;31m \u001b[0mwd\u001b[0m\u001b[0;34m.\u001b[0m\u001b[0mclik\u001b[0m\u001b[0;34m(\u001b[0m\u001b[0mhrefs\u001b[0m\u001b[0;34m[\u001b[0m\u001b[0;36m0\u001b[0m\u001b[0;34m]\u001b[0m\u001b[0;34m)\u001b[0m\u001b[0;34m\u001b[0m\u001b[0;34m\u001b[0m\u001b[0m\n\u001b[0m",
      "\u001b[0;31mAttributeError\u001b[0m: 'WebDriver' object has no attribute 'clik'"
     ]
    }
   ],
   "source": [
    "wd.clik(hrefs[0])"
   ]
  },
  {
   "cell_type": "markdown",
   "metadata": {},
   "source": [
    "## Untappd"
   ]
  },
  {
   "cell_type": "code",
   "execution_count": 144,
   "metadata": {
    "ExecuteTime": {
     "end_time": "2020-02-21T11:14:24.777159Z",
     "start_time": "2020-02-21T11:14:24.771091Z"
    }
   },
   "outputs": [],
   "source": [
    "wd.quit()"
   ]
  },
  {
   "cell_type": "code",
   "execution_count": 155,
   "metadata": {
    "ExecuteTime": {
     "end_time": "2020-02-21T11:20:52.689466Z",
     "start_time": "2020-02-21T11:20:50.670293Z"
    }
   },
   "outputs": [],
   "source": [
    "# query = \"Arriaca IPA\"\n",
    "# query = \"Bamboo neipa\"\n",
    "query = \"Ipanosaurus\"\n",
    "\n",
    "# search_url = \"https://www.google.com/search?safe=off&site=&tbm=isch&source=hp&q={q}&oq={q}&gs_l=img\"\n",
    "search_url = \"https://untappd.com/b/la-grua-bamboo/3450237/photos\"\n",
    "\n",
    "# wd.get(search_url.format(q=query))\n",
    "wd.get(search_url)"
   ]
  },
  {
   "cell_type": "code",
   "execution_count": 149,
   "metadata": {
    "ExecuteTime": {
     "end_time": "2020-02-21T11:15:08.071296Z",
     "start_time": "2020-02-21T11:15:07.946550Z"
    }
   },
   "outputs": [],
   "source": [
    "wd.set_window_size(1800, 1200)      #the trick"
   ]
  },
  {
   "cell_type": "code",
   "execution_count": 174,
   "metadata": {
    "ExecuteTime": {
     "end_time": "2020-02-20T11:21:13.907168Z",
     "start_time": "2020-02-20T11:21:13.901977Z"
    }
   },
   "outputs": [],
   "source": [
    "# last_height = wd.execute_script(\"return document.body.scrollHeight\")"
   ]
  },
  {
   "cell_type": "code",
   "execution_count": 150,
   "metadata": {
    "ExecuteTime": {
     "end_time": "2020-02-21T11:15:13.851815Z",
     "start_time": "2020-02-21T11:15:13.843847Z"
    }
   },
   "outputs": [],
   "source": [
    "wd.execute_script(\"window.scrollTo(0, document.body.scrollHeight);\")"
   ]
  },
  {
   "cell_type": "code",
   "execution_count": 156,
   "metadata": {
    "ExecuteTime": {
     "end_time": "2020-02-21T11:21:01.388824Z",
     "start_time": "2020-02-21T11:21:01.375247Z"
    }
   },
   "outputs": [],
   "source": [
    "# scroll.sendKeys(Keys.PAGE_DOWN);\n",
    "webdriver.ActionChains(wd).send_keys(Keys.PAGE_DOWN).perform()    "
   ]
  },
  {
   "cell_type": "code",
   "execution_count": 553,
   "metadata": {
    "ExecuteTime": {
     "end_time": "2020-02-20T19:22:41.875874Z",
     "start_time": "2020-02-20T19:22:41.872209Z"
    }
   },
   "outputs": [],
   "source": [
    "# link_tags = wd.find_elements_by_tag_name('a')"
   ]
  },
  {
   "cell_type": "code",
   "execution_count": 554,
   "metadata": {
    "ExecuteTime": {
     "end_time": "2020-02-20T19:22:44.510706Z",
     "start_time": "2020-02-20T19:22:44.507685Z"
    }
   },
   "outputs": [],
   "source": [
    "# len(link_tags)"
   ]
  },
  {
   "cell_type": "code",
   "execution_count": 8,
   "metadata": {
    "ExecuteTime": {
     "end_time": "2020-02-21T08:18:42.333098Z",
     "start_time": "2020-02-21T08:18:42.309726Z"
    }
   },
   "outputs": [],
   "source": [
    "# Obtenemos las diferentes imágenes\n",
    "\n",
    "pictures = wd.find_elements_by_css_selector('div.photo-inner')"
   ]
  },
  {
   "cell_type": "code",
   "execution_count": 119,
   "metadata": {
    "ExecuteTime": {
     "end_time": "2020-02-21T10:51:50.554880Z",
     "start_time": "2020-02-21T10:51:50.549010Z"
    }
   },
   "outputs": [
    {
     "data": {
      "text/plain": [
       "15"
      ]
     },
     "execution_count": 119,
     "metadata": {},
     "output_type": "execute_result"
    }
   ],
   "source": [
    "len(pictures)"
   ]
  },
  {
   "cell_type": "code",
   "execution_count": 120,
   "metadata": {
    "ExecuteTime": {
     "end_time": "2020-02-21T10:51:57.231457Z",
     "start_time": "2020-02-21T10:51:57.226581Z"
    }
   },
   "outputs": [
    {
     "data": {
      "text/plain": [
       "<selenium.webdriver.remote.webelement.WebElement (session=\"e1b98359f7f8307cf87a9722023f4b3f\", element=\"6acc45ef-9ab4-43d7-915c-a7c51f829e41\")>"
      ]
     },
     "execution_count": 120,
     "metadata": {},
     "output_type": "execute_result"
    }
   ],
   "source": [
    "pictures[0]"
   ]
  },
  {
   "cell_type": "code",
   "execution_count": 11,
   "metadata": {
    "ExecuteTime": {
     "end_time": "2020-02-21T08:20:20.022852Z",
     "start_time": "2020-02-21T08:20:19.918310Z"
    }
   },
   "outputs": [],
   "source": [
    "# Esto hace click en cada imagen\n",
    "\n",
    "pictures[0].click()"
   ]
  },
  {
   "cell_type": "code",
   "execution_count": 12,
   "metadata": {
    "ExecuteTime": {
     "end_time": "2020-02-21T08:20:28.940451Z",
     "start_time": "2020-02-21T08:20:28.871777Z"
    }
   },
   "outputs": [],
   "source": [
    "# Esto acciona escape\n",
    "\n",
    "webdriver.ActionChains(wd).send_keys(Keys.ESCAPE).perform()"
   ]
  },
  {
   "cell_type": "code",
   "execution_count": 10,
   "metadata": {
    "ExecuteTime": {
     "end_time": "2020-02-21T08:19:35.711336Z",
     "start_time": "2020-02-21T08:19:01.469383Z"
    }
   },
   "outputs": [],
   "source": [
    "for i in range(len(pictures)):\n",
    "    pictures[i].click()    \n",
    "    time.sleep(1)\n",
    "    wd.save_screenshot(\"screenshot2_{}.png\".format(i))    \n",
    "    webdriver.ActionChains(wd).send_keys(Keys.ESCAPE).perform()    "
   ]
  },
  {
   "cell_type": "code",
   "execution_count": 522,
   "metadata": {
    "ExecuteTime": {
     "end_time": "2020-02-20T19:11:35.709093Z",
     "start_time": "2020-02-20T19:11:35.678783Z"
    }
   },
   "outputs": [],
   "source": [
    "# Esto va a la página anterior\n",
    "\n",
    "wd.execute_script(\"window.history.go(-1)\")"
   ]
  },
  {
   "cell_type": "code",
   "execution_count": 564,
   "metadata": {
    "ExecuteTime": {
     "end_time": "2020-02-21T07:16:57.046225Z",
     "start_time": "2020-02-21T07:16:57.043502Z"
    }
   },
   "outputs": [],
   "source": [
    "# for i in range(len(pictures)):\n",
    "#     print(pictures[i].get_attribute('class'))"
   ]
  },
  {
   "cell_type": "code",
   "execution_count": 414,
   "metadata": {
    "ExecuteTime": {
     "end_time": "2020-02-20T15:15:11.156717Z",
     "start_time": "2020-02-20T15:15:11.152805Z"
    }
   },
   "outputs": [],
   "source": [
    "# hrefs = []\n",
    "\n",
    "# for i in range(len(link_tags[0:80])):\n",
    "#     if 'VFACy' in link_tags[i].get_attribute('class'):\n",
    "# #         print(link_tags[i].text, ' - ' , link_tags[i].get_attribute('href'), ' - ' , link_tags[i].get_attribute('class'))\n",
    "#         hrefs.append(link_tags[i].get_attribute('href'))"
   ]
  },
  {
   "cell_type": "markdown",
   "metadata": {},
   "source": [
    "## Test Google Images"
   ]
  },
  {
   "cell_type": "markdown",
   "metadata": {},
   "source": [
    "### Functions"
   ]
  },
  {
   "cell_type": "code",
   "execution_count": 13,
   "metadata": {
    "ExecuteTime": {
     "end_time": "2020-02-21T08:21:22.176864Z",
     "start_time": "2020-02-21T08:21:22.167728Z"
    }
   },
   "outputs": [],
   "source": [
    "def get_hrefs(beer):\n",
    "    print('Getting hrefs of {}...'.format(beer))\n",
    "    \n",
    "    DRIVER_PATH = '/usr/local/bin/chromedriver'        \n",
    "    wd = webdriver.Chrome(executable_path=DRIVER_PATH)  \n",
    "    query = beer\n",
    "    search_url = \"https://www.google.com/search?safe=off&site=&tbm=isch&source=hp&q={q}&oq={q}&gs_l=img\"\n",
    "    wd.get(search_url.format(q=query))    \n",
    "    \n",
    "    wd.execute_script(\"window.scrollTo(0, document.body.scrollHeight);\")\n",
    "    link_tags = wd.find_elements_by_tag_name('a')    \n",
    "    \n",
    "    hrefs = []\n",
    "\n",
    "    for i in range(len(link_tags[0:80])):\n",
    "        if 'VFACy' in link_tags[i].get_attribute('class'):\n",
    "            hrefs.append(link_tags[i].get_attribute('href'))\n",
    "            \n",
    "    wd.quit()\n",
    "    \n",
    "    return hrefs    "
   ]
  },
  {
   "cell_type": "code",
   "execution_count": 14,
   "metadata": {
    "ExecuteTime": {
     "end_time": "2020-02-21T08:21:23.505088Z",
     "start_time": "2020-02-21T08:21:23.496257Z"
    }
   },
   "outputs": [],
   "source": [
    "def download_images(soup, beer):\n",
    "        \n",
    "    key_lower = beer.split()[0].lower()\n",
    "    key_capitalized = beer.split()[0].capitalize()\n",
    "    key_upper = beer.split()[0].upper()   \n",
    "\n",
    "    for raw_img in soup.find_all('img'):\n",
    "        link = raw_img.get('src')\n",
    "        if link:\n",
    "            if key_lower in link:\n",
    "                img_name = link.split(\"/\")[-1]\n",
    "                if img_name not in os.listdir():\n",
    "                    print('Saving image: {}'.format(img_name))\n",
    "                    os.system(\"wget \" + link)\n",
    "                else:\n",
    "                    print('Image already saved!')\n",
    "            elif key_capitalized in link:\n",
    "                img_name = link.split(\"/\")[-1]\n",
    "                if img_name not in os.listdir():\n",
    "                    print('Saving image: {}'.format(img_name))\n",
    "                    os.system(\"wget \" + link)\n",
    "                else:\n",
    "                    print('Image already saved!')\n",
    "            elif key_upper in link:\n",
    "                img_name = link.split(\"/\")[-1]\n",
    "                if img_name not in os.listdir():\n",
    "                    print('Saving image: {}'.format(img_name))\n",
    "                    os.system(\"wget \" + link)\n",
    "                else:\n",
    "                    print('Image already saved!')\n",
    "        else:\n",
    "            print(\"Found invalid href: {}\".format(link))"
   ]
  },
  {
   "cell_type": "code",
   "execution_count": 15,
   "metadata": {
    "ExecuteTime": {
     "end_time": "2020-02-21T08:21:24.834849Z",
     "start_time": "2020-02-21T08:21:24.829069Z"
    }
   },
   "outputs": [],
   "source": [
    "def get_images(beer):\n",
    "\n",
    "    os.chdir(r\"images\") \n",
    "    hrefs = get_hrefs(beer)\n",
    "    print('Getting images...')\n",
    "    \n",
    "    count = 0\n",
    "    try:\n",
    "        for href in hrefs:    \n",
    "            page = requests.get(href).text\n",
    "            soup = BeautifulSoup(page, 'html.parser')    \n",
    "            count += 1\n",
    "            if count<150:\n",
    "                download_images(soup, beer)\n",
    "            else:\n",
    "                print('Sleeping a bit...')\n",
    "                time.sleep(5)\n",
    "                count = 0\n",
    "    except:\n",
    "        pass\n",
    "\n",
    "    os.chdir(r\"..\")"
   ]
  },
  {
   "cell_type": "code",
   "execution_count": 19,
   "metadata": {
    "ExecuteTime": {
     "end_time": "2020-02-21T08:25:53.317855Z",
     "start_time": "2020-02-21T08:25:53.313188Z"
    }
   },
   "outputs": [],
   "source": [
    "# cervezas = ['Bamboo neipa', 'Arriaca IPA', 'Malandar Silk',\n",
    "#             'tro ales single hop mosaic', 'caleya lloba', 'wylie brewery ukiyo']\n",
    "\n",
    "cervezas = ['Bamboo neipa']"
   ]
  },
  {
   "cell_type": "code",
   "execution_count": 20,
   "metadata": {
    "ExecuteTime": {
     "end_time": "2020-02-21T08:26:26.982881Z",
     "start_time": "2020-02-21T08:25:54.349816Z"
    }
   },
   "outputs": [
    {
     "data": {
      "application/vnd.jupyter.widget-view+json": {
       "model_id": "01d78e4c7c824c1e9e471b3dcc2204c7",
       "version_major": 2,
       "version_minor": 0
      },
      "text/plain": [
       "HBox(children=(IntProgress(value=0, max=1), HTML(value='')))"
      ]
     },
     "metadata": {},
     "output_type": "display_data"
    },
    {
     "name": "stdout",
     "output_type": "stream",
     "text": [
      "\n",
      " Beer: Bamboo neipa\n",
      "Getting hrefs of Bamboo neipa...\n",
      "Getting images...\n",
      "Saving image: Bamboo_Can.jpg?resize=2000%2C1200&ssl=1\n",
      "Saving image: Bamboo_Can.jpg?fit=350%2C508&ssl=1\n",
      "Saving image: La-Grúa-Bamboo.jpg\n",
      "Saving image: La-Grúa-Bamboo-300x225.jpg\n",
      "Saving image: la-grua-bamboo_15710391749841_t.jpg\n",
      "Image already saved!\n",
      "Saving image: la-grua-bamboo-15695605797988-g.jpg\n",
      "Saving image: La%2BGrua%2B-%2BBamboo.JPG\n",
      "Found invalid href: None\n",
      "Found invalid href: None\n",
      "Found invalid href: None\n",
      "Found invalid href: None\n",
      "Found invalid href: None\n",
      "Found invalid href: None\n",
      "Found invalid href: None\n",
      "Found invalid href: None\n",
      "Found invalid href: None\n",
      "Found invalid href: None\n",
      "Found invalid href: None\n",
      "Found invalid href: None\n",
      "Found invalid href: None\n",
      "Found invalid href: None\n",
      "Found invalid href: None\n",
      "Found invalid href: None\n",
      "Found invalid href: None\n",
      "Image already saved!\n",
      "Image already saved!\n",
      "Saving image: Bamboo_Can.jpg?resize=2000%2C1200&ssl=1\n",
      "Saving image: Bamboo_Can.jpg?fit=350%2C508&ssl=1\n",
      "Found invalid href: None\n",
      "Found invalid href: None\n",
      "Found invalid href: None\n",
      "Found invalid href: None\n",
      "Found invalid href: None\n",
      "Found invalid href: None\n",
      "Found invalid href: None\n",
      "Found invalid href: None\n",
      "Found invalid href: None\n",
      "Found invalid href: None\n",
      "Found invalid href: None\n",
      "Found invalid href: None\n",
      "Found invalid href: None\n",
      "Saving image: Bamboo_Can.jpg?resize=2000%2C1200&ssl=1\n",
      "Saving image: Bamboo_Can.jpg?fit=350%2C508&ssl=1\n",
      "Saving image: Cerveza-La-Grúa-Bamboo.jpg\n",
      "\n"
     ]
    }
   ],
   "source": [
    "# hacer esto con nombres de cervezas del dataset\n",
    "\n",
    "# for cerveza in tqdm_notebook(cervecerias_matching[5:10]):  \n",
    "for cerveza in tqdm_notebook(cervezas):    \n",
    "\n",
    "    beer = cerveza.replace(\"/cervezas/\", \"\")\n",
    "    print('\\n', 'Beer:', beer)\n",
    "    get_images(beer)"
   ]
  },
  {
   "cell_type": "markdown",
   "metadata": {},
   "source": [
    "## Prueba fallida "
   ]
  },
  {
   "cell_type": "code",
   "execution_count": 68,
   "metadata": {
    "ExecuteTime": {
     "end_time": "2020-02-20T10:12:57.192683Z",
     "start_time": "2020-02-20T10:12:57.186015Z"
    }
   },
   "outputs": [],
   "source": [
    "# hrefs = []\n",
    "\n",
    "# # Extract the urls of only the images from each of the tag WebElements\n",
    "# for tag in link_tags:\n",
    "#     if \"sm-tile-content\" not in tag.get_attribute('class'):\n",
    "#         continue\n",
    "#     hrefs.append(tag.get_attribute('href'))"
   ]
  },
  {
   "cell_type": "code",
   "execution_count": 69,
   "metadata": {
    "ExecuteTime": {
     "end_time": "2020-02-20T10:13:07.781155Z",
     "start_time": "2020-02-20T10:13:06.867036Z"
    }
   },
   "outputs": [],
   "source": [
    "thumbnail_results = wd.find_elements_by_css_selector(\"*\")"
   ]
  },
  {
   "cell_type": "code",
   "execution_count": 75,
   "metadata": {
    "ExecuteTime": {
     "end_time": "2020-02-20T10:19:51.686530Z",
     "start_time": "2020-02-20T10:19:51.642903Z"
    }
   },
   "outputs": [
    {
     "data": {
      "text/plain": [
       "[<selenium.webdriver.remote.webelement.WebElement (session=\"e7a21488e978c1a31d7817e992b13561\", element=\"078cebe1-5eb5-4e1f-a65b-7630c0c12067\")>,\n",
       " <selenium.webdriver.remote.webelement.WebElement (session=\"e7a21488e978c1a31d7817e992b13561\", element=\"7f015c92-2cf9-4f2a-8fe9-1a5aae1e6946\")>,\n",
       " <selenium.webdriver.remote.webelement.WebElement (session=\"e7a21488e978c1a31d7817e992b13561\", element=\"ff09cb63-fbc4-4701-ad95-1f06274625b6\")>,\n",
       " <selenium.webdriver.remote.webelement.WebElement (session=\"e7a21488e978c1a31d7817e992b13561\", element=\"9752ff29-6a20-4bf6-b344-b3f4a8e1e843\")>,\n",
       " <selenium.webdriver.remote.webelement.WebElement (session=\"e7a21488e978c1a31d7817e992b13561\", element=\"3441e03d-67b9-48ef-86f3-b9a77a2ebb4a\")>,\n",
       " <selenium.webdriver.remote.webelement.WebElement (session=\"e7a21488e978c1a31d7817e992b13561\", element=\"698904c6-8b65-4b20-b2fd-527a62583988\")>,\n",
       " <selenium.webdriver.remote.webelement.WebElement (session=\"e7a21488e978c1a31d7817e992b13561\", element=\"876ff2a5-7c70-4675-9003-7e17a215ad6f\")>,\n",
       " <selenium.webdriver.remote.webelement.WebElement (session=\"e7a21488e978c1a31d7817e992b13561\", element=\"72cc9dd2-cce0-4dc6-9588-d115a1b6eba7\")>,\n",
       " <selenium.webdriver.remote.webelement.WebElement (session=\"e7a21488e978c1a31d7817e992b13561\", element=\"90e4e8f4-f202-4a30-ad43-9930cfb58294\")>,\n",
       " <selenium.webdriver.remote.webelement.WebElement (session=\"e7a21488e978c1a31d7817e992b13561\", element=\"8be546fa-7b59-45c1-aa5b-a4a8a6abc602\")>,\n",
       " <selenium.webdriver.remote.webelement.WebElement (session=\"e7a21488e978c1a31d7817e992b13561\", element=\"9709e4b6-c2b2-4030-ae94-ebcec3b1faa7\")>,\n",
       " <selenium.webdriver.remote.webelement.WebElement (session=\"e7a21488e978c1a31d7817e992b13561\", element=\"e1d13b65-df88-49ac-a8aa-567e0126e465\")>,\n",
       " <selenium.webdriver.remote.webelement.WebElement (session=\"e7a21488e978c1a31d7817e992b13561\", element=\"e8c79a51-8d3a-43f8-b8ca-a4ab876e9699\")>,\n",
       " <selenium.webdriver.remote.webelement.WebElement (session=\"e7a21488e978c1a31d7817e992b13561\", element=\"18e30697-ad6f-44a2-a445-4ebfc8247222\")>,\n",
       " <selenium.webdriver.remote.webelement.WebElement (session=\"e7a21488e978c1a31d7817e992b13561\", element=\"b5382861-e8ce-4f46-b01b-33e2dc33c52c\")>,\n",
       " <selenium.webdriver.remote.webelement.WebElement (session=\"e7a21488e978c1a31d7817e992b13561\", element=\"574aa0da-0dda-4dc8-a6fc-ff48b512f0c4\")>,\n",
       " <selenium.webdriver.remote.webelement.WebElement (session=\"e7a21488e978c1a31d7817e992b13561\", element=\"155d1f6f-5afc-40ae-99a6-22f41c494288\")>,\n",
       " <selenium.webdriver.remote.webelement.WebElement (session=\"e7a21488e978c1a31d7817e992b13561\", element=\"c6ea31fc-296c-4359-93a0-f898426510a4\")>,\n",
       " <selenium.webdriver.remote.webelement.WebElement (session=\"e7a21488e978c1a31d7817e992b13561\", element=\"44164835-c277-402e-982e-754525413bd1\")>,\n",
       " <selenium.webdriver.remote.webelement.WebElement (session=\"e7a21488e978c1a31d7817e992b13561\", element=\"92307631-4083-47c7-bc19-d16d2fbb944f\")>,\n",
       " <selenium.webdriver.remote.webelement.WebElement (session=\"e7a21488e978c1a31d7817e992b13561\", element=\"5c47924f-764c-4792-bb54-6cfae06ef9e9\")>,\n",
       " <selenium.webdriver.remote.webelement.WebElement (session=\"e7a21488e978c1a31d7817e992b13561\", element=\"12e50ebb-1420-4c1d-b61e-ebb669553538\")>,\n",
       " <selenium.webdriver.remote.webelement.WebElement (session=\"e7a21488e978c1a31d7817e992b13561\", element=\"04cc848e-8020-4d95-84de-ed0604d07c3c\")>,\n",
       " <selenium.webdriver.remote.webelement.WebElement (session=\"e7a21488e978c1a31d7817e992b13561\", element=\"3c4862bb-13f2-4551-8e0b-2b9bf319d330\")>,\n",
       " <selenium.webdriver.remote.webelement.WebElement (session=\"e7a21488e978c1a31d7817e992b13561\", element=\"b0ac2411-b9bf-42bb-8c30-58a8092c4304\")>,\n",
       " <selenium.webdriver.remote.webelement.WebElement (session=\"e7a21488e978c1a31d7817e992b13561\", element=\"8a582dbd-66ac-407b-bb55-9f9a121a7365\")>,\n",
       " <selenium.webdriver.remote.webelement.WebElement (session=\"e7a21488e978c1a31d7817e992b13561\", element=\"74986211-2953-4666-b60a-a7e9344b14d5\")>,\n",
       " <selenium.webdriver.remote.webelement.WebElement (session=\"e7a21488e978c1a31d7817e992b13561\", element=\"7c054e0c-a8e1-49e9-b7a3-6e1a95df4660\")>,\n",
       " <selenium.webdriver.remote.webelement.WebElement (session=\"e7a21488e978c1a31d7817e992b13561\", element=\"8f5c36ea-57f5-4a44-9737-7e0a3ddcbb20\")>,\n",
       " <selenium.webdriver.remote.webelement.WebElement (session=\"e7a21488e978c1a31d7817e992b13561\", element=\"156a0095-19e7-4111-ad99-825be390c300\")>,\n",
       " <selenium.webdriver.remote.webelement.WebElement (session=\"e7a21488e978c1a31d7817e992b13561\", element=\"455e1f1d-2834-482d-9c50-6f095c5faddb\")>,\n",
       " <selenium.webdriver.remote.webelement.WebElement (session=\"e7a21488e978c1a31d7817e992b13561\", element=\"b77f420e-17f1-440e-b46c-7c2b4c25be5c\")>,\n",
       " <selenium.webdriver.remote.webelement.WebElement (session=\"e7a21488e978c1a31d7817e992b13561\", element=\"2f567c31-65a9-4363-b876-122fcf386b94\")>,\n",
       " <selenium.webdriver.remote.webelement.WebElement (session=\"e7a21488e978c1a31d7817e992b13561\", element=\"5f6fcca9-1a77-4a91-bb4b-f7d835ff4689\")>,\n",
       " <selenium.webdriver.remote.webelement.WebElement (session=\"e7a21488e978c1a31d7817e992b13561\", element=\"36da1cf5-5884-4d8c-abba-e57fe649d895\")>,\n",
       " <selenium.webdriver.remote.webelement.WebElement (session=\"e7a21488e978c1a31d7817e992b13561\", element=\"de4f48f1-ac51-4f6d-bc3a-099d6e8bfb4d\")>,\n",
       " <selenium.webdriver.remote.webelement.WebElement (session=\"e7a21488e978c1a31d7817e992b13561\", element=\"dd1f3e13-911c-4f52-832c-ffd7d0fd45cb\")>,\n",
       " <selenium.webdriver.remote.webelement.WebElement (session=\"e7a21488e978c1a31d7817e992b13561\", element=\"a3ebbe9a-8746-4c87-8921-a839f730e64f\")>,\n",
       " <selenium.webdriver.remote.webelement.WebElement (session=\"e7a21488e978c1a31d7817e992b13561\", element=\"395e91cb-f5d1-4205-9442-b24ffc486162\")>,\n",
       " <selenium.webdriver.remote.webelement.WebElement (session=\"e7a21488e978c1a31d7817e992b13561\", element=\"d26035b9-ea88-4175-91f2-ec5d0c36fa07\")>,\n",
       " <selenium.webdriver.remote.webelement.WebElement (session=\"e7a21488e978c1a31d7817e992b13561\", element=\"f1e1d7a3-ad2a-4f49-8a4f-f48c53597e34\")>,\n",
       " <selenium.webdriver.remote.webelement.WebElement (session=\"e7a21488e978c1a31d7817e992b13561\", element=\"80a3704e-e225-447e-8b15-dadc6fbacfeb\")>,\n",
       " <selenium.webdriver.remote.webelement.WebElement (session=\"e7a21488e978c1a31d7817e992b13561\", element=\"17834761-3444-4ff2-8935-7750a98a07fa\")>,\n",
       " <selenium.webdriver.remote.webelement.WebElement (session=\"e7a21488e978c1a31d7817e992b13561\", element=\"d4573d2f-7fa4-44dc-a3c2-1e3179f7e826\")>,\n",
       " <selenium.webdriver.remote.webelement.WebElement (session=\"e7a21488e978c1a31d7817e992b13561\", element=\"1ca4c180-ba02-4fd4-a7a2-c157d1a0d7f1\")>,\n",
       " <selenium.webdriver.remote.webelement.WebElement (session=\"e7a21488e978c1a31d7817e992b13561\", element=\"b5b9cafc-59a1-467f-8c2d-8b84c510123a\")>,\n",
       " <selenium.webdriver.remote.webelement.WebElement (session=\"e7a21488e978c1a31d7817e992b13561\", element=\"7cfccc82-aa50-4ba5-9885-781e83a58622\")>,\n",
       " <selenium.webdriver.remote.webelement.WebElement (session=\"e7a21488e978c1a31d7817e992b13561\", element=\"61eaceae-fdb1-45ec-aa0a-cf37260906dc\")>,\n",
       " <selenium.webdriver.remote.webelement.WebElement (session=\"e7a21488e978c1a31d7817e992b13561\", element=\"57496075-bd52-40e5-b20e-2a29c3276316\")>,\n",
       " <selenium.webdriver.remote.webelement.WebElement (session=\"e7a21488e978c1a31d7817e992b13561\", element=\"1301acc1-6690-43e3-b543-84c32e91f233\")>,\n",
       " <selenium.webdriver.remote.webelement.WebElement (session=\"e7a21488e978c1a31d7817e992b13561\", element=\"8d323096-3533-4bb6-a3c3-df25aa89cf77\")>,\n",
       " <selenium.webdriver.remote.webelement.WebElement (session=\"e7a21488e978c1a31d7817e992b13561\", element=\"453da3e2-70d7-4298-9437-844ed2d0e7ac\")>,\n",
       " <selenium.webdriver.remote.webelement.WebElement (session=\"e7a21488e978c1a31d7817e992b13561\", element=\"849e0793-c7ae-438a-91d8-aa33bd00849e\")>,\n",
       " <selenium.webdriver.remote.webelement.WebElement (session=\"e7a21488e978c1a31d7817e992b13561\", element=\"f49eb460-6488-401a-9017-796988826b6d\")>,\n",
       " <selenium.webdriver.remote.webelement.WebElement (session=\"e7a21488e978c1a31d7817e992b13561\", element=\"2ea6d342-555f-406f-8cb4-dac40574289c\")>,\n",
       " <selenium.webdriver.remote.webelement.WebElement (session=\"e7a21488e978c1a31d7817e992b13561\", element=\"09dc5f80-67ae-44ad-9b16-9fa2236c1734\")>,\n",
       " <selenium.webdriver.remote.webelement.WebElement (session=\"e7a21488e978c1a31d7817e992b13561\", element=\"6d2e175c-c9bb-4828-9b33-d5685112bd97\")>,\n",
       " <selenium.webdriver.remote.webelement.WebElement (session=\"e7a21488e978c1a31d7817e992b13561\", element=\"20c5b8cb-78a2-4d95-b62c-9c278631c5c3\")>,\n",
       " <selenium.webdriver.remote.webelement.WebElement (session=\"e7a21488e978c1a31d7817e992b13561\", element=\"9f6eb3fd-11f4-4cd6-840c-6ea5479acb0a\")>,\n",
       " <selenium.webdriver.remote.webelement.WebElement (session=\"e7a21488e978c1a31d7817e992b13561\", element=\"3e07330d-aec1-4be7-a8cb-39aaec11178b\")>,\n",
       " <selenium.webdriver.remote.webelement.WebElement (session=\"e7a21488e978c1a31d7817e992b13561\", element=\"16b09757-ef61-4d29-82ae-4a2d5d3327f9\")>,\n",
       " <selenium.webdriver.remote.webelement.WebElement (session=\"e7a21488e978c1a31d7817e992b13561\", element=\"4b87698d-6359-4f52-84cc-77b97ade9bc6\")>,\n",
       " <selenium.webdriver.remote.webelement.WebElement (session=\"e7a21488e978c1a31d7817e992b13561\", element=\"afeb07bb-ef74-4a9a-90de-f7785672c667\")>,\n",
       " <selenium.webdriver.remote.webelement.WebElement (session=\"e7a21488e978c1a31d7817e992b13561\", element=\"ab03e22e-1069-43b8-8847-b5ddc5be13f5\")>,\n",
       " <selenium.webdriver.remote.webelement.WebElement (session=\"e7a21488e978c1a31d7817e992b13561\", element=\"88cbe041-6bd8-4fe6-af09-1e0f66da641c\")>,\n",
       " <selenium.webdriver.remote.webelement.WebElement (session=\"e7a21488e978c1a31d7817e992b13561\", element=\"96eb6f53-9ee3-469c-9edd-2e4fec446418\")>,\n",
       " <selenium.webdriver.remote.webelement.WebElement (session=\"e7a21488e978c1a31d7817e992b13561\", element=\"a5c9c327-a256-4c89-adc9-8430c760c165\")>,\n",
       " <selenium.webdriver.remote.webelement.WebElement (session=\"e7a21488e978c1a31d7817e992b13561\", element=\"2e91a7c3-c8cf-4bea-ad6a-b88ea8d695f8\")>,\n",
       " <selenium.webdriver.remote.webelement.WebElement (session=\"e7a21488e978c1a31d7817e992b13561\", element=\"f3daf994-1148-4077-9ae8-7b9f63be6b55\")>,\n",
       " <selenium.webdriver.remote.webelement.WebElement (session=\"e7a21488e978c1a31d7817e992b13561\", element=\"e30087b5-d638-4cff-9dfc-ec65bb90c0ee\")>,\n",
       " <selenium.webdriver.remote.webelement.WebElement (session=\"e7a21488e978c1a31d7817e992b13561\", element=\"d5881c70-d6be-4118-a566-3a378d0157a6\")>,\n",
       " <selenium.webdriver.remote.webelement.WebElement (session=\"e7a21488e978c1a31d7817e992b13561\", element=\"4aaec42b-5dba-434f-860d-67b567fa1d3a\")>,\n",
       " <selenium.webdriver.remote.webelement.WebElement (session=\"e7a21488e978c1a31d7817e992b13561\", element=\"90f66971-5934-4a19-b5d0-eb98d8a747f2\")>,\n",
       " <selenium.webdriver.remote.webelement.WebElement (session=\"e7a21488e978c1a31d7817e992b13561\", element=\"485ca42a-8771-43fe-944d-2a0cbbe96413\")>,\n",
       " <selenium.webdriver.remote.webelement.WebElement (session=\"e7a21488e978c1a31d7817e992b13561\", element=\"8296787b-abfa-4c89-85b9-ab27cb22be53\")>,\n",
       " <selenium.webdriver.remote.webelement.WebElement (session=\"e7a21488e978c1a31d7817e992b13561\", element=\"2153da64-a03d-45bd-b25f-5171cdc6f6d7\")>,\n",
       " <selenium.webdriver.remote.webelement.WebElement (session=\"e7a21488e978c1a31d7817e992b13561\", element=\"739bcd50-000c-4384-91e0-d15e22b50f4b\")>,\n",
       " <selenium.webdriver.remote.webelement.WebElement (session=\"e7a21488e978c1a31d7817e992b13561\", element=\"825112bc-4f61-49a0-8607-48a982f34ea1\")>,\n",
       " <selenium.webdriver.remote.webelement.WebElement (session=\"e7a21488e978c1a31d7817e992b13561\", element=\"a983080d-781a-4209-b48f-581e121ddc23\")>,\n",
       " <selenium.webdriver.remote.webelement.WebElement (session=\"e7a21488e978c1a31d7817e992b13561\", element=\"6f948e57-3404-4adf-a81f-7d832b793891\")>,\n",
       " <selenium.webdriver.remote.webelement.WebElement (session=\"e7a21488e978c1a31d7817e992b13561\", element=\"965e41f2-6b77-4fb6-a441-ed59a260543f\")>,\n",
       " <selenium.webdriver.remote.webelement.WebElement (session=\"e7a21488e978c1a31d7817e992b13561\", element=\"e3094e1d-19ec-4440-b2c6-eb95d1c6c704\")>,\n",
       " <selenium.webdriver.remote.webelement.WebElement (session=\"e7a21488e978c1a31d7817e992b13561\", element=\"748bd940-9573-4e85-8c4e-c9f6873f3053\")>,\n",
       " <selenium.webdriver.remote.webelement.WebElement (session=\"e7a21488e978c1a31d7817e992b13561\", element=\"fd67de5d-c08e-4794-b2da-dd11929def9b\")>,\n",
       " <selenium.webdriver.remote.webelement.WebElement (session=\"e7a21488e978c1a31d7817e992b13561\", element=\"59629a44-f267-4874-a665-e9cb08dbbd67\")>,\n",
       " <selenium.webdriver.remote.webelement.WebElement (session=\"e7a21488e978c1a31d7817e992b13561\", element=\"92244f8c-c061-4216-894f-9cc1f779633d\")>,\n",
       " <selenium.webdriver.remote.webelement.WebElement (session=\"e7a21488e978c1a31d7817e992b13561\", element=\"50c43232-9916-4ea7-8d6b-6fa98a5ce9e7\")>,\n",
       " <selenium.webdriver.remote.webelement.WebElement (session=\"e7a21488e978c1a31d7817e992b13561\", element=\"25bd0f9f-a3c2-4704-93c2-3e4d8cd03aaf\")>,\n",
       " <selenium.webdriver.remote.webelement.WebElement (session=\"e7a21488e978c1a31d7817e992b13561\", element=\"eb071573-61fc-40e5-a82c-2d807e351411\")>,\n",
       " <selenium.webdriver.remote.webelement.WebElement (session=\"e7a21488e978c1a31d7817e992b13561\", element=\"50a0ed38-9818-4a6a-b9ce-72c858730199\")>,\n",
       " <selenium.webdriver.remote.webelement.WebElement (session=\"e7a21488e978c1a31d7817e992b13561\", element=\"00a37c73-2a32-4490-bd7e-288a627a61c9\")>,\n",
       " <selenium.webdriver.remote.webelement.WebElement (session=\"e7a21488e978c1a31d7817e992b13561\", element=\"57742c93-fdd6-4da8-a8a7-8e024c629b7c\")>,\n",
       " <selenium.webdriver.remote.webelement.WebElement (session=\"e7a21488e978c1a31d7817e992b13561\", element=\"a3168d10-0a6c-46f3-9747-f76d39ffc591\")>,\n",
       " <selenium.webdriver.remote.webelement.WebElement (session=\"e7a21488e978c1a31d7817e992b13561\", element=\"a3ae7ab6-d6f4-4a83-9b22-24cec91f5c73\")>,\n",
       " <selenium.webdriver.remote.webelement.WebElement (session=\"e7a21488e978c1a31d7817e992b13561\", element=\"8da05cab-1f88-4dac-b004-f97c06439e8e\")>,\n",
       " <selenium.webdriver.remote.webelement.WebElement (session=\"e7a21488e978c1a31d7817e992b13561\", element=\"1de7d1fc-1828-48f9-af99-9bb7f3ced8f1\")>,\n",
       " <selenium.webdriver.remote.webelement.WebElement (session=\"e7a21488e978c1a31d7817e992b13561\", element=\"dbca3e45-6b21-4496-aa62-f9da6adc569e\")>,\n",
       " <selenium.webdriver.remote.webelement.WebElement (session=\"e7a21488e978c1a31d7817e992b13561\", element=\"e3b3835d-7681-4535-940b-790369f08dc8\")>,\n",
       " <selenium.webdriver.remote.webelement.WebElement (session=\"e7a21488e978c1a31d7817e992b13561\", element=\"9137a71b-017e-45f1-bffc-65e76394655d\")>,\n",
       " <selenium.webdriver.remote.webelement.WebElement (session=\"e7a21488e978c1a31d7817e992b13561\", element=\"3dbd24f0-9e7a-4821-9100-142d4aa427d9\")>,\n",
       " <selenium.webdriver.remote.webelement.WebElement (session=\"e7a21488e978c1a31d7817e992b13561\", element=\"edcf40e8-f0e5-4c55-a4e3-09007afec1af\")>,\n",
       " <selenium.webdriver.remote.webelement.WebElement (session=\"e7a21488e978c1a31d7817e992b13561\", element=\"63fa65d1-d71b-4378-be14-acc07faf5681\")>,\n",
       " <selenium.webdriver.remote.webelement.WebElement (session=\"e7a21488e978c1a31d7817e992b13561\", element=\"5fa21429-d122-464e-9aaa-53bdeb5da563\")>,\n",
       " <selenium.webdriver.remote.webelement.WebElement (session=\"e7a21488e978c1a31d7817e992b13561\", element=\"3855bc18-ce0f-4a08-a250-4e0abb14ce56\")>,\n",
       " <selenium.webdriver.remote.webelement.WebElement (session=\"e7a21488e978c1a31d7817e992b13561\", element=\"c4ef1ba5-1d56-4d63-b847-f184392abe75\")>,\n",
       " <selenium.webdriver.remote.webelement.WebElement (session=\"e7a21488e978c1a31d7817e992b13561\", element=\"531e47a0-6720-4ce5-9090-89a86348fbbf\")>,\n",
       " <selenium.webdriver.remote.webelement.WebElement (session=\"e7a21488e978c1a31d7817e992b13561\", element=\"0092b91e-6160-4d5c-a662-e333ab0152c8\")>,\n",
       " <selenium.webdriver.remote.webelement.WebElement (session=\"e7a21488e978c1a31d7817e992b13561\", element=\"0377d609-c487-4434-a0c9-88a9eec8c7e8\")>,\n",
       " <selenium.webdriver.remote.webelement.WebElement (session=\"e7a21488e978c1a31d7817e992b13561\", element=\"250ca87d-492e-47a4-86a2-1e0401a5d25c\")>,\n",
       " <selenium.webdriver.remote.webelement.WebElement (session=\"e7a21488e978c1a31d7817e992b13561\", element=\"79fe08f8-2a61-4d16-b70e-837423484eeb\")>,\n",
       " <selenium.webdriver.remote.webelement.WebElement (session=\"e7a21488e978c1a31d7817e992b13561\", element=\"347ed736-165b-45a7-84f8-3c665bc8bb82\")>,\n",
       " <selenium.webdriver.remote.webelement.WebElement (session=\"e7a21488e978c1a31d7817e992b13561\", element=\"d0846ac4-62ae-440a-ae60-c450ff8b805d\")>,\n",
       " <selenium.webdriver.remote.webelement.WebElement (session=\"e7a21488e978c1a31d7817e992b13561\", element=\"ad951848-f227-4968-a30a-2f1dcbc6974f\")>,\n",
       " <selenium.webdriver.remote.webelement.WebElement (session=\"e7a21488e978c1a31d7817e992b13561\", element=\"39811ffc-81d8-480b-88e2-e033d54fc6b8\")>,\n",
       " <selenium.webdriver.remote.webelement.WebElement (session=\"e7a21488e978c1a31d7817e992b13561\", element=\"3ccf0721-68f3-4744-a74d-bfd6c1154dba\")>,\n",
       " <selenium.webdriver.remote.webelement.WebElement (session=\"e7a21488e978c1a31d7817e992b13561\", element=\"bf575684-71b1-4257-aeeb-c75523283759\")>,\n",
       " <selenium.webdriver.remote.webelement.WebElement (session=\"e7a21488e978c1a31d7817e992b13561\", element=\"6d702274-6ad1-4e4e-a29a-680f51031334\")>,\n",
       " <selenium.webdriver.remote.webelement.WebElement (session=\"e7a21488e978c1a31d7817e992b13561\", element=\"c3ea9753-9f35-4ee2-a658-54bdefcef4ff\")>,\n",
       " <selenium.webdriver.remote.webelement.WebElement (session=\"e7a21488e978c1a31d7817e992b13561\", element=\"8d06ccf2-470a-4105-9cac-8d71484b7354\")>,\n",
       " <selenium.webdriver.remote.webelement.WebElement (session=\"e7a21488e978c1a31d7817e992b13561\", element=\"6dcf5500-939d-4441-b46f-d1b76f78b5fe\")>,\n",
       " <selenium.webdriver.remote.webelement.WebElement (session=\"e7a21488e978c1a31d7817e992b13561\", element=\"65ee020c-ce73-45dc-803e-25edc7585e05\")>,\n",
       " <selenium.webdriver.remote.webelement.WebElement (session=\"e7a21488e978c1a31d7817e992b13561\", element=\"4a82d348-0354-48e8-9eaa-0b20d8c6c1c2\")>,\n",
       " <selenium.webdriver.remote.webelement.WebElement (session=\"e7a21488e978c1a31d7817e992b13561\", element=\"bb70705e-1a8b-4c82-a6ec-c02f963518f3\")>,\n",
       " <selenium.webdriver.remote.webelement.WebElement (session=\"e7a21488e978c1a31d7817e992b13561\", element=\"9eeb25a7-0ddd-4306-861b-01efb2f2f954\")>,\n",
       " <selenium.webdriver.remote.webelement.WebElement (session=\"e7a21488e978c1a31d7817e992b13561\", element=\"8c8d5a6c-f209-4d11-8034-171e30d4b7fb\")>,\n",
       " <selenium.webdriver.remote.webelement.WebElement (session=\"e7a21488e978c1a31d7817e992b13561\", element=\"5428dd88-f249-4737-96a9-c711104f2784\")>,\n",
       " <selenium.webdriver.remote.webelement.WebElement (session=\"e7a21488e978c1a31d7817e992b13561\", element=\"7c8af376-cf1b-4ea6-bd87-994aee103eed\")>,\n",
       " <selenium.webdriver.remote.webelement.WebElement (session=\"e7a21488e978c1a31d7817e992b13561\", element=\"d4e006be-fc8c-4510-8977-356ac7074aa3\")>,\n",
       " <selenium.webdriver.remote.webelement.WebElement (session=\"e7a21488e978c1a31d7817e992b13561\", element=\"464c7b63-0282-41a7-aec3-77644abe0381\")>,\n",
       " <selenium.webdriver.remote.webelement.WebElement (session=\"e7a21488e978c1a31d7817e992b13561\", element=\"6fb7087d-3fa9-49aa-a14a-ad4822f11e96\")>,\n",
       " <selenium.webdriver.remote.webelement.WebElement (session=\"e7a21488e978c1a31d7817e992b13561\", element=\"980e2539-1b91-4e21-8f7b-cdfbbdd6a53b\")>,\n",
       " <selenium.webdriver.remote.webelement.WebElement (session=\"e7a21488e978c1a31d7817e992b13561\", element=\"3757c8e4-1883-4afc-aa58-1fb5a948d685\")>,\n",
       " <selenium.webdriver.remote.webelement.WebElement (session=\"e7a21488e978c1a31d7817e992b13561\", element=\"04dcb739-9f9f-402b-811b-61d42e179452\")>,\n",
       " <selenium.webdriver.remote.webelement.WebElement (session=\"e7a21488e978c1a31d7817e992b13561\", element=\"a9e5a90f-a6c7-4814-88ff-b077ca20e273\")>,\n",
       " <selenium.webdriver.remote.webelement.WebElement (session=\"e7a21488e978c1a31d7817e992b13561\", element=\"06644d0f-a622-430e-a949-e61b672c36f2\")>,\n",
       " <selenium.webdriver.remote.webelement.WebElement (session=\"e7a21488e978c1a31d7817e992b13561\", element=\"5991355a-1413-4c36-8f76-0d50796aa8aa\")>,\n",
       " <selenium.webdriver.remote.webelement.WebElement (session=\"e7a21488e978c1a31d7817e992b13561\", element=\"89816e80-82cf-4881-8e69-5d46bdd69ff8\")>,\n",
       " <selenium.webdriver.remote.webelement.WebElement (session=\"e7a21488e978c1a31d7817e992b13561\", element=\"5cd9c5a4-9277-4326-8277-3428a26e5c45\")>,\n",
       " <selenium.webdriver.remote.webelement.WebElement (session=\"e7a21488e978c1a31d7817e992b13561\", element=\"4430c23a-9a21-4f49-9a35-ecbde3702a9a\")>,\n",
       " <selenium.webdriver.remote.webelement.WebElement (session=\"e7a21488e978c1a31d7817e992b13561\", element=\"dcbc02e5-4aaa-4e02-b0eb-dc76e3d243b2\")>,\n",
       " <selenium.webdriver.remote.webelement.WebElement (session=\"e7a21488e978c1a31d7817e992b13561\", element=\"390c921f-40f9-4024-93a8-ad01b42c7768\")>,\n",
       " <selenium.webdriver.remote.webelement.WebElement (session=\"e7a21488e978c1a31d7817e992b13561\", element=\"99c03a0d-51ca-45e5-8f7e-f6691c6ef788\")>,\n",
       " <selenium.webdriver.remote.webelement.WebElement (session=\"e7a21488e978c1a31d7817e992b13561\", element=\"fe7cc8d2-3c2b-49de-b2f8-c45f35fb5ed9\")>,\n",
       " <selenium.webdriver.remote.webelement.WebElement (session=\"e7a21488e978c1a31d7817e992b13561\", element=\"012f33d7-b96a-47ca-a275-c7a18a259956\")>,\n",
       " <selenium.webdriver.remote.webelement.WebElement (session=\"e7a21488e978c1a31d7817e992b13561\", element=\"608f4d52-82df-46e3-bde7-2e42ed428287\")>,\n",
       " <selenium.webdriver.remote.webelement.WebElement (session=\"e7a21488e978c1a31d7817e992b13561\", element=\"4d005f6d-81c9-43ff-b8aa-abb86fb2c6fd\")>,\n",
       " <selenium.webdriver.remote.webelement.WebElement (session=\"e7a21488e978c1a31d7817e992b13561\", element=\"a9caea13-bd7b-481e-9e0a-e88c3b88d2f1\")>,\n",
       " <selenium.webdriver.remote.webelement.WebElement (session=\"e7a21488e978c1a31d7817e992b13561\", element=\"d508f940-850d-4179-a976-9e470465ead5\")>,\n",
       " <selenium.webdriver.remote.webelement.WebElement (session=\"e7a21488e978c1a31d7817e992b13561\", element=\"82df3b5e-1781-416d-8471-7027616a624e\")>,\n",
       " <selenium.webdriver.remote.webelement.WebElement (session=\"e7a21488e978c1a31d7817e992b13561\", element=\"19be1ff8-c43e-420d-976a-5a4289a49167\")>,\n",
       " <selenium.webdriver.remote.webelement.WebElement (session=\"e7a21488e978c1a31d7817e992b13561\", element=\"9ecd523f-fc95-4e02-9737-525cb2a793a8\")>,\n",
       " <selenium.webdriver.remote.webelement.WebElement (session=\"e7a21488e978c1a31d7817e992b13561\", element=\"d91f38ab-8ab8-4f93-9cf5-ced2028cdb89\")>,\n",
       " <selenium.webdriver.remote.webelement.WebElement (session=\"e7a21488e978c1a31d7817e992b13561\", element=\"20957fc2-3dc6-4189-93c9-cee905ed6cde\")>,\n",
       " <selenium.webdriver.remote.webelement.WebElement (session=\"e7a21488e978c1a31d7817e992b13561\", element=\"daceebbc-2db5-4803-9a73-5575c49f7fb2\")>,\n",
       " <selenium.webdriver.remote.webelement.WebElement (session=\"e7a21488e978c1a31d7817e992b13561\", element=\"aef4aa66-ae4d-4fdf-a7b2-9bdf373175ba\")>,\n",
       " <selenium.webdriver.remote.webelement.WebElement (session=\"e7a21488e978c1a31d7817e992b13561\", element=\"ff393cf0-0707-4ba3-a74e-3e342298103d\")>,\n",
       " <selenium.webdriver.remote.webelement.WebElement (session=\"e7a21488e978c1a31d7817e992b13561\", element=\"6849eaff-1f03-47b1-a172-bd7e71fa60f1\")>,\n",
       " <selenium.webdriver.remote.webelement.WebElement (session=\"e7a21488e978c1a31d7817e992b13561\", element=\"cc1e6133-11af-436f-ba09-46d8d228e41c\")>,\n",
       " <selenium.webdriver.remote.webelement.WebElement (session=\"e7a21488e978c1a31d7817e992b13561\", element=\"97d3c728-4fd4-47e0-aa33-fd5a67a3e934\")>,\n",
       " <selenium.webdriver.remote.webelement.WebElement (session=\"e7a21488e978c1a31d7817e992b13561\", element=\"a3e78432-b42e-477c-bb38-9efeefc22b4c\")>,\n",
       " <selenium.webdriver.remote.webelement.WebElement (session=\"e7a21488e978c1a31d7817e992b13561\", element=\"23686e5f-d99e-45dc-adbc-724ca99098f7\")>,\n",
       " <selenium.webdriver.remote.webelement.WebElement (session=\"e7a21488e978c1a31d7817e992b13561\", element=\"cc547298-ed32-4296-b5ca-722a1160557e\")>,\n",
       " <selenium.webdriver.remote.webelement.WebElement (session=\"e7a21488e978c1a31d7817e992b13561\", element=\"0c3a0861-1782-4b32-b79a-c80bcfe1b5d2\")>,\n",
       " <selenium.webdriver.remote.webelement.WebElement (session=\"e7a21488e978c1a31d7817e992b13561\", element=\"139c8b24-c20e-4b80-ac46-00b165fee335\")>,\n",
       " <selenium.webdriver.remote.webelement.WebElement (session=\"e7a21488e978c1a31d7817e992b13561\", element=\"b246144f-6031-4531-bcac-6c62f0f649f6\")>,\n",
       " <selenium.webdriver.remote.webelement.WebElement (session=\"e7a21488e978c1a31d7817e992b13561\", element=\"176e94ab-6cfb-4327-a871-0c134f455f9a\")>,\n",
       " <selenium.webdriver.remote.webelement.WebElement (session=\"e7a21488e978c1a31d7817e992b13561\", element=\"b0468ff1-bf81-4c56-911d-233a931520e7\")>,\n",
       " <selenium.webdriver.remote.webelement.WebElement (session=\"e7a21488e978c1a31d7817e992b13561\", element=\"553279b7-c5ad-41cf-808d-ed4b263e727b\")>,\n",
       " <selenium.webdriver.remote.webelement.WebElement (session=\"e7a21488e978c1a31d7817e992b13561\", element=\"7e2c53d6-ac60-4942-841c-408b37c98393\")>,\n",
       " <selenium.webdriver.remote.webelement.WebElement (session=\"e7a21488e978c1a31d7817e992b13561\", element=\"86518e91-3b41-4c30-bb65-0fa2b55c4bc9\")>,\n",
       " <selenium.webdriver.remote.webelement.WebElement (session=\"e7a21488e978c1a31d7817e992b13561\", element=\"55c12e8a-8517-4073-9192-b29b6a47740e\")>,\n",
       " <selenium.webdriver.remote.webelement.WebElement (session=\"e7a21488e978c1a31d7817e992b13561\", element=\"de74e600-7e35-439c-99a5-65b6a1374030\")>,\n",
       " <selenium.webdriver.remote.webelement.WebElement (session=\"e7a21488e978c1a31d7817e992b13561\", element=\"1ab8cfd3-2f0c-4866-9dbe-9b34fae153e8\")>,\n",
       " <selenium.webdriver.remote.webelement.WebElement (session=\"e7a21488e978c1a31d7817e992b13561\", element=\"19c2cbf3-7b1e-4b02-b701-7f3e06b94515\")>,\n",
       " <selenium.webdriver.remote.webelement.WebElement (session=\"e7a21488e978c1a31d7817e992b13561\", element=\"71c08a28-f08d-406f-bda7-3912604b14a3\")>,\n",
       " <selenium.webdriver.remote.webelement.WebElement (session=\"e7a21488e978c1a31d7817e992b13561\", element=\"3ef30f62-1656-49a5-b77d-603c627101c9\")>,\n",
       " <selenium.webdriver.remote.webelement.WebElement (session=\"e7a21488e978c1a31d7817e992b13561\", element=\"21a926f7-8ad7-414b-90ce-a0dd6f825133\")>,\n",
       " <selenium.webdriver.remote.webelement.WebElement (session=\"e7a21488e978c1a31d7817e992b13561\", element=\"d0a85694-3d69-402e-b5b7-261a349867b2\")>,\n",
       " <selenium.webdriver.remote.webelement.WebElement (session=\"e7a21488e978c1a31d7817e992b13561\", element=\"918ab136-ebe1-4871-9f5c-fc7b1a54b78a\")>,\n",
       " <selenium.webdriver.remote.webelement.WebElement (session=\"e7a21488e978c1a31d7817e992b13561\", element=\"27a512e5-7c36-457d-bbf0-90a4241a3064\")>,\n",
       " <selenium.webdriver.remote.webelement.WebElement (session=\"e7a21488e978c1a31d7817e992b13561\", element=\"7f700009-374a-43ee-8428-961f316f38d5\")>,\n",
       " <selenium.webdriver.remote.webelement.WebElement (session=\"e7a21488e978c1a31d7817e992b13561\", element=\"07052703-5d35-4592-a135-f437730e39eb\")>,\n",
       " <selenium.webdriver.remote.webelement.WebElement (session=\"e7a21488e978c1a31d7817e992b13561\", element=\"fbfefaec-c204-4057-93e3-dfd6aac5acda\")>,\n",
       " <selenium.webdriver.remote.webelement.WebElement (session=\"e7a21488e978c1a31d7817e992b13561\", element=\"52840631-037c-4508-9be2-5fc2cb9e9e1a\")>,\n",
       " <selenium.webdriver.remote.webelement.WebElement (session=\"e7a21488e978c1a31d7817e992b13561\", element=\"f7452b96-b435-426d-954e-bcaae3c924c1\")>,\n",
       " <selenium.webdriver.remote.webelement.WebElement (session=\"e7a21488e978c1a31d7817e992b13561\", element=\"d11ac3b5-6a75-487d-aa41-92e7182bf401\")>,\n",
       " <selenium.webdriver.remote.webelement.WebElement (session=\"e7a21488e978c1a31d7817e992b13561\", element=\"d73d8ec4-7968-47a1-87c5-654d97ea59b9\")>,\n",
       " <selenium.webdriver.remote.webelement.WebElement (session=\"e7a21488e978c1a31d7817e992b13561\", element=\"5fcef1e1-13f2-414b-8f34-248abe0d27f3\")>,\n",
       " <selenium.webdriver.remote.webelement.WebElement (session=\"e7a21488e978c1a31d7817e992b13561\", element=\"ef33e67b-9210-4215-9689-71c13222317f\")>,\n",
       " <selenium.webdriver.remote.webelement.WebElement (session=\"e7a21488e978c1a31d7817e992b13561\", element=\"c5046e96-eb9c-4cb1-ab6b-6b2076ecc9c4\")>,\n",
       " <selenium.webdriver.remote.webelement.WebElement (session=\"e7a21488e978c1a31d7817e992b13561\", element=\"48da7846-1087-4f7a-a5e5-f1c58614e8c7\")>,\n",
       " <selenium.webdriver.remote.webelement.WebElement (session=\"e7a21488e978c1a31d7817e992b13561\", element=\"4c70ebd1-db5e-445d-b1bd-98cdc3e65a04\")>,\n",
       " <selenium.webdriver.remote.webelement.WebElement (session=\"e7a21488e978c1a31d7817e992b13561\", element=\"0c66fe54-1eaa-4888-af80-d18cf09b7cf1\")>,\n",
       " <selenium.webdriver.remote.webelement.WebElement (session=\"e7a21488e978c1a31d7817e992b13561\", element=\"7bcd5f0d-d3b5-449a-a7b7-9e0e91c70ada\")>,\n",
       " <selenium.webdriver.remote.webelement.WebElement (session=\"e7a21488e978c1a31d7817e992b13561\", element=\"62ac4880-a065-40de-a5d8-af1c5033d129\")>,\n",
       " <selenium.webdriver.remote.webelement.WebElement (session=\"e7a21488e978c1a31d7817e992b13561\", element=\"a3050ad7-996c-4f7e-a848-c6ec775f0efc\")>,\n",
       " <selenium.webdriver.remote.webelement.WebElement (session=\"e7a21488e978c1a31d7817e992b13561\", element=\"ae91f349-6f82-4b2b-92a9-3145357766a0\")>,\n",
       " <selenium.webdriver.remote.webelement.WebElement (session=\"e7a21488e978c1a31d7817e992b13561\", element=\"d5dc31cc-21be-4393-aeb8-3031254d907e\")>,\n",
       " <selenium.webdriver.remote.webelement.WebElement (session=\"e7a21488e978c1a31d7817e992b13561\", element=\"09c6e350-f739-4a1e-9786-e4e330ce47b2\")>,\n",
       " <selenium.webdriver.remote.webelement.WebElement (session=\"e7a21488e978c1a31d7817e992b13561\", element=\"a53a58a0-bc4d-4392-85a6-9e79a95156cf\")>,\n",
       " <selenium.webdriver.remote.webelement.WebElement (session=\"e7a21488e978c1a31d7817e992b13561\", element=\"71d24dc2-62ef-4c16-a253-9cd1eec5416b\")>,\n",
       " <selenium.webdriver.remote.webelement.WebElement (session=\"e7a21488e978c1a31d7817e992b13561\", element=\"13a091bc-7ceb-427d-9ef7-720a68e096d6\")>,\n",
       " <selenium.webdriver.remote.webelement.WebElement (session=\"e7a21488e978c1a31d7817e992b13561\", element=\"3a5c320f-3ee0-418f-bb85-90c1d5d94595\")>,\n",
       " <selenium.webdriver.remote.webelement.WebElement (session=\"e7a21488e978c1a31d7817e992b13561\", element=\"0caaa5e9-679a-4d21-8f0b-ea733a15b69f\")>,\n",
       " <selenium.webdriver.remote.webelement.WebElement (session=\"e7a21488e978c1a31d7817e992b13561\", element=\"8f0db6da-2f83-4857-8c42-66b77b938457\")>,\n",
       " <selenium.webdriver.remote.webelement.WebElement (session=\"e7a21488e978c1a31d7817e992b13561\", element=\"6eff1572-cd26-4128-9ba1-498b99f0bc65\")>,\n",
       " <selenium.webdriver.remote.webelement.WebElement (session=\"e7a21488e978c1a31d7817e992b13561\", element=\"4d739b9c-80dc-45cf-af87-be8717c35468\")>,\n",
       " <selenium.webdriver.remote.webelement.WebElement (session=\"e7a21488e978c1a31d7817e992b13561\", element=\"1e7de0fc-51b5-47db-b695-a75a55f025fb\")>,\n",
       " <selenium.webdriver.remote.webelement.WebElement (session=\"e7a21488e978c1a31d7817e992b13561\", element=\"e1ebe6e1-1bdf-4e65-8ec5-5ce5e8709d75\")>,\n",
       " <selenium.webdriver.remote.webelement.WebElement (session=\"e7a21488e978c1a31d7817e992b13561\", element=\"694e606d-8236-4ff0-b905-ad37789ab727\")>,\n",
       " <selenium.webdriver.remote.webelement.WebElement (session=\"e7a21488e978c1a31d7817e992b13561\", element=\"1bafed62-eb61-452b-b2fb-62869b07a569\")>,\n",
       " <selenium.webdriver.remote.webelement.WebElement (session=\"e7a21488e978c1a31d7817e992b13561\", element=\"de36e819-0c71-49b2-a49d-9e256e1c1ce0\")>,\n",
       " <selenium.webdriver.remote.webelement.WebElement (session=\"e7a21488e978c1a31d7817e992b13561\", element=\"b3b59e5c-4b88-4834-9aba-f97c654dff39\")>,\n",
       " <selenium.webdriver.remote.webelement.WebElement (session=\"e7a21488e978c1a31d7817e992b13561\", element=\"f62319f6-5866-461a-a0b1-50119f0664ac\")>,\n",
       " <selenium.webdriver.remote.webelement.WebElement (session=\"e7a21488e978c1a31d7817e992b13561\", element=\"b2181198-8297-41f1-8233-cc14f5175204\")>,\n",
       " <selenium.webdriver.remote.webelement.WebElement (session=\"e7a21488e978c1a31d7817e992b13561\", element=\"d904e9dd-cfa6-4735-814a-0282199d72c8\")>,\n",
       " <selenium.webdriver.remote.webelement.WebElement (session=\"e7a21488e978c1a31d7817e992b13561\", element=\"5f63d30e-7f9f-4b6e-ac39-f5d21548e393\")>,\n",
       " <selenium.webdriver.remote.webelement.WebElement (session=\"e7a21488e978c1a31d7817e992b13561\", element=\"0b3e074d-e877-4548-bef5-45e33c47a394\")>,\n",
       " <selenium.webdriver.remote.webelement.WebElement (session=\"e7a21488e978c1a31d7817e992b13561\", element=\"4d6e5644-1996-43dc-8cba-e9cf584f37fa\")>,\n",
       " <selenium.webdriver.remote.webelement.WebElement (session=\"e7a21488e978c1a31d7817e992b13561\", element=\"a5b9b857-767d-4d85-8b28-585944638a56\")>,\n",
       " <selenium.webdriver.remote.webelement.WebElement (session=\"e7a21488e978c1a31d7817e992b13561\", element=\"f387e3ce-f54e-41e7-922e-7a6b11b43c9e\")>,\n",
       " <selenium.webdriver.remote.webelement.WebElement (session=\"e7a21488e978c1a31d7817e992b13561\", element=\"c8ada485-75af-4e68-bb56-8c5d757f04d9\")>,\n",
       " <selenium.webdriver.remote.webelement.WebElement (session=\"e7a21488e978c1a31d7817e992b13561\", element=\"22e2cf91-4736-408d-9c43-aa8ad401c3dd\")>,\n",
       " <selenium.webdriver.remote.webelement.WebElement (session=\"e7a21488e978c1a31d7817e992b13561\", element=\"21820ed8-a5cd-409a-a406-92be0fb63286\")>,\n",
       " <selenium.webdriver.remote.webelement.WebElement (session=\"e7a21488e978c1a31d7817e992b13561\", element=\"30e55794-01fe-412f-abf0-b46a3f862aaf\")>,\n",
       " <selenium.webdriver.remote.webelement.WebElement (session=\"e7a21488e978c1a31d7817e992b13561\", element=\"c824afdf-1731-455b-a6de-674d665c2bcf\")>,\n",
       " <selenium.webdriver.remote.webelement.WebElement (session=\"e7a21488e978c1a31d7817e992b13561\", element=\"7be3da40-b9c5-426a-b50b-b1718d6df794\")>,\n",
       " <selenium.webdriver.remote.webelement.WebElement (session=\"e7a21488e978c1a31d7817e992b13561\", element=\"251c7935-07ac-4921-8f69-139d1b869920\")>,\n",
       " <selenium.webdriver.remote.webelement.WebElement (session=\"e7a21488e978c1a31d7817e992b13561\", element=\"2883173a-fce8-4881-882c-d796f7dd77b0\")>,\n",
       " <selenium.webdriver.remote.webelement.WebElement (session=\"e7a21488e978c1a31d7817e992b13561\", element=\"1e75d5de-d2c9-404f-8ca6-7d7b698c6036\")>,\n",
       " <selenium.webdriver.remote.webelement.WebElement (session=\"e7a21488e978c1a31d7817e992b13561\", element=\"daacd72a-ac82-4ee2-a729-67a1f22ee0a4\")>,\n",
       " <selenium.webdriver.remote.webelement.WebElement (session=\"e7a21488e978c1a31d7817e992b13561\", element=\"d738d02d-0a73-4ae7-beca-870d2a7b078e\")>,\n",
       " <selenium.webdriver.remote.webelement.WebElement (session=\"e7a21488e978c1a31d7817e992b13561\", element=\"e710df99-d809-4f12-bce1-719322570d7e\")>,\n",
       " <selenium.webdriver.remote.webelement.WebElement (session=\"e7a21488e978c1a31d7817e992b13561\", element=\"62722e37-4bd8-4c77-9d60-4e1283b5fd9a\")>,\n",
       " <selenium.webdriver.remote.webelement.WebElement (session=\"e7a21488e978c1a31d7817e992b13561\", element=\"dc6756fb-f6b1-4ea9-83ad-71b364b94275\")>,\n",
       " <selenium.webdriver.remote.webelement.WebElement (session=\"e7a21488e978c1a31d7817e992b13561\", element=\"9c344e79-2ab6-4e9a-853f-a0547184d494\")>,\n",
       " <selenium.webdriver.remote.webelement.WebElement (session=\"e7a21488e978c1a31d7817e992b13561\", element=\"cebe9cc2-47bf-4593-b257-62f82beb5f4a\")>,\n",
       " <selenium.webdriver.remote.webelement.WebElement (session=\"e7a21488e978c1a31d7817e992b13561\", element=\"74171f00-37f3-460f-bad5-2753445da829\")>,\n",
       " <selenium.webdriver.remote.webelement.WebElement (session=\"e7a21488e978c1a31d7817e992b13561\", element=\"3e6af1ff-be50-423e-bc94-16a2e2c71014\")>,\n",
       " <selenium.webdriver.remote.webelement.WebElement (session=\"e7a21488e978c1a31d7817e992b13561\", element=\"321fee84-d670-4cff-b870-6b2459e15409\")>,\n",
       " <selenium.webdriver.remote.webelement.WebElement (session=\"e7a21488e978c1a31d7817e992b13561\", element=\"73764c8e-11f6-4ee7-80fd-110407d73e3e\")>,\n",
       " <selenium.webdriver.remote.webelement.WebElement (session=\"e7a21488e978c1a31d7817e992b13561\", element=\"4e88259e-4ad3-480f-8494-6c58c62da37a\")>,\n",
       " <selenium.webdriver.remote.webelement.WebElement (session=\"e7a21488e978c1a31d7817e992b13561\", element=\"f9f168f0-2fdc-42f6-af36-5a79e74f8b24\")>,\n",
       " <selenium.webdriver.remote.webelement.WebElement (session=\"e7a21488e978c1a31d7817e992b13561\", element=\"6fa8a7c9-a3fc-4b92-9233-e0315ec4fbe0\")>,\n",
       " <selenium.webdriver.remote.webelement.WebElement (session=\"e7a21488e978c1a31d7817e992b13561\", element=\"861ac235-fe55-46ba-bc1f-73ea1395d54e\")>,\n",
       " <selenium.webdriver.remote.webelement.WebElement (session=\"e7a21488e978c1a31d7817e992b13561\", element=\"cfe697ed-0525-4a45-a5e2-69770a63f833\")>,\n",
       " <selenium.webdriver.remote.webelement.WebElement (session=\"e7a21488e978c1a31d7817e992b13561\", element=\"a4ffa798-c336-42b6-b0ed-a11b95f9745e\")>,\n",
       " <selenium.webdriver.remote.webelement.WebElement (session=\"e7a21488e978c1a31d7817e992b13561\", element=\"c5c88230-964e-4afc-aa20-1557d04bad2d\")>,\n",
       " <selenium.webdriver.remote.webelement.WebElement (session=\"e7a21488e978c1a31d7817e992b13561\", element=\"3dc44c32-de8a-43d6-8a9a-0be3c6c04064\")>,\n",
       " <selenium.webdriver.remote.webelement.WebElement (session=\"e7a21488e978c1a31d7817e992b13561\", element=\"6597dfee-13e0-4dbd-b544-101a7168ce53\")>,\n",
       " <selenium.webdriver.remote.webelement.WebElement (session=\"e7a21488e978c1a31d7817e992b13561\", element=\"19f93215-bb7e-4338-a854-044609cf8151\")>,\n",
       " <selenium.webdriver.remote.webelement.WebElement (session=\"e7a21488e978c1a31d7817e992b13561\", element=\"32496cdc-7036-4545-bab3-02cafdb2a218\")>,\n",
       " <selenium.webdriver.remote.webelement.WebElement (session=\"e7a21488e978c1a31d7817e992b13561\", element=\"b1b0a94f-df42-447c-9604-6316fe7ed69e\")>,\n",
       " <selenium.webdriver.remote.webelement.WebElement (session=\"e7a21488e978c1a31d7817e992b13561\", element=\"63840603-bff3-473c-9d94-cf27947db3ec\")>,\n",
       " <selenium.webdriver.remote.webelement.WebElement (session=\"e7a21488e978c1a31d7817e992b13561\", element=\"59283edd-1e03-4cb9-bb1a-86241d801bf0\")>,\n",
       " <selenium.webdriver.remote.webelement.WebElement (session=\"e7a21488e978c1a31d7817e992b13561\", element=\"4ce00bf7-afdc-452f-a239-a744eec3755f\")>,\n",
       " <selenium.webdriver.remote.webelement.WebElement (session=\"e7a21488e978c1a31d7817e992b13561\", element=\"a7dd1e10-95fe-4a07-a08d-afddecf8dfcb\")>,\n",
       " <selenium.webdriver.remote.webelement.WebElement (session=\"e7a21488e978c1a31d7817e992b13561\", element=\"50eb91c4-17e4-457c-8aff-7ee31e9cf5a8\")>,\n",
       " <selenium.webdriver.remote.webelement.WebElement (session=\"e7a21488e978c1a31d7817e992b13561\", element=\"2ec02498-ae88-4dab-8cda-f36ed9713697\")>,\n",
       " <selenium.webdriver.remote.webelement.WebElement (session=\"e7a21488e978c1a31d7817e992b13561\", element=\"c8b84624-38fa-41fc-b6ba-6056cb22bffa\")>,\n",
       " <selenium.webdriver.remote.webelement.WebElement (session=\"e7a21488e978c1a31d7817e992b13561\", element=\"642a57ed-b36f-4026-99f2-722d49079b97\")>,\n",
       " <selenium.webdriver.remote.webelement.WebElement (session=\"e7a21488e978c1a31d7817e992b13561\", element=\"287ff1b1-e0d0-49ea-887c-e4d708b9e110\")>,\n",
       " <selenium.webdriver.remote.webelement.WebElement (session=\"e7a21488e978c1a31d7817e992b13561\", element=\"252de31c-97d9-4148-8653-82e85d69a63e\")>,\n",
       " <selenium.webdriver.remote.webelement.WebElement (session=\"e7a21488e978c1a31d7817e992b13561\", element=\"22a465fd-4d63-40af-8f03-afde828b0e9c\")>,\n",
       " <selenium.webdriver.remote.webelement.WebElement (session=\"e7a21488e978c1a31d7817e992b13561\", element=\"65ad57c4-6cc2-427b-8718-8e4ea1f0de0e\")>,\n",
       " <selenium.webdriver.remote.webelement.WebElement (session=\"e7a21488e978c1a31d7817e992b13561\", element=\"0c5be503-7fd8-470b-a582-abf08286401e\")>,\n",
       " <selenium.webdriver.remote.webelement.WebElement (session=\"e7a21488e978c1a31d7817e992b13561\", element=\"fe73347a-7cb9-4bbf-94ed-4cd525115e26\")>,\n",
       " <selenium.webdriver.remote.webelement.WebElement (session=\"e7a21488e978c1a31d7817e992b13561\", element=\"838c78dc-4067-4d04-9845-243ac295c26f\")>,\n",
       " <selenium.webdriver.remote.webelement.WebElement (session=\"e7a21488e978c1a31d7817e992b13561\", element=\"0a27f625-6b73-4cfd-99d3-c272035d8256\")>,\n",
       " <selenium.webdriver.remote.webelement.WebElement (session=\"e7a21488e978c1a31d7817e992b13561\", element=\"4482767c-9f19-46d8-ba39-20e7276fdd31\")>,\n",
       " <selenium.webdriver.remote.webelement.WebElement (session=\"e7a21488e978c1a31d7817e992b13561\", element=\"e74e1c16-bea5-4c19-8e0e-495d96100e65\")>,\n",
       " <selenium.webdriver.remote.webelement.WebElement (session=\"e7a21488e978c1a31d7817e992b13561\", element=\"da16665e-b100-419f-9df0-38ff42cd2344\")>,\n",
       " <selenium.webdriver.remote.webelement.WebElement (session=\"e7a21488e978c1a31d7817e992b13561\", element=\"2fd60e39-4126-462a-8b04-3f7fc49e20fb\")>,\n",
       " <selenium.webdriver.remote.webelement.WebElement (session=\"e7a21488e978c1a31d7817e992b13561\", element=\"5eef663f-ac64-47b9-b8f1-9f592420bc78\")>,\n",
       " <selenium.webdriver.remote.webelement.WebElement (session=\"e7a21488e978c1a31d7817e992b13561\", element=\"4b3e8bf9-4d13-459a-b88d-96cb74023995\")>,\n",
       " <selenium.webdriver.remote.webelement.WebElement (session=\"e7a21488e978c1a31d7817e992b13561\", element=\"db52ea84-4453-4df5-ba9a-1f18cc3dd502\")>,\n",
       " <selenium.webdriver.remote.webelement.WebElement (session=\"e7a21488e978c1a31d7817e992b13561\", element=\"a83c5f09-467c-4cff-8430-4996dc594248\")>,\n",
       " <selenium.webdriver.remote.webelement.WebElement (session=\"e7a21488e978c1a31d7817e992b13561\", element=\"14faeca9-95b7-466b-a5e5-0b9fef6df76e\")>,\n",
       " <selenium.webdriver.remote.webelement.WebElement (session=\"e7a21488e978c1a31d7817e992b13561\", element=\"5e026f69-45f1-4bbe-9f76-6b10e465ca26\")>,\n",
       " <selenium.webdriver.remote.webelement.WebElement (session=\"e7a21488e978c1a31d7817e992b13561\", element=\"700ec2e9-4ea9-4fc9-b8c8-4766efeb9677\")>,\n",
       " <selenium.webdriver.remote.webelement.WebElement (session=\"e7a21488e978c1a31d7817e992b13561\", element=\"9ca8a1eb-245c-4556-8bb7-61ca53c9738c\")>,\n",
       " <selenium.webdriver.remote.webelement.WebElement (session=\"e7a21488e978c1a31d7817e992b13561\", element=\"c87279f3-f726-48f0-bd16-908f9a5b1922\")>,\n",
       " <selenium.webdriver.remote.webelement.WebElement (session=\"e7a21488e978c1a31d7817e992b13561\", element=\"12531859-3742-4a54-8312-6da4b73704c3\")>,\n",
       " <selenium.webdriver.remote.webelement.WebElement (session=\"e7a21488e978c1a31d7817e992b13561\", element=\"be3f710b-5362-4951-b28e-6a53cd72879d\")>,\n",
       " <selenium.webdriver.remote.webelement.WebElement (session=\"e7a21488e978c1a31d7817e992b13561\", element=\"b283114c-f687-440e-bc19-7da330da4917\")>,\n",
       " <selenium.webdriver.remote.webelement.WebElement (session=\"e7a21488e978c1a31d7817e992b13561\", element=\"0b0100a6-5f50-45c7-b910-1fb440761529\")>,\n",
       " <selenium.webdriver.remote.webelement.WebElement (session=\"e7a21488e978c1a31d7817e992b13561\", element=\"2c9b3840-463b-4cf8-8884-05bb5b6f2cde\")>,\n",
       " <selenium.webdriver.remote.webelement.WebElement (session=\"e7a21488e978c1a31d7817e992b13561\", element=\"1019b451-fed2-4542-b798-3ba361da7b57\")>,\n",
       " <selenium.webdriver.remote.webelement.WebElement (session=\"e7a21488e978c1a31d7817e992b13561\", element=\"22a4590b-094f-4fdc-9650-85c58ce5734a\")>,\n",
       " <selenium.webdriver.remote.webelement.WebElement (session=\"e7a21488e978c1a31d7817e992b13561\", element=\"89159a0e-4ee0-4a94-a9c1-ec3f61070aa0\")>,\n",
       " <selenium.webdriver.remote.webelement.WebElement (session=\"e7a21488e978c1a31d7817e992b13561\", element=\"5b3050e4-355a-49ab-8626-a967af90a5ac\")>,\n",
       " <selenium.webdriver.remote.webelement.WebElement (session=\"e7a21488e978c1a31d7817e992b13561\", element=\"d316d66d-6bfa-484e-8bf7-f2eb8169457f\")>,\n",
       " <selenium.webdriver.remote.webelement.WebElement (session=\"e7a21488e978c1a31d7817e992b13561\", element=\"92742444-f86d-4c2e-ba84-ad8a9439339b\")>,\n",
       " <selenium.webdriver.remote.webelement.WebElement (session=\"e7a21488e978c1a31d7817e992b13561\", element=\"e083c395-3544-44f3-8921-7c6973f97703\")>,\n",
       " <selenium.webdriver.remote.webelement.WebElement (session=\"e7a21488e978c1a31d7817e992b13561\", element=\"4b9eeb8a-b458-44da-b7b8-261324a5fed4\")>,\n",
       " <selenium.webdriver.remote.webelement.WebElement (session=\"e7a21488e978c1a31d7817e992b13561\", element=\"f0504780-f918-420c-91cb-fa12aa6d0f9c\")>,\n",
       " <selenium.webdriver.remote.webelement.WebElement (session=\"e7a21488e978c1a31d7817e992b13561\", element=\"a32eb768-b2cc-4253-86de-31ff571007e8\")>,\n",
       " <selenium.webdriver.remote.webelement.WebElement (session=\"e7a21488e978c1a31d7817e992b13561\", element=\"3f0bb23c-db66-4e32-a5a9-9ac9317b0a07\")>,\n",
       " <selenium.webdriver.remote.webelement.WebElement (session=\"e7a21488e978c1a31d7817e992b13561\", element=\"1d787613-a5b0-46a8-8d42-d10054824d97\")>,\n",
       " <selenium.webdriver.remote.webelement.WebElement (session=\"e7a21488e978c1a31d7817e992b13561\", element=\"5895f117-6959-4ae8-8d44-5c06292bb0a4\")>,\n",
       " <selenium.webdriver.remote.webelement.WebElement (session=\"e7a21488e978c1a31d7817e992b13561\", element=\"b90f273e-876a-4a92-9695-561338ed43f9\")>,\n",
       " <selenium.webdriver.remote.webelement.WebElement (session=\"e7a21488e978c1a31d7817e992b13561\", element=\"e9e4b731-5d10-42cb-9cfb-b5a70662762e\")>,\n",
       " <selenium.webdriver.remote.webelement.WebElement (session=\"e7a21488e978c1a31d7817e992b13561\", element=\"41b5b8e6-b2ec-4797-9ffb-913a5aa8f805\")>,\n",
       " <selenium.webdriver.remote.webelement.WebElement (session=\"e7a21488e978c1a31d7817e992b13561\", element=\"cdfb02ad-acd2-4e7d-a547-412e8d924ba0\")>,\n",
       " <selenium.webdriver.remote.webelement.WebElement (session=\"e7a21488e978c1a31d7817e992b13561\", element=\"2ed91c23-ca8e-4438-8743-5ad69f8e2620\")>,\n",
       " <selenium.webdriver.remote.webelement.WebElement (session=\"e7a21488e978c1a31d7817e992b13561\", element=\"571fee9f-d967-4515-ad5b-4df8ee642a02\")>,\n",
       " <selenium.webdriver.remote.webelement.WebElement (session=\"e7a21488e978c1a31d7817e992b13561\", element=\"edf86f11-5c53-41f8-8b61-3745d3caac37\")>,\n",
       " <selenium.webdriver.remote.webelement.WebElement (session=\"e7a21488e978c1a31d7817e992b13561\", element=\"4e8dc2ca-a19b-4a38-945b-c34d8cc70009\")>,\n",
       " <selenium.webdriver.remote.webelement.WebElement (session=\"e7a21488e978c1a31d7817e992b13561\", element=\"f6371bc6-f476-4521-9180-0591572928d8\")>,\n",
       " <selenium.webdriver.remote.webelement.WebElement (session=\"e7a21488e978c1a31d7817e992b13561\", element=\"51732b1a-d7eb-4010-a4f0-d20fea2832a5\")>,\n",
       " <selenium.webdriver.remote.webelement.WebElement (session=\"e7a21488e978c1a31d7817e992b13561\", element=\"cf26435e-86e5-4491-9c02-d70788246bb3\")>,\n",
       " <selenium.webdriver.remote.webelement.WebElement (session=\"e7a21488e978c1a31d7817e992b13561\", element=\"2b3a804a-d989-4ff0-80fa-6393dbbedfd7\")>,\n",
       " <selenium.webdriver.remote.webelement.WebElement (session=\"e7a21488e978c1a31d7817e992b13561\", element=\"1ff4c7b1-db51-4b00-be56-6327e9f2bfa0\")>,\n",
       " <selenium.webdriver.remote.webelement.WebElement (session=\"e7a21488e978c1a31d7817e992b13561\", element=\"f5c6b3c0-7e1d-48ac-9758-8e490fd73865\")>,\n",
       " <selenium.webdriver.remote.webelement.WebElement (session=\"e7a21488e978c1a31d7817e992b13561\", element=\"7879ff6e-a059-401c-ac12-4493bad044c4\")>,\n",
       " <selenium.webdriver.remote.webelement.WebElement (session=\"e7a21488e978c1a31d7817e992b13561\", element=\"c5e0461c-e3c2-48b2-a131-82af07514de5\")>,\n",
       " <selenium.webdriver.remote.webelement.WebElement (session=\"e7a21488e978c1a31d7817e992b13561\", element=\"5c0dbfaf-3a65-4fa2-99be-b26be8d24268\")>,\n",
       " <selenium.webdriver.remote.webelement.WebElement (session=\"e7a21488e978c1a31d7817e992b13561\", element=\"30344db6-aa5a-457b-a427-8c4b3aa24b1a\")>,\n",
       " <selenium.webdriver.remote.webelement.WebElement (session=\"e7a21488e978c1a31d7817e992b13561\", element=\"92262ea2-a7f6-4b9a-a5fb-0cd3a840e8c3\")>,\n",
       " <selenium.webdriver.remote.webelement.WebElement (session=\"e7a21488e978c1a31d7817e992b13561\", element=\"a8e89507-8caf-4061-a14f-1ef8fdb4a52d\")>,\n",
       " <selenium.webdriver.remote.webelement.WebElement (session=\"e7a21488e978c1a31d7817e992b13561\", element=\"24544f71-953f-4a4d-98aa-246ff9f27407\")>,\n",
       " <selenium.webdriver.remote.webelement.WebElement (session=\"e7a21488e978c1a31d7817e992b13561\", element=\"9458b8a7-f58a-4881-a0b4-66df2942ec7c\")>,\n",
       " <selenium.webdriver.remote.webelement.WebElement (session=\"e7a21488e978c1a31d7817e992b13561\", element=\"865813a9-2b2a-4fa5-91d2-067227a1a793\")>,\n",
       " <selenium.webdriver.remote.webelement.WebElement (session=\"e7a21488e978c1a31d7817e992b13561\", element=\"8aea08de-1c98-4800-8341-d535002e9fc3\")>,\n",
       " <selenium.webdriver.remote.webelement.WebElement (session=\"e7a21488e978c1a31d7817e992b13561\", element=\"6b90945e-4bb8-4fdd-843d-7ac28acef1b9\")>,\n",
       " <selenium.webdriver.remote.webelement.WebElement (session=\"e7a21488e978c1a31d7817e992b13561\", element=\"d8db91de-ab2c-4584-9c37-49c17fb16cba\")>,\n",
       " <selenium.webdriver.remote.webelement.WebElement (session=\"e7a21488e978c1a31d7817e992b13561\", element=\"f5cb1fa3-4868-4477-b09e-cd3fc86b1673\")>,\n",
       " <selenium.webdriver.remote.webelement.WebElement (session=\"e7a21488e978c1a31d7817e992b13561\", element=\"22e4c55b-07de-4ea7-99d6-edee9f4e6965\")>,\n",
       " <selenium.webdriver.remote.webelement.WebElement (session=\"e7a21488e978c1a31d7817e992b13561\", element=\"e7a308cf-8b80-4b00-8f02-1364f0f63ba7\")>,\n",
       " <selenium.webdriver.remote.webelement.WebElement (session=\"e7a21488e978c1a31d7817e992b13561\", element=\"30bfd301-9682-4e32-a220-58b3ccff129b\")>,\n",
       " <selenium.webdriver.remote.webelement.WebElement (session=\"e7a21488e978c1a31d7817e992b13561\", element=\"fbf9b2b2-032f-41d3-8580-687c0914772d\")>,\n",
       " <selenium.webdriver.remote.webelement.WebElement (session=\"e7a21488e978c1a31d7817e992b13561\", element=\"25c3027a-7f99-4bc1-989c-a8dd3239cae9\")>,\n",
       " <selenium.webdriver.remote.webelement.WebElement (session=\"e7a21488e978c1a31d7817e992b13561\", element=\"a982d021-1cb1-4b8c-9c47-8a1837cdd628\")>,\n",
       " <selenium.webdriver.remote.webelement.WebElement (session=\"e7a21488e978c1a31d7817e992b13561\", element=\"1bfc3000-d28a-4c8f-9710-238a58925e04\")>,\n",
       " <selenium.webdriver.remote.webelement.WebElement (session=\"e7a21488e978c1a31d7817e992b13561\", element=\"9db4bef4-14a4-4c2c-bd7d-7ac02d417f17\")>,\n",
       " <selenium.webdriver.remote.webelement.WebElement (session=\"e7a21488e978c1a31d7817e992b13561\", element=\"096ede87-0270-431b-bc21-89730983ef6c\")>,\n",
       " <selenium.webdriver.remote.webelement.WebElement (session=\"e7a21488e978c1a31d7817e992b13561\", element=\"487c398f-93ae-400f-8aac-cfa6e6450bcf\")>,\n",
       " <selenium.webdriver.remote.webelement.WebElement (session=\"e7a21488e978c1a31d7817e992b13561\", element=\"eb1a37e5-d606-4898-bdbe-7049f9e79f6c\")>,\n",
       " <selenium.webdriver.remote.webelement.WebElement (session=\"e7a21488e978c1a31d7817e992b13561\", element=\"46cf3bf2-244c-455e-afc0-b5d09605e4bc\")>,\n",
       " <selenium.webdriver.remote.webelement.WebElement (session=\"e7a21488e978c1a31d7817e992b13561\", element=\"966d3150-4671-425a-a8ac-3271faf9517d\")>,\n",
       " <selenium.webdriver.remote.webelement.WebElement (session=\"e7a21488e978c1a31d7817e992b13561\", element=\"3c9a0518-7b29-4ab4-a923-0dea83687976\")>,\n",
       " <selenium.webdriver.remote.webelement.WebElement (session=\"e7a21488e978c1a31d7817e992b13561\", element=\"281abf74-3f37-4d35-8fa4-8bb6362ceb1f\")>,\n",
       " <selenium.webdriver.remote.webelement.WebElement (session=\"e7a21488e978c1a31d7817e992b13561\", element=\"74433660-fac3-4e5b-81f5-c883535ab061\")>,\n",
       " <selenium.webdriver.remote.webelement.WebElement (session=\"e7a21488e978c1a31d7817e992b13561\", element=\"f6796fd8-93c7-49c9-badf-38cf7245e230\")>,\n",
       " <selenium.webdriver.remote.webelement.WebElement (session=\"e7a21488e978c1a31d7817e992b13561\", element=\"3dd9e3ee-8af5-4bd0-b5a1-46cf5952afac\")>,\n",
       " <selenium.webdriver.remote.webelement.WebElement (session=\"e7a21488e978c1a31d7817e992b13561\", element=\"e09d8269-a390-4731-8440-05e7f6a5047e\")>,\n",
       " <selenium.webdriver.remote.webelement.WebElement (session=\"e7a21488e978c1a31d7817e992b13561\", element=\"e9e413ee-88fd-4ce6-be30-fbc0d3b39382\")>,\n",
       " <selenium.webdriver.remote.webelement.WebElement (session=\"e7a21488e978c1a31d7817e992b13561\", element=\"8eda8e53-b89b-474a-88f1-b268c9fcd8ab\")>,\n",
       " <selenium.webdriver.remote.webelement.WebElement (session=\"e7a21488e978c1a31d7817e992b13561\", element=\"92c62ec2-f6d0-42cf-9a14-e6f58000dbf2\")>,\n",
       " <selenium.webdriver.remote.webelement.WebElement (session=\"e7a21488e978c1a31d7817e992b13561\", element=\"bf939daa-1e52-4455-8dde-d52ea7818e30\")>,\n",
       " <selenium.webdriver.remote.webelement.WebElement (session=\"e7a21488e978c1a31d7817e992b13561\", element=\"88933922-49ca-40c5-94a2-480617153a7f\")>,\n",
       " <selenium.webdriver.remote.webelement.WebElement (session=\"e7a21488e978c1a31d7817e992b13561\", element=\"baa0c27d-1613-4aeb-83d1-d8c7a6d9c999\")>,\n",
       " <selenium.webdriver.remote.webelement.WebElement (session=\"e7a21488e978c1a31d7817e992b13561\", element=\"5ba080bf-a08a-4c49-accb-05a01081944e\")>,\n",
       " <selenium.webdriver.remote.webelement.WebElement (session=\"e7a21488e978c1a31d7817e992b13561\", element=\"c8d1a011-75e5-4280-83dd-1f087ef5132a\")>,\n",
       " <selenium.webdriver.remote.webelement.WebElement (session=\"e7a21488e978c1a31d7817e992b13561\", element=\"62b1038a-aac4-45cc-a4c6-45efe5259a00\")>,\n",
       " <selenium.webdriver.remote.webelement.WebElement (session=\"e7a21488e978c1a31d7817e992b13561\", element=\"0252eaa5-6335-445a-abe3-b59eb623ba4a\")>,\n",
       " <selenium.webdriver.remote.webelement.WebElement (session=\"e7a21488e978c1a31d7817e992b13561\", element=\"216fa67b-36d8-448b-89a4-5408b7e1de01\")>,\n",
       " <selenium.webdriver.remote.webelement.WebElement (session=\"e7a21488e978c1a31d7817e992b13561\", element=\"5e80e203-8ed9-4302-89f2-b9bcf2d81789\")>,\n",
       " <selenium.webdriver.remote.webelement.WebElement (session=\"e7a21488e978c1a31d7817e992b13561\", element=\"278746b2-adf8-420c-af16-9b45c51d9a6e\")>,\n",
       " <selenium.webdriver.remote.webelement.WebElement (session=\"e7a21488e978c1a31d7817e992b13561\", element=\"f7e9c2dd-d37d-4372-adf7-428777d71bb9\")>,\n",
       " <selenium.webdriver.remote.webelement.WebElement (session=\"e7a21488e978c1a31d7817e992b13561\", element=\"c4277da0-cb79-45a4-9659-a18c0f8f99d1\")>,\n",
       " <selenium.webdriver.remote.webelement.WebElement (session=\"e7a21488e978c1a31d7817e992b13561\", element=\"f6ebf2f4-e655-41d9-979c-e8b021f12e9a\")>,\n",
       " <selenium.webdriver.remote.webelement.WebElement (session=\"e7a21488e978c1a31d7817e992b13561\", element=\"87099ed2-5143-43f2-8903-1252983aaab1\")>,\n",
       " <selenium.webdriver.remote.webelement.WebElement (session=\"e7a21488e978c1a31d7817e992b13561\", element=\"e0bfffe6-9e39-4ed2-bfa1-a4a6254c8cb1\")>,\n",
       " <selenium.webdriver.remote.webelement.WebElement (session=\"e7a21488e978c1a31d7817e992b13561\", element=\"9f54e46a-3d18-4df2-91f2-d709bfa53b5f\")>,\n",
       " <selenium.webdriver.remote.webelement.WebElement (session=\"e7a21488e978c1a31d7817e992b13561\", element=\"a39afd11-c4e4-4a88-b0e8-7b7783572987\")>,\n",
       " <selenium.webdriver.remote.webelement.WebElement (session=\"e7a21488e978c1a31d7817e992b13561\", element=\"8dc24fd3-f30b-44f6-ae12-54cb7786d175\")>,\n",
       " <selenium.webdriver.remote.webelement.WebElement (session=\"e7a21488e978c1a31d7817e992b13561\", element=\"92397cb2-8f10-4144-bf17-60aadb65bfdb\")>,\n",
       " <selenium.webdriver.remote.webelement.WebElement (session=\"e7a21488e978c1a31d7817e992b13561\", element=\"96cfc8c6-6232-49c9-a041-738cfd9d53f3\")>,\n",
       " <selenium.webdriver.remote.webelement.WebElement (session=\"e7a21488e978c1a31d7817e992b13561\", element=\"0a2c0d7c-6b34-4d94-8e1d-04d172a58f53\")>,\n",
       " <selenium.webdriver.remote.webelement.WebElement (session=\"e7a21488e978c1a31d7817e992b13561\", element=\"341d1095-3b60-4ebf-8987-da58fb6a861b\")>,\n",
       " <selenium.webdriver.remote.webelement.WebElement (session=\"e7a21488e978c1a31d7817e992b13561\", element=\"3fccbbd6-228d-4ab4-ac92-284c4bf291be\")>,\n",
       " <selenium.webdriver.remote.webelement.WebElement (session=\"e7a21488e978c1a31d7817e992b13561\", element=\"6be0ee01-affe-44cb-b40d-c175762f22ba\")>,\n",
       " <selenium.webdriver.remote.webelement.WebElement (session=\"e7a21488e978c1a31d7817e992b13561\", element=\"cd382f34-cd26-4d9a-aff3-d335d0f82d83\")>,\n",
       " <selenium.webdriver.remote.webelement.WebElement (session=\"e7a21488e978c1a31d7817e992b13561\", element=\"b8f55227-5fb6-484f-a631-a23d6be7169d\")>,\n",
       " <selenium.webdriver.remote.webelement.WebElement (session=\"e7a21488e978c1a31d7817e992b13561\", element=\"b81c224d-4ff8-4ec9-a276-d6a283a2f5a8\")>,\n",
       " <selenium.webdriver.remote.webelement.WebElement (session=\"e7a21488e978c1a31d7817e992b13561\", element=\"9f12291e-d643-4d33-8626-3d4035704f8f\")>,\n",
       " <selenium.webdriver.remote.webelement.WebElement (session=\"e7a21488e978c1a31d7817e992b13561\", element=\"bf8e9807-8564-4c45-8830-2b51781fd83a\")>,\n",
       " <selenium.webdriver.remote.webelement.WebElement (session=\"e7a21488e978c1a31d7817e992b13561\", element=\"878063c0-b2e8-4b3b-9c6a-25522fd7cfc7\")>,\n",
       " <selenium.webdriver.remote.webelement.WebElement (session=\"e7a21488e978c1a31d7817e992b13561\", element=\"18c39c2d-1990-4385-9e2c-658c28dcdbef\")>,\n",
       " <selenium.webdriver.remote.webelement.WebElement (session=\"e7a21488e978c1a31d7817e992b13561\", element=\"394fa38a-4ccf-46a6-a271-06f7a14dec02\")>,\n",
       " <selenium.webdriver.remote.webelement.WebElement (session=\"e7a21488e978c1a31d7817e992b13561\", element=\"63dde3f9-7b9d-4f5b-9895-5ac0559f15da\")>,\n",
       " <selenium.webdriver.remote.webelement.WebElement (session=\"e7a21488e978c1a31d7817e992b13561\", element=\"58a45d3a-36a6-48a4-8b88-13c5bc7a9e1b\")>,\n",
       " <selenium.webdriver.remote.webelement.WebElement (session=\"e7a21488e978c1a31d7817e992b13561\", element=\"51cb3131-65bb-44ec-9bd4-0b113d77e2b6\")>,\n",
       " <selenium.webdriver.remote.webelement.WebElement (session=\"e7a21488e978c1a31d7817e992b13561\", element=\"cb7d6f0b-99e2-4487-8a42-b07d4cc90810\")>,\n",
       " <selenium.webdriver.remote.webelement.WebElement (session=\"e7a21488e978c1a31d7817e992b13561\", element=\"5a74716d-df60-455d-89b3-9ec236373d22\")>,\n",
       " <selenium.webdriver.remote.webelement.WebElement (session=\"e7a21488e978c1a31d7817e992b13561\", element=\"33c03853-1049-4dbb-a62e-5884bc80e436\")>,\n",
       " <selenium.webdriver.remote.webelement.WebElement (session=\"e7a21488e978c1a31d7817e992b13561\", element=\"3495619f-6ae5-4099-9ec2-4761bac80511\")>,\n",
       " <selenium.webdriver.remote.webelement.WebElement (session=\"e7a21488e978c1a31d7817e992b13561\", element=\"6036415b-a926-48b0-8650-ce3118d7318e\")>,\n",
       " <selenium.webdriver.remote.webelement.WebElement (session=\"e7a21488e978c1a31d7817e992b13561\", element=\"00cceab1-5798-4a59-8b0f-0b9f20f66966\")>,\n",
       " <selenium.webdriver.remote.webelement.WebElement (session=\"e7a21488e978c1a31d7817e992b13561\", element=\"632453ff-c8af-4036-bce1-3e636abaf17a\")>,\n",
       " <selenium.webdriver.remote.webelement.WebElement (session=\"e7a21488e978c1a31d7817e992b13561\", element=\"ef1f1aea-eecb-4d4c-b3f8-e589142cf91c\")>,\n",
       " <selenium.webdriver.remote.webelement.WebElement (session=\"e7a21488e978c1a31d7817e992b13561\", element=\"23d2c7ce-443d-4a06-b1cc-268c5ed673d7\")>,\n",
       " <selenium.webdriver.remote.webelement.WebElement (session=\"e7a21488e978c1a31d7817e992b13561\", element=\"1811415c-22d0-45bc-818c-37ba93045907\")>,\n",
       " <selenium.webdriver.remote.webelement.WebElement (session=\"e7a21488e978c1a31d7817e992b13561\", element=\"82adcd05-a0e9-4fba-aaab-fc54701fbe9d\")>,\n",
       " <selenium.webdriver.remote.webelement.WebElement (session=\"e7a21488e978c1a31d7817e992b13561\", element=\"2939fcec-6a9d-49d2-8c03-3f2d7e0f2fd2\")>,\n",
       " <selenium.webdriver.remote.webelement.WebElement (session=\"e7a21488e978c1a31d7817e992b13561\", element=\"4d37a54e-439c-411d-a7ea-80b788a5df95\")>,\n",
       " <selenium.webdriver.remote.webelement.WebElement (session=\"e7a21488e978c1a31d7817e992b13561\", element=\"535dd17e-ddb2-4b53-8816-bb8ab8ad60be\")>,\n",
       " <selenium.webdriver.remote.webelement.WebElement (session=\"e7a21488e978c1a31d7817e992b13561\", element=\"47c1b1ca-5c75-4781-b786-1e8ab333a991\")>,\n",
       " <selenium.webdriver.remote.webelement.WebElement (session=\"e7a21488e978c1a31d7817e992b13561\", element=\"6e5d844e-f443-4f12-8333-4cdcf8946668\")>,\n",
       " <selenium.webdriver.remote.webelement.WebElement (session=\"e7a21488e978c1a31d7817e992b13561\", element=\"02cac934-e947-44a3-a9cc-68a416584421\")>,\n",
       " <selenium.webdriver.remote.webelement.WebElement (session=\"e7a21488e978c1a31d7817e992b13561\", element=\"76dead7b-520e-47cf-97b8-9834a511c96f\")>,\n",
       " <selenium.webdriver.remote.webelement.WebElement (session=\"e7a21488e978c1a31d7817e992b13561\", element=\"1e76dd2c-16a0-47f6-a393-498ca0c2561d\")>,\n",
       " <selenium.webdriver.remote.webelement.WebElement (session=\"e7a21488e978c1a31d7817e992b13561\", element=\"40833762-2e2d-45fc-a4d3-d2c1cfdb5353\")>,\n",
       " <selenium.webdriver.remote.webelement.WebElement (session=\"e7a21488e978c1a31d7817e992b13561\", element=\"73911703-df65-4a8c-9aa3-7991ca90a874\")>,\n",
       " <selenium.webdriver.remote.webelement.WebElement (session=\"e7a21488e978c1a31d7817e992b13561\", element=\"bf6d32c6-80d5-4046-9fa7-e4cc342c7a56\")>,\n",
       " <selenium.webdriver.remote.webelement.WebElement (session=\"e7a21488e978c1a31d7817e992b13561\", element=\"a8ba810c-6066-472a-83ce-bd23cd1d1ba3\")>,\n",
       " <selenium.webdriver.remote.webelement.WebElement (session=\"e7a21488e978c1a31d7817e992b13561\", element=\"aaa05790-128a-4e54-85dc-74ff2f982e94\")>,\n",
       " <selenium.webdriver.remote.webelement.WebElement (session=\"e7a21488e978c1a31d7817e992b13561\", element=\"311c231d-2b53-42ac-b870-c96854fd1954\")>,\n",
       " <selenium.webdriver.remote.webelement.WebElement (session=\"e7a21488e978c1a31d7817e992b13561\", element=\"b4a17bc6-f4a2-4a8d-b50c-3d1550acade6\")>,\n",
       " <selenium.webdriver.remote.webelement.WebElement (session=\"e7a21488e978c1a31d7817e992b13561\", element=\"ec15c588-541a-4770-858f-27b25a58e9a5\")>,\n",
       " <selenium.webdriver.remote.webelement.WebElement (session=\"e7a21488e978c1a31d7817e992b13561\", element=\"b01a17b2-353e-42a4-82e9-465335ecd539\")>,\n",
       " <selenium.webdriver.remote.webelement.WebElement (session=\"e7a21488e978c1a31d7817e992b13561\", element=\"c0206d7c-434b-49bc-8fc7-8bc71a419075\")>,\n",
       " <selenium.webdriver.remote.webelement.WebElement (session=\"e7a21488e978c1a31d7817e992b13561\", element=\"a3b98f3f-d08a-4542-abf2-13780f8beb36\")>,\n",
       " <selenium.webdriver.remote.webelement.WebElement (session=\"e7a21488e978c1a31d7817e992b13561\", element=\"d25c4188-c4e6-4412-a3ae-34383e901c7b\")>,\n",
       " <selenium.webdriver.remote.webelement.WebElement (session=\"e7a21488e978c1a31d7817e992b13561\", element=\"f83f4f4e-94c5-4e5b-af25-48bb65ffb90d\")>,\n",
       " <selenium.webdriver.remote.webelement.WebElement (session=\"e7a21488e978c1a31d7817e992b13561\", element=\"5dbd2702-3bcf-4bf5-9e35-7889085ec052\")>,\n",
       " <selenium.webdriver.remote.webelement.WebElement (session=\"e7a21488e978c1a31d7817e992b13561\", element=\"05d305a8-c020-47f2-b040-f0cfbf9d5eb6\")>,\n",
       " <selenium.webdriver.remote.webelement.WebElement (session=\"e7a21488e978c1a31d7817e992b13561\", element=\"e3cb5e90-468e-4e17-808b-9a1c2c3aae8d\")>,\n",
       " <selenium.webdriver.remote.webelement.WebElement (session=\"e7a21488e978c1a31d7817e992b13561\", element=\"df51d1bf-ccbc-49a5-b482-aa2b94953527\")>,\n",
       " <selenium.webdriver.remote.webelement.WebElement (session=\"e7a21488e978c1a31d7817e992b13561\", element=\"ef0db498-9794-47c0-b35c-f9801c010d70\")>,\n",
       " <selenium.webdriver.remote.webelement.WebElement (session=\"e7a21488e978c1a31d7817e992b13561\", element=\"3ae8a5df-1d8b-4c00-9e0f-a03b37636dcc\")>,\n",
       " <selenium.webdriver.remote.webelement.WebElement (session=\"e7a21488e978c1a31d7817e992b13561\", element=\"11e5912e-3f9e-4133-8db1-cdb69b30726b\")>,\n",
       " <selenium.webdriver.remote.webelement.WebElement (session=\"e7a21488e978c1a31d7817e992b13561\", element=\"04d99387-1d7c-494d-8c63-76b306ab5188\")>,\n",
       " <selenium.webdriver.remote.webelement.WebElement (session=\"e7a21488e978c1a31d7817e992b13561\", element=\"21c77279-a807-4788-9d73-82b982070bee\")>,\n",
       " <selenium.webdriver.remote.webelement.WebElement (session=\"e7a21488e978c1a31d7817e992b13561\", element=\"494254e4-3c30-4701-810b-bc2ef90c4ada\")>,\n",
       " <selenium.webdriver.remote.webelement.WebElement (session=\"e7a21488e978c1a31d7817e992b13561\", element=\"846b2ff3-1f89-492a-ac27-9d28383b1e33\")>,\n",
       " <selenium.webdriver.remote.webelement.WebElement (session=\"e7a21488e978c1a31d7817e992b13561\", element=\"2ce9319f-78ee-4c5d-8600-734aa85a40c3\")>,\n",
       " <selenium.webdriver.remote.webelement.WebElement (session=\"e7a21488e978c1a31d7817e992b13561\", element=\"06c33ee8-7436-438d-8b40-be09591e495c\")>,\n",
       " <selenium.webdriver.remote.webelement.WebElement (session=\"e7a21488e978c1a31d7817e992b13561\", element=\"350f63e5-80e9-4507-9fb1-656f2681dff3\")>,\n",
       " <selenium.webdriver.remote.webelement.WebElement (session=\"e7a21488e978c1a31d7817e992b13561\", element=\"4ba98bd7-4ad5-46d3-937f-cf9f4bfa3cbc\")>,\n",
       " <selenium.webdriver.remote.webelement.WebElement (session=\"e7a21488e978c1a31d7817e992b13561\", element=\"e31bc23d-6650-4396-bc3d-01dd3c3ff3dc\")>,\n",
       " <selenium.webdriver.remote.webelement.WebElement (session=\"e7a21488e978c1a31d7817e992b13561\", element=\"9f67ebbd-d28d-42b6-b3f4-fc18200fb1e9\")>,\n",
       " <selenium.webdriver.remote.webelement.WebElement (session=\"e7a21488e978c1a31d7817e992b13561\", element=\"34c06238-f887-48e1-9fb2-61e75cd738bd\")>,\n",
       " <selenium.webdriver.remote.webelement.WebElement (session=\"e7a21488e978c1a31d7817e992b13561\", element=\"ece65cac-5dc5-4625-a5f5-88ff3502c19e\")>,\n",
       " <selenium.webdriver.remote.webelement.WebElement (session=\"e7a21488e978c1a31d7817e992b13561\", element=\"9278b66e-3af8-44b4-a60e-4e032ac115e2\")>,\n",
       " <selenium.webdriver.remote.webelement.WebElement (session=\"e7a21488e978c1a31d7817e992b13561\", element=\"1b738ec8-0e82-450c-a7d4-187cac3b4d86\")>,\n",
       " <selenium.webdriver.remote.webelement.WebElement (session=\"e7a21488e978c1a31d7817e992b13561\", element=\"7904ba99-d939-4f11-818c-0ea7ae04f0fe\")>,\n",
       " <selenium.webdriver.remote.webelement.WebElement (session=\"e7a21488e978c1a31d7817e992b13561\", element=\"c5b9a8d7-fd74-459b-b80b-5ad62057b1f7\")>,\n",
       " <selenium.webdriver.remote.webelement.WebElement (session=\"e7a21488e978c1a31d7817e992b13561\", element=\"623d23e2-8b61-4ffd-9d56-e8cc9789314d\")>,\n",
       " <selenium.webdriver.remote.webelement.WebElement (session=\"e7a21488e978c1a31d7817e992b13561\", element=\"2c2bfd51-c741-43b0-bfe2-0d4da7de2a84\")>,\n",
       " <selenium.webdriver.remote.webelement.WebElement (session=\"e7a21488e978c1a31d7817e992b13561\", element=\"68498762-4c18-4d47-92fb-f3fdbae67279\")>,\n",
       " <selenium.webdriver.remote.webelement.WebElement (session=\"e7a21488e978c1a31d7817e992b13561\", element=\"55677efa-7f6a-4bd0-a4f8-70a7a2ea3070\")>,\n",
       " <selenium.webdriver.remote.webelement.WebElement (session=\"e7a21488e978c1a31d7817e992b13561\", element=\"7c2d15b1-517c-4948-92e6-ce391230ef97\")>,\n",
       " <selenium.webdriver.remote.webelement.WebElement (session=\"e7a21488e978c1a31d7817e992b13561\", element=\"49e70368-b947-4dea-89df-a3c7b2da26cf\")>,\n",
       " <selenium.webdriver.remote.webelement.WebElement (session=\"e7a21488e978c1a31d7817e992b13561\", element=\"a540585f-42f8-4431-a838-4d34c333b30d\")>,\n",
       " <selenium.webdriver.remote.webelement.WebElement (session=\"e7a21488e978c1a31d7817e992b13561\", element=\"c55eb246-21a5-49bb-9e31-18bac3c6137b\")>,\n",
       " <selenium.webdriver.remote.webelement.WebElement (session=\"e7a21488e978c1a31d7817e992b13561\", element=\"b4a4b31a-39b7-49bb-9c7b-66d31db8bc48\")>,\n",
       " <selenium.webdriver.remote.webelement.WebElement (session=\"e7a21488e978c1a31d7817e992b13561\", element=\"aad1f078-38c1-4afe-a498-3eec15cd2b8c\")>,\n",
       " <selenium.webdriver.remote.webelement.WebElement (session=\"e7a21488e978c1a31d7817e992b13561\", element=\"e96ac446-9876-4ac2-bab8-b09026ea7a95\")>,\n",
       " <selenium.webdriver.remote.webelement.WebElement (session=\"e7a21488e978c1a31d7817e992b13561\", element=\"b5a3a861-76fc-41e6-b0ac-ac9489cad343\")>,\n",
       " <selenium.webdriver.remote.webelement.WebElement (session=\"e7a21488e978c1a31d7817e992b13561\", element=\"a4b73997-9443-4df1-95d3-cfa41705c38a\")>,\n",
       " <selenium.webdriver.remote.webelement.WebElement (session=\"e7a21488e978c1a31d7817e992b13561\", element=\"1d6fb9e6-269b-485e-a85c-35acf42f749e\")>,\n",
       " <selenium.webdriver.remote.webelement.WebElement (session=\"e7a21488e978c1a31d7817e992b13561\", element=\"e81f27ca-3ee4-4ba6-a40e-e8ffd33f2e9c\")>,\n",
       " <selenium.webdriver.remote.webelement.WebElement (session=\"e7a21488e978c1a31d7817e992b13561\", element=\"bb3627c5-8a9a-4326-a448-4d004a65118b\")>,\n",
       " <selenium.webdriver.remote.webelement.WebElement (session=\"e7a21488e978c1a31d7817e992b13561\", element=\"356fc66b-8a2e-4f82-9869-d09d603eec74\")>,\n",
       " <selenium.webdriver.remote.webelement.WebElement (session=\"e7a21488e978c1a31d7817e992b13561\", element=\"d6049b2d-488e-4be4-95b8-d5635dbc417c\")>,\n",
       " <selenium.webdriver.remote.webelement.WebElement (session=\"e7a21488e978c1a31d7817e992b13561\", element=\"c86a7b10-7cd1-4061-8683-1fe9be8baef8\")>,\n",
       " <selenium.webdriver.remote.webelement.WebElement (session=\"e7a21488e978c1a31d7817e992b13561\", element=\"a140dece-32fb-41f9-890d-036467d8cd8a\")>,\n",
       " <selenium.webdriver.remote.webelement.WebElement (session=\"e7a21488e978c1a31d7817e992b13561\", element=\"6838de2d-b78b-440b-a3f7-937adc29d9e9\")>,\n",
       " <selenium.webdriver.remote.webelement.WebElement (session=\"e7a21488e978c1a31d7817e992b13561\", element=\"4ad2a7f8-27cc-4c40-ab23-c1e1f0c12ae3\")>,\n",
       " <selenium.webdriver.remote.webelement.WebElement (session=\"e7a21488e978c1a31d7817e992b13561\", element=\"7a5aaf21-48c2-49d4-a8e0-c0b5bcf474fb\")>,\n",
       " <selenium.webdriver.remote.webelement.WebElement (session=\"e7a21488e978c1a31d7817e992b13561\", element=\"152a0440-6366-4ba2-86ff-d95aacf95b15\")>,\n",
       " <selenium.webdriver.remote.webelement.WebElement (session=\"e7a21488e978c1a31d7817e992b13561\", element=\"91357bcb-867b-4b12-afe0-2374a068a4a8\")>,\n",
       " <selenium.webdriver.remote.webelement.WebElement (session=\"e7a21488e978c1a31d7817e992b13561\", element=\"1aa3a93b-9b63-4e54-86b8-6a72d865229b\")>,\n",
       " <selenium.webdriver.remote.webelement.WebElement (session=\"e7a21488e978c1a31d7817e992b13561\", element=\"7ba3f65e-2eb6-46f6-ab28-b2e5c5784c9b\")>,\n",
       " <selenium.webdriver.remote.webelement.WebElement (session=\"e7a21488e978c1a31d7817e992b13561\", element=\"ed7f2b0b-66f3-412b-a863-c8d254ad0fe6\")>,\n",
       " <selenium.webdriver.remote.webelement.WebElement (session=\"e7a21488e978c1a31d7817e992b13561\", element=\"eecd4133-ba9d-4838-8a2f-9266748b52c7\")>,\n",
       " <selenium.webdriver.remote.webelement.WebElement (session=\"e7a21488e978c1a31d7817e992b13561\", element=\"3444643f-65cb-46f6-b10b-01b6849df100\")>,\n",
       " <selenium.webdriver.remote.webelement.WebElement (session=\"e7a21488e978c1a31d7817e992b13561\", element=\"b13a1fea-3c3c-416a-9ff8-0c47d518832c\")>,\n",
       " <selenium.webdriver.remote.webelement.WebElement (session=\"e7a21488e978c1a31d7817e992b13561\", element=\"eda49ce0-1801-43ea-be53-cf3d0ace17b3\")>,\n",
       " <selenium.webdriver.remote.webelement.WebElement (session=\"e7a21488e978c1a31d7817e992b13561\", element=\"173802ef-10c1-41ca-b43d-bb7b045fe1aa\")>,\n",
       " <selenium.webdriver.remote.webelement.WebElement (session=\"e7a21488e978c1a31d7817e992b13561\", element=\"e418e75e-ac8b-45f8-93f1-5e4707ac9c82\")>,\n",
       " <selenium.webdriver.remote.webelement.WebElement (session=\"e7a21488e978c1a31d7817e992b13561\", element=\"87b3c88d-0692-4a22-a0b9-0d5dab23daf4\")>,\n",
       " <selenium.webdriver.remote.webelement.WebElement (session=\"e7a21488e978c1a31d7817e992b13561\", element=\"637fa83f-b2ed-4ba5-95a2-6eb99291582e\")>,\n",
       " <selenium.webdriver.remote.webelement.WebElement (session=\"e7a21488e978c1a31d7817e992b13561\", element=\"b8d02319-aeac-4bfc-880a-2192b730a868\")>,\n",
       " <selenium.webdriver.remote.webelement.WebElement (session=\"e7a21488e978c1a31d7817e992b13561\", element=\"52c596ba-b92e-464f-9421-45360fb2898e\")>,\n",
       " <selenium.webdriver.remote.webelement.WebElement (session=\"e7a21488e978c1a31d7817e992b13561\", element=\"40e9f042-1dcd-4e87-bc0e-7e438687230c\")>,\n",
       " <selenium.webdriver.remote.webelement.WebElement (session=\"e7a21488e978c1a31d7817e992b13561\", element=\"e31c2705-118a-4eeb-b105-a113187ec7a0\")>,\n",
       " <selenium.webdriver.remote.webelement.WebElement (session=\"e7a21488e978c1a31d7817e992b13561\", element=\"f133219d-22c9-42c3-bdfa-d997c5031094\")>,\n",
       " <selenium.webdriver.remote.webelement.WebElement (session=\"e7a21488e978c1a31d7817e992b13561\", element=\"ac071273-2e25-4c5b-a251-f8027460fecc\")>,\n",
       " <selenium.webdriver.remote.webelement.WebElement (session=\"e7a21488e978c1a31d7817e992b13561\", element=\"706bd7bd-3fc3-4477-aa4f-a5b5f5af5c88\")>,\n",
       " <selenium.webdriver.remote.webelement.WebElement (session=\"e7a21488e978c1a31d7817e992b13561\", element=\"cc472d39-6ffa-45da-ae97-ec449a780aaa\")>,\n",
       " <selenium.webdriver.remote.webelement.WebElement (session=\"e7a21488e978c1a31d7817e992b13561\", element=\"4f495b1b-5263-430f-8139-88fa7fc77980\")>,\n",
       " <selenium.webdriver.remote.webelement.WebElement (session=\"e7a21488e978c1a31d7817e992b13561\", element=\"0b202f40-4959-4af7-9e5f-ec1ac944fd76\")>,\n",
       " <selenium.webdriver.remote.webelement.WebElement (session=\"e7a21488e978c1a31d7817e992b13561\", element=\"7d9e7ca3-f998-447e-b467-67b6a4ac3f59\")>,\n",
       " <selenium.webdriver.remote.webelement.WebElement (session=\"e7a21488e978c1a31d7817e992b13561\", element=\"8112d4f9-9eb2-4a41-bb0b-bfb1675a5ad5\")>,\n",
       " <selenium.webdriver.remote.webelement.WebElement (session=\"e7a21488e978c1a31d7817e992b13561\", element=\"ab20dc94-a47a-48b7-ade3-64e2175f4591\")>,\n",
       " <selenium.webdriver.remote.webelement.WebElement (session=\"e7a21488e978c1a31d7817e992b13561\", element=\"567e0eed-fca7-4f8b-93ac-337d82020588\")>,\n",
       " <selenium.webdriver.remote.webelement.WebElement (session=\"e7a21488e978c1a31d7817e992b13561\", element=\"e1baa1fd-9979-4765-af54-3305b0314df2\")>,\n",
       " <selenium.webdriver.remote.webelement.WebElement (session=\"e7a21488e978c1a31d7817e992b13561\", element=\"780a6699-8e42-4f35-bde2-9a202289788d\")>,\n",
       " <selenium.webdriver.remote.webelement.WebElement (session=\"e7a21488e978c1a31d7817e992b13561\", element=\"d0041028-13df-431a-88bd-830506325d10\")>,\n",
       " <selenium.webdriver.remote.webelement.WebElement (session=\"e7a21488e978c1a31d7817e992b13561\", element=\"9086425b-4a77-4dff-b335-b0b108826365\")>,\n",
       " <selenium.webdriver.remote.webelement.WebElement (session=\"e7a21488e978c1a31d7817e992b13561\", element=\"6c5cc461-7c23-46d6-8f31-ec3210d3c655\")>,\n",
       " <selenium.webdriver.remote.webelement.WebElement (session=\"e7a21488e978c1a31d7817e992b13561\", element=\"9a93cb22-a25c-4a4a-af53-aa4db9dc73b3\")>,\n",
       " <selenium.webdriver.remote.webelement.WebElement (session=\"e7a21488e978c1a31d7817e992b13561\", element=\"10f3d0ae-46f6-4f67-8701-50dfd7aa6c66\")>,\n",
       " <selenium.webdriver.remote.webelement.WebElement (session=\"e7a21488e978c1a31d7817e992b13561\", element=\"dd67dfb4-3ce3-4f9e-9261-879d65534a95\")>,\n",
       " <selenium.webdriver.remote.webelement.WebElement (session=\"e7a21488e978c1a31d7817e992b13561\", element=\"ad18c20c-43a4-4b0a-a958-aad193ccc213\")>,\n",
       " <selenium.webdriver.remote.webelement.WebElement (session=\"e7a21488e978c1a31d7817e992b13561\", element=\"d5bff2d0-2680-403c-ae03-0504ab1311e7\")>,\n",
       " <selenium.webdriver.remote.webelement.WebElement (session=\"e7a21488e978c1a31d7817e992b13561\", element=\"1442c568-c7be-445a-b397-cc2960e45dda\")>,\n",
       " <selenium.webdriver.remote.webelement.WebElement (session=\"e7a21488e978c1a31d7817e992b13561\", element=\"966f381d-bf00-462a-a1ff-888042fb6f72\")>,\n",
       " <selenium.webdriver.remote.webelement.WebElement (session=\"e7a21488e978c1a31d7817e992b13561\", element=\"11b5e5fb-44cd-4823-98df-506eae6b703c\")>,\n",
       " <selenium.webdriver.remote.webelement.WebElement (session=\"e7a21488e978c1a31d7817e992b13561\", element=\"da3d9825-f24a-4ed3-96df-86b3f723294c\")>,\n",
       " <selenium.webdriver.remote.webelement.WebElement (session=\"e7a21488e978c1a31d7817e992b13561\", element=\"4af27005-27b1-4e32-a12f-4d192ad5d9a9\")>,\n",
       " <selenium.webdriver.remote.webelement.WebElement (session=\"e7a21488e978c1a31d7817e992b13561\", element=\"65904d41-40c4-4d0e-89e7-28555940ca79\")>,\n",
       " <selenium.webdriver.remote.webelement.WebElement (session=\"e7a21488e978c1a31d7817e992b13561\", element=\"45acee47-e5d3-4700-b9c6-5ba61cde2d4b\")>,\n",
       " <selenium.webdriver.remote.webelement.WebElement (session=\"e7a21488e978c1a31d7817e992b13561\", element=\"4d933555-b46e-4372-9c84-33d5af0954ce\")>,\n",
       " <selenium.webdriver.remote.webelement.WebElement (session=\"e7a21488e978c1a31d7817e992b13561\", element=\"f24801c5-111d-414a-acb5-37fe562de4f2\")>,\n",
       " <selenium.webdriver.remote.webelement.WebElement (session=\"e7a21488e978c1a31d7817e992b13561\", element=\"1087195f-ca88-4366-ba05-f7d854d904a1\")>,\n",
       " <selenium.webdriver.remote.webelement.WebElement (session=\"e7a21488e978c1a31d7817e992b13561\", element=\"2c79925b-201a-4328-891a-fba0a1c08770\")>,\n",
       " <selenium.webdriver.remote.webelement.WebElement (session=\"e7a21488e978c1a31d7817e992b13561\", element=\"5353382f-d9a0-448a-b225-df7e7b0c126a\")>,\n",
       " <selenium.webdriver.remote.webelement.WebElement (session=\"e7a21488e978c1a31d7817e992b13561\", element=\"da962f5d-268b-48e2-9e68-381926cd0a42\")>,\n",
       " <selenium.webdriver.remote.webelement.WebElement (session=\"e7a21488e978c1a31d7817e992b13561\", element=\"e103c09d-177d-43aa-a8db-c8e3bb94826d\")>,\n",
       " <selenium.webdriver.remote.webelement.WebElement (session=\"e7a21488e978c1a31d7817e992b13561\", element=\"69b51b0d-f846-4154-9457-82f0238092eb\")>,\n",
       " <selenium.webdriver.remote.webelement.WebElement (session=\"e7a21488e978c1a31d7817e992b13561\", element=\"ed3cf87a-4fcd-428d-9803-78ee93339cb1\")>,\n",
       " <selenium.webdriver.remote.webelement.WebElement (session=\"e7a21488e978c1a31d7817e992b13561\", element=\"ac7162b1-d61a-451f-bfc6-4a1054232948\")>,\n",
       " <selenium.webdriver.remote.webelement.WebElement (session=\"e7a21488e978c1a31d7817e992b13561\", element=\"8b1c107e-69a0-458d-ae67-4c26cbb6e915\")>,\n",
       " <selenium.webdriver.remote.webelement.WebElement (session=\"e7a21488e978c1a31d7817e992b13561\", element=\"a4543d39-7982-4914-b08f-25b70bf4ea7d\")>,\n",
       " <selenium.webdriver.remote.webelement.WebElement (session=\"e7a21488e978c1a31d7817e992b13561\", element=\"dab5da84-691a-48d5-85d4-aca5480940ac\")>,\n",
       " <selenium.webdriver.remote.webelement.WebElement (session=\"e7a21488e978c1a31d7817e992b13561\", element=\"3c7438b0-df58-4fd2-9034-9db6ace2555e\")>,\n",
       " <selenium.webdriver.remote.webelement.WebElement (session=\"e7a21488e978c1a31d7817e992b13561\", element=\"c5fab143-e8fa-4059-ac17-0d2db73c10b1\")>,\n",
       " <selenium.webdriver.remote.webelement.WebElement (session=\"e7a21488e978c1a31d7817e992b13561\", element=\"6c604bb0-d5a5-4ebb-a0a0-fe8c7a42789a\")>,\n",
       " <selenium.webdriver.remote.webelement.WebElement (session=\"e7a21488e978c1a31d7817e992b13561\", element=\"fbaeba78-2f83-46d2-bcac-959aa7e00301\")>,\n",
       " <selenium.webdriver.remote.webelement.WebElement (session=\"e7a21488e978c1a31d7817e992b13561\", element=\"346d343d-5c5e-493a-91c6-b3e31ed96257\")>,\n",
       " <selenium.webdriver.remote.webelement.WebElement (session=\"e7a21488e978c1a31d7817e992b13561\", element=\"ce45746d-79e0-415d-a430-dec046ffd8cd\")>,\n",
       " <selenium.webdriver.remote.webelement.WebElement (session=\"e7a21488e978c1a31d7817e992b13561\", element=\"38c6a4c1-3d93-41cf-9631-df5c13ee0b38\")>,\n",
       " <selenium.webdriver.remote.webelement.WebElement (session=\"e7a21488e978c1a31d7817e992b13561\", element=\"4249b1a8-2ec7-4b7b-b51d-a1e691518208\")>,\n",
       " <selenium.webdriver.remote.webelement.WebElement (session=\"e7a21488e978c1a31d7817e992b13561\", element=\"0c0cc7bc-b54f-419e-b81c-6be824fb63db\")>,\n",
       " <selenium.webdriver.remote.webelement.WebElement (session=\"e7a21488e978c1a31d7817e992b13561\", element=\"f84f5b4c-93c5-451d-844d-4ec53ea9a0d9\")>,\n",
       " <selenium.webdriver.remote.webelement.WebElement (session=\"e7a21488e978c1a31d7817e992b13561\", element=\"92e6b297-801e-46f9-a86a-6e5615bbef49\")>,\n",
       " <selenium.webdriver.remote.webelement.WebElement (session=\"e7a21488e978c1a31d7817e992b13561\", element=\"ad3c0d07-a7e6-4ece-bd08-92b88508fc19\")>,\n",
       " <selenium.webdriver.remote.webelement.WebElement (session=\"e7a21488e978c1a31d7817e992b13561\", element=\"dec3ebbe-0fe9-4b19-b0f8-b0235122c156\")>,\n",
       " <selenium.webdriver.remote.webelement.WebElement (session=\"e7a21488e978c1a31d7817e992b13561\", element=\"797632ed-1978-4691-aa8d-d00502cf3644\")>,\n",
       " <selenium.webdriver.remote.webelement.WebElement (session=\"e7a21488e978c1a31d7817e992b13561\", element=\"d646d873-ff22-45b4-bb46-cc7c9a9d7e11\")>,\n",
       " <selenium.webdriver.remote.webelement.WebElement (session=\"e7a21488e978c1a31d7817e992b13561\", element=\"254b4786-61c4-4777-a740-f6de2692ccdb\")>,\n",
       " <selenium.webdriver.remote.webelement.WebElement (session=\"e7a21488e978c1a31d7817e992b13561\", element=\"598db9a1-0f34-4907-9b5b-1ea31eb34013\")>,\n",
       " <selenium.webdriver.remote.webelement.WebElement (session=\"e7a21488e978c1a31d7817e992b13561\", element=\"3646aefc-4e4e-4faf-9bb4-d1120eb15e7f\")>,\n",
       " <selenium.webdriver.remote.webelement.WebElement (session=\"e7a21488e978c1a31d7817e992b13561\", element=\"c68596d6-8eac-4778-9fd7-18cbee319b6f\")>,\n",
       " <selenium.webdriver.remote.webelement.WebElement (session=\"e7a21488e978c1a31d7817e992b13561\", element=\"f228f5e4-0d6f-49dc-9dd5-b8f7731bbbfd\")>,\n",
       " <selenium.webdriver.remote.webelement.WebElement (session=\"e7a21488e978c1a31d7817e992b13561\", element=\"4989e6df-7079-4639-8f40-346149d80edd\")>,\n",
       " <selenium.webdriver.remote.webelement.WebElement (session=\"e7a21488e978c1a31d7817e992b13561\", element=\"6ced0ac8-1c8b-4500-8862-a6fe7783deb3\")>,\n",
       " <selenium.webdriver.remote.webelement.WebElement (session=\"e7a21488e978c1a31d7817e992b13561\", element=\"dd52960b-cf6e-4103-bbd2-59323d14094d\")>,\n",
       " <selenium.webdriver.remote.webelement.WebElement (session=\"e7a21488e978c1a31d7817e992b13561\", element=\"f484be32-61b5-4dde-8cdd-cf178e1cc45a\")>,\n",
       " <selenium.webdriver.remote.webelement.WebElement (session=\"e7a21488e978c1a31d7817e992b13561\", element=\"829a441a-200c-4c36-b7d1-9571bc0bb6a6\")>,\n",
       " <selenium.webdriver.remote.webelement.WebElement (session=\"e7a21488e978c1a31d7817e992b13561\", element=\"22f18082-a089-4eb0-a732-8461f2258191\")>,\n",
       " <selenium.webdriver.remote.webelement.WebElement (session=\"e7a21488e978c1a31d7817e992b13561\", element=\"b72aa849-963a-4432-b53c-1d1dbebf9731\")>,\n",
       " <selenium.webdriver.remote.webelement.WebElement (session=\"e7a21488e978c1a31d7817e992b13561\", element=\"902823fd-5465-49b5-a634-3dabe9884ba2\")>,\n",
       " <selenium.webdriver.remote.webelement.WebElement (session=\"e7a21488e978c1a31d7817e992b13561\", element=\"b19c76b8-434d-4249-9a2b-ae42056c16dc\")>,\n",
       " <selenium.webdriver.remote.webelement.WebElement (session=\"e7a21488e978c1a31d7817e992b13561\", element=\"ef6f84d1-caec-4f78-95c3-4860fb333428\")>,\n",
       " <selenium.webdriver.remote.webelement.WebElement (session=\"e7a21488e978c1a31d7817e992b13561\", element=\"0abfcbbb-4d29-452f-9f86-49b6b6cc45c2\")>,\n",
       " <selenium.webdriver.remote.webelement.WebElement (session=\"e7a21488e978c1a31d7817e992b13561\", element=\"ededfc00-f60e-45d4-8a04-aa11cbdf328a\")>,\n",
       " <selenium.webdriver.remote.webelement.WebElement (session=\"e7a21488e978c1a31d7817e992b13561\", element=\"388a039c-c0e6-4928-bf38-fa247d9cc63e\")>,\n",
       " <selenium.webdriver.remote.webelement.WebElement (session=\"e7a21488e978c1a31d7817e992b13561\", element=\"7ceb70ea-e55e-4b6e-8088-33e4e8288929\")>,\n",
       " <selenium.webdriver.remote.webelement.WebElement (session=\"e7a21488e978c1a31d7817e992b13561\", element=\"3459cc0d-a7a1-41cb-af08-1ed7501c0e4e\")>,\n",
       " <selenium.webdriver.remote.webelement.WebElement (session=\"e7a21488e978c1a31d7817e992b13561\", element=\"529a6893-b0c2-4c14-aeb8-3ff2797543a6\")>,\n",
       " <selenium.webdriver.remote.webelement.WebElement (session=\"e7a21488e978c1a31d7817e992b13561\", element=\"6143574f-c881-49b3-aba9-2d3b1c72b192\")>,\n",
       " <selenium.webdriver.remote.webelement.WebElement (session=\"e7a21488e978c1a31d7817e992b13561\", element=\"1034e193-f9a4-4f66-b34c-e775474eadbd\")>,\n",
       " <selenium.webdriver.remote.webelement.WebElement (session=\"e7a21488e978c1a31d7817e992b13561\", element=\"0c464b65-da1c-4644-bf85-694d44dc5bd3\")>,\n",
       " <selenium.webdriver.remote.webelement.WebElement (session=\"e7a21488e978c1a31d7817e992b13561\", element=\"fe79b5c5-293e-4485-961b-ee69bd5fceb4\")>,\n",
       " <selenium.webdriver.remote.webelement.WebElement (session=\"e7a21488e978c1a31d7817e992b13561\", element=\"23f5a514-2ca9-4099-9877-7fe4061bf334\")>,\n",
       " <selenium.webdriver.remote.webelement.WebElement (session=\"e7a21488e978c1a31d7817e992b13561\", element=\"a95ad7cf-585c-462a-888b-21e2cddec46c\")>,\n",
       " <selenium.webdriver.remote.webelement.WebElement (session=\"e7a21488e978c1a31d7817e992b13561\", element=\"ec070112-a604-457f-a6e6-4f881aab103a\")>,\n",
       " <selenium.webdriver.remote.webelement.WebElement (session=\"e7a21488e978c1a31d7817e992b13561\", element=\"34b2dccb-3fb0-4498-9288-1b861c9574c3\")>,\n",
       " <selenium.webdriver.remote.webelement.WebElement (session=\"e7a21488e978c1a31d7817e992b13561\", element=\"7b525d5f-d7ae-48f1-9fe2-0a483f767dd9\")>,\n",
       " <selenium.webdriver.remote.webelement.WebElement (session=\"e7a21488e978c1a31d7817e992b13561\", element=\"c918ad9c-9c50-40e3-8a9e-c32d2b1a774c\")>,\n",
       " <selenium.webdriver.remote.webelement.WebElement (session=\"e7a21488e978c1a31d7817e992b13561\", element=\"3fe46fc0-68b9-47fa-b2a2-cfcd149b2b7f\")>,\n",
       " <selenium.webdriver.remote.webelement.WebElement (session=\"e7a21488e978c1a31d7817e992b13561\", element=\"e7c45b37-d2e2-43f3-93cc-dfd82d7be0c4\")>,\n",
       " <selenium.webdriver.remote.webelement.WebElement (session=\"e7a21488e978c1a31d7817e992b13561\", element=\"900e3f0e-159c-4c17-b5e2-7c143983c9b6\")>,\n",
       " <selenium.webdriver.remote.webelement.WebElement (session=\"e7a21488e978c1a31d7817e992b13561\", element=\"de9999f0-522a-43a6-8457-b23675f8f0b4\")>,\n",
       " <selenium.webdriver.remote.webelement.WebElement (session=\"e7a21488e978c1a31d7817e992b13561\", element=\"3f101ada-3458-4c6b-8da0-a88c36210cc3\")>,\n",
       " <selenium.webdriver.remote.webelement.WebElement (session=\"e7a21488e978c1a31d7817e992b13561\", element=\"9c2c7156-b8f1-4196-af47-0eaffa10c601\")>,\n",
       " <selenium.webdriver.remote.webelement.WebElement (session=\"e7a21488e978c1a31d7817e992b13561\", element=\"30cdc97a-417d-4d03-8676-1df5dac084ea\")>,\n",
       " <selenium.webdriver.remote.webelement.WebElement (session=\"e7a21488e978c1a31d7817e992b13561\", element=\"af4e2350-6b3e-4450-adac-480228ff268a\")>,\n",
       " <selenium.webdriver.remote.webelement.WebElement (session=\"e7a21488e978c1a31d7817e992b13561\", element=\"395a8cc5-232d-4c11-9ee7-95c833c1172e\")>,\n",
       " <selenium.webdriver.remote.webelement.WebElement (session=\"e7a21488e978c1a31d7817e992b13561\", element=\"4fd703b8-42df-47b9-a307-78b2fa0677a1\")>,\n",
       " <selenium.webdriver.remote.webelement.WebElement (session=\"e7a21488e978c1a31d7817e992b13561\", element=\"20330b0c-e3c5-4619-af81-5904a5a9fae9\")>,\n",
       " <selenium.webdriver.remote.webelement.WebElement (session=\"e7a21488e978c1a31d7817e992b13561\", element=\"dde486a9-dab0-4e41-8c57-4475ab841dca\")>,\n",
       " <selenium.webdriver.remote.webelement.WebElement (session=\"e7a21488e978c1a31d7817e992b13561\", element=\"2fb49aef-9fc0-45c0-84ce-af8eb358ceff\")>,\n",
       " <selenium.webdriver.remote.webelement.WebElement (session=\"e7a21488e978c1a31d7817e992b13561\", element=\"34a60c87-799e-4bbd-b17f-95cef24a2371\")>,\n",
       " <selenium.webdriver.remote.webelement.WebElement (session=\"e7a21488e978c1a31d7817e992b13561\", element=\"5130a2f8-72cc-4900-bcfe-a749d6c1d77e\")>,\n",
       " <selenium.webdriver.remote.webelement.WebElement (session=\"e7a21488e978c1a31d7817e992b13561\", element=\"a4c32e38-2313-422b-b394-28fe7f88f6b0\")>,\n",
       " <selenium.webdriver.remote.webelement.WebElement (session=\"e7a21488e978c1a31d7817e992b13561\", element=\"9186382f-f444-47c9-9264-d158470164c8\")>,\n",
       " <selenium.webdriver.remote.webelement.WebElement (session=\"e7a21488e978c1a31d7817e992b13561\", element=\"0174c118-cd7e-4735-9456-a44dc357efa6\")>,\n",
       " <selenium.webdriver.remote.webelement.WebElement (session=\"e7a21488e978c1a31d7817e992b13561\", element=\"144d4070-36cb-4185-af2a-479ba470cd9d\")>,\n",
       " <selenium.webdriver.remote.webelement.WebElement (session=\"e7a21488e978c1a31d7817e992b13561\", element=\"40953f23-7b15-4485-8399-866a07dac490\")>,\n",
       " <selenium.webdriver.remote.webelement.WebElement (session=\"e7a21488e978c1a31d7817e992b13561\", element=\"faa57e65-a3b1-4f74-8ff0-945e43cb9ea4\")>,\n",
       " <selenium.webdriver.remote.webelement.WebElement (session=\"e7a21488e978c1a31d7817e992b13561\", element=\"93b94bdd-abd0-4f3f-9f46-71c6fba817a8\")>,\n",
       " <selenium.webdriver.remote.webelement.WebElement (session=\"e7a21488e978c1a31d7817e992b13561\", element=\"136509c0-0e36-458d-9dc6-8d3a2f7636bb\")>,\n",
       " <selenium.webdriver.remote.webelement.WebElement (session=\"e7a21488e978c1a31d7817e992b13561\", element=\"92fe840d-9f7a-407d-b65d-41c1aa3644b5\")>,\n",
       " <selenium.webdriver.remote.webelement.WebElement (session=\"e7a21488e978c1a31d7817e992b13561\", element=\"cee61b43-08fb-4d32-8b25-449c753b1aad\")>,\n",
       " <selenium.webdriver.remote.webelement.WebElement (session=\"e7a21488e978c1a31d7817e992b13561\", element=\"0d03c843-510b-4f1c-b28f-fcf687257559\")>,\n",
       " <selenium.webdriver.remote.webelement.WebElement (session=\"e7a21488e978c1a31d7817e992b13561\", element=\"5247588c-50f9-4390-886c-149a58dd1722\")>,\n",
       " <selenium.webdriver.remote.webelement.WebElement (session=\"e7a21488e978c1a31d7817e992b13561\", element=\"3bf9cebd-c1e0-483e-8e82-9d1ef889878a\")>,\n",
       " <selenium.webdriver.remote.webelement.WebElement (session=\"e7a21488e978c1a31d7817e992b13561\", element=\"3ed79503-7a9b-4eee-994a-fecbf0fc6460\")>,\n",
       " <selenium.webdriver.remote.webelement.WebElement (session=\"e7a21488e978c1a31d7817e992b13561\", element=\"5fe382a5-5a50-421c-a599-3ef11669dffd\")>,\n",
       " <selenium.webdriver.remote.webelement.WebElement (session=\"e7a21488e978c1a31d7817e992b13561\", element=\"bc529ce1-01b6-4ea5-aec6-2971338d3bc8\")>,\n",
       " <selenium.webdriver.remote.webelement.WebElement (session=\"e7a21488e978c1a31d7817e992b13561\", element=\"63ffc058-cc01-4585-940c-439c03a2a1d1\")>,\n",
       " <selenium.webdriver.remote.webelement.WebElement (session=\"e7a21488e978c1a31d7817e992b13561\", element=\"f2fcf3ec-a62b-445b-8596-43c0b51f496a\")>,\n",
       " <selenium.webdriver.remote.webelement.WebElement (session=\"e7a21488e978c1a31d7817e992b13561\", element=\"842240f5-2f96-46a8-938c-4e43b10a95db\")>,\n",
       " <selenium.webdriver.remote.webelement.WebElement (session=\"e7a21488e978c1a31d7817e992b13561\", element=\"f61966a7-f744-4846-94aa-b26a464904e3\")>,\n",
       " <selenium.webdriver.remote.webelement.WebElement (session=\"e7a21488e978c1a31d7817e992b13561\", element=\"5c8c348f-389d-4886-a93d-82d0ce12ab01\")>,\n",
       " <selenium.webdriver.remote.webelement.WebElement (session=\"e7a21488e978c1a31d7817e992b13561\", element=\"cae761a9-898e-4f24-9089-5f57c107e357\")>,\n",
       " <selenium.webdriver.remote.webelement.WebElement (session=\"e7a21488e978c1a31d7817e992b13561\", element=\"9037a50c-7885-4310-b109-a6e69bf02818\")>,\n",
       " <selenium.webdriver.remote.webelement.WebElement (session=\"e7a21488e978c1a31d7817e992b13561\", element=\"d4d8af4c-bba9-4b73-aa6b-e87c5f9cb799\")>,\n",
       " <selenium.webdriver.remote.webelement.WebElement (session=\"e7a21488e978c1a31d7817e992b13561\", element=\"42c05eff-841a-49b6-b06f-4cae84413475\")>,\n",
       " <selenium.webdriver.remote.webelement.WebElement (session=\"e7a21488e978c1a31d7817e992b13561\", element=\"91eceef7-252d-4976-a8ca-913189ffe8e5\")>,\n",
       " <selenium.webdriver.remote.webelement.WebElement (session=\"e7a21488e978c1a31d7817e992b13561\", element=\"3dde8ff8-bc86-43ed-94a1-dcce971ab7c8\")>,\n",
       " <selenium.webdriver.remote.webelement.WebElement (session=\"e7a21488e978c1a31d7817e992b13561\", element=\"9f920899-80f1-478f-8e2c-82891c80374d\")>,\n",
       " <selenium.webdriver.remote.webelement.WebElement (session=\"e7a21488e978c1a31d7817e992b13561\", element=\"ce857f9b-784e-4626-843d-5bf9c84a01e0\")>,\n",
       " <selenium.webdriver.remote.webelement.WebElement (session=\"e7a21488e978c1a31d7817e992b13561\", element=\"b5492602-8976-45ea-a639-3f1f57edcbeb\")>,\n",
       " <selenium.webdriver.remote.webelement.WebElement (session=\"e7a21488e978c1a31d7817e992b13561\", element=\"7aca698d-81f7-416f-889f-7f6f4d045b01\")>,\n",
       " <selenium.webdriver.remote.webelement.WebElement (session=\"e7a21488e978c1a31d7817e992b13561\", element=\"36e00040-cac4-4e8e-bab4-fabccc516d8f\")>,\n",
       " <selenium.webdriver.remote.webelement.WebElement (session=\"e7a21488e978c1a31d7817e992b13561\", element=\"b33d6652-707b-42fe-b35a-1cdb9990ad97\")>,\n",
       " <selenium.webdriver.remote.webelement.WebElement (session=\"e7a21488e978c1a31d7817e992b13561\", element=\"f8849e36-0f49-437c-a98e-d140215c5774\")>,\n",
       " <selenium.webdriver.remote.webelement.WebElement (session=\"e7a21488e978c1a31d7817e992b13561\", element=\"257cf465-c169-45a5-8be0-b0a90c9cfa0f\")>,\n",
       " <selenium.webdriver.remote.webelement.WebElement (session=\"e7a21488e978c1a31d7817e992b13561\", element=\"9969ed8d-6c8c-478c-aef2-8a2ea7fdaa71\")>,\n",
       " <selenium.webdriver.remote.webelement.WebElement (session=\"e7a21488e978c1a31d7817e992b13561\", element=\"bab02f01-3098-4520-a937-00b7e0ab96ca\")>,\n",
       " <selenium.webdriver.remote.webelement.WebElement (session=\"e7a21488e978c1a31d7817e992b13561\", element=\"4c7cf077-5741-495d-aef7-5f0d979387ac\")>,\n",
       " <selenium.webdriver.remote.webelement.WebElement (session=\"e7a21488e978c1a31d7817e992b13561\", element=\"acc63e7c-25bb-4854-b4f7-a5b0ff1757a1\")>,\n",
       " <selenium.webdriver.remote.webelement.WebElement (session=\"e7a21488e978c1a31d7817e992b13561\", element=\"a28a0e35-7df9-4ac4-9619-65a19cf51ac1\")>,\n",
       " <selenium.webdriver.remote.webelement.WebElement (session=\"e7a21488e978c1a31d7817e992b13561\", element=\"dfd40ab4-1158-4c69-95b7-2f6f438dd75c\")>,\n",
       " <selenium.webdriver.remote.webelement.WebElement (session=\"e7a21488e978c1a31d7817e992b13561\", element=\"d53c4f8c-66c4-4dff-9e7d-432378f568dc\")>,\n",
       " <selenium.webdriver.remote.webelement.WebElement (session=\"e7a21488e978c1a31d7817e992b13561\", element=\"ed668246-20ae-48bd-ac6c-fd785ee189e6\")>,\n",
       " <selenium.webdriver.remote.webelement.WebElement (session=\"e7a21488e978c1a31d7817e992b13561\", element=\"5e07244b-9012-4d16-9ecb-d313334796cb\")>,\n",
       " <selenium.webdriver.remote.webelement.WebElement (session=\"e7a21488e978c1a31d7817e992b13561\", element=\"c8a5561c-02cd-444d-bcaa-65b59db5ac39\")>,\n",
       " <selenium.webdriver.remote.webelement.WebElement (session=\"e7a21488e978c1a31d7817e992b13561\", element=\"e05a27da-29f0-4f7d-af81-c90483cdeb12\")>,\n",
       " <selenium.webdriver.remote.webelement.WebElement (session=\"e7a21488e978c1a31d7817e992b13561\", element=\"660041cd-2bae-47d3-b8ad-89517059b4b5\")>,\n",
       " <selenium.webdriver.remote.webelement.WebElement (session=\"e7a21488e978c1a31d7817e992b13561\", element=\"e0a226cd-ce5c-4e62-8ce6-50a1f894614b\")>,\n",
       " <selenium.webdriver.remote.webelement.WebElement (session=\"e7a21488e978c1a31d7817e992b13561\", element=\"87d15c2c-ad26-4bbc-9951-e8d4cc9f7272\")>,\n",
       " <selenium.webdriver.remote.webelement.WebElement (session=\"e7a21488e978c1a31d7817e992b13561\", element=\"d61231a5-4fd4-4305-a197-5e87c40ccf16\")>,\n",
       " <selenium.webdriver.remote.webelement.WebElement (session=\"e7a21488e978c1a31d7817e992b13561\", element=\"f0d16f77-cd50-4420-b09d-3d816c763d03\")>,\n",
       " <selenium.webdriver.remote.webelement.WebElement (session=\"e7a21488e978c1a31d7817e992b13561\", element=\"62a032d2-accc-47ea-8337-0c2662614c53\")>,\n",
       " <selenium.webdriver.remote.webelement.WebElement (session=\"e7a21488e978c1a31d7817e992b13561\", element=\"00caab29-29d5-482d-a08f-69c9cdf67a2d\")>,\n",
       " <selenium.webdriver.remote.webelement.WebElement (session=\"e7a21488e978c1a31d7817e992b13561\", element=\"1988db0e-fce6-4451-b87a-57cc63b20861\")>,\n",
       " <selenium.webdriver.remote.webelement.WebElement (session=\"e7a21488e978c1a31d7817e992b13561\", element=\"e4dda96c-18a6-492e-9919-d622b7e6922e\")>,\n",
       " <selenium.webdriver.remote.webelement.WebElement (session=\"e7a21488e978c1a31d7817e992b13561\", element=\"24420c3c-5900-45eb-b048-548deed62e8d\")>,\n",
       " <selenium.webdriver.remote.webelement.WebElement (session=\"e7a21488e978c1a31d7817e992b13561\", element=\"d1ee7e8a-9f06-4582-8253-bce21464fa49\")>,\n",
       " <selenium.webdriver.remote.webelement.WebElement (session=\"e7a21488e978c1a31d7817e992b13561\", element=\"7a14ac74-07c3-42be-9d04-60147e0b68a9\")>,\n",
       " <selenium.webdriver.remote.webelement.WebElement (session=\"e7a21488e978c1a31d7817e992b13561\", element=\"63fb1aac-1595-4d3e-9b06-d78819894284\")>,\n",
       " <selenium.webdriver.remote.webelement.WebElement (session=\"e7a21488e978c1a31d7817e992b13561\", element=\"c1e0020e-7d91-481d-b4b1-32742d85584f\")>,\n",
       " <selenium.webdriver.remote.webelement.WebElement (session=\"e7a21488e978c1a31d7817e992b13561\", element=\"d8cb45bc-5dd5-4d6e-8d4c-6fd08ac15153\")>,\n",
       " <selenium.webdriver.remote.webelement.WebElement (session=\"e7a21488e978c1a31d7817e992b13561\", element=\"9d7c67da-17af-4739-8029-8f628316b16b\")>,\n",
       " <selenium.webdriver.remote.webelement.WebElement (session=\"e7a21488e978c1a31d7817e992b13561\", element=\"e2727af0-4cae-480b-8e33-ee58e7e7691a\")>,\n",
       " <selenium.webdriver.remote.webelement.WebElement (session=\"e7a21488e978c1a31d7817e992b13561\", element=\"db56f4e7-7c46-4671-ae57-b2b3c3409772\")>,\n",
       " <selenium.webdriver.remote.webelement.WebElement (session=\"e7a21488e978c1a31d7817e992b13561\", element=\"e314690c-7bd1-42c0-8979-53d83fa96590\")>,\n",
       " <selenium.webdriver.remote.webelement.WebElement (session=\"e7a21488e978c1a31d7817e992b13561\", element=\"1df1b61b-d396-4987-9186-abf44abd3186\")>,\n",
       " <selenium.webdriver.remote.webelement.WebElement (session=\"e7a21488e978c1a31d7817e992b13561\", element=\"7bff9e38-90ec-4b11-804f-48409e01d5d7\")>,\n",
       " <selenium.webdriver.remote.webelement.WebElement (session=\"e7a21488e978c1a31d7817e992b13561\", element=\"f8e37b8e-19ab-40be-a257-29b8756af9ca\")>,\n",
       " <selenium.webdriver.remote.webelement.WebElement (session=\"e7a21488e978c1a31d7817e992b13561\", element=\"061e819c-9682-4653-a9c4-463bbbb5bf26\")>,\n",
       " <selenium.webdriver.remote.webelement.WebElement (session=\"e7a21488e978c1a31d7817e992b13561\", element=\"adcb8763-af5a-438b-9e19-67b42785381f\")>,\n",
       " <selenium.webdriver.remote.webelement.WebElement (session=\"e7a21488e978c1a31d7817e992b13561\", element=\"d61b5bb7-1b10-41b4-bf08-3665fbb041f3\")>,\n",
       " <selenium.webdriver.remote.webelement.WebElement (session=\"e7a21488e978c1a31d7817e992b13561\", element=\"4ab412cb-c2c8-4c02-bc3e-ddc703a2ff24\")>,\n",
       " <selenium.webdriver.remote.webelement.WebElement (session=\"e7a21488e978c1a31d7817e992b13561\", element=\"07d6d7c4-a5c0-48ad-862b-b1d0a954180d\")>,\n",
       " <selenium.webdriver.remote.webelement.WebElement (session=\"e7a21488e978c1a31d7817e992b13561\", element=\"54a643ba-1e24-4abf-bade-9fd7d14b605f\")>,\n",
       " <selenium.webdriver.remote.webelement.WebElement (session=\"e7a21488e978c1a31d7817e992b13561\", element=\"a3052eba-50c1-4c94-b5a9-3d3f958b8ddf\")>,\n",
       " <selenium.webdriver.remote.webelement.WebElement (session=\"e7a21488e978c1a31d7817e992b13561\", element=\"ff963aaf-c685-4d13-b73c-d9cd1eb78c59\")>,\n",
       " <selenium.webdriver.remote.webelement.WebElement (session=\"e7a21488e978c1a31d7817e992b13561\", element=\"b1faa31d-9ffe-4ee8-8a6c-fb97fd594a01\")>,\n",
       " <selenium.webdriver.remote.webelement.WebElement (session=\"e7a21488e978c1a31d7817e992b13561\", element=\"37e7fe1c-78be-4b82-b428-606d70a26b17\")>,\n",
       " <selenium.webdriver.remote.webelement.WebElement (session=\"e7a21488e978c1a31d7817e992b13561\", element=\"14a39554-bb31-4f5b-bd24-08f3bf23216b\")>,\n",
       " <selenium.webdriver.remote.webelement.WebElement (session=\"e7a21488e978c1a31d7817e992b13561\", element=\"285a1282-3744-4c2a-9ec9-d10335aea02b\")>,\n",
       " <selenium.webdriver.remote.webelement.WebElement (session=\"e7a21488e978c1a31d7817e992b13561\", element=\"eb074f92-5b51-4a7c-8da3-0804c77483bc\")>,\n",
       " <selenium.webdriver.remote.webelement.WebElement (session=\"e7a21488e978c1a31d7817e992b13561\", element=\"79f296b4-c6a4-48e7-af16-5f0389a3a707\")>,\n",
       " <selenium.webdriver.remote.webelement.WebElement (session=\"e7a21488e978c1a31d7817e992b13561\", element=\"467d07d3-ebe1-4931-9e04-1d3f2d8494f5\")>,\n",
       " <selenium.webdriver.remote.webelement.WebElement (session=\"e7a21488e978c1a31d7817e992b13561\", element=\"9ccdec5c-e0da-4778-968f-31b40c7dbeb5\")>,\n",
       " <selenium.webdriver.remote.webelement.WebElement (session=\"e7a21488e978c1a31d7817e992b13561\", element=\"125f67d8-9c31-4d8c-902b-d18643b55c51\")>,\n",
       " <selenium.webdriver.remote.webelement.WebElement (session=\"e7a21488e978c1a31d7817e992b13561\", element=\"4630a48c-7ca6-46c2-bbf8-11e793eec66e\")>,\n",
       " <selenium.webdriver.remote.webelement.WebElement (session=\"e7a21488e978c1a31d7817e992b13561\", element=\"93ed75bb-392e-4664-bf94-6659ca7a9ceb\")>,\n",
       " <selenium.webdriver.remote.webelement.WebElement (session=\"e7a21488e978c1a31d7817e992b13561\", element=\"d380cc01-6146-4878-a6c4-9a0695ac3845\")>,\n",
       " <selenium.webdriver.remote.webelement.WebElement (session=\"e7a21488e978c1a31d7817e992b13561\", element=\"65c829f9-4f98-4d9e-865d-357b5bf8fb01\")>,\n",
       " <selenium.webdriver.remote.webelement.WebElement (session=\"e7a21488e978c1a31d7817e992b13561\", element=\"97758ffc-b433-4e3c-b70b-43b0ac2b8364\")>,\n",
       " <selenium.webdriver.remote.webelement.WebElement (session=\"e7a21488e978c1a31d7817e992b13561\", element=\"926acdc2-bb07-43e3-a86b-e35d0ae9d7b7\")>,\n",
       " <selenium.webdriver.remote.webelement.WebElement (session=\"e7a21488e978c1a31d7817e992b13561\", element=\"65bf485c-361a-487d-a872-514dabbb44bd\")>,\n",
       " <selenium.webdriver.remote.webelement.WebElement (session=\"e7a21488e978c1a31d7817e992b13561\", element=\"5f00740b-b8cf-44ac-aab1-bca5d59b2ed4\")>,\n",
       " <selenium.webdriver.remote.webelement.WebElement (session=\"e7a21488e978c1a31d7817e992b13561\", element=\"d770a076-9a9e-4f97-b931-dda57c97f94f\")>,\n",
       " <selenium.webdriver.remote.webelement.WebElement (session=\"e7a21488e978c1a31d7817e992b13561\", element=\"9df0a231-270a-4617-8304-b3ac5664c709\")>,\n",
       " <selenium.webdriver.remote.webelement.WebElement (session=\"e7a21488e978c1a31d7817e992b13561\", element=\"98657aca-ab76-4876-ae8c-afcb80929967\")>,\n",
       " <selenium.webdriver.remote.webelement.WebElement (session=\"e7a21488e978c1a31d7817e992b13561\", element=\"4e34ee61-d935-427a-bfb1-207128756fee\")>,\n",
       " <selenium.webdriver.remote.webelement.WebElement (session=\"e7a21488e978c1a31d7817e992b13561\", element=\"6ea3c037-035e-44be-ae2c-728c542c2118\")>,\n",
       " <selenium.webdriver.remote.webelement.WebElement (session=\"e7a21488e978c1a31d7817e992b13561\", element=\"6a222ea9-16a8-4b75-801a-54ce223ae123\")>,\n",
       " <selenium.webdriver.remote.webelement.WebElement (session=\"e7a21488e978c1a31d7817e992b13561\", element=\"36515393-286c-43cb-b70d-9332ee9ca45d\")>,\n",
       " <selenium.webdriver.remote.webelement.WebElement (session=\"e7a21488e978c1a31d7817e992b13561\", element=\"15f72e72-b01d-4c93-b045-448685b90347\")>,\n",
       " <selenium.webdriver.remote.webelement.WebElement (session=\"e7a21488e978c1a31d7817e992b13561\", element=\"b40d31b7-fb3e-41fc-a587-94e40adc444d\")>,\n",
       " <selenium.webdriver.remote.webelement.WebElement (session=\"e7a21488e978c1a31d7817e992b13561\", element=\"70b989bb-7746-4873-baed-5496dba8d81c\")>,\n",
       " <selenium.webdriver.remote.webelement.WebElement (session=\"e7a21488e978c1a31d7817e992b13561\", element=\"7f857d85-bfc8-4d3a-8d36-e326b4776986\")>,\n",
       " <selenium.webdriver.remote.webelement.WebElement (session=\"e7a21488e978c1a31d7817e992b13561\", element=\"2ad6e972-5ddc-4af9-8f0c-389ba73fcb01\")>,\n",
       " <selenium.webdriver.remote.webelement.WebElement (session=\"e7a21488e978c1a31d7817e992b13561\", element=\"4e09b2e4-6794-4a07-924a-97e2a274ab77\")>,\n",
       " <selenium.webdriver.remote.webelement.WebElement (session=\"e7a21488e978c1a31d7817e992b13561\", element=\"80632cd6-f761-4b14-8df4-7dfc228e39f5\")>,\n",
       " <selenium.webdriver.remote.webelement.WebElement (session=\"e7a21488e978c1a31d7817e992b13561\", element=\"23e746ce-cd6f-41f5-975f-7fb74d1146cd\")>,\n",
       " <selenium.webdriver.remote.webelement.WebElement (session=\"e7a21488e978c1a31d7817e992b13561\", element=\"c14bd4cd-b035-4ebe-9d36-1d4dc5370321\")>,\n",
       " <selenium.webdriver.remote.webelement.WebElement (session=\"e7a21488e978c1a31d7817e992b13561\", element=\"0358f279-b555-4291-94c7-f97fa7196b21\")>,\n",
       " <selenium.webdriver.remote.webelement.WebElement (session=\"e7a21488e978c1a31d7817e992b13561\", element=\"3bd2b70b-e93c-4d4b-a74e-d6a0ed0ed173\")>,\n",
       " <selenium.webdriver.remote.webelement.WebElement (session=\"e7a21488e978c1a31d7817e992b13561\", element=\"3999a406-7791-42c4-862b-d12cd65f71ef\")>,\n",
       " <selenium.webdriver.remote.webelement.WebElement (session=\"e7a21488e978c1a31d7817e992b13561\", element=\"79042028-9bab-4b5f-99b5-4621973dca6b\")>,\n",
       " <selenium.webdriver.remote.webelement.WebElement (session=\"e7a21488e978c1a31d7817e992b13561\", element=\"63a33ea6-65f5-48fd-9a03-ae167220581a\")>,\n",
       " <selenium.webdriver.remote.webelement.WebElement (session=\"e7a21488e978c1a31d7817e992b13561\", element=\"4a8ca986-24ec-48a1-852b-9360eddbbd5a\")>,\n",
       " <selenium.webdriver.remote.webelement.WebElement (session=\"e7a21488e978c1a31d7817e992b13561\", element=\"1d9f71d8-cf1f-4857-b8c5-3326355b650d\")>,\n",
       " <selenium.webdriver.remote.webelement.WebElement (session=\"e7a21488e978c1a31d7817e992b13561\", element=\"124c6475-3977-48f8-bce4-5708d17550f8\")>,\n",
       " <selenium.webdriver.remote.webelement.WebElement (session=\"e7a21488e978c1a31d7817e992b13561\", element=\"bc56ef5d-55a6-441f-9295-51b0535f03d1\")>,\n",
       " <selenium.webdriver.remote.webelement.WebElement (session=\"e7a21488e978c1a31d7817e992b13561\", element=\"8de488db-768c-45cb-9c02-029db2236041\")>,\n",
       " <selenium.webdriver.remote.webelement.WebElement (session=\"e7a21488e978c1a31d7817e992b13561\", element=\"6f90a7d0-c15f-4388-9d9e-50f6481aed9a\")>,\n",
       " <selenium.webdriver.remote.webelement.WebElement (session=\"e7a21488e978c1a31d7817e992b13561\", element=\"1d349b76-927d-410c-b04e-cb82fb85a762\")>,\n",
       " <selenium.webdriver.remote.webelement.WebElement (session=\"e7a21488e978c1a31d7817e992b13561\", element=\"8fd67fc2-4dfa-40bd-8039-0f3c2f8781b1\")>,\n",
       " <selenium.webdriver.remote.webelement.WebElement (session=\"e7a21488e978c1a31d7817e992b13561\", element=\"2078b5a3-855c-441d-ae77-7ee7b7e944d4\")>,\n",
       " <selenium.webdriver.remote.webelement.WebElement (session=\"e7a21488e978c1a31d7817e992b13561\", element=\"ad035da4-c10b-4288-a544-b8ce0854ef86\")>,\n",
       " <selenium.webdriver.remote.webelement.WebElement (session=\"e7a21488e978c1a31d7817e992b13561\", element=\"ce3302d3-98e5-4358-b691-91a90a8ec5cf\")>,\n",
       " <selenium.webdriver.remote.webelement.WebElement (session=\"e7a21488e978c1a31d7817e992b13561\", element=\"1b1f01b4-d698-4254-88dc-615d585f5849\")>,\n",
       " <selenium.webdriver.remote.webelement.WebElement (session=\"e7a21488e978c1a31d7817e992b13561\", element=\"dc971199-701c-43df-a404-2a15ce8d2a8a\")>,\n",
       " <selenium.webdriver.remote.webelement.WebElement (session=\"e7a21488e978c1a31d7817e992b13561\", element=\"2ade0eb0-6f93-460d-bf2a-6d1c2752ed79\")>,\n",
       " <selenium.webdriver.remote.webelement.WebElement (session=\"e7a21488e978c1a31d7817e992b13561\", element=\"6d926490-9ab6-4337-a0ef-d4b05319f827\")>,\n",
       " <selenium.webdriver.remote.webelement.WebElement (session=\"e7a21488e978c1a31d7817e992b13561\", element=\"0e3730eb-dfc5-4e39-b330-e8015ae1299a\")>,\n",
       " <selenium.webdriver.remote.webelement.WebElement (session=\"e7a21488e978c1a31d7817e992b13561\", element=\"90478029-3853-48d8-b79f-2248d3c4315e\")>,\n",
       " <selenium.webdriver.remote.webelement.WebElement (session=\"e7a21488e978c1a31d7817e992b13561\", element=\"900c6b98-beaa-4c20-b162-72e5719e715c\")>,\n",
       " <selenium.webdriver.remote.webelement.WebElement (session=\"e7a21488e978c1a31d7817e992b13561\", element=\"bc8092b1-6685-433c-afd6-4f17cd8aa711\")>,\n",
       " <selenium.webdriver.remote.webelement.WebElement (session=\"e7a21488e978c1a31d7817e992b13561\", element=\"2f09d569-a135-435d-8425-6acd935e2ca5\")>,\n",
       " <selenium.webdriver.remote.webelement.WebElement (session=\"e7a21488e978c1a31d7817e992b13561\", element=\"52d8672a-35a4-47cd-a428-78144cd09297\")>,\n",
       " <selenium.webdriver.remote.webelement.WebElement (session=\"e7a21488e978c1a31d7817e992b13561\", element=\"ecd91f5c-6ff1-49c1-a656-6796bab1fe4e\")>,\n",
       " <selenium.webdriver.remote.webelement.WebElement (session=\"e7a21488e978c1a31d7817e992b13561\", element=\"cd508ad4-40f0-493c-8e7c-cc3a03aba667\")>,\n",
       " <selenium.webdriver.remote.webelement.WebElement (session=\"e7a21488e978c1a31d7817e992b13561\", element=\"917c557c-f1fd-45b6-9f4d-49abedfc9f4d\")>,\n",
       " <selenium.webdriver.remote.webelement.WebElement (session=\"e7a21488e978c1a31d7817e992b13561\", element=\"1a899981-70ff-4356-8126-a419ac03f207\")>,\n",
       " <selenium.webdriver.remote.webelement.WebElement (session=\"e7a21488e978c1a31d7817e992b13561\", element=\"0b7ce292-4f79-4b2f-a3af-63ac45948fc4\")>,\n",
       " <selenium.webdriver.remote.webelement.WebElement (session=\"e7a21488e978c1a31d7817e992b13561\", element=\"3a5f5857-6eac-4695-bd15-36d555107d74\")>,\n",
       " <selenium.webdriver.remote.webelement.WebElement (session=\"e7a21488e978c1a31d7817e992b13561\", element=\"23590ea6-0292-473d-897e-f12680aeafeb\")>,\n",
       " <selenium.webdriver.remote.webelement.WebElement (session=\"e7a21488e978c1a31d7817e992b13561\", element=\"c1b43f79-5e76-4aab-9e5c-c031c5e53072\")>,\n",
       " <selenium.webdriver.remote.webelement.WebElement (session=\"e7a21488e978c1a31d7817e992b13561\", element=\"b0b67200-49c7-4e0c-bf4a-271c68a727fe\")>,\n",
       " <selenium.webdriver.remote.webelement.WebElement (session=\"e7a21488e978c1a31d7817e992b13561\", element=\"9c35ac65-f6f8-495a-856b-c1a0ee7c1479\")>,\n",
       " <selenium.webdriver.remote.webelement.WebElement (session=\"e7a21488e978c1a31d7817e992b13561\", element=\"f977ce8d-5af6-48ce-9df0-c4ceeba44a4d\")>,\n",
       " <selenium.webdriver.remote.webelement.WebElement (session=\"e7a21488e978c1a31d7817e992b13561\", element=\"c55a6a93-cb93-485f-a887-44bf94094bd7\")>,\n",
       " <selenium.webdriver.remote.webelement.WebElement (session=\"e7a21488e978c1a31d7817e992b13561\", element=\"63591480-910a-452d-a9ef-97d756c204d1\")>,\n",
       " <selenium.webdriver.remote.webelement.WebElement (session=\"e7a21488e978c1a31d7817e992b13561\", element=\"6ae8d72a-9585-4246-b0b3-403c310d609c\")>,\n",
       " <selenium.webdriver.remote.webelement.WebElement (session=\"e7a21488e978c1a31d7817e992b13561\", element=\"da097a7f-2dea-4655-a494-30c0b955d3c4\")>,\n",
       " <selenium.webdriver.remote.webelement.WebElement (session=\"e7a21488e978c1a31d7817e992b13561\", element=\"74c1af24-bde8-4dd7-8d5a-424f33a557ce\")>,\n",
       " <selenium.webdriver.remote.webelement.WebElement (session=\"e7a21488e978c1a31d7817e992b13561\", element=\"20ef4967-f9f4-405d-a2c4-82aadbf26d54\")>,\n",
       " <selenium.webdriver.remote.webelement.WebElement (session=\"e7a21488e978c1a31d7817e992b13561\", element=\"36b7a3eb-b951-4a18-b8f4-20b7470ec09f\")>,\n",
       " <selenium.webdriver.remote.webelement.WebElement (session=\"e7a21488e978c1a31d7817e992b13561\", element=\"983c2adc-a2e7-4d56-b67e-7d8fd52e0dac\")>,\n",
       " <selenium.webdriver.remote.webelement.WebElement (session=\"e7a21488e978c1a31d7817e992b13561\", element=\"db8f7b60-778b-4411-938d-4d0b93d94924\")>,\n",
       " <selenium.webdriver.remote.webelement.WebElement (session=\"e7a21488e978c1a31d7817e992b13561\", element=\"125b7815-de93-42b1-b27a-b8ab069f7032\")>,\n",
       " <selenium.webdriver.remote.webelement.WebElement (session=\"e7a21488e978c1a31d7817e992b13561\", element=\"1fbf15df-7601-453e-bae7-f91391762a7e\")>,\n",
       " <selenium.webdriver.remote.webelement.WebElement (session=\"e7a21488e978c1a31d7817e992b13561\", element=\"901613fb-dd83-42ac-8abd-1a38c143b5a8\")>,\n",
       " <selenium.webdriver.remote.webelement.WebElement (session=\"e7a21488e978c1a31d7817e992b13561\", element=\"aed54d5a-f995-43de-9518-dc95281c42d6\")>,\n",
       " <selenium.webdriver.remote.webelement.WebElement (session=\"e7a21488e978c1a31d7817e992b13561\", element=\"f6c75db1-db8d-437f-9943-7881c585444e\")>,\n",
       " <selenium.webdriver.remote.webelement.WebElement (session=\"e7a21488e978c1a31d7817e992b13561\", element=\"a195340e-5555-4099-a029-3eef9793dfc0\")>,\n",
       " <selenium.webdriver.remote.webelement.WebElement (session=\"e7a21488e978c1a31d7817e992b13561\", element=\"7e347f06-8a86-42d4-b893-8b6a740ba01f\")>,\n",
       " <selenium.webdriver.remote.webelement.WebElement (session=\"e7a21488e978c1a31d7817e992b13561\", element=\"d4627ae6-9f02-432f-bd06-6a65e69526e1\")>,\n",
       " <selenium.webdriver.remote.webelement.WebElement (session=\"e7a21488e978c1a31d7817e992b13561\", element=\"e616af55-d108-4608-90f1-506503c26f2b\")>,\n",
       " <selenium.webdriver.remote.webelement.WebElement (session=\"e7a21488e978c1a31d7817e992b13561\", element=\"d417491b-0472-4f53-bcd9-62ddda1368be\")>,\n",
       " <selenium.webdriver.remote.webelement.WebElement (session=\"e7a21488e978c1a31d7817e992b13561\", element=\"09e9e63b-ee4c-4de4-b828-7c10d01bc7c7\")>,\n",
       " <selenium.webdriver.remote.webelement.WebElement (session=\"e7a21488e978c1a31d7817e992b13561\", element=\"642e20ee-77c7-4faf-953d-7bbf8c6dce53\")>,\n",
       " <selenium.webdriver.remote.webelement.WebElement (session=\"e7a21488e978c1a31d7817e992b13561\", element=\"048bcc55-48ec-4efd-bfce-a48e9d214dd9\")>,\n",
       " <selenium.webdriver.remote.webelement.WebElement (session=\"e7a21488e978c1a31d7817e992b13561\", element=\"a3dcb237-1af1-486f-bd88-eba8d6c8d7b1\")>,\n",
       " <selenium.webdriver.remote.webelement.WebElement (session=\"e7a21488e978c1a31d7817e992b13561\", element=\"dab3c4c5-41a3-4baf-892b-ff2ebf26210f\")>,\n",
       " <selenium.webdriver.remote.webelement.WebElement (session=\"e7a21488e978c1a31d7817e992b13561\", element=\"0771e08e-4c28-4c47-a7ee-ff1155cbeba6\")>,\n",
       " <selenium.webdriver.remote.webelement.WebElement (session=\"e7a21488e978c1a31d7817e992b13561\", element=\"aa7d7ab4-8af2-4d64-84b6-cea567457aba\")>,\n",
       " <selenium.webdriver.remote.webelement.WebElement (session=\"e7a21488e978c1a31d7817e992b13561\", element=\"46c09ff6-10e0-4bf6-a8cf-9f7afc799687\")>,\n",
       " <selenium.webdriver.remote.webelement.WebElement (session=\"e7a21488e978c1a31d7817e992b13561\", element=\"a9c00297-3245-446e-8e9d-5f65cae08ca7\")>,\n",
       " <selenium.webdriver.remote.webelement.WebElement (session=\"e7a21488e978c1a31d7817e992b13561\", element=\"711da764-8ed5-4f72-bbe0-5adee2c1cf40\")>,\n",
       " <selenium.webdriver.remote.webelement.WebElement (session=\"e7a21488e978c1a31d7817e992b13561\", element=\"2ffb68df-2747-49c8-8df6-8a9ddc150834\")>,\n",
       " <selenium.webdriver.remote.webelement.WebElement (session=\"e7a21488e978c1a31d7817e992b13561\", element=\"19e9242a-9ffa-4da4-a679-b92d639f1ad1\")>,\n",
       " <selenium.webdriver.remote.webelement.WebElement (session=\"e7a21488e978c1a31d7817e992b13561\", element=\"c61e9c8a-398c-4772-808e-b9676c0a0e1a\")>,\n",
       " <selenium.webdriver.remote.webelement.WebElement (session=\"e7a21488e978c1a31d7817e992b13561\", element=\"95236e39-a3a5-4a72-bd5e-faaa003ecf0b\")>,\n",
       " <selenium.webdriver.remote.webelement.WebElement (session=\"e7a21488e978c1a31d7817e992b13561\", element=\"254bc449-384c-42fe-8fec-302d8c4bfbbc\")>,\n",
       " <selenium.webdriver.remote.webelement.WebElement (session=\"e7a21488e978c1a31d7817e992b13561\", element=\"2fdb0261-6a5b-4b89-b8d8-19ad93bfc49e\")>,\n",
       " <selenium.webdriver.remote.webelement.WebElement (session=\"e7a21488e978c1a31d7817e992b13561\", element=\"11372dd9-2eb0-41e8-a57b-61dca3f73134\")>,\n",
       " <selenium.webdriver.remote.webelement.WebElement (session=\"e7a21488e978c1a31d7817e992b13561\", element=\"85114437-e8db-4a19-9041-17bea0c3c90b\")>,\n",
       " <selenium.webdriver.remote.webelement.WebElement (session=\"e7a21488e978c1a31d7817e992b13561\", element=\"dda61c1a-f4e6-4596-acc8-53824e9b0898\")>,\n",
       " <selenium.webdriver.remote.webelement.WebElement (session=\"e7a21488e978c1a31d7817e992b13561\", element=\"ea3f6ca5-9514-4c29-9ec2-113337a9b829\")>,\n",
       " <selenium.webdriver.remote.webelement.WebElement (session=\"e7a21488e978c1a31d7817e992b13561\", element=\"435f4ee3-5182-48ac-99c4-d2d5a452cf9c\")>,\n",
       " <selenium.webdriver.remote.webelement.WebElement (session=\"e7a21488e978c1a31d7817e992b13561\", element=\"3508d425-33df-44e8-822c-79cc21098786\")>,\n",
       " <selenium.webdriver.remote.webelement.WebElement (session=\"e7a21488e978c1a31d7817e992b13561\", element=\"e9fb46a0-68cf-444a-91e3-f2df8e8d60b2\")>,\n",
       " <selenium.webdriver.remote.webelement.WebElement (session=\"e7a21488e978c1a31d7817e992b13561\", element=\"939a9bda-70fa-4299-93bf-997c01bb8b50\")>,\n",
       " <selenium.webdriver.remote.webelement.WebElement (session=\"e7a21488e978c1a31d7817e992b13561\", element=\"663efc78-c7b3-42ef-9daf-60f142c13ee8\")>,\n",
       " <selenium.webdriver.remote.webelement.WebElement (session=\"e7a21488e978c1a31d7817e992b13561\", element=\"1f818074-f3ad-47d7-880b-5ad28a5d6aab\")>,\n",
       " <selenium.webdriver.remote.webelement.WebElement (session=\"e7a21488e978c1a31d7817e992b13561\", element=\"9fd7f5e9-111e-49c9-b4de-4ba0ecea4e17\")>,\n",
       " <selenium.webdriver.remote.webelement.WebElement (session=\"e7a21488e978c1a31d7817e992b13561\", element=\"91d98f19-76d1-4db7-9385-8c8f7c291995\")>,\n",
       " <selenium.webdriver.remote.webelement.WebElement (session=\"e7a21488e978c1a31d7817e992b13561\", element=\"32c54435-c34e-437a-9389-84b0ce1f152c\")>,\n",
       " <selenium.webdriver.remote.webelement.WebElement (session=\"e7a21488e978c1a31d7817e992b13561\", element=\"7b7d01a5-50dd-45c5-9eff-1e692625cbc9\")>,\n",
       " <selenium.webdriver.remote.webelement.WebElement (session=\"e7a21488e978c1a31d7817e992b13561\", element=\"dbe5a316-e285-4c39-b564-1292fd9f2eb1\")>,\n",
       " <selenium.webdriver.remote.webelement.WebElement (session=\"e7a21488e978c1a31d7817e992b13561\", element=\"e0d5c5c7-87de-48be-8d57-a035321c70c1\")>,\n",
       " <selenium.webdriver.remote.webelement.WebElement (session=\"e7a21488e978c1a31d7817e992b13561\", element=\"cede5863-f704-4d72-9bcc-96b41bfced40\")>,\n",
       " <selenium.webdriver.remote.webelement.WebElement (session=\"e7a21488e978c1a31d7817e992b13561\", element=\"5c5994e0-4411-4120-98a8-e5a85030c6cf\")>,\n",
       " <selenium.webdriver.remote.webelement.WebElement (session=\"e7a21488e978c1a31d7817e992b13561\", element=\"f19d6cc3-9b04-44b0-8403-6e4d2a12e018\")>,\n",
       " <selenium.webdriver.remote.webelement.WebElement (session=\"e7a21488e978c1a31d7817e992b13561\", element=\"08231a0e-33de-4702-a197-02f822bd165a\")>,\n",
       " <selenium.webdriver.remote.webelement.WebElement (session=\"e7a21488e978c1a31d7817e992b13561\", element=\"99dc9255-200f-4d42-ada3-0d7a231a2eff\")>,\n",
       " <selenium.webdriver.remote.webelement.WebElement (session=\"e7a21488e978c1a31d7817e992b13561\", element=\"9f935455-7770-4576-a984-535c6bacb1d0\")>,\n",
       " <selenium.webdriver.remote.webelement.WebElement (session=\"e7a21488e978c1a31d7817e992b13561\", element=\"128d01b4-49ac-4689-869c-f1e61172bae0\")>,\n",
       " <selenium.webdriver.remote.webelement.WebElement (session=\"e7a21488e978c1a31d7817e992b13561\", element=\"bb77ef87-a7bc-4cf7-be3b-10becf2d1671\")>,\n",
       " <selenium.webdriver.remote.webelement.WebElement (session=\"e7a21488e978c1a31d7817e992b13561\", element=\"21ecabe7-ee4f-4ef7-b8b4-22287c234d46\")>,\n",
       " <selenium.webdriver.remote.webelement.WebElement (session=\"e7a21488e978c1a31d7817e992b13561\", element=\"c3483e4c-1301-4d72-92af-4fa534f45a9a\")>,\n",
       " <selenium.webdriver.remote.webelement.WebElement (session=\"e7a21488e978c1a31d7817e992b13561\", element=\"b2ea298d-b3a1-4cd5-9108-8d2f089ae205\")>,\n",
       " <selenium.webdriver.remote.webelement.WebElement (session=\"e7a21488e978c1a31d7817e992b13561\", element=\"9471d4c3-cfbd-47ab-adc1-691594681d42\")>,\n",
       " <selenium.webdriver.remote.webelement.WebElement (session=\"e7a21488e978c1a31d7817e992b13561\", element=\"08caa15a-4748-4fcf-bcca-9ed18265179b\")>,\n",
       " <selenium.webdriver.remote.webelement.WebElement (session=\"e7a21488e978c1a31d7817e992b13561\", element=\"c52ca2df-8725-44b6-b39f-7d8907c4350c\")>,\n",
       " <selenium.webdriver.remote.webelement.WebElement (session=\"e7a21488e978c1a31d7817e992b13561\", element=\"5272b631-614e-42d9-ae18-3bbe4e974a49\")>,\n",
       " <selenium.webdriver.remote.webelement.WebElement (session=\"e7a21488e978c1a31d7817e992b13561\", element=\"086fb255-10c9-4606-9e54-76afad063766\")>,\n",
       " <selenium.webdriver.remote.webelement.WebElement (session=\"e7a21488e978c1a31d7817e992b13561\", element=\"732af91e-9506-4336-a0e6-b80afad5ba10\")>,\n",
       " <selenium.webdriver.remote.webelement.WebElement (session=\"e7a21488e978c1a31d7817e992b13561\", element=\"333f6a01-428a-4b7a-9a33-23b2c10745ec\")>,\n",
       " <selenium.webdriver.remote.webelement.WebElement (session=\"e7a21488e978c1a31d7817e992b13561\", element=\"e9f252fe-ae16-4a05-9257-5d70e1504676\")>,\n",
       " <selenium.webdriver.remote.webelement.WebElement (session=\"e7a21488e978c1a31d7817e992b13561\", element=\"03b686e6-ab97-4fa5-a626-4f621e50e5e8\")>,\n",
       " <selenium.webdriver.remote.webelement.WebElement (session=\"e7a21488e978c1a31d7817e992b13561\", element=\"bafe3666-0a3a-40a3-8cd1-9f7f2714a3df\")>,\n",
       " <selenium.webdriver.remote.webelement.WebElement (session=\"e7a21488e978c1a31d7817e992b13561\", element=\"2273e4c6-89f4-48ba-89c7-74aab84f0f32\")>,\n",
       " <selenium.webdriver.remote.webelement.WebElement (session=\"e7a21488e978c1a31d7817e992b13561\", element=\"b47f3ec3-9b24-4531-9920-3fc93dfe11ab\")>,\n",
       " <selenium.webdriver.remote.webelement.WebElement (session=\"e7a21488e978c1a31d7817e992b13561\", element=\"1ec44ce9-d763-408b-87bd-432519be0967\")>,\n",
       " <selenium.webdriver.remote.webelement.WebElement (session=\"e7a21488e978c1a31d7817e992b13561\", element=\"784e5c78-80bc-47cd-8969-cba5a2fa10d1\")>,\n",
       " <selenium.webdriver.remote.webelement.WebElement (session=\"e7a21488e978c1a31d7817e992b13561\", element=\"d77ebb08-afe0-4299-8751-4e76ea9d0326\")>,\n",
       " <selenium.webdriver.remote.webelement.WebElement (session=\"e7a21488e978c1a31d7817e992b13561\", element=\"94122a8c-35dc-4767-b08e-dda558820296\")>,\n",
       " <selenium.webdriver.remote.webelement.WebElement (session=\"e7a21488e978c1a31d7817e992b13561\", element=\"4334bd23-8141-403b-a4e7-04814601be76\")>,\n",
       " <selenium.webdriver.remote.webelement.WebElement (session=\"e7a21488e978c1a31d7817e992b13561\", element=\"04aaa77d-5feb-4062-a91a-3a870f5261ae\")>,\n",
       " <selenium.webdriver.remote.webelement.WebElement (session=\"e7a21488e978c1a31d7817e992b13561\", element=\"d0db3eaa-3928-4993-89d4-48672eaf255b\")>,\n",
       " <selenium.webdriver.remote.webelement.WebElement (session=\"e7a21488e978c1a31d7817e992b13561\", element=\"a553c538-5603-4a32-8c25-252b1b26a3bf\")>,\n",
       " <selenium.webdriver.remote.webelement.WebElement (session=\"e7a21488e978c1a31d7817e992b13561\", element=\"c0bb36f1-81de-4039-ba05-30357be60871\")>,\n",
       " <selenium.webdriver.remote.webelement.WebElement (session=\"e7a21488e978c1a31d7817e992b13561\", element=\"2254c3b4-223e-4482-9805-0cb31dfe9f08\")>,\n",
       " <selenium.webdriver.remote.webelement.WebElement (session=\"e7a21488e978c1a31d7817e992b13561\", element=\"fd3821f6-5f30-41c2-97ab-1a449b47de82\")>,\n",
       " <selenium.webdriver.remote.webelement.WebElement (session=\"e7a21488e978c1a31d7817e992b13561\", element=\"ea8fc6c0-b2f4-4820-a81f-70a99d0c54ad\")>,\n",
       " <selenium.webdriver.remote.webelement.WebElement (session=\"e7a21488e978c1a31d7817e992b13561\", element=\"3f8dcef1-4eed-492c-8f33-d3f00e15bcd9\")>,\n",
       " <selenium.webdriver.remote.webelement.WebElement (session=\"e7a21488e978c1a31d7817e992b13561\", element=\"56f33c79-c954-4d4d-9454-152ca8c8fd92\")>,\n",
       " <selenium.webdriver.remote.webelement.WebElement (session=\"e7a21488e978c1a31d7817e992b13561\", element=\"113a3511-93d7-4c50-a59c-9fe7bac695de\")>,\n",
       " <selenium.webdriver.remote.webelement.WebElement (session=\"e7a21488e978c1a31d7817e992b13561\", element=\"c57860b9-c9f8-416c-ac6a-3c5194838d46\")>,\n",
       " <selenium.webdriver.remote.webelement.WebElement (session=\"e7a21488e978c1a31d7817e992b13561\", element=\"25baac1f-0c66-43e9-a80c-2abd0ccb955a\")>,\n",
       " <selenium.webdriver.remote.webelement.WebElement (session=\"e7a21488e978c1a31d7817e992b13561\", element=\"d959d0d6-1609-4489-b79d-a33ce097b91b\")>,\n",
       " <selenium.webdriver.remote.webelement.WebElement (session=\"e7a21488e978c1a31d7817e992b13561\", element=\"f2ceb65b-9496-4f31-a33f-d228445355c2\")>,\n",
       " <selenium.webdriver.remote.webelement.WebElement (session=\"e7a21488e978c1a31d7817e992b13561\", element=\"038edf55-c832-429a-ad25-dccf5d371db6\")>,\n",
       " <selenium.webdriver.remote.webelement.WebElement (session=\"e7a21488e978c1a31d7817e992b13561\", element=\"698bc04d-e817-4814-9d95-118b9b87de54\")>,\n",
       " <selenium.webdriver.remote.webelement.WebElement (session=\"e7a21488e978c1a31d7817e992b13561\", element=\"1b9a7868-134f-46bd-9fd9-4d300631b265\")>,\n",
       " <selenium.webdriver.remote.webelement.WebElement (session=\"e7a21488e978c1a31d7817e992b13561\", element=\"d2a1dc92-f1b4-496c-8bc3-9b7c39abe384\")>,\n",
       " <selenium.webdriver.remote.webelement.WebElement (session=\"e7a21488e978c1a31d7817e992b13561\", element=\"9f672778-e9a8-4944-8c02-64c613847efc\")>,\n",
       " <selenium.webdriver.remote.webelement.WebElement (session=\"e7a21488e978c1a31d7817e992b13561\", element=\"c696bff8-bf43-4d64-9ce4-78e09001f6c8\")>,\n",
       " <selenium.webdriver.remote.webelement.WebElement (session=\"e7a21488e978c1a31d7817e992b13561\", element=\"94a2f1cd-a4e5-4ab7-9732-635fa6546b07\")>,\n",
       " <selenium.webdriver.remote.webelement.WebElement (session=\"e7a21488e978c1a31d7817e992b13561\", element=\"64b2aac5-685f-4d36-a386-b6a3454f47d2\")>,\n",
       " <selenium.webdriver.remote.webelement.WebElement (session=\"e7a21488e978c1a31d7817e992b13561\", element=\"8e297d16-52a7-4921-aa63-c48acbf4f746\")>,\n",
       " <selenium.webdriver.remote.webelement.WebElement (session=\"e7a21488e978c1a31d7817e992b13561\", element=\"3077bda2-939e-405d-ae0b-2d11eaf7eb5e\")>,\n",
       " <selenium.webdriver.remote.webelement.WebElement (session=\"e7a21488e978c1a31d7817e992b13561\", element=\"a04dc1ed-7c64-4d72-9196-ebb21acea54d\")>,\n",
       " <selenium.webdriver.remote.webelement.WebElement (session=\"e7a21488e978c1a31d7817e992b13561\", element=\"2c0ec019-f4b6-426b-9004-136a23ea4ed5\")>,\n",
       " <selenium.webdriver.remote.webelement.WebElement (session=\"e7a21488e978c1a31d7817e992b13561\", element=\"5f0275bb-5102-4f25-a33c-6369cf97d70d\")>,\n",
       " <selenium.webdriver.remote.webelement.WebElement (session=\"e7a21488e978c1a31d7817e992b13561\", element=\"e87d0703-27ee-465b-8eb3-4c002b7c4e83\")>,\n",
       " <selenium.webdriver.remote.webelement.WebElement (session=\"e7a21488e978c1a31d7817e992b13561\", element=\"726725c0-f280-4ed7-8f23-29ed5f8fca3b\")>,\n",
       " <selenium.webdriver.remote.webelement.WebElement (session=\"e7a21488e978c1a31d7817e992b13561\", element=\"6d1040ca-c3a9-492d-bba8-199d6e30a2f9\")>,\n",
       " <selenium.webdriver.remote.webelement.WebElement (session=\"e7a21488e978c1a31d7817e992b13561\", element=\"2c15d16a-fd70-4fd2-9b30-48aab9be125e\")>,\n",
       " <selenium.webdriver.remote.webelement.WebElement (session=\"e7a21488e978c1a31d7817e992b13561\", element=\"6f245f60-3b64-4e6e-a6d2-483fe5dd8b9a\")>,\n",
       " <selenium.webdriver.remote.webelement.WebElement (session=\"e7a21488e978c1a31d7817e992b13561\", element=\"f71791be-2aaa-422e-aa2f-b72e414bbd8a\")>,\n",
       " <selenium.webdriver.remote.webelement.WebElement (session=\"e7a21488e978c1a31d7817e992b13561\", element=\"cda8e0cb-5e88-4968-96ec-f0201ef6b49c\")>,\n",
       " <selenium.webdriver.remote.webelement.WebElement (session=\"e7a21488e978c1a31d7817e992b13561\", element=\"4c976dfd-c4f3-4880-b76d-9ba9c160a32e\")>,\n",
       " <selenium.webdriver.remote.webelement.WebElement (session=\"e7a21488e978c1a31d7817e992b13561\", element=\"611319b9-e330-4b11-b026-d56c0b0fcd69\")>,\n",
       " <selenium.webdriver.remote.webelement.WebElement (session=\"e7a21488e978c1a31d7817e992b13561\", element=\"da31b469-963d-44a8-86f9-ad00e80bab2e\")>,\n",
       " <selenium.webdriver.remote.webelement.WebElement (session=\"e7a21488e978c1a31d7817e992b13561\", element=\"fbf03004-9227-4657-b376-1bff2a7e5476\")>,\n",
       " <selenium.webdriver.remote.webelement.WebElement (session=\"e7a21488e978c1a31d7817e992b13561\", element=\"d89364f3-de8a-4041-a74d-38de393df8ae\")>,\n",
       " <selenium.webdriver.remote.webelement.WebElement (session=\"e7a21488e978c1a31d7817e992b13561\", element=\"c007cafc-cd56-4f33-b7ef-50fffeaa53b6\")>,\n",
       " <selenium.webdriver.remote.webelement.WebElement (session=\"e7a21488e978c1a31d7817e992b13561\", element=\"0f3b8801-9308-42a0-93af-f8197180de25\")>,\n",
       " <selenium.webdriver.remote.webelement.WebElement (session=\"e7a21488e978c1a31d7817e992b13561\", element=\"00022550-1d2d-44e8-a774-c4f1e605152c\")>,\n",
       " <selenium.webdriver.remote.webelement.WebElement (session=\"e7a21488e978c1a31d7817e992b13561\", element=\"5b10e42b-b3f4-46ae-9369-7b2aad35e492\")>,\n",
       " <selenium.webdriver.remote.webelement.WebElement (session=\"e7a21488e978c1a31d7817e992b13561\", element=\"32ff757e-7cda-40b0-bc83-2166bc80c656\")>,\n",
       " <selenium.webdriver.remote.webelement.WebElement (session=\"e7a21488e978c1a31d7817e992b13561\", element=\"d649c1c5-ab37-4019-a667-65b6b41d54a8\")>,\n",
       " <selenium.webdriver.remote.webelement.WebElement (session=\"e7a21488e978c1a31d7817e992b13561\", element=\"7a8d68d6-bdf2-4650-b193-627f1349cddd\")>,\n",
       " <selenium.webdriver.remote.webelement.WebElement (session=\"e7a21488e978c1a31d7817e992b13561\", element=\"3cf3f377-6008-43b3-b0e8-7e32c8b1cd0d\")>,\n",
       " <selenium.webdriver.remote.webelement.WebElement (session=\"e7a21488e978c1a31d7817e992b13561\", element=\"cd047972-3c98-4b9e-9cb8-4a4df729f5b0\")>,\n",
       " <selenium.webdriver.remote.webelement.WebElement (session=\"e7a21488e978c1a31d7817e992b13561\", element=\"71df505a-93dc-4fe8-aac5-8f607b323f74\")>,\n",
       " <selenium.webdriver.remote.webelement.WebElement (session=\"e7a21488e978c1a31d7817e992b13561\", element=\"b4b52a13-988d-4da3-8431-54e5ed506f50\")>,\n",
       " <selenium.webdriver.remote.webelement.WebElement (session=\"e7a21488e978c1a31d7817e992b13561\", element=\"076a95a1-6cef-4963-b7fb-504abf34ea8b\")>,\n",
       " <selenium.webdriver.remote.webelement.WebElement (session=\"e7a21488e978c1a31d7817e992b13561\", element=\"7bdfbd01-02e0-4ea3-82cc-63c88d1b37d4\")>,\n",
       " <selenium.webdriver.remote.webelement.WebElement (session=\"e7a21488e978c1a31d7817e992b13561\", element=\"9ca4df0b-e03f-46d5-8ee2-182db9096c41\")>,\n",
       " <selenium.webdriver.remote.webelement.WebElement (session=\"e7a21488e978c1a31d7817e992b13561\", element=\"408ba2b5-dea2-4ca8-a936-4ffdf11787a0\")>,\n",
       " <selenium.webdriver.remote.webelement.WebElement (session=\"e7a21488e978c1a31d7817e992b13561\", element=\"b61427ad-7851-403a-8b88-151981d05eed\")>,\n",
       " <selenium.webdriver.remote.webelement.WebElement (session=\"e7a21488e978c1a31d7817e992b13561\", element=\"ba3c4882-3a98-48e1-827f-0654e1c2f016\")>,\n",
       " <selenium.webdriver.remote.webelement.WebElement (session=\"e7a21488e978c1a31d7817e992b13561\", element=\"4e8f8165-725d-4caa-bfee-8b0431a7f216\")>,\n",
       " <selenium.webdriver.remote.webelement.WebElement (session=\"e7a21488e978c1a31d7817e992b13561\", element=\"bd74ddf8-69b2-4be7-bd2c-896aa86f4fd2\")>,\n",
       " <selenium.webdriver.remote.webelement.WebElement (session=\"e7a21488e978c1a31d7817e992b13561\", element=\"8959177c-c042-4799-ba77-f51ec8dce342\")>,\n",
       " <selenium.webdriver.remote.webelement.WebElement (session=\"e7a21488e978c1a31d7817e992b13561\", element=\"f323dbdd-7849-4478-9f30-7c239b7aefdb\")>,\n",
       " <selenium.webdriver.remote.webelement.WebElement (session=\"e7a21488e978c1a31d7817e992b13561\", element=\"52d775ef-6dfa-4a4c-8e66-f0751f095a00\")>,\n",
       " <selenium.webdriver.remote.webelement.WebElement (session=\"e7a21488e978c1a31d7817e992b13561\", element=\"94967a9e-1f4a-47f4-b975-fa7ac998f812\")>,\n",
       " <selenium.webdriver.remote.webelement.WebElement (session=\"e7a21488e978c1a31d7817e992b13561\", element=\"11137d1a-3747-4ce0-994e-780c12560c3b\")>,\n",
       " <selenium.webdriver.remote.webelement.WebElement (session=\"e7a21488e978c1a31d7817e992b13561\", element=\"c4ed17cc-9b7f-4c3a-a1e0-9d0f54376434\")>,\n",
       " <selenium.webdriver.remote.webelement.WebElement (session=\"e7a21488e978c1a31d7817e992b13561\", element=\"712488b4-6201-4495-916c-27b887103cf0\")>,\n",
       " <selenium.webdriver.remote.webelement.WebElement (session=\"e7a21488e978c1a31d7817e992b13561\", element=\"e00cf9eb-64af-4cea-a497-ac8e164008a2\")>,\n",
       " <selenium.webdriver.remote.webelement.WebElement (session=\"e7a21488e978c1a31d7817e992b13561\", element=\"7ffc4953-7bb0-44f6-acff-3f66e1dd1c4f\")>,\n",
       " <selenium.webdriver.remote.webelement.WebElement (session=\"e7a21488e978c1a31d7817e992b13561\", element=\"8c996932-fb0c-48cb-afdd-859dde493e5f\")>,\n",
       " <selenium.webdriver.remote.webelement.WebElement (session=\"e7a21488e978c1a31d7817e992b13561\", element=\"71645fa1-0fe0-4532-b807-cc5c17d2880e\")>,\n",
       " <selenium.webdriver.remote.webelement.WebElement (session=\"e7a21488e978c1a31d7817e992b13561\", element=\"0adf1604-4a02-4e9a-bd76-bd452a2c11cc\")>,\n",
       " <selenium.webdriver.remote.webelement.WebElement (session=\"e7a21488e978c1a31d7817e992b13561\", element=\"f75cd9d3-a929-434f-99ba-7abefb7bf026\")>,\n",
       " <selenium.webdriver.remote.webelement.WebElement (session=\"e7a21488e978c1a31d7817e992b13561\", element=\"48b7655e-f37b-4762-b037-18da20d80f89\")>,\n",
       " <selenium.webdriver.remote.webelement.WebElement (session=\"e7a21488e978c1a31d7817e992b13561\", element=\"d1ed7521-6476-401b-833d-a86c3bd6e108\")>,\n",
       " <selenium.webdriver.remote.webelement.WebElement (session=\"e7a21488e978c1a31d7817e992b13561\", element=\"583b6d38-b1c0-4341-b2f2-82a75dd783af\")>,\n",
       " <selenium.webdriver.remote.webelement.WebElement (session=\"e7a21488e978c1a31d7817e992b13561\", element=\"8d8029f4-4996-446d-a69b-8a5f531862a3\")>,\n",
       " <selenium.webdriver.remote.webelement.WebElement (session=\"e7a21488e978c1a31d7817e992b13561\", element=\"c3fb6526-8222-497e-8ff8-c6066c2f1f52\")>,\n",
       " <selenium.webdriver.remote.webelement.WebElement (session=\"e7a21488e978c1a31d7817e992b13561\", element=\"0fa04263-992b-4db3-a38f-d128e860bb88\")>,\n",
       " <selenium.webdriver.remote.webelement.WebElement (session=\"e7a21488e978c1a31d7817e992b13561\", element=\"76db6b23-aa5a-4acc-9238-296fe71ec0b4\")>,\n",
       " <selenium.webdriver.remote.webelement.WebElement (session=\"e7a21488e978c1a31d7817e992b13561\", element=\"53de19d1-ac63-4935-a31c-f06d936eb4ab\")>,\n",
       " <selenium.webdriver.remote.webelement.WebElement (session=\"e7a21488e978c1a31d7817e992b13561\", element=\"a9c82723-864a-4120-a90c-2b4d85f2f0f8\")>,\n",
       " <selenium.webdriver.remote.webelement.WebElement (session=\"e7a21488e978c1a31d7817e992b13561\", element=\"7bcafbf7-c62f-488e-9802-e257be4b3fb8\")>,\n",
       " <selenium.webdriver.remote.webelement.WebElement (session=\"e7a21488e978c1a31d7817e992b13561\", element=\"bc5db33c-4aa7-4fe2-80d0-63f42c189423\")>,\n",
       " <selenium.webdriver.remote.webelement.WebElement (session=\"e7a21488e978c1a31d7817e992b13561\", element=\"742a0184-b4a9-4f0c-a9c8-a17579c64d01\")>,\n",
       " <selenium.webdriver.remote.webelement.WebElement (session=\"e7a21488e978c1a31d7817e992b13561\", element=\"79a3693e-4376-49c1-8a0b-03947b2f05fe\")>,\n",
       " <selenium.webdriver.remote.webelement.WebElement (session=\"e7a21488e978c1a31d7817e992b13561\", element=\"42cad39d-2a10-482a-a5e8-7066dea8ceea\")>,\n",
       " <selenium.webdriver.remote.webelement.WebElement (session=\"e7a21488e978c1a31d7817e992b13561\", element=\"a3c9fbd8-eacf-44ec-9505-8f88cfdfc32f\")>,\n",
       " <selenium.webdriver.remote.webelement.WebElement (session=\"e7a21488e978c1a31d7817e992b13561\", element=\"b35ecf04-99d7-483c-b778-8bbfcdb7741e\")>,\n",
       " <selenium.webdriver.remote.webelement.WebElement (session=\"e7a21488e978c1a31d7817e992b13561\", element=\"db98a8b7-6f60-44ff-a9a2-1569a8287037\")>,\n",
       " <selenium.webdriver.remote.webelement.WebElement (session=\"e7a21488e978c1a31d7817e992b13561\", element=\"bd523395-25d5-48a8-9a7b-9a34ffcbb3c8\")>,\n",
       " <selenium.webdriver.remote.webelement.WebElement (session=\"e7a21488e978c1a31d7817e992b13561\", element=\"07e5f80b-d129-481a-9613-247d15b49986\")>,\n",
       " <selenium.webdriver.remote.webelement.WebElement (session=\"e7a21488e978c1a31d7817e992b13561\", element=\"ffee2822-5613-4893-a3fb-7fd0f2d017df\")>,\n",
       " <selenium.webdriver.remote.webelement.WebElement (session=\"e7a21488e978c1a31d7817e992b13561\", element=\"e62bf614-cd69-4c83-a8d7-4ad6290f5aac\")>,\n",
       " <selenium.webdriver.remote.webelement.WebElement (session=\"e7a21488e978c1a31d7817e992b13561\", element=\"7ced1ef6-f4a9-46b7-94a7-a1b744f3ac9c\")>,\n",
       " <selenium.webdriver.remote.webelement.WebElement (session=\"e7a21488e978c1a31d7817e992b13561\", element=\"0c59b407-caa2-4ea9-a1c2-ef6416570f8d\")>,\n",
       " <selenium.webdriver.remote.webelement.WebElement (session=\"e7a21488e978c1a31d7817e992b13561\", element=\"7d8fe1fd-6681-4dc5-86af-38d3bdd691bf\")>,\n",
       " <selenium.webdriver.remote.webelement.WebElement (session=\"e7a21488e978c1a31d7817e992b13561\", element=\"0550b9c3-6a5e-4113-b4a3-14829718b420\")>,\n",
       " <selenium.webdriver.remote.webelement.WebElement (session=\"e7a21488e978c1a31d7817e992b13561\", element=\"8bab76e8-c885-4a8d-aa32-01b959f9a56b\")>,\n",
       " <selenium.webdriver.remote.webelement.WebElement (session=\"e7a21488e978c1a31d7817e992b13561\", element=\"b8cddc97-3c0e-4387-bafa-9968ef6fdfc3\")>,\n",
       " <selenium.webdriver.remote.webelement.WebElement (session=\"e7a21488e978c1a31d7817e992b13561\", element=\"a5ef60d9-8273-47cf-b972-d1fec4e45996\")>,\n",
       " <selenium.webdriver.remote.webelement.WebElement (session=\"e7a21488e978c1a31d7817e992b13561\", element=\"2d2bc2b1-aa33-4543-9ba3-53b26c3f9b4e\")>,\n",
       " <selenium.webdriver.remote.webelement.WebElement (session=\"e7a21488e978c1a31d7817e992b13561\", element=\"c3c5f37a-af57-41e9-b59a-de33dd1965da\")>,\n",
       " <selenium.webdriver.remote.webelement.WebElement (session=\"e7a21488e978c1a31d7817e992b13561\", element=\"2163d902-3d7d-4e2c-954e-d49fd94ed3e5\")>,\n",
       " <selenium.webdriver.remote.webelement.WebElement (session=\"e7a21488e978c1a31d7817e992b13561\", element=\"f27aae2d-bedc-4c6c-b604-098837f41a01\")>,\n",
       " <selenium.webdriver.remote.webelement.WebElement (session=\"e7a21488e978c1a31d7817e992b13561\", element=\"c10aa101-a0be-4cb0-ac93-d5dba02f9599\")>,\n",
       " <selenium.webdriver.remote.webelement.WebElement (session=\"e7a21488e978c1a31d7817e992b13561\", element=\"93e6bbcc-87a6-4921-8cc6-45fa5aec2444\")>,\n",
       " <selenium.webdriver.remote.webelement.WebElement (session=\"e7a21488e978c1a31d7817e992b13561\", element=\"c470f542-cad7-41a1-ad79-8017df20613e\")>,\n",
       " <selenium.webdriver.remote.webelement.WebElement (session=\"e7a21488e978c1a31d7817e992b13561\", element=\"8d738fae-ca6f-485d-8ff3-7bf1fafd52f8\")>,\n",
       " <selenium.webdriver.remote.webelement.WebElement (session=\"e7a21488e978c1a31d7817e992b13561\", element=\"b1aa6661-675d-4b04-9fec-a4025fd52204\")>,\n",
       " <selenium.webdriver.remote.webelement.WebElement (session=\"e7a21488e978c1a31d7817e992b13561\", element=\"73ea9cd5-a0e9-4a0b-9210-853beb280876\")>,\n",
       " <selenium.webdriver.remote.webelement.WebElement (session=\"e7a21488e978c1a31d7817e992b13561\", element=\"589f33e1-9ff6-4727-a722-480e50602706\")>,\n",
       " <selenium.webdriver.remote.webelement.WebElement (session=\"e7a21488e978c1a31d7817e992b13561\", element=\"9ac926be-6239-4e0d-8b5e-e93d3adcb9de\")>,\n",
       " <selenium.webdriver.remote.webelement.WebElement (session=\"e7a21488e978c1a31d7817e992b13561\", element=\"9d5e77c4-2ad1-4863-866c-b20b36839054\")>,\n",
       " <selenium.webdriver.remote.webelement.WebElement (session=\"e7a21488e978c1a31d7817e992b13561\", element=\"bc9d985e-c4cb-4923-949e-f8c33eed707d\")>,\n",
       " <selenium.webdriver.remote.webelement.WebElement (session=\"e7a21488e978c1a31d7817e992b13561\", element=\"084587f4-b29e-423d-86ea-11ed730c1815\")>,\n",
       " <selenium.webdriver.remote.webelement.WebElement (session=\"e7a21488e978c1a31d7817e992b13561\", element=\"93fd9d1e-9871-45a5-9704-968f8598c0ef\")>,\n",
       " <selenium.webdriver.remote.webelement.WebElement (session=\"e7a21488e978c1a31d7817e992b13561\", element=\"5f12f4ab-a41d-409e-b1b2-22038f4b4fea\")>,\n",
       " <selenium.webdriver.remote.webelement.WebElement (session=\"e7a21488e978c1a31d7817e992b13561\", element=\"28c2402e-a016-47d5-9ba5-80fabf0a3f58\")>,\n",
       " <selenium.webdriver.remote.webelement.WebElement (session=\"e7a21488e978c1a31d7817e992b13561\", element=\"4769ad16-78a9-49af-8b54-834a9ec964f7\")>,\n",
       " <selenium.webdriver.remote.webelement.WebElement (session=\"e7a21488e978c1a31d7817e992b13561\", element=\"fb132fa9-ac68-4546-9104-cfb191e1b98a\")>,\n",
       " <selenium.webdriver.remote.webelement.WebElement (session=\"e7a21488e978c1a31d7817e992b13561\", element=\"eb318c51-9e36-411a-b0b2-cf1a07da7e28\")>,\n",
       " <selenium.webdriver.remote.webelement.WebElement (session=\"e7a21488e978c1a31d7817e992b13561\", element=\"1a354bd0-b795-47a3-ba43-2680106f3ef7\")>,\n",
       " <selenium.webdriver.remote.webelement.WebElement (session=\"e7a21488e978c1a31d7817e992b13561\", element=\"2127670e-b918-4cbb-bf12-d8d117aabbcd\")>,\n",
       " <selenium.webdriver.remote.webelement.WebElement (session=\"e7a21488e978c1a31d7817e992b13561\", element=\"c13a50ac-3661-40d3-803e-b998ab8bb83e\")>,\n",
       " <selenium.webdriver.remote.webelement.WebElement (session=\"e7a21488e978c1a31d7817e992b13561\", element=\"46a629ae-95b2-4b85-85de-6c15ec2e214a\")>,\n",
       " <selenium.webdriver.remote.webelement.WebElement (session=\"e7a21488e978c1a31d7817e992b13561\", element=\"97d02542-9f95-4bf0-8e75-9c7eebc2a7f4\")>,\n",
       " <selenium.webdriver.remote.webelement.WebElement (session=\"e7a21488e978c1a31d7817e992b13561\", element=\"c0f2a709-2758-4773-b769-ab8c2e1b0937\")>,\n",
       " <selenium.webdriver.remote.webelement.WebElement (session=\"e7a21488e978c1a31d7817e992b13561\", element=\"b19c313c-645f-4b41-be7c-8f5fe51d0d36\")>,\n",
       " <selenium.webdriver.remote.webelement.WebElement (session=\"e7a21488e978c1a31d7817e992b13561\", element=\"d2da093d-da54-42cd-ada9-2cf11a8504ac\")>,\n",
       " <selenium.webdriver.remote.webelement.WebElement (session=\"e7a21488e978c1a31d7817e992b13561\", element=\"6a2a3ea1-38d1-406b-a205-e121731f171f\")>,\n",
       " <selenium.webdriver.remote.webelement.WebElement (session=\"e7a21488e978c1a31d7817e992b13561\", element=\"0a0eeee7-4a38-48eb-a813-ec06a5179e53\")>,\n",
       " <selenium.webdriver.remote.webelement.WebElement (session=\"e7a21488e978c1a31d7817e992b13561\", element=\"3df2a77f-c330-4b92-b849-a6828312b177\")>,\n",
       " <selenium.webdriver.remote.webelement.WebElement (session=\"e7a21488e978c1a31d7817e992b13561\", element=\"a7271259-e5cb-4f8f-8816-988796a4a367\")>,\n",
       " <selenium.webdriver.remote.webelement.WebElement (session=\"e7a21488e978c1a31d7817e992b13561\", element=\"ed64edc2-c32c-4f44-88f3-35078c5546ae\")>,\n",
       " <selenium.webdriver.remote.webelement.WebElement (session=\"e7a21488e978c1a31d7817e992b13561\", element=\"10e13752-9ba1-4aef-8b48-983f1be42e37\")>,\n",
       " <selenium.webdriver.remote.webelement.WebElement (session=\"e7a21488e978c1a31d7817e992b13561\", element=\"fbdf6345-87da-40d6-97ce-a77b7649d254\")>,\n",
       " <selenium.webdriver.remote.webelement.WebElement (session=\"e7a21488e978c1a31d7817e992b13561\", element=\"0e0791e9-bfe0-49b6-be4b-54985dfb5420\")>,\n",
       " <selenium.webdriver.remote.webelement.WebElement (session=\"e7a21488e978c1a31d7817e992b13561\", element=\"4e62f182-e8c4-4a1a-9011-8ae5bb03362f\")>,\n",
       " <selenium.webdriver.remote.webelement.WebElement (session=\"e7a21488e978c1a31d7817e992b13561\", element=\"8cc5a50d-d816-483e-a6bb-1db1488f4f8b\")>,\n",
       " <selenium.webdriver.remote.webelement.WebElement (session=\"e7a21488e978c1a31d7817e992b13561\", element=\"faaae694-971e-46c3-ad4b-a41a6bbdc49a\")>,\n",
       " <selenium.webdriver.remote.webelement.WebElement (session=\"e7a21488e978c1a31d7817e992b13561\", element=\"9621bc41-dc32-4ed0-a0ea-080f20db48f3\")>,\n",
       " <selenium.webdriver.remote.webelement.WebElement (session=\"e7a21488e978c1a31d7817e992b13561\", element=\"a4709608-c27b-48e8-9c65-7592bc127036\")>,\n",
       " <selenium.webdriver.remote.webelement.WebElement (session=\"e7a21488e978c1a31d7817e992b13561\", element=\"c08fe1a6-1737-40a8-98d4-12c98a5e1302\")>,\n",
       " <selenium.webdriver.remote.webelement.WebElement (session=\"e7a21488e978c1a31d7817e992b13561\", element=\"cdf639e8-7997-4472-a2a2-109518c93226\")>,\n",
       " <selenium.webdriver.remote.webelement.WebElement (session=\"e7a21488e978c1a31d7817e992b13561\", element=\"0c0f2bed-7f64-4ef0-8529-dd696cc6b410\")>,\n",
       " <selenium.webdriver.remote.webelement.WebElement (session=\"e7a21488e978c1a31d7817e992b13561\", element=\"0504f0f1-adc6-42b6-bec9-662d790df261\")>,\n",
       " <selenium.webdriver.remote.webelement.WebElement (session=\"e7a21488e978c1a31d7817e992b13561\", element=\"5ad47087-9f39-4408-9c02-6eb26f58bc50\")>,\n",
       " <selenium.webdriver.remote.webelement.WebElement (session=\"e7a21488e978c1a31d7817e992b13561\", element=\"b731ccec-9645-43f7-9920-30224a370702\")>,\n",
       " <selenium.webdriver.remote.webelement.WebElement (session=\"e7a21488e978c1a31d7817e992b13561\", element=\"94215078-944d-415c-a71b-71ac4e26a669\")>,\n",
       " <selenium.webdriver.remote.webelement.WebElement (session=\"e7a21488e978c1a31d7817e992b13561\", element=\"99f9a3bb-ae4f-4f57-b8fa-9626081646cb\")>,\n",
       " <selenium.webdriver.remote.webelement.WebElement (session=\"e7a21488e978c1a31d7817e992b13561\", element=\"e1095f18-f492-45c3-8af9-3c0af670c363\")>,\n",
       " <selenium.webdriver.remote.webelement.WebElement (session=\"e7a21488e978c1a31d7817e992b13561\", element=\"c17299d1-d9ca-4424-83d1-dfe498cc7255\")>,\n",
       " <selenium.webdriver.remote.webelement.WebElement (session=\"e7a21488e978c1a31d7817e992b13561\", element=\"00968081-4f90-4b2b-94cb-04dc17ad3f1e\")>,\n",
       " <selenium.webdriver.remote.webelement.WebElement (session=\"e7a21488e978c1a31d7817e992b13561\", element=\"c7c11c2d-a50f-41c6-8be6-40b8952009f9\")>,\n",
       " <selenium.webdriver.remote.webelement.WebElement (session=\"e7a21488e978c1a31d7817e992b13561\", element=\"9f407a66-a610-4c4d-b245-1f75ca22ddd7\")>,\n",
       " <selenium.webdriver.remote.webelement.WebElement (session=\"e7a21488e978c1a31d7817e992b13561\", element=\"2bdcd691-a9fb-4fec-b273-be697deff55b\")>,\n",
       " <selenium.webdriver.remote.webelement.WebElement (session=\"e7a21488e978c1a31d7817e992b13561\", element=\"315f64e5-a8ce-4647-b90c-18b95aa1695b\")>,\n",
       " <selenium.webdriver.remote.webelement.WebElement (session=\"e7a21488e978c1a31d7817e992b13561\", element=\"34f989b7-d686-444c-855e-f0500404d135\")>,\n",
       " <selenium.webdriver.remote.webelement.WebElement (session=\"e7a21488e978c1a31d7817e992b13561\", element=\"8b4c80ee-76dd-4847-996e-aea21f5e6c6f\")>,\n",
       " <selenium.webdriver.remote.webelement.WebElement (session=\"e7a21488e978c1a31d7817e992b13561\", element=\"4e15d8a1-25f3-446f-8fb9-56884de2aa1a\")>,\n",
       " <selenium.webdriver.remote.webelement.WebElement (session=\"e7a21488e978c1a31d7817e992b13561\", element=\"ff638ef1-6cc2-4da6-a17d-d9ccffc6e92c\")>,\n",
       " <selenium.webdriver.remote.webelement.WebElement (session=\"e7a21488e978c1a31d7817e992b13561\", element=\"04246ccc-fa19-4aa2-870f-c9372a5bf2bd\")>,\n",
       " <selenium.webdriver.remote.webelement.WebElement (session=\"e7a21488e978c1a31d7817e992b13561\", element=\"5d753554-83c3-49c4-9a45-b4e268bde2e8\")>,\n",
       " <selenium.webdriver.remote.webelement.WebElement (session=\"e7a21488e978c1a31d7817e992b13561\", element=\"ef55921d-549c-4bfb-9904-7e02fbfcda23\")>,\n",
       " <selenium.webdriver.remote.webelement.WebElement (session=\"e7a21488e978c1a31d7817e992b13561\", element=\"71c38a07-3cb3-4be4-b6b0-523ebef1500f\")>,\n",
       " <selenium.webdriver.remote.webelement.WebElement (session=\"e7a21488e978c1a31d7817e992b13561\", element=\"41dc336c-6400-419f-97b1-b2768d1b6d34\")>,\n",
       " <selenium.webdriver.remote.webelement.WebElement (session=\"e7a21488e978c1a31d7817e992b13561\", element=\"e6513019-2d3a-4f30-bb43-29203556f7b4\")>,\n",
       " <selenium.webdriver.remote.webelement.WebElement (session=\"e7a21488e978c1a31d7817e992b13561\", element=\"db741259-7aee-4766-892f-a12387925282\")>,\n",
       " <selenium.webdriver.remote.webelement.WebElement (session=\"e7a21488e978c1a31d7817e992b13561\", element=\"6908270c-8d32-4711-986e-71b1d8f2c921\")>,\n",
       " <selenium.webdriver.remote.webelement.WebElement (session=\"e7a21488e978c1a31d7817e992b13561\", element=\"1d1c6d1a-33bc-4806-98ba-a2ff1c5e270f\")>,\n",
       " <selenium.webdriver.remote.webelement.WebElement (session=\"e7a21488e978c1a31d7817e992b13561\", element=\"d281d7e8-4fc6-461a-9dec-be8a7ff4dd15\")>,\n",
       " <selenium.webdriver.remote.webelement.WebElement (session=\"e7a21488e978c1a31d7817e992b13561\", element=\"557169d0-ada6-4404-ba7d-648c8e5b4717\")>,\n",
       " <selenium.webdriver.remote.webelement.WebElement (session=\"e7a21488e978c1a31d7817e992b13561\", element=\"c9df2198-1993-454b-8412-23edceaf012d\")>,\n",
       " <selenium.webdriver.remote.webelement.WebElement (session=\"e7a21488e978c1a31d7817e992b13561\", element=\"a90cf34e-c1d6-45f2-bacf-22fed626d1bc\")>,\n",
       " <selenium.webdriver.remote.webelement.WebElement (session=\"e7a21488e978c1a31d7817e992b13561\", element=\"fd54e398-2f0e-4e03-9417-06fefe8002d3\")>,\n",
       " <selenium.webdriver.remote.webelement.WebElement (session=\"e7a21488e978c1a31d7817e992b13561\", element=\"fa4cba5b-d8f5-42e9-ba9a-e5520cb07aa0\")>,\n",
       " <selenium.webdriver.remote.webelement.WebElement (session=\"e7a21488e978c1a31d7817e992b13561\", element=\"116b77aa-7dc1-499b-85f3-e27269cff870\")>,\n",
       " <selenium.webdriver.remote.webelement.WebElement (session=\"e7a21488e978c1a31d7817e992b13561\", element=\"fb9358ff-5734-4e20-8d42-dba6f21577d1\")>,\n",
       " <selenium.webdriver.remote.webelement.WebElement (session=\"e7a21488e978c1a31d7817e992b13561\", element=\"8c83c180-059f-43cd-b17f-2e0eaa6c2b39\")>,\n",
       " <selenium.webdriver.remote.webelement.WebElement (session=\"e7a21488e978c1a31d7817e992b13561\", element=\"6220f668-925d-4aa5-bce4-121309605852\")>,\n",
       " <selenium.webdriver.remote.webelement.WebElement (session=\"e7a21488e978c1a31d7817e992b13561\", element=\"77174ee9-e222-4fa2-85d1-117feb826802\")>,\n",
       " <selenium.webdriver.remote.webelement.WebElement (session=\"e7a21488e978c1a31d7817e992b13561\", element=\"d1e15dc6-ccbe-4921-aa44-37e8ce96d34c\")>,\n",
       " <selenium.webdriver.remote.webelement.WebElement (session=\"e7a21488e978c1a31d7817e992b13561\", element=\"5dd4ef11-9e65-47e7-899a-09adc793e5e9\")>,\n",
       " <selenium.webdriver.remote.webelement.WebElement (session=\"e7a21488e978c1a31d7817e992b13561\", element=\"24a944af-0c22-44b3-9d40-e948e114902c\")>,\n",
       " <selenium.webdriver.remote.webelement.WebElement (session=\"e7a21488e978c1a31d7817e992b13561\", element=\"9a2427bd-7726-4c95-8e70-361289cf235d\")>,\n",
       " <selenium.webdriver.remote.webelement.WebElement (session=\"e7a21488e978c1a31d7817e992b13561\", element=\"46cc438c-51ee-4e06-b9d6-d401f2c5ad1f\")>,\n",
       " <selenium.webdriver.remote.webelement.WebElement (session=\"e7a21488e978c1a31d7817e992b13561\", element=\"99c7fd06-dee3-41e6-be44-06fd23ee5a8e\")>,\n",
       " <selenium.webdriver.remote.webelement.WebElement (session=\"e7a21488e978c1a31d7817e992b13561\", element=\"83a183e9-4014-4b2e-8b5e-ecdbf7b222a8\")>,\n",
       " <selenium.webdriver.remote.webelement.WebElement (session=\"e7a21488e978c1a31d7817e992b13561\", element=\"3cd44c16-6648-4ba1-a982-a3377ac03296\")>,\n",
       " <selenium.webdriver.remote.webelement.WebElement (session=\"e7a21488e978c1a31d7817e992b13561\", element=\"37bdd38f-44c2-4453-a137-03154b208eac\")>,\n",
       " <selenium.webdriver.remote.webelement.WebElement (session=\"e7a21488e978c1a31d7817e992b13561\", element=\"0c5d5f24-9b5b-4dba-b1b2-641b724297a0\")>,\n",
       " <selenium.webdriver.remote.webelement.WebElement (session=\"e7a21488e978c1a31d7817e992b13561\", element=\"5f5b06dd-b742-4a5a-9f4e-db160c4dbb40\")>,\n",
       " <selenium.webdriver.remote.webelement.WebElement (session=\"e7a21488e978c1a31d7817e992b13561\", element=\"d54df773-fd8f-4e9c-8a13-6937335cb821\")>,\n",
       " <selenium.webdriver.remote.webelement.WebElement (session=\"e7a21488e978c1a31d7817e992b13561\", element=\"93d7e72e-5fc6-4cc5-8005-49a9bb190a03\")>,\n",
       " <selenium.webdriver.remote.webelement.WebElement (session=\"e7a21488e978c1a31d7817e992b13561\", element=\"7222e7aa-2380-44f9-9728-34ac66262312\")>,\n",
       " <selenium.webdriver.remote.webelement.WebElement (session=\"e7a21488e978c1a31d7817e992b13561\", element=\"939d7b7e-dd81-48b0-a945-30babbf0f4fe\")>,\n",
       " ...]"
      ]
     },
     "execution_count": 75,
     "metadata": {},
     "output_type": "execute_result"
    }
   ],
   "source": [
    "thumbnail_results"
   ]
  },
  {
   "cell_type": "code",
   "execution_count": 221,
   "metadata": {
    "ExecuteTime": {
     "end_time": "2020-02-20T09:02:40.931999Z",
     "start_time": "2020-02-20T09:02:40.928793Z"
    }
   },
   "outputs": [],
   "source": [
    "# search_box.send_keys('Dogs')"
   ]
  },
  {
   "cell_type": "code",
   "execution_count": 244,
   "metadata": {
    "ExecuteTime": {
     "end_time": "2020-02-20T09:32:19.626765Z",
     "start_time": "2020-02-20T09:32:19.603400Z"
    }
   },
   "outputs": [
    {
     "data": {
      "text/plain": [
       "[]"
      ]
     },
     "execution_count": 244,
     "metadata": {},
     "output_type": "execute_result"
    }
   ],
   "source": [
    "wd.find_elements_by_css_selector(\"img.rg_ic\")"
   ]
  },
  {
   "cell_type": "code",
   "execution_count": 245,
   "metadata": {
    "ExecuteTime": {
     "end_time": "2020-02-20T09:37:04.517542Z",
     "start_time": "2020-02-20T09:37:04.485590Z"
    }
   },
   "outputs": [],
   "source": [
    "wd.quit()"
   ]
  },
  {
   "cell_type": "code",
   "execution_count": 59,
   "metadata": {
    "ExecuteTime": {
     "end_time": "2020-02-20T10:10:50.167102Z",
     "start_time": "2020-02-20T10:10:50.151341Z"
    }
   },
   "outputs": [],
   "source": [
    "def fetch_image_urls(query: str, max_links_to_fetch: int, wd: webdriver, sleep_between_interactions: int = 1):\n",
    "    def scroll_to_end(wd):\n",
    "        wd.execute_script(\"window.scrollTo(0, document.body.scrollHeight);\")\n",
    "        time.sleep(sleep_between_interactions)\n",
    "\n",
    "    # build the google query\n",
    "    search_url = \"https://www.google.com/search?safe=off&site=&tbm=isch&source=hp&q={q}&oq={q}&gs_l=img\"\n",
    "    # load the page\n",
    "    wd.get(search_url.format(q=query))\n",
    "    print(search_url.format(q=query))\n",
    "\n",
    "    image_urls = set()\n",
    "    image_count = 0\n",
    "    results_start = 0\n",
    "    while image_count < max_links_to_fetch:\n",
    "        scroll_to_end(wd)\n",
    "\n",
    "        # get all image thumbnail results\n",
    "#         thumbnail_results = wd.find_elements_by_css_selector(\"img.rg_ic\")\n",
    "        thumbnail_results = wd.find_elements_by_css_selector(\"*\")\n",
    "        \n",
    "        number_results = len(thumbnail_results)\n",
    "        print(number_results)\n",
    "\n",
    "        print(f\"Found: {number_results} search results. Extracting links from {results_start}:{number_results}\")\n",
    "\n",
    "        for img in thumbnail_results[results_start:number_results]:\n",
    "            # try to click every thumbnail such that we can get the real image behind it\n",
    "            try:\n",
    "                img.click()\n",
    "                time.sleep(sleep_between_interactions)\n",
    "            except Exception:\n",
    "                continue\n",
    "\n",
    "            # extract image urls\n",
    "#             actual_images = wd.find_elements_by_css_selector('img.irc_mi')\n",
    "            actual_images = wd.find_elements_by_css_selector('img.irc_mi')\n",
    "            \n",
    "            print(actual_image)\n",
    "            for actual_image in actual_images:\n",
    "                if actual_image.get_attribute('src'):\n",
    "                    image_urls.add(actual_image.get_attribute('src'))\n",
    "\n",
    "            image_count = len(image_urls)\n",
    "\n",
    "            if len(image_urls) >= max_links_to_fetch:\n",
    "                print(f\"Found: {len(image_urls)} image links, done!\")\n",
    "                break\n",
    "        else:\n",
    "            print(\"Found:\", len(image_urls), \"image links, looking for more ...\")\n",
    "            time.sleep(1)\n",
    "            load_more_button = wd.find_element_by_css_selector(\".ksb\")\n",
    "\n",
    "            if load_more_button:\n",
    "                wd.execute_script(\"document.querySelector('.ksb').click();\")\n",
    "\n",
    "        # move the result startpoint further down\n",
    "        results_start = len(thumbnail_results)\n",
    "\n",
    "    return image_urls"
   ]
  },
  {
   "cell_type": "code",
   "execution_count": 60,
   "metadata": {
    "ExecuteTime": {
     "end_time": "2020-02-20T10:10:50.403444Z",
     "start_time": "2020-02-20T10:10:50.354570Z"
    }
   },
   "outputs": [],
   "source": [
    "def persist_image(folder_path: str, url: str):\n",
    "    try:\n",
    "        image_content = requests.get(url).content\n",
    "\n",
    "    except Exception as e:\n",
    "        print(f\"ERROR - Could not download {url} - {e}\")\n",
    "\n",
    "    try:\n",
    "        image_file = io.BytesIO(image_content)\n",
    "        image = Image.open(image_file).convert('RGB')\n",
    "        file_path = os.path.join(folder_path, hashlib.sha1(\n",
    "            image_content).hexdigest()[:10] + '.jpg')\n",
    "        with open(file_path, 'wb') as f:\n",
    "            image.save(f, \"JPEG\", quality=85)\n",
    "        print(f\"SUCCESS - saved {url} - as {file_path}\")\n",
    "    except Exception as e:\n",
    "        print(f\"ERROR - Could not save {url} - {e}\")"
   ]
  },
  {
   "cell_type": "code",
   "execution_count": 61,
   "metadata": {
    "ExecuteTime": {
     "end_time": "2020-02-20T10:10:50.537614Z",
     "start_time": "2020-02-20T10:10:50.528799Z"
    }
   },
   "outputs": [],
   "source": [
    "def search_and_download(search_term: str, driver_path: str, target_path='./images', number_images=5):\n",
    "    target_folder = os.path.join(target_path, '_'.join(search_term.lower().split(' ')))\n",
    "\n",
    "    if not os.path.exists(target_folder):\n",
    "        os.makedirs(target_folder)\n",
    "\n",
    "    with webdriver.Chrome(executable_path=driver_path) as wd:\n",
    "        res = fetch_image_urls(search_term, \n",
    "                               number_images,\n",
    "                               wd=wd, \n",
    "                               sleep_between_interactions=0.5)\n",
    "\n",
    "    for elem in res:\n",
    "        persist_image(target_folder, elem)"
   ]
  },
  {
   "cell_type": "code",
   "execution_count": 62,
   "metadata": {
    "ExecuteTime": {
     "end_time": "2020-02-20T10:10:50.684721Z",
     "start_time": "2020-02-20T10:10:50.681110Z"
    }
   },
   "outputs": [],
   "source": [
    "search_term = 'Cats'"
   ]
  },
  {
   "cell_type": "code",
   "execution_count": 63,
   "metadata": {
    "ExecuteTime": {
     "end_time": "2020-02-20T10:10:58.199302Z",
     "start_time": "2020-02-20T10:10:51.197603Z"
    }
   },
   "outputs": [
    {
     "name": "stdout",
     "output_type": "stream",
     "text": [
      "https://www.google.com/search?safe=off&site=&tbm=isch&source=hp&q=Cats&oq=Cats&gs_l=img\n",
      "3217\n",
      "Found: 3217 search results. Extracting links from 0:3217\n"
     ]
    },
    {
     "ename": "UnboundLocalError",
     "evalue": "local variable 'actual_image' referenced before assignment",
     "output_type": "error",
     "traceback": [
      "\u001b[0;31m---------------------------------------------------------------------------\u001b[0m",
      "\u001b[0;31mUnboundLocalError\u001b[0m                         Traceback (most recent call last)",
      "\u001b[0;32m<ipython-input-63-6b19269b4688>\u001b[0m in \u001b[0;36m<module>\u001b[0;34m\u001b[0m\n\u001b[0;32m----> 1\u001b[0;31m \u001b[0msearch_and_download\u001b[0m\u001b[0;34m(\u001b[0m\u001b[0msearch_term\u001b[0m\u001b[0;34m=\u001b[0m\u001b[0msearch_term\u001b[0m\u001b[0;34m,\u001b[0m \u001b[0mdriver_path\u001b[0m\u001b[0;34m=\u001b[0m\u001b[0mDRIVER_PATH\u001b[0m\u001b[0;34m)\u001b[0m\u001b[0;34m\u001b[0m\u001b[0;34m\u001b[0m\u001b[0m\n\u001b[0m",
      "\u001b[0;32m<ipython-input-61-010906cbbed5>\u001b[0m in \u001b[0;36msearch_and_download\u001b[0;34m(search_term, driver_path, target_path, number_images)\u001b[0m\n\u001b[1;32m      9\u001b[0m                                \u001b[0mnumber_images\u001b[0m\u001b[0;34m,\u001b[0m\u001b[0;34m\u001b[0m\u001b[0;34m\u001b[0m\u001b[0m\n\u001b[1;32m     10\u001b[0m                                \u001b[0mwd\u001b[0m\u001b[0;34m=\u001b[0m\u001b[0mwd\u001b[0m\u001b[0;34m,\u001b[0m\u001b[0;34m\u001b[0m\u001b[0;34m\u001b[0m\u001b[0m\n\u001b[0;32m---> 11\u001b[0;31m                                sleep_between_interactions=0.5)\n\u001b[0m\u001b[1;32m     12\u001b[0m \u001b[0;34m\u001b[0m\u001b[0m\n\u001b[1;32m     13\u001b[0m     \u001b[0;32mfor\u001b[0m \u001b[0melem\u001b[0m \u001b[0;32min\u001b[0m \u001b[0mres\u001b[0m\u001b[0;34m:\u001b[0m\u001b[0;34m\u001b[0m\u001b[0;34m\u001b[0m\u001b[0m\n",
      "\u001b[0;32m<ipython-input-59-2d400e68a6ff>\u001b[0m in \u001b[0;36mfetch_image_urls\u001b[0;34m(query, max_links_to_fetch, wd, sleep_between_interactions)\u001b[0m\n\u001b[1;32m     37\u001b[0m             \u001b[0mactual_images\u001b[0m \u001b[0;34m=\u001b[0m \u001b[0mwd\u001b[0m\u001b[0;34m.\u001b[0m\u001b[0mfind_elements_by_css_selector\u001b[0m\u001b[0;34m(\u001b[0m\u001b[0;34m'img.irc_mi'\u001b[0m\u001b[0;34m)\u001b[0m\u001b[0;34m\u001b[0m\u001b[0;34m\u001b[0m\u001b[0m\n\u001b[1;32m     38\u001b[0m \u001b[0;34m\u001b[0m\u001b[0m\n\u001b[0;32m---> 39\u001b[0;31m             \u001b[0mprint\u001b[0m\u001b[0;34m(\u001b[0m\u001b[0mactual_image\u001b[0m\u001b[0;34m)\u001b[0m\u001b[0;34m\u001b[0m\u001b[0;34m\u001b[0m\u001b[0m\n\u001b[0m\u001b[1;32m     40\u001b[0m             \u001b[0;32mfor\u001b[0m \u001b[0mactual_image\u001b[0m \u001b[0;32min\u001b[0m \u001b[0mactual_images\u001b[0m\u001b[0;34m:\u001b[0m\u001b[0;34m\u001b[0m\u001b[0;34m\u001b[0m\u001b[0m\n\u001b[1;32m     41\u001b[0m                 \u001b[0;32mif\u001b[0m \u001b[0mactual_image\u001b[0m\u001b[0;34m.\u001b[0m\u001b[0mget_attribute\u001b[0m\u001b[0;34m(\u001b[0m\u001b[0;34m'src'\u001b[0m\u001b[0;34m)\u001b[0m\u001b[0;34m:\u001b[0m\u001b[0;34m\u001b[0m\u001b[0;34m\u001b[0m\u001b[0m\n",
      "\u001b[0;31mUnboundLocalError\u001b[0m: local variable 'actual_image' referenced before assignment"
     ]
    }
   ],
   "source": [
    "search_and_download(search_term=search_term, driver_path=DRIVER_PATH)"
   ]
  }
 ],
 "metadata": {
  "kernelspec": {
   "display_name": "Python 3",
   "language": "python",
   "name": "python3"
  },
  "toc": {
   "base_numbering": 1,
   "nav_menu": {},
   "number_sections": true,
   "sideBar": true,
   "skip_h1_title": false,
   "title_cell": "Table of Contents",
   "title_sidebar": "Contents",
   "toc_cell": false,
   "toc_position": {
    "height": "calc(100% - 180px)",
    "left": "10px",
    "top": "150px",
    "width": "165px"
   },
   "toc_section_display": true,
   "toc_window_display": true
  },
  "varInspector": {
   "cols": {
    "lenName": 16,
    "lenType": 16,
    "lenVar": 40
   },
   "kernels_config": {
    "python": {
     "delete_cmd_postfix": "",
     "delete_cmd_prefix": "del ",
     "library": "var_list.py",
     "varRefreshCmd": "print(var_dic_list())"
    },
    "r": {
     "delete_cmd_postfix": ") ",
     "delete_cmd_prefix": "rm(",
     "library": "var_list.r",
     "varRefreshCmd": "cat(var_dic_list()) "
    }
   },
   "types_to_exclude": [
    "module",
    "function",
    "builtin_function_or_method",
    "instance",
    "_Feature"
   ],
   "window_display": false
  }
 },
 "nbformat": 4,
 "nbformat_minor": 2
}
